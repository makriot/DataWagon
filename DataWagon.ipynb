{
  "cells": [
    {
      "cell_type": "code",
      "execution_count": null,
      "id": "b5b2186c",
      "metadata": {
        "id": "b5b2186c"
      },
      "outputs": [],
      "source": [
        "import pandas as pd\n",
        "import numpy as np"
      ]
    },
    {
      "cell_type": "markdown",
      "id": "376834ba",
      "metadata": {
        "id": "376834ba"
      },
      "source": [
        "### Основные идеи:\n",
        "\n",
        "1) Сильными признаками оказались временные признаки: возраст вагона, время, оставшееся до планового ремонта, время, оставшееся до истечения срока службы\n",
        "\n",
        "2) Признаки, связанные с номером станции, на которой в последний раз был вагон, также внесло сильный вклад в решение. Мы связавыем это с тем, что с определенных станций вагоны отправляются в депо раньше остальных (например, потому что ремонт там стоит дешевле)\n",
        "\n",
        "3) Статистки за последний месяц помогают определить интенсивность нагрузки на вагон и являются сильной фичей\n",
        "\n",
        "4) В качестве модели использовать градиентный бустинг из библиотеки LightGBM\n",
        "\n"
      ]
    },
    {
      "cell_type": "markdown",
      "id": "5aadbec6",
      "metadata": {
        "id": "5aadbec6"
      },
      "source": [
        "#### Считываем данные"
      ]
    },
    {
      "cell_type": "code",
      "execution_count": null,
      "id": "d0a7c190",
      "metadata": {
        "id": "d0a7c190"
      },
      "outputs": [],
      "source": [
        "test = pd.read_csv('target/y_predict.csv')\n",
        "test.month = pd.to_datetime(test.month)"
      ]
    },
    {
      "cell_type": "code",
      "execution_count": null,
      "id": "beac2978",
      "metadata": {
        "id": "beac2978"
      },
      "outputs": [],
      "source": [
        "def load_dislok():\n",
        "    dislok = pd.read_parquet('dislok_wagons.parquet').convert_dtypes()\n",
        "    feb = pd.read_parquet('test/dislok_wagons.parquet').convert_dtypes()\n",
        "    dislok = pd.concat([dislok, feb]).reset_index()\n",
        "    dislok.plan_date = pd.to_datetime(dislok.plan_date)\n",
        "    return dislok\n",
        "\n",
        "def load_targs():\n",
        "    train = pd.read_csv('target/y_train.csv')\n",
        "    feb = pd.read_csv('test/target/y_test.csv')\n",
        "    train = pd.concat([train, feb]).reset_index()\n",
        "    return train\n",
        "\n",
        "def load_pr_rems():\n",
        "    pr_rem1 = pd.read_parquet('./pr_rems.parquet').convert_dtypes()\n",
        "    pr_rem2 = pd.read_parquet('./test/pr_rems.parquet').convert_dtypes()\n",
        "    return pd.concat([pr_rem1, pr_rem2])\n",
        "\n",
        "def load_tr_rems():\n",
        "    tr_rem1 = pd.read_parquet('./tr_rems.parquet').convert_dtypes()\n",
        "    tr_rem2 = pd.read_parquet('./test/tr_rems.parquet').convert_dtypes()\n",
        "    return pd.concat([tr_rem1, tr_rem2]).reset_index()"
      ]
    },
    {
      "cell_type": "markdown",
      "id": "afb238f4",
      "metadata": {
        "id": "afb238f4"
      },
      "source": [
        "#### Функция Считает статистики за предыдущий месяц. Достаем инфу из dislok в словарь, разворачиваем на таргет"
      ]
    },
    {
      "cell_type": "code",
      "execution_count": null,
      "id": "70496798",
      "metadata": {
        "id": "70496798"
      },
      "outputs": [],
      "source": [
        "from sklearn.base import BaseEstimator, TransformerMixin\n",
        "from tqdm.notebook import tqdm as tqdm\n",
        "\n",
        "def process_ost_prob(accum, load_accum):\n",
        "\n",
        "\n",
        "    accum = np.array(accum)\n",
        "    load_accum = np.array(load_accum)\n",
        "\n",
        "\n",
        "    if(np.isnan(accum).any()):\n",
        "        return np.array([-1, -1, -1, -1, -1, -1])\n",
        "\n",
        "    mask = accum != 160000\n",
        "    accum = accum[mask]\n",
        "    lam = load_accum[mask]\n",
        "\n",
        "    if(len(accum) == 0):\n",
        "        return np.array([0, 0, 0, 0, 0, 0])\n",
        "\n",
        "    path = 0\n",
        "\n",
        "    val_acc = []\n",
        "\n",
        "    under_load = 0\n",
        "\n",
        "    for i in range(len(accum) - 1):\n",
        "        if(accum[i] < accum[i + 1]):\n",
        "            pass\n",
        "        else:\n",
        "            val_acc.append(accum[i] - accum[i + 1])\n",
        "            if(lam[i] == 1):\n",
        "                under_load += accum[i] - accum[i + 1]\n",
        "\n",
        "    return np.array([sum(val_acc), np.mean(val_acc), np.std(val_acc), sum(load_accum), under_load, under_load/(sum(val_acc)+1e-7)])\n",
        "\n",
        "def unfold_stats_applyer(d, x):\n",
        "    m = x[\"month\"]\n",
        "    cm = int(m[5:7])\n",
        "    wn = x[\"wagnum\"]\n",
        "    if((wn, cm - 1) in d):\n",
        "        ans = d[(wn, (cm - 1)%12 )]\n",
        "    else:\n",
        "        ans = np.array([np.nan, np.nan, np.nan, np.nan, np.nan, np.nan])\n",
        "\n",
        "    return pd.Series(data=ans, index=[\"last_month_run\", \"last_month_mean\", \"last_month_std\", \"under_load_days\", \"under_load_dist\", \"under_load_percent\"])\n",
        "\n",
        "\n",
        "class DislokStatExctractor(BaseEstimator, TransformerMixin):\n",
        "    def __init__(self, dislok):\n",
        "        dislok_sorted = dislok.sort_values([\"wagnum\", \"plan_date\"])\n",
        "\n",
        "        plandat = dislok_sorted.plan_date.dt.month.values.copy()\n",
        "        wagons = dislok_sorted.wagnum.values.copy()\n",
        "        ost_prob = dislok_sorted.ost_prob.values.copy()\n",
        "\n",
        "        is_load = dislok_sorted.isload.values.copy()\n",
        "\n",
        "        del dislok_sorted\n",
        "\n",
        "        accum = []\n",
        "        load_accum = []\n",
        "\n",
        "        d = {}\n",
        "        for i in tqdm(range(len(plandat) - 1)):\n",
        "            cm = plandat[i]\n",
        "            nm = plandat[i + 1]\n",
        "            wn = wagons[i]\n",
        "            nwn = wagons[i + 1]\n",
        "\n",
        "            if(ost_prob[i] is pd.NA):\n",
        "                accum.append(np.nan)\n",
        "            else:\n",
        "                accum.append(ost_prob[i])\n",
        "            load_accum.append(is_load[i])\n",
        "\n",
        "            if(cm == nm)and(wn == nwn):\n",
        "                pass\n",
        "            else:\n",
        "                d[(wn, cm%12)] = process_ost_prob(accum, load_accum)\n",
        "                accum = []\n",
        "                load_accum = []\n",
        "\n",
        "        self.d_stats = d\n",
        "\n",
        "    def fit(self, X, y = None):\n",
        "        return self\n",
        "\n",
        "    def transform(self, X, y = None):\n",
        "        return X.apply(lambda x: unfold_stats_applyer(self.d_stats, x), axis=1)"
      ]
    },
    {
      "cell_type": "markdown",
      "id": "48f8613a",
      "metadata": {
        "id": "48f8613a"
      },
      "source": [
        "#### Время до ближайшего планового ремонта. Сохраняем все времена из таблицы по ключу вагона, затем для каждого вагона из taget ищим минимальную полжительную разницу в словаре."
      ]
    },
    {
      "cell_type": "code",
      "execution_count": null,
      "id": "fa869683",
      "metadata": {
        "id": "fa869683"
      },
      "outputs": [],
      "source": [
        "class NearestRepair(BaseEstimator, TransformerMixin):\n",
        "  def __init__(self, base_date_name=\"month\", repair_date_name=\"date_pl_rem\"):\n",
        "    self.base_date_name = base_date_name\n",
        "    self.repair_date_name = repair_date_name\n",
        "    self.wagnum = \"wagnum\"\n",
        "    self.bound_date = pd.to_datetime('2022-01-01')\n",
        "\n",
        "  def fit(self, dislok):\n",
        "    rep_dates = {}\n",
        "    for idx, data in tqdm(dislok[[self.wagnum, self.repair_date_name]].groupby(self.wagnum)):\n",
        "      rep_dates[idx] = np.array((pd.to_datetime(data[self.repair_date_name].unique()) - self.bound_date).total_seconds(), dtype=np.int64)\n",
        "    self.rep_dates = rep_dates\n",
        "    return self\n",
        "\n",
        "  def transform(self, wagons):\n",
        "    wagons[\"nearrepair\"] = pd.Series((wagons[self.base_date_name] - self.bound_date).dt.total_seconds(), dtype=np.int64)\n",
        "    wagons = wagons.reset_index()\n",
        "    for i, row in tqdm(wagons.iterrows()):\n",
        "        if row[self.wagnum] in self.rep_dates:\n",
        "            seconds = self.rep_dates[row[self.wagnum]] - row[\"nearrepair\"]\n",
        "            seconds = seconds[seconds >= 0]\n",
        "            if len(seconds):\n",
        "                seconds = min(seconds)\n",
        "            else:\n",
        "                seconds = pd.NA\n",
        "        else:\n",
        "            seconds = pd.NA\n",
        "        wagons.loc[i, \"nearrepair\"] = seconds\n",
        "    return wagons"
      ]
    },
    {
      "cell_type": "markdown",
      "id": "278c09b4",
      "metadata": {
        "id": "278c09b4"
      },
      "source": [
        "#### Далее мы обрабатываем таблицу Dislok, и добавляем фичи из нее, на какой станции остановился поезд в первое число каждого месяца, остановился ли он у станции, у которых часто происходят ремонтные работы, сколько пробега у него осталось на первое число каждого месяца и сколько у него времени осталось до планового ремонта, а также код ремонта"
      ]
    },
    {
      "cell_type": "code",
      "execution_count": null,
      "id": "631c53be",
      "metadata": {
        "id": "631c53be"
      },
      "outputs": [],
      "source": [
        "from sklearn.base import BaseEstimator, TransformerMixin\n",
        "from collections import Counter\n",
        "\n",
        "class DislokTransformer(BaseEstimator, TransformerMixin):\n",
        "    def __init__(self, times, ids, stat_remont):\n",
        "        dislok = pd.read_parquet('dislok_wagons.parquet').convert_dtypes()\n",
        "        feb = pd.read_parquet('test/dislok_wagons.parquet').convert_dtypes()\n",
        "        self.dislok = pd.concat([dislok, feb])\n",
        "        self.dislok = self.dislok[['plan_date', 'wagnum', 'ost_prob', 'kod_vrab', 'date_pl_rem', 'isload', 'distance', 'st_id_send', 'st_id_dest']]\n",
        "        self.dislok.plan_date = pd.to_datetime(self.dislok.plan_date)\n",
        "        self.dislok.st_id_send = self.dislok.st_id_send.apply(hash)\n",
        "        self.dislok.st_id_dest = self.dislok.st_id_dest.apply(hash)\n",
        "        self.dislok = self.dislok.sort_values(by=['wagnum', 'plan_date']).reset_index()\n",
        "        self.stat_remont = stat_remont\n",
        "        self.times = times\n",
        "        self.ids = ids\n",
        "        self.wagon_probeg = {}\n",
        "        self.wagon_kod_remont = {}\n",
        "        self.time_remont = {}\n",
        "        self.stat_remont = {}\n",
        "        self.cur_st_send = {}\n",
        "        self.cur_st_dest = {}\n",
        "\n",
        "    def fit(self, train):\n",
        "        index_train = 0\n",
        "        for train_id in tqdm(self.ids):\n",
        "            while self.dislok.loc[index_train, 'wagnum'] != train_id:\n",
        "                index_train += 1\n",
        "            self.wagon_kod_remont[train_id] = self.dislok.loc[index_train, 'kod_vrab']\n",
        "            self.time_remont[train_id] = self.dislok.loc[index_train, 'date_pl_rem']\n",
        "            for index, train_time in enumerate(self.times):\n",
        "                while self.dislok.loc[index_train, 'plan_date'] < train_time and self.dislok.loc[index_train, 'wagnum'] == train_id:\n",
        "                    index_train += 1\n",
        "                if not index:\n",
        "                    if self.dislok.loc[index_train, 'plan_date'] == train_time and self.dislok.loc[index_train, 'wagnum'] == train_id:\n",
        "                        self.wagon_probeg[train_id] = [self.dislok.loc[index_train, 'ost_prob']]\n",
        "                        self.stat_remont[train_id] = [self.dislok.loc[index_train, 'st_id_send'] in self.stat_remont or self.dislok.loc[index_train, 'st_id_dest'] in self.stat_remont]\n",
        "                        self.cur_st_send[train_id] = [self.dislok.loc[index_train, 'st_id_send']]\n",
        "                        self.cur_st_dest[train_id] = [self.dislok.loc[index_train, 'st_id_dest']]\n",
        "                    else:\n",
        "                        self.wagon_probeg[train_id] = [pd.NA]\n",
        "                        self.stat_remont[train_id] = [pd.NA]\n",
        "                        self.cur_st_send[train_id] = [pd.NA]\n",
        "                        self.cur_st_dest[train_id] = [pd.NA]\n",
        "                else:\n",
        "                    if self.dislok.loc[index_train, 'plan_date'] == train_time and self.dislok.loc[index_train, 'wagnum'] == train_id:\n",
        "                        self.wagon_probeg[train_id].append(self.dislok.loc[index_train, 'ost_prob'])\n",
        "                        self.stat_remont[train_id].append(self.dislok.loc[index_train, 'st_id_send'] in self.stat_remont or self.dislok.loc[index_train, 'st_id_dest'] in self.stat_remont)\n",
        "                        self.cur_st_send[train_id].append(self.dislok.loc[index_train, 'st_id_send'])\n",
        "                        self.cur_st_dest[train_id].append(self.dislok.loc[index_train, 'st_id_dest'])\n",
        "                    else:\n",
        "                        self.wagon_probeg[train_id].append(pd.NA)\n",
        "                        self.stat_remont[train_id].append(pd.NA)\n",
        "                        self.cur_st_send[train_id].append(pd.NA)\n",
        "                        self.cur_st_dest[train_id].append(pd.NA)\n",
        "        return self\n",
        "\n",
        "    def transform(self, test):\n",
        "        test = test.copy()\n",
        "        test['probeg'] = 0\n",
        "        test['kod_remont'] = 0\n",
        "        test['time_before_remont'] = 0\n",
        "        test['stat_remont'] = 0\n",
        "        test['cur_st_send'] = 0\n",
        "        test['cur_st_dest'] = 0\n",
        "        for i, row in tqdm(test.iterrows()):\n",
        "            if row['month'].month >= 8:\n",
        "                month = row['month'].month - 8\n",
        "            else:\n",
        "                month = row['month'].month + 4\n",
        "            test.loc[i, 'probeg'] = self.wagon_probeg[row['wagnum']][month]\n",
        "            test.loc[i, 'stat_remont'] = self.stat_remont[row['wagnum']][month]\n",
        "            test.loc[i, 'cur_st_send'] = self.cur_st_send[row['wagnum']][month]\n",
        "            test.loc[i, 'cur_st_dest'] = self.cur_st_dest[row['wagnum']][month]\n",
        "            test.loc[i, 'kod_remont'] = self.wagon_kod_remont[row['wagnum']]\n",
        "            test.loc[i, 'time_before_remont'] = (self.time_remont[row['wagnum']] - row['month']).days\n",
        "        test.stat_remont = test.stat_remont.fillna(-1).astype(int)\n",
        "        return test\n"
      ]
    },
    {
      "cell_type": "markdown",
      "id": "8bd3b64e",
      "metadata": {
        "id": "8bd3b64e"
      },
      "source": [
        "#### Добавляем фичи возраста вагона (из фичи года постройки вагона), времени до истечения срока службы и количество ремонтов"
      ]
    },
    {
      "cell_type": "code",
      "execution_count": null,
      "id": "14b40d25",
      "metadata": {
        "id": "14b40d25"
      },
      "outputs": [],
      "source": [
        "class WagParamsTransformer(BaseEstimator, TransformerMixin):\n",
        "    def __init__(self):\n",
        "        self.wag_params = pd.read_parquet('wag_params.parquet').convert_dtypes().sort_values(by=['wagnum']).reset_index()\n",
        "        self.wag_params.date_build = pd.to_datetime(self.wag_params.date_build)\n",
        "        self.wag_params.srok_sl = pd.to_datetime(self.wag_params.srok_sl)\n",
        "        self.srok_sl = {}\n",
        "        self.age = {}\n",
        "        for i, row in self.wag_params.iterrows():\n",
        "            self.srok_sl[i] = row['srok_sl']\n",
        "            self.age[i] = row['date_build']\n",
        "\n",
        "        tr_rems = pd.read_parquet('tr_rems.parquet').convert_dtypes()\n",
        "        feb = pd.read_parquet('test/tr_rems.parquet').convert_dtypes()\n",
        "        self.tr_rems = pd.concat([tr_rems, feb]).sort_values(by=['wagnum']).reset_index()\n",
        "        self.tr_rems = self.tr_rems.groupby('wagnum', as_index= False).kod_vrab.count()\n",
        "        self.tr_rems = dict(zip(self.tr_rems.wagnum.to_list(), self.tr_rems.kod_vrab.to_list()))\n",
        "\n",
        "    def fit(self, train):\n",
        "        return self\n",
        "\n",
        "    def transform(self, test):\n",
        "        test = test.copy()\n",
        "        test['time_before_srok_sl'] = -10000\n",
        "        test['age'] = -10000\n",
        "        test['kod_vrab_tr_rems'] = -10000\n",
        "        for i, row in test.iterrows():\n",
        "            test.loc[i, 'time_before_srok_sl'] = (self.srok_sl[row['wagnum']] - row['month']).days\n",
        "            test.loc[i, 'age'] = (row['month'] - self.age[row['wagnum']]).days\n",
        "            if row['wagnum'] in self.tr_rems:\n",
        "                test.loc[i, 'kod_vrab_tr_rems'] = self.tr_rems[row['wagnum']]\n",
        "        return test"
      ]
    },
    {
      "cell_type": "markdown",
      "id": "35c42777",
      "metadata": {
        "id": "35c42777"
      },
      "source": [
        "#### Проходим по owner_ship и извлекаем manage_type и rod_id(значение одно и тоже для всех записей относящихся к конкретному вагону). rod_id дяльше не участвует т.к берется из другой таблицы."
      ]
    },
    {
      "cell_type": "code",
      "execution_count": null,
      "id": "4de473da",
      "metadata": {
        "id": "4de473da"
      },
      "outputs": [],
      "source": [
        "\n",
        "class OwnerShipExtracor(BaseEstimator, TransformerMixin):\n",
        "    def __init__(self, wagprob):\n",
        "        tables = {}\n",
        "\n",
        "        for col in [\"manage_type\", \"rod_id\"]:\n",
        "            d = {}\n",
        "\n",
        "            for w, day in tqdm(zip(wag_prob.wagnum, wag_prob[col])):\n",
        "                if(w in d):\n",
        "                    if not(day in d[w]):\n",
        "                        d[w].add(day)\n",
        "                else:\n",
        "                    d[w] = set([day])\n",
        "\n",
        "            dd = {\"wagnum\":[], col:[]}\n",
        "\n",
        "            for k, v in d.items():\n",
        "                assert len(v) == 1\n",
        "                for x in v:\n",
        "                    break\n",
        "                dd[\"wagnum\"].append(k)\n",
        "                dd[col].append(x)\n",
        "            print(col)\n",
        "            tables[col] = pd.DataFrame.from_dict(dd) #.rod_id.value_counts()\n",
        "\n",
        "        tb = tables[\"manage_type\"].copy()\n",
        "        self.tables = (tb.merge(tables[\"rod_id\"].copy(), how=\"left\", on=\"wagnum\")).copy()\n",
        "\n",
        "    def fit(self, X, y = None):\n",
        "        return self\n",
        "\n",
        "    def transform(self, X, y = None):\n",
        "        return (X.merge(self.tables.copy(), how=\"left\", on=\"wagnum\")).copy()\n"
      ]
    },
    {
      "cell_type": "markdown",
      "id": "1c445362",
      "metadata": {
        "id": "1c445362"
      },
      "source": [
        "#### Время до ближайшего ремонта, который был. Принцип генерации точно такой же как и ближайшего запланированного, тролько теперь рассматриваем противоположенные по знаку разницы"
      ]
    },
    {
      "cell_type": "code",
      "execution_count": null,
      "id": "61c21e68",
      "metadata": {
        "id": "61c21e68"
      },
      "outputs": [],
      "source": [
        "class LastRepair(BaseEstimator, TransformerMixin):\n",
        "  def __init__(self):\n",
        "    self.bound_date = pd.to_datetime('2022-01-01')\n",
        "    self.prev_repairs = {}\n",
        "\n",
        "  #pr_rems\n",
        "  def fit(self, train):\n",
        "    rep_dates = {}\n",
        "    for idx, data in tqdm(train[[\"wagnum\", \"rem_month\"]].groupby(\"wagnum\")):\n",
        "      rep_dates[idx] = pd.Series((pd.to_datetime(data[\"rem_month\"].unique()) - self.bound_date).total_seconds(), dtype=np.int64)\n",
        "    self.rep_dates = rep_dates\n",
        "    return self\n",
        "\n",
        "  #target\n",
        "  def transform(self, test):\n",
        "    test[\"lastrepair\"] = pd.Series((pd.to_datetime(test[\"month\"]) - self.bound_date).dt.total_seconds(), dtype=np.int64)\n",
        "    for i, row in tqdm(test.iterrows()):\n",
        "        if row[\"wagnum\"] in self.rep_dates:\n",
        "            seconds = self.rep_dates[row[\"wagnum\"]] - row[\"lastrepair\"]\n",
        "            seconds = -seconds[seconds <= 0]\n",
        "            cnt_repairs = len(seconds)\n",
        "            if len(seconds):\n",
        "                seconds = min(seconds)\n",
        "            else:\n",
        "                seconds = -1\n",
        "        else:\n",
        "            seconds = -1\n",
        "            cnt_repairs = 0\n",
        "        test.loc[i, \"cnt_repairs\"] = cnt_repairs\n",
        "        test.loc[i, \"lastrepair\"] = seconds\n",
        "    return test"
      ]
    },
    {
      "cell_type": "code",
      "execution_count": null,
      "id": "2cd7408b",
      "metadata": {
        "id": "2cd7408b"
      },
      "outputs": [],
      "source": [
        "dislok = load_dislok()\n",
        "targs = load_targs()"
      ]
    },
    {
      "cell_type": "code",
      "execution_count": null,
      "id": "35bd744f",
      "metadata": {
        "id": "35bd744f"
      },
      "outputs": [],
      "source": [
        "targs_copy = targs.copy()\n",
        "#pd.to_datetime(dislok.plan_date)\n",
        "targs_copy.month = pd.to_datetime(targs_copy.month)"
      ]
    },
    {
      "cell_type": "code",
      "execution_count": null,
      "id": "9f5b2b1a",
      "metadata": {
        "colab": {
          "base_uri": "https://localhost:8080/",
          "height": 81,
          "referenced_widgets": [
            "36b4c5263d0d419d9515b3e711e360bc",
            "4c8ef12d49664b02a1d5b83256d515d2",
            "28e9a142df884015b65e8186d0ff785a",
            "222a8d69cd7145ec97d5ceb8097239c1",
            "9a1ef083fe1b428690170fbce7e36225",
            "763ff32e590c482b96c855e97bc32952",
            "8fc1bf7453844b358f449c6d01853c5d",
            "dac2a294b4e647bd837d7997db727031",
            "ededa60b254c4b8189760de35e44d665",
            "2313eafc28dd478ab6494e3232ed1d67",
            "6c8715c2a62a436791d00fc5ebd49fdb",
            "e8e23567b90c4e6d97a3a66a6634a3a3",
            "f8abdbc28ca740ccb0a64d2374e68bf3",
            "a5d15a84621e4adda38bcb4f4b928d6f",
            "07998257d26e4fc89edb55351300f8e8",
            "809ae43b73fc4dadb8d9ba1e3fc78b14",
            "c0150047587444f682987e21273b01d2",
            "d0d4766bae9c4377b0739a6832326e7b",
            "bf20748b87c44783b57f23e46686fb54",
            "063fb9771d63496db639b54a36def224",
            "6dd5a31ef183426791e8e72154f01021",
            "5b3513aec2514571b7e355f34aa8707d"
          ]
        },
        "id": "9f5b2b1a",
        "outputId": "faebc5eb-938a-4995-b905-73b2aeee1703"
      },
      "outputs": [
        {
          "data": {
            "application/vnd.jupyter.widget-view+json": {
              "model_id": "36b4c5263d0d419d9515b3e711e360bc",
              "version_major": 2,
              "version_minor": 0
            },
            "text/plain": [
              "  0%|          | 0/33977 [00:00<?, ?it/s]"
            ]
          },
          "metadata": {},
          "output_type": "display_data"
        },
        {
          "data": {
            "application/vnd.jupyter.widget-view+json": {
              "model_id": "e8e23567b90c4e6d97a3a66a6634a3a3",
              "version_major": 2,
              "version_minor": 0
            },
            "text/plain": [
              "0it [00:00, ?it/s]"
            ]
          },
          "metadata": {},
          "output_type": "display_data"
        }
      ],
      "source": [
        "test = pd.read_csv('target/y_predict.csv')\n",
        "test.month = pd.to_datetime(test.month)\n",
        "train_times = sorted(list(set(pd.concat([targs_copy, test])['month'].to_list())))\n",
        "train_id = sorted(list(set(targs_copy['wagnum'].to_list())))\n",
        "tr_rem = pd.read_parquet('tr_rems.parquet').convert_dtypes()\n",
        "feb = pd.read_parquet('test/tr_rems.parquet').convert_dtypes()\n",
        "tr_rem = pd.concat([tr_rem, feb]).sort_values(by=['wagnum']).reset_index()\n",
        "stat_remont = Counter(tr_rem.st_id_send.to_list()).most_common(11)\n",
        "stat_remont = [i[0] for i in stat_remont]\n",
        "transformer = DislokTransformer(train_times, train_id, stat_remont)\n",
        "transformer.fit(targs_copy)\n",
        "new_train = transformer.transform(targs_copy)"
      ]
    },
    {
      "cell_type": "code",
      "execution_count": null,
      "id": "f92e9d04",
      "metadata": {
        "colab": {
          "base_uri": "https://localhost:8080/",
          "height": 49,
          "referenced_widgets": [
            "912962a3eff4444a99e3ffcf67ff4a51",
            "4eca6ffe308c450cb5fcf5c74f41691d",
            "f0c6788f93f840739a8557dc45ac7283",
            "7fcae389a9d94b0ebc647bf073aa55ec",
            "90bed0e604cc4b7eb602c459dcab8e00",
            "4eecb8423b494f71b18151c2b429364d",
            "f1cbeb08f366401aa3e362bcfa44dd9c",
            "753d152f490b47e189ca088dd6ff252a",
            "b2b352940c0a4ee39dc9217c46c41627",
            "0858b08b3aae428da8c0d9d42915ed24",
            "d831c37e2a024feb99d71117b9c06b6e"
          ]
        },
        "id": "f92e9d04",
        "outputId": "2bc09216-5ff9-4d70-c845-8b27fc0b0730"
      },
      "outputs": [
        {
          "data": {
            "application/vnd.jupyter.widget-view+json": {
              "model_id": "912962a3eff4444a99e3ffcf67ff4a51",
              "version_major": 2,
              "version_minor": 0
            },
            "text/plain": [
              "0it [00:00, ?it/s]"
            ]
          },
          "metadata": {},
          "output_type": "display_data"
        }
      ],
      "source": [
        "ef_test = transformer.transform(test.copy())"
      ]
    },
    {
      "cell_type": "code",
      "execution_count": null,
      "id": "81ee2bde",
      "metadata": {
        "id": "81ee2bde"
      },
      "outputs": [],
      "source": [
        "ef_test = ef_test[[\"probeg\", \"kod_remont\", \"time_before_remont\", \"stat_remont\", \"cur_st_send\", \"cur_st_dest\"]].copy()\n",
        "ef_test.probeg = ef_test.probeg.fillna(-10000)"
      ]
    },
    {
      "cell_type": "code",
      "execution_count": null,
      "id": "73909ca8",
      "metadata": {
        "id": "73909ca8"
      },
      "outputs": [],
      "source": [
        "ef = new_train[[\"probeg\", \"kod_remont\", \"time_before_remont\", \"stat_remont\", \"cur_st_send\", \"cur_st_dest\"]].copy()"
      ]
    },
    {
      "cell_type": "code",
      "execution_count": null,
      "id": "15778dac",
      "metadata": {
        "id": "15778dac"
      },
      "outputs": [],
      "source": [
        "ef.probeg = ef.probeg.fillna(-10000)"
      ]
    },
    {
      "cell_type": "code",
      "execution_count": null,
      "id": "f650d226",
      "metadata": {
        "id": "f650d226"
      },
      "outputs": [],
      "source": [
        "transformer = WagParamsTransformer()\n",
        "eff = transformer.transform(new_train)\n",
        "eff = eff[['time_before_srok_sl', 'age', 'kod_vrab_tr_rems']].copy()"
      ]
    },
    {
      "cell_type": "code",
      "execution_count": null,
      "id": "f4838804",
      "metadata": {
        "id": "f4838804"
      },
      "outputs": [],
      "source": [
        "cat_feat = np.array(['cur_st_dest', 'cur_st_send', 'stat_remont', 'kod_remont'])\n",
        "for p in cat_feat:\n",
        "    ef[p] = ef[p].astype('category')\n",
        "eff['kod_vrab_tr_rems'] = eff['kod_vrab_tr_rems'].astype('category')"
      ]
    },
    {
      "cell_type": "code",
      "execution_count": null,
      "id": "6f8b9eda",
      "metadata": {
        "id": "6f8b9eda"
      },
      "outputs": [],
      "source": [
        "eff_test = transformer.transform(test.copy())"
      ]
    },
    {
      "cell_type": "code",
      "execution_count": null,
      "id": "7492e6b7",
      "metadata": {
        "id": "7492e6b7"
      },
      "outputs": [],
      "source": [
        "eff_test = eff_test[['time_before_srok_sl', 'age', 'kod_vrab_tr_rems']].copy()\n",
        "for p in cat_feat:\n",
        "    ef_test[p] = ef_test[p].astype('category')\n",
        "eff_test['kod_vrab_tr_rems'] = eff_test['kod_vrab_tr_rems'].astype('category')"
      ]
    },
    {
      "cell_type": "code",
      "execution_count": null,
      "id": "94838331",
      "metadata": {
        "id": "94838331"
      },
      "outputs": [],
      "source": []
    },
    {
      "cell_type": "code",
      "execution_count": null,
      "id": "0484daeb",
      "metadata": {
        "id": "0484daeb"
      },
      "outputs": [],
      "source": [
        "NR = NearestRepair()"
      ]
    },
    {
      "cell_type": "code",
      "execution_count": null,
      "id": "cd7cfc6b",
      "metadata": {
        "colab": {
          "base_uri": "https://localhost:8080/",
          "height": 107,
          "referenced_widgets": [
            "d3fa530a388f47538f925920f6f87232",
            "c9a71837ed794a99a8c6de705c72ba83",
            "275a425a95fc4f7ba8af44f55790f67f",
            "5e12e1e9df12469f97a7860d297972e1",
            "5b9f50d8cac74646a5c2d24de1a2c398",
            "26e81d57988c44219d6d618e24ad6185",
            "817fda43d69d45de80d885e40c8ae16a",
            "37929d38a325497bb622c7f0260c9a82",
            "ce724663b79f48fb9187fbfc7a0206ae",
            "e962cd17d8814243b5bc021d07fb928a",
            "46960a410dce40cfb2af66f722b9e799"
          ]
        },
        "id": "cd7cfc6b",
        "outputId": "fc4982a1-e7f9-4a37-a40f-2da1beea6e83"
      },
      "outputs": [
        {
          "data": {
            "application/vnd.jupyter.widget-view+json": {
              "model_id": "d3fa530a388f47538f925920f6f87232",
              "version_major": 2,
              "version_minor": 0
            },
            "text/plain": [
              "  0%|          | 0/33977 [00:00<?, ?it/s]"
            ]
          },
          "metadata": {},
          "output_type": "display_data"
        },
        {
          "data": {
            "text/html": [
              "<style>#sk-container-id-1 {color: black;background-color: white;}#sk-container-id-1 pre{padding: 0;}#sk-container-id-1 div.sk-toggleable {background-color: white;}#sk-container-id-1 label.sk-toggleable__label {cursor: pointer;display: block;width: 100%;margin-bottom: 0;padding: 0.3em;box-sizing: border-box;text-align: center;}#sk-container-id-1 label.sk-toggleable__label-arrow:before {content: \"▸\";float: left;margin-right: 0.25em;color: #696969;}#sk-container-id-1 label.sk-toggleable__label-arrow:hover:before {color: black;}#sk-container-id-1 div.sk-estimator:hover label.sk-toggleable__label-arrow:before {color: black;}#sk-container-id-1 div.sk-toggleable__content {max-height: 0;max-width: 0;overflow: hidden;text-align: left;background-color: #f0f8ff;}#sk-container-id-1 div.sk-toggleable__content pre {margin: 0.2em;color: black;border-radius: 0.25em;background-color: #f0f8ff;}#sk-container-id-1 input.sk-toggleable__control:checked~div.sk-toggleable__content {max-height: 200px;max-width: 100%;overflow: auto;}#sk-container-id-1 input.sk-toggleable__control:checked~label.sk-toggleable__label-arrow:before {content: \"▾\";}#sk-container-id-1 div.sk-estimator input.sk-toggleable__control:checked~label.sk-toggleable__label {background-color: #d4ebff;}#sk-container-id-1 div.sk-label input.sk-toggleable__control:checked~label.sk-toggleable__label {background-color: #d4ebff;}#sk-container-id-1 input.sk-hidden--visually {border: 0;clip: rect(1px 1px 1px 1px);clip: rect(1px, 1px, 1px, 1px);height: 1px;margin: -1px;overflow: hidden;padding: 0;position: absolute;width: 1px;}#sk-container-id-1 div.sk-estimator {font-family: monospace;background-color: #f0f8ff;border: 1px dotted black;border-radius: 0.25em;box-sizing: border-box;margin-bottom: 0.5em;}#sk-container-id-1 div.sk-estimator:hover {background-color: #d4ebff;}#sk-container-id-1 div.sk-parallel-item::after {content: \"\";width: 100%;border-bottom: 1px solid gray;flex-grow: 1;}#sk-container-id-1 div.sk-label:hover label.sk-toggleable__label {background-color: #d4ebff;}#sk-container-id-1 div.sk-serial::before {content: \"\";position: absolute;border-left: 1px solid gray;box-sizing: border-box;top: 0;bottom: 0;left: 50%;z-index: 0;}#sk-container-id-1 div.sk-serial {display: flex;flex-direction: column;align-items: center;background-color: white;padding-right: 0.2em;padding-left: 0.2em;position: relative;}#sk-container-id-1 div.sk-item {position: relative;z-index: 1;}#sk-container-id-1 div.sk-parallel {display: flex;align-items: stretch;justify-content: center;background-color: white;position: relative;}#sk-container-id-1 div.sk-item::before, #sk-container-id-1 div.sk-parallel-item::before {content: \"\";position: absolute;border-left: 1px solid gray;box-sizing: border-box;top: 0;bottom: 0;left: 50%;z-index: -1;}#sk-container-id-1 div.sk-parallel-item {display: flex;flex-direction: column;z-index: 1;position: relative;background-color: white;}#sk-container-id-1 div.sk-parallel-item:first-child::after {align-self: flex-end;width: 50%;}#sk-container-id-1 div.sk-parallel-item:last-child::after {align-self: flex-start;width: 50%;}#sk-container-id-1 div.sk-parallel-item:only-child::after {width: 0;}#sk-container-id-1 div.sk-dashed-wrapped {border: 1px dashed gray;margin: 0 0.4em 0.5em 0.4em;box-sizing: border-box;padding-bottom: 0.4em;background-color: white;}#sk-container-id-1 div.sk-label label {font-family: monospace;font-weight: bold;display: inline-block;line-height: 1.2em;}#sk-container-id-1 div.sk-label-container {text-align: center;}#sk-container-id-1 div.sk-container {/* jupyter's `normalize.less` sets `[hidden] { display: none; }` but bootstrap.min.css set `[hidden] { display: none !important; }` so we also need the `!important` here to be able to override the default hidden behavior on the sphinx rendered scikit-learn.org. See: https://github.com/scikit-learn/scikit-learn/issues/21755 */display: inline-block !important;position: relative;}#sk-container-id-1 div.sk-text-repr-fallback {display: none;}</style><div id=\"sk-container-id-1\" class=\"sk-top-container\"><div class=\"sk-text-repr-fallback\"><pre>NearestRepair()</pre><b>In a Jupyter environment, please rerun this cell to show the HTML representation or trust the notebook. <br />On GitHub, the HTML representation is unable to render, please try loading this page with nbviewer.org.</b></div><div class=\"sk-container\" hidden><div class=\"sk-item\"><div class=\"sk-estimator sk-toggleable\"><input class=\"sk-toggleable__control sk-hidden--visually\" id=\"sk-estimator-id-1\" type=\"checkbox\" checked><label for=\"sk-estimator-id-1\" class=\"sk-toggleable__label sk-toggleable__label-arrow\">NearestRepair</label><div class=\"sk-toggleable__content\"><pre>NearestRepair()</pre></div></div></div></div></div>"
            ],
            "text/plain": [
              "NearestRepair()"
            ]
          },
          "execution_count": 27,
          "metadata": {},
          "output_type": "execute_result"
        }
      ],
      "source": [
        "NR.fit(dislok)"
      ]
    },
    {
      "cell_type": "code",
      "execution_count": null,
      "id": "ed333d20",
      "metadata": {
        "colab": {
          "base_uri": "https://localhost:8080/",
          "height": 49,
          "referenced_widgets": [
            "1b3fedff3e0440f5977317788d8a88be",
            "006ad12965fb42018b98ceec7762cc75",
            "03c21878d7be496c9ad05ac7f1b2c869",
            "48ddb67c93f5410b9ae54fda5ea8da4a",
            "833969bb58ac474e84ddfbe139184db2",
            "d588fa29cfdd4b5db989665ce394a4ad",
            "6ba2e2255b084691add6671bc54440dd",
            "dac33c72112c4da9a88032642f3daba8",
            "1f6431bb046b416eb20eb063c8256e70",
            "2a82622656144d85ae11d6fe4a45c06e",
            "de9ed9f05a84478bbab6494f8af2071b"
          ]
        },
        "id": "ed333d20",
        "outputId": "bb421db5-8dca-41ce-a695-bfc14dd2df6b"
      },
      "outputs": [
        {
          "data": {
            "application/vnd.jupyter.widget-view+json": {
              "model_id": "1b3fedff3e0440f5977317788d8a88be",
              "version_major": 2,
              "version_minor": 0
            },
            "text/plain": [
              "0it [00:00, ?it/s]"
            ]
          },
          "metadata": {},
          "output_type": "display_data"
        }
      ],
      "source": [
        "nerep = NR.transform(targs_copy)[[\"nearrepair\"]]"
      ]
    },
    {
      "cell_type": "code",
      "execution_count": null,
      "id": "2a632f89",
      "metadata": {
        "id": "2a632f89"
      },
      "outputs": [],
      "source": [
        "nerep.nearrepair = nerep.nearrepair.fillna(-1)"
      ]
    },
    {
      "cell_type": "code",
      "execution_count": null,
      "id": "c11c6281",
      "metadata": {
        "colab": {
          "base_uri": "https://localhost:8080/",
          "height": 49,
          "referenced_widgets": [
            "e9ecb1bb2a114caabfedb97edfa7b617",
            "743cadafda1e4d0494e611ff56085da1",
            "c294b9d7f589449db4baf71e99a9d3d5",
            "5b1e7de3a7b14d79bf8552acd6b2f55e",
            "b340323403db446283f40d6e0985313a",
            "40533602db654c9e99e6a34b69e15ac5",
            "959807109add4ebb9778089dd546a15e",
            "d6060cd39a8b4c46931524504153652a",
            "41269dad5d454417bb85d3ab0e8336eb",
            "24dcaf9a539f42048f2e887f3294b560",
            "350eca210c414197bd0f7ae4883b5c77"
          ]
        },
        "id": "c11c6281",
        "outputId": "14e2cbfc-6f19-4aa9-9db4-ffc9c83abf16"
      },
      "outputs": [
        {
          "data": {
            "application/vnd.jupyter.widget-view+json": {
              "model_id": "e9ecb1bb2a114caabfedb97edfa7b617",
              "version_major": 2,
              "version_minor": 0
            },
            "text/plain": [
              "0it [00:00, ?it/s]"
            ]
          },
          "metadata": {},
          "output_type": "display_data"
        }
      ],
      "source": [
        "nerep_test = NR.transform(test.copy())[[\"nearrepair\"]]\n",
        "nerep_test.nearrepair = nerep_test.nearrepair.fillna(-1)"
      ]
    },
    {
      "cell_type": "code",
      "execution_count": null,
      "id": "066c1cbc",
      "metadata": {
        "id": "066c1cbc"
      },
      "outputs": [],
      "source": []
    },
    {
      "cell_type": "code",
      "execution_count": null,
      "id": "c8732841",
      "metadata": {
        "colab": {
          "base_uri": "https://localhost:8080/",
          "height": 223,
          "referenced_widgets": [
            "f0790da0c27c46c3a5e93ba9625ccbd2",
            "059802d046714a1aa9db19f3f61ff387",
            "ea129402bb5542cb9bc58d6409855319",
            "9001bab2f2c24ce098ed9f8503ba05a3",
            "af958e142b10432a9c399152fb41b227",
            "8c1170cc2ae54a23aae31bfb9cb977ac",
            "09f5f164153941129b88b0103da166c8",
            "f0f4675f123a40b29e0f7b687e94f52d",
            "a359f2bdc64a408faf6cb42a9506d3e9",
            "9d1804c17efc49e3bff6bb59b17917c9",
            "ef58ac04c38848d69cf7699a8c9552f5"
          ]
        },
        "id": "c8732841",
        "outputId": "10cba4e1-0683-4860-804b-dc34d13bb704"
      },
      "outputs": [
        {
          "data": {
            "application/vnd.jupyter.widget-view+json": {
              "model_id": "f0790da0c27c46c3a5e93ba9625ccbd2",
              "version_major": 2,
              "version_minor": 0
            },
            "text/plain": [
              "  0%|          | 0/7228236 [00:00<?, ?it/s]"
            ]
          },
          "metadata": {},
          "output_type": "display_data"
        },
        {
          "name": "stderr",
          "output_type": "stream",
          "text": [
            "/usr/local/lib/python3.10/dist-packages/numpy/core/fromnumeric.py:3432: RuntimeWarning: Mean of empty slice.\n",
            "  return _methods._mean(a, axis=axis, dtype=dtype,\n",
            "/usr/local/lib/python3.10/dist-packages/numpy/core/_methods.py:190: RuntimeWarning: invalid value encountered in double_scalars\n",
            "  ret = ret.dtype.type(ret / rcount)\n",
            "/usr/local/lib/python3.10/dist-packages/numpy/core/_methods.py:265: RuntimeWarning: Degrees of freedom <= 0 for slice\n",
            "  ret = _var(a, axis=axis, dtype=dtype, out=out, ddof=ddof,\n",
            "/usr/local/lib/python3.10/dist-packages/numpy/core/_methods.py:223: RuntimeWarning: invalid value encountered in divide\n",
            "  arrmean = um.true_divide(arrmean, div, out=arrmean, casting='unsafe',\n",
            "/usr/local/lib/python3.10/dist-packages/numpy/core/_methods.py:257: RuntimeWarning: invalid value encountered in double_scalars\n",
            "  ret = ret.dtype.type(ret / rcount)\n"
          ]
        }
      ],
      "source": [
        "dislok = pd.read_parquet('dislok_wagons.parquet').convert_dtypes()\n",
        "feb = pd.read_parquet('test/dislok_wagons.parquet').convert_dtypes()\n",
        "dislok = pd.concat([dislok, feb]).reset_index()\n",
        "de = DislokStatExctractor(dislok)"
      ]
    },
    {
      "cell_type": "code",
      "execution_count": null,
      "id": "888b268f",
      "metadata": {
        "id": "888b268f"
      },
      "outputs": [],
      "source": []
    },
    {
      "cell_type": "code",
      "execution_count": null,
      "id": "31e3b809",
      "metadata": {
        "id": "31e3b809"
      },
      "outputs": [],
      "source": [
        "test = pd.read_csv('target/y_predict.csv')\n",
        "#test.month = pd.to_datetime(test.month)\n",
        "\n",
        "mff = de.fit_transform(targs)\n",
        "mff_test = de.transform(test.copy())"
      ]
    },
    {
      "cell_type": "code",
      "execution_count": null,
      "id": "bb751851",
      "metadata": {
        "colab": {
          "base_uri": "https://localhost:8080/",
          "height": 424
        },
        "id": "bb751851",
        "outputId": "d5973a10-e4dd-4695-df46-837f765c3bc0"
      },
      "outputs": [
        {
          "data": {
            "text/html": [
              "\n",
              "  <div id=\"df-6e239b92-8ca2-4628-afe8-a2c280350afa\" class=\"colab-df-container\">\n",
              "    <div>\n",
              "<style scoped>\n",
              "    .dataframe tbody tr th:only-of-type {\n",
              "        vertical-align: middle;\n",
              "    }\n",
              "\n",
              "    .dataframe tbody tr th {\n",
              "        vertical-align: top;\n",
              "    }\n",
              "\n",
              "    .dataframe thead th {\n",
              "        text-align: right;\n",
              "    }\n",
              "</style>\n",
              "<table border=\"1\" class=\"dataframe\">\n",
              "  <thead>\n",
              "    <tr style=\"text-align: right;\">\n",
              "      <th></th>\n",
              "      <th>last_month_run</th>\n",
              "      <th>last_month_mean</th>\n",
              "      <th>last_month_std</th>\n",
              "      <th>under_load_days</th>\n",
              "      <th>under_load_dist</th>\n",
              "      <th>under_load_percent</th>\n",
              "    </tr>\n",
              "  </thead>\n",
              "  <tbody>\n",
              "    <tr>\n",
              "      <th>0</th>\n",
              "      <td>10000.0</td>\n",
              "      <td>370.370370</td>\n",
              "      <td>380.690031</td>\n",
              "      <td>21.0</td>\n",
              "      <td>9815.0</td>\n",
              "      <td>0.981500</td>\n",
              "    </tr>\n",
              "    <tr>\n",
              "      <th>1</th>\n",
              "      <td>4241.0</td>\n",
              "      <td>157.074074</td>\n",
              "      <td>300.058010</td>\n",
              "      <td>11.0</td>\n",
              "      <td>4112.0</td>\n",
              "      <td>0.969583</td>\n",
              "    </tr>\n",
              "    <tr>\n",
              "      <th>2</th>\n",
              "      <td>4338.0</td>\n",
              "      <td>160.666667</td>\n",
              "      <td>262.711361</td>\n",
              "      <td>9.0</td>\n",
              "      <td>4019.0</td>\n",
              "      <td>0.926464</td>\n",
              "    </tr>\n",
              "    <tr>\n",
              "      <th>3</th>\n",
              "      <td>9939.0</td>\n",
              "      <td>368.111111</td>\n",
              "      <td>270.018426</td>\n",
              "      <td>14.0</td>\n",
              "      <td>5058.0</td>\n",
              "      <td>0.508904</td>\n",
              "    </tr>\n",
              "    <tr>\n",
              "      <th>4</th>\n",
              "      <td>4590.0</td>\n",
              "      <td>170.000000</td>\n",
              "      <td>227.684642</td>\n",
              "      <td>11.0</td>\n",
              "      <td>2524.0</td>\n",
              "      <td>0.549891</td>\n",
              "    </tr>\n",
              "    <tr>\n",
              "      <th>...</th>\n",
              "      <td>...</td>\n",
              "      <td>...</td>\n",
              "      <td>...</td>\n",
              "      <td>...</td>\n",
              "      <td>...</td>\n",
              "      <td>...</td>\n",
              "    </tr>\n",
              "    <tr>\n",
              "      <th>33702</th>\n",
              "      <td>4561.0</td>\n",
              "      <td>168.925926</td>\n",
              "      <td>232.270903</td>\n",
              "      <td>12.0</td>\n",
              "      <td>3049.0</td>\n",
              "      <td>0.668494</td>\n",
              "    </tr>\n",
              "    <tr>\n",
              "      <th>33703</th>\n",
              "      <td>3661.0</td>\n",
              "      <td>135.592593</td>\n",
              "      <td>228.671244</td>\n",
              "      <td>9.0</td>\n",
              "      <td>1345.0</td>\n",
              "      <td>0.367386</td>\n",
              "    </tr>\n",
              "    <tr>\n",
              "      <th>33704</th>\n",
              "      <td>3434.0</td>\n",
              "      <td>127.185185</td>\n",
              "      <td>220.613125</td>\n",
              "      <td>6.0</td>\n",
              "      <td>1960.0</td>\n",
              "      <td>0.570763</td>\n",
              "    </tr>\n",
              "    <tr>\n",
              "      <th>33705</th>\n",
              "      <td>5872.0</td>\n",
              "      <td>217.481481</td>\n",
              "      <td>268.502896</td>\n",
              "      <td>19.0</td>\n",
              "      <td>5626.0</td>\n",
              "      <td>0.958106</td>\n",
              "    </tr>\n",
              "    <tr>\n",
              "      <th>33706</th>\n",
              "      <td>100.0</td>\n",
              "      <td>3.703704</td>\n",
              "      <td>17.028984</td>\n",
              "      <td>0.0</td>\n",
              "      <td>0.0</td>\n",
              "      <td>0.000000</td>\n",
              "    </tr>\n",
              "  </tbody>\n",
              "</table>\n",
              "<p>33707 rows × 6 columns</p>\n",
              "</div>\n",
              "    <div class=\"colab-df-buttons\">\n",
              "\n",
              "  <div class=\"colab-df-container\">\n",
              "    <button class=\"colab-df-convert\" onclick=\"convertToInteractive('df-6e239b92-8ca2-4628-afe8-a2c280350afa')\"\n",
              "            title=\"Convert this dataframe to an interactive table.\"\n",
              "            style=\"display:none;\">\n",
              "\n",
              "  <svg xmlns=\"http://www.w3.org/2000/svg\" height=\"24px\" viewBox=\"0 -960 960 960\">\n",
              "    <path d=\"M120-120v-720h720v720H120Zm60-500h600v-160H180v160Zm220 220h160v-160H400v160Zm0 220h160v-160H400v160ZM180-400h160v-160H180v160Zm440 0h160v-160H620v160ZM180-180h160v-160H180v160Zm440 0h160v-160H620v160Z\"/>\n",
              "  </svg>\n",
              "    </button>\n",
              "\n",
              "  <style>\n",
              "    .colab-df-container {\n",
              "      display:flex;\n",
              "      gap: 12px;\n",
              "    }\n",
              "\n",
              "    .colab-df-convert {\n",
              "      background-color: #E8F0FE;\n",
              "      border: none;\n",
              "      border-radius: 50%;\n",
              "      cursor: pointer;\n",
              "      display: none;\n",
              "      fill: #1967D2;\n",
              "      height: 32px;\n",
              "      padding: 0 0 0 0;\n",
              "      width: 32px;\n",
              "    }\n",
              "\n",
              "    .colab-df-convert:hover {\n",
              "      background-color: #E2EBFA;\n",
              "      box-shadow: 0px 1px 2px rgba(60, 64, 67, 0.3), 0px 1px 3px 1px rgba(60, 64, 67, 0.15);\n",
              "      fill: #174EA6;\n",
              "    }\n",
              "\n",
              "    .colab-df-buttons div {\n",
              "      margin-bottom: 4px;\n",
              "    }\n",
              "\n",
              "    [theme=dark] .colab-df-convert {\n",
              "      background-color: #3B4455;\n",
              "      fill: #D2E3FC;\n",
              "    }\n",
              "\n",
              "    [theme=dark] .colab-df-convert:hover {\n",
              "      background-color: #434B5C;\n",
              "      box-shadow: 0px 1px 3px 1px rgba(0, 0, 0, 0.15);\n",
              "      filter: drop-shadow(0px 1px 2px rgba(0, 0, 0, 0.3));\n",
              "      fill: #FFFFFF;\n",
              "    }\n",
              "  </style>\n",
              "\n",
              "    <script>\n",
              "      const buttonEl =\n",
              "        document.querySelector('#df-6e239b92-8ca2-4628-afe8-a2c280350afa button.colab-df-convert');\n",
              "      buttonEl.style.display =\n",
              "        google.colab.kernel.accessAllowed ? 'block' : 'none';\n",
              "\n",
              "      async function convertToInteractive(key) {\n",
              "        const element = document.querySelector('#df-6e239b92-8ca2-4628-afe8-a2c280350afa');\n",
              "        const dataTable =\n",
              "          await google.colab.kernel.invokeFunction('convertToInteractive',\n",
              "                                                    [key], {});\n",
              "        if (!dataTable) return;\n",
              "\n",
              "        const docLinkHtml = 'Like what you see? Visit the ' +\n",
              "          '<a target=\"_blank\" href=https://colab.research.google.com/notebooks/data_table.ipynb>data table notebook</a>'\n",
              "          + ' to learn more about interactive tables.';\n",
              "        element.innerHTML = '';\n",
              "        dataTable['output_type'] = 'display_data';\n",
              "        await google.colab.output.renderOutput(dataTable, element);\n",
              "        const docLink = document.createElement('div');\n",
              "        docLink.innerHTML = docLinkHtml;\n",
              "        element.appendChild(docLink);\n",
              "      }\n",
              "    </script>\n",
              "  </div>\n",
              "\n",
              "\n",
              "<div id=\"df-33660d50-bf50-43e8-8e69-9d0f37096bc4\">\n",
              "  <button class=\"colab-df-quickchart\" onclick=\"quickchart('df-33660d50-bf50-43e8-8e69-9d0f37096bc4')\"\n",
              "            title=\"Suggest charts\"\n",
              "            style=\"display:none;\">\n",
              "\n",
              "<svg xmlns=\"http://www.w3.org/2000/svg\" height=\"24px\"viewBox=\"0 0 24 24\"\n",
              "     width=\"24px\">\n",
              "    <g>\n",
              "        <path d=\"M19 3H5c-1.1 0-2 .9-2 2v14c0 1.1.9 2 2 2h14c1.1 0 2-.9 2-2V5c0-1.1-.9-2-2-2zM9 17H7v-7h2v7zm4 0h-2V7h2v10zm4 0h-2v-4h2v4z\"/>\n",
              "    </g>\n",
              "</svg>\n",
              "  </button>\n",
              "\n",
              "<style>\n",
              "  .colab-df-quickchart {\n",
              "      --bg-color: #E8F0FE;\n",
              "      --fill-color: #1967D2;\n",
              "      --hover-bg-color: #E2EBFA;\n",
              "      --hover-fill-color: #174EA6;\n",
              "      --disabled-fill-color: #AAA;\n",
              "      --disabled-bg-color: #DDD;\n",
              "  }\n",
              "\n",
              "  [theme=dark] .colab-df-quickchart {\n",
              "      --bg-color: #3B4455;\n",
              "      --fill-color: #D2E3FC;\n",
              "      --hover-bg-color: #434B5C;\n",
              "      --hover-fill-color: #FFFFFF;\n",
              "      --disabled-bg-color: #3B4455;\n",
              "      --disabled-fill-color: #666;\n",
              "  }\n",
              "\n",
              "  .colab-df-quickchart {\n",
              "    background-color: var(--bg-color);\n",
              "    border: none;\n",
              "    border-radius: 50%;\n",
              "    cursor: pointer;\n",
              "    display: none;\n",
              "    fill: var(--fill-color);\n",
              "    height: 32px;\n",
              "    padding: 0;\n",
              "    width: 32px;\n",
              "  }\n",
              "\n",
              "  .colab-df-quickchart:hover {\n",
              "    background-color: var(--hover-bg-color);\n",
              "    box-shadow: 0 1px 2px rgba(60, 64, 67, 0.3), 0 1px 3px 1px rgba(60, 64, 67, 0.15);\n",
              "    fill: var(--button-hover-fill-color);\n",
              "  }\n",
              "\n",
              "  .colab-df-quickchart-complete:disabled,\n",
              "  .colab-df-quickchart-complete:disabled:hover {\n",
              "    background-color: var(--disabled-bg-color);\n",
              "    fill: var(--disabled-fill-color);\n",
              "    box-shadow: none;\n",
              "  }\n",
              "\n",
              "  .colab-df-spinner {\n",
              "    border: 2px solid var(--fill-color);\n",
              "    border-color: transparent;\n",
              "    border-bottom-color: var(--fill-color);\n",
              "    animation:\n",
              "      spin 1s steps(1) infinite;\n",
              "  }\n",
              "\n",
              "  @keyframes spin {\n",
              "    0% {\n",
              "      border-color: transparent;\n",
              "      border-bottom-color: var(--fill-color);\n",
              "      border-left-color: var(--fill-color);\n",
              "    }\n",
              "    20% {\n",
              "      border-color: transparent;\n",
              "      border-left-color: var(--fill-color);\n",
              "      border-top-color: var(--fill-color);\n",
              "    }\n",
              "    30% {\n",
              "      border-color: transparent;\n",
              "      border-left-color: var(--fill-color);\n",
              "      border-top-color: var(--fill-color);\n",
              "      border-right-color: var(--fill-color);\n",
              "    }\n",
              "    40% {\n",
              "      border-color: transparent;\n",
              "      border-right-color: var(--fill-color);\n",
              "      border-top-color: var(--fill-color);\n",
              "    }\n",
              "    60% {\n",
              "      border-color: transparent;\n",
              "      border-right-color: var(--fill-color);\n",
              "    }\n",
              "    80% {\n",
              "      border-color: transparent;\n",
              "      border-right-color: var(--fill-color);\n",
              "      border-bottom-color: var(--fill-color);\n",
              "    }\n",
              "    90% {\n",
              "      border-color: transparent;\n",
              "      border-bottom-color: var(--fill-color);\n",
              "    }\n",
              "  }\n",
              "</style>\n",
              "\n",
              "  <script>\n",
              "    async function quickchart(key) {\n",
              "      const quickchartButtonEl =\n",
              "        document.querySelector('#' + key + ' button');\n",
              "      quickchartButtonEl.disabled = true;  // To prevent multiple clicks.\n",
              "      quickchartButtonEl.classList.add('colab-df-spinner');\n",
              "      try {\n",
              "        const charts = await google.colab.kernel.invokeFunction(\n",
              "            'suggestCharts', [key], {});\n",
              "      } catch (error) {\n",
              "        console.error('Error during call to suggestCharts:', error);\n",
              "      }\n",
              "      quickchartButtonEl.classList.remove('colab-df-spinner');\n",
              "      quickchartButtonEl.classList.add('colab-df-quickchart-complete');\n",
              "    }\n",
              "    (() => {\n",
              "      let quickchartButtonEl =\n",
              "        document.querySelector('#df-33660d50-bf50-43e8-8e69-9d0f37096bc4 button');\n",
              "      quickchartButtonEl.style.display =\n",
              "        google.colab.kernel.accessAllowed ? 'block' : 'none';\n",
              "    })();\n",
              "  </script>\n",
              "</div>\n",
              "    </div>\n",
              "  </div>\n"
            ],
            "text/plain": [
              "       last_month_run  last_month_mean  last_month_std  under_load_days  \\\n",
              "0             10000.0       370.370370      380.690031             21.0   \n",
              "1              4241.0       157.074074      300.058010             11.0   \n",
              "2              4338.0       160.666667      262.711361              9.0   \n",
              "3              9939.0       368.111111      270.018426             14.0   \n",
              "4              4590.0       170.000000      227.684642             11.0   \n",
              "...               ...              ...             ...              ...   \n",
              "33702          4561.0       168.925926      232.270903             12.0   \n",
              "33703          3661.0       135.592593      228.671244              9.0   \n",
              "33704          3434.0       127.185185      220.613125              6.0   \n",
              "33705          5872.0       217.481481      268.502896             19.0   \n",
              "33706           100.0         3.703704       17.028984              0.0   \n",
              "\n",
              "       under_load_dist  under_load_percent  \n",
              "0               9815.0            0.981500  \n",
              "1               4112.0            0.969583  \n",
              "2               4019.0            0.926464  \n",
              "3               5058.0            0.508904  \n",
              "4               2524.0            0.549891  \n",
              "...                ...                 ...  \n",
              "33702           3049.0            0.668494  \n",
              "33703           1345.0            0.367386  \n",
              "33704           1960.0            0.570763  \n",
              "33705           5626.0            0.958106  \n",
              "33706              0.0            0.000000  \n",
              "\n",
              "[33707 rows x 6 columns]"
            ]
          },
          "execution_count": 33,
          "metadata": {},
          "output_type": "execute_result"
        }
      ],
      "source": [
        "test = pd.read_csv('target/y_predict.csv')\n",
        "test.month = pd.to_datetime(test.month)\n",
        "\n",
        "mff_test"
      ]
    },
    {
      "cell_type": "code",
      "execution_count": null,
      "id": "cb13488c",
      "metadata": {
        "id": "cb13488c"
      },
      "outputs": [],
      "source": []
    },
    {
      "cell_type": "code",
      "execution_count": null,
      "id": "16e8137d",
      "metadata": {
        "id": "16e8137d"
      },
      "outputs": [],
      "source": []
    },
    {
      "cell_type": "code",
      "execution_count": null,
      "id": "561f05a0",
      "metadata": {
        "colab": {
          "base_uri": "https://localhost:8080/",
          "height": 116,
          "referenced_widgets": [
            "57112260c5924cbea4a04c38aeec0736",
            "b92ad127d378440d90499c98e045be72",
            "f859d48ac19441bcaaf5979fbbe926af",
            "5fc962084b04435c9133d1aace311efe",
            "778e12e828ce4d9e9893669756efe5b6",
            "ed9029adcfdf4242bbd00b99c4193458",
            "bbd043dd4f644c2a8039c48d3da13a42",
            "b3c77702dba0458c8cebffe3ee195908",
            "0511bbb9fed640dfb01c0f7ab8c93a4e",
            "fd98062ccf32495dbd273e742972bbd2",
            "1d07549e72fb4e248ad5993b18e8ba61",
            "426a3926c5ed4a99b08b64dad370854c",
            "d6918fed7c08433fbd3f7db7ad400cab",
            "42f169be6ebb407d811900ef9d846b5b",
            "0e415af1e9c7472d9b5713682443b87d",
            "a80071272a7c4e65876bdfdab0edcd78",
            "6a2cdfc12bc44289a625c33664ff4e9d",
            "51615cd1c62e497b995a9de46a8f5a1e",
            "612bb6f5944d4d8f9bd059c734f1e46a",
            "b77bcbb40bb84dfe968e77b8ee8acb71",
            "5ddefb1b0e13426f8fde8a9d8ab9791b",
            "67b03a1c91ba46069267ed5cae00385c"
          ]
        },
        "id": "561f05a0",
        "outputId": "d573f151-1ce5-4cbf-84ce-10b76c8ee7fb"
      },
      "outputs": [
        {
          "data": {
            "application/vnd.jupyter.widget-view+json": {
              "model_id": "57112260c5924cbea4a04c38aeec0736",
              "version_major": 2,
              "version_minor": 0
            },
            "text/plain": [
              "0it [00:00, ?it/s]"
            ]
          },
          "metadata": {},
          "output_type": "display_data"
        },
        {
          "name": "stdout",
          "output_type": "stream",
          "text": [
            "manage_type\n"
          ]
        },
        {
          "data": {
            "application/vnd.jupyter.widget-view+json": {
              "model_id": "426a3926c5ed4a99b08b64dad370854c",
              "version_major": 2,
              "version_minor": 0
            },
            "text/plain": [
              "0it [00:00, ?it/s]"
            ]
          },
          "metadata": {},
          "output_type": "display_data"
        },
        {
          "name": "stdout",
          "output_type": "stream",
          "text": [
            "rod_id\n"
          ]
        }
      ],
      "source": [
        "\n",
        "wag_prob = pd.read_parquet('./wagons_probeg_ownersip.parquet').convert_dtypes()\n",
        "\n",
        "oe = OwnerShipExtracor(wag_prob)\n",
        "\n",
        "oe.fit(targs)\n",
        "\n",
        "own_feat = (oe.transform(targs)[[\"manage_type\"]]).copy()\n",
        "\n",
        "for p in [\"manage_type\"]:\n",
        "    own_feat[p] = own_feat[p].astype('category')"
      ]
    },
    {
      "cell_type": "code",
      "execution_count": null,
      "id": "3ba27478",
      "metadata": {
        "id": "3ba27478"
      },
      "outputs": [],
      "source": [
        "own_feat_test = (oe.transform(test.copy())[[\"manage_type\"]]).copy()\n",
        "for p in [\"manage_type\"]:\n",
        "    own_feat_test[p] = own_feat_test[p].astype('category')"
      ]
    },
    {
      "cell_type": "code",
      "execution_count": null,
      "id": "f45028f7",
      "metadata": {
        "colab": {
          "base_uri": "https://localhost:8080/",
          "height": 424
        },
        "id": "f45028f7",
        "outputId": "cb3434b9-edf4-4251-96ab-f8e781f5b234"
      },
      "outputs": [
        {
          "data": {
            "text/html": [
              "\n",
              "  <div id=\"df-5e38cda3-d2c2-4eb8-a976-d1e4dc7d1dd7\" class=\"colab-df-container\">\n",
              "    <div>\n",
              "<style scoped>\n",
              "    .dataframe tbody tr th:only-of-type {\n",
              "        vertical-align: middle;\n",
              "    }\n",
              "\n",
              "    .dataframe tbody tr th {\n",
              "        vertical-align: top;\n",
              "    }\n",
              "\n",
              "    .dataframe thead th {\n",
              "        text-align: right;\n",
              "    }\n",
              "</style>\n",
              "<table border=\"1\" class=\"dataframe\">\n",
              "  <thead>\n",
              "    <tr style=\"text-align: right;\">\n",
              "      <th></th>\n",
              "      <th>manage_type</th>\n",
              "    </tr>\n",
              "  </thead>\n",
              "  <tbody>\n",
              "    <tr>\n",
              "      <th>0</th>\n",
              "      <td>0</td>\n",
              "    </tr>\n",
              "    <tr>\n",
              "      <th>1</th>\n",
              "      <td>0</td>\n",
              "    </tr>\n",
              "    <tr>\n",
              "      <th>2</th>\n",
              "      <td>0</td>\n",
              "    </tr>\n",
              "    <tr>\n",
              "      <th>3</th>\n",
              "      <td>0</td>\n",
              "    </tr>\n",
              "    <tr>\n",
              "      <th>4</th>\n",
              "      <td>0</td>\n",
              "    </tr>\n",
              "    <tr>\n",
              "      <th>...</th>\n",
              "      <td>...</td>\n",
              "    </tr>\n",
              "    <tr>\n",
              "      <th>33702</th>\n",
              "      <td>0</td>\n",
              "    </tr>\n",
              "    <tr>\n",
              "      <th>33703</th>\n",
              "      <td>0</td>\n",
              "    </tr>\n",
              "    <tr>\n",
              "      <th>33704</th>\n",
              "      <td>0</td>\n",
              "    </tr>\n",
              "    <tr>\n",
              "      <th>33705</th>\n",
              "      <td>0</td>\n",
              "    </tr>\n",
              "    <tr>\n",
              "      <th>33706</th>\n",
              "      <td>0</td>\n",
              "    </tr>\n",
              "  </tbody>\n",
              "</table>\n",
              "<p>33707 rows × 1 columns</p>\n",
              "</div>\n",
              "    <div class=\"colab-df-buttons\">\n",
              "\n",
              "  <div class=\"colab-df-container\">\n",
              "    <button class=\"colab-df-convert\" onclick=\"convertToInteractive('df-5e38cda3-d2c2-4eb8-a976-d1e4dc7d1dd7')\"\n",
              "            title=\"Convert this dataframe to an interactive table.\"\n",
              "            style=\"display:none;\">\n",
              "\n",
              "  <svg xmlns=\"http://www.w3.org/2000/svg\" height=\"24px\" viewBox=\"0 -960 960 960\">\n",
              "    <path d=\"M120-120v-720h720v720H120Zm60-500h600v-160H180v160Zm220 220h160v-160H400v160Zm0 220h160v-160H400v160ZM180-400h160v-160H180v160Zm440 0h160v-160H620v160ZM180-180h160v-160H180v160Zm440 0h160v-160H620v160Z\"/>\n",
              "  </svg>\n",
              "    </button>\n",
              "\n",
              "  <style>\n",
              "    .colab-df-container {\n",
              "      display:flex;\n",
              "      gap: 12px;\n",
              "    }\n",
              "\n",
              "    .colab-df-convert {\n",
              "      background-color: #E8F0FE;\n",
              "      border: none;\n",
              "      border-radius: 50%;\n",
              "      cursor: pointer;\n",
              "      display: none;\n",
              "      fill: #1967D2;\n",
              "      height: 32px;\n",
              "      padding: 0 0 0 0;\n",
              "      width: 32px;\n",
              "    }\n",
              "\n",
              "    .colab-df-convert:hover {\n",
              "      background-color: #E2EBFA;\n",
              "      box-shadow: 0px 1px 2px rgba(60, 64, 67, 0.3), 0px 1px 3px 1px rgba(60, 64, 67, 0.15);\n",
              "      fill: #174EA6;\n",
              "    }\n",
              "\n",
              "    .colab-df-buttons div {\n",
              "      margin-bottom: 4px;\n",
              "    }\n",
              "\n",
              "    [theme=dark] .colab-df-convert {\n",
              "      background-color: #3B4455;\n",
              "      fill: #D2E3FC;\n",
              "    }\n",
              "\n",
              "    [theme=dark] .colab-df-convert:hover {\n",
              "      background-color: #434B5C;\n",
              "      box-shadow: 0px 1px 3px 1px rgba(0, 0, 0, 0.15);\n",
              "      filter: drop-shadow(0px 1px 2px rgba(0, 0, 0, 0.3));\n",
              "      fill: #FFFFFF;\n",
              "    }\n",
              "  </style>\n",
              "\n",
              "    <script>\n",
              "      const buttonEl =\n",
              "        document.querySelector('#df-5e38cda3-d2c2-4eb8-a976-d1e4dc7d1dd7 button.colab-df-convert');\n",
              "      buttonEl.style.display =\n",
              "        google.colab.kernel.accessAllowed ? 'block' : 'none';\n",
              "\n",
              "      async function convertToInteractive(key) {\n",
              "        const element = document.querySelector('#df-5e38cda3-d2c2-4eb8-a976-d1e4dc7d1dd7');\n",
              "        const dataTable =\n",
              "          await google.colab.kernel.invokeFunction('convertToInteractive',\n",
              "                                                    [key], {});\n",
              "        if (!dataTable) return;\n",
              "\n",
              "        const docLinkHtml = 'Like what you see? Visit the ' +\n",
              "          '<a target=\"_blank\" href=https://colab.research.google.com/notebooks/data_table.ipynb>data table notebook</a>'\n",
              "          + ' to learn more about interactive tables.';\n",
              "        element.innerHTML = '';\n",
              "        dataTable['output_type'] = 'display_data';\n",
              "        await google.colab.output.renderOutput(dataTable, element);\n",
              "        const docLink = document.createElement('div');\n",
              "        docLink.innerHTML = docLinkHtml;\n",
              "        element.appendChild(docLink);\n",
              "      }\n",
              "    </script>\n",
              "  </div>\n",
              "\n",
              "\n",
              "<div id=\"df-54a9bf78-61cc-40e1-af5b-b35fbc2196f6\">\n",
              "  <button class=\"colab-df-quickchart\" onclick=\"quickchart('df-54a9bf78-61cc-40e1-af5b-b35fbc2196f6')\"\n",
              "            title=\"Suggest charts\"\n",
              "            style=\"display:none;\">\n",
              "\n",
              "<svg xmlns=\"http://www.w3.org/2000/svg\" height=\"24px\"viewBox=\"0 0 24 24\"\n",
              "     width=\"24px\">\n",
              "    <g>\n",
              "        <path d=\"M19 3H5c-1.1 0-2 .9-2 2v14c0 1.1.9 2 2 2h14c1.1 0 2-.9 2-2V5c0-1.1-.9-2-2-2zM9 17H7v-7h2v7zm4 0h-2V7h2v10zm4 0h-2v-4h2v4z\"/>\n",
              "    </g>\n",
              "</svg>\n",
              "  </button>\n",
              "\n",
              "<style>\n",
              "  .colab-df-quickchart {\n",
              "      --bg-color: #E8F0FE;\n",
              "      --fill-color: #1967D2;\n",
              "      --hover-bg-color: #E2EBFA;\n",
              "      --hover-fill-color: #174EA6;\n",
              "      --disabled-fill-color: #AAA;\n",
              "      --disabled-bg-color: #DDD;\n",
              "  }\n",
              "\n",
              "  [theme=dark] .colab-df-quickchart {\n",
              "      --bg-color: #3B4455;\n",
              "      --fill-color: #D2E3FC;\n",
              "      --hover-bg-color: #434B5C;\n",
              "      --hover-fill-color: #FFFFFF;\n",
              "      --disabled-bg-color: #3B4455;\n",
              "      --disabled-fill-color: #666;\n",
              "  }\n",
              "\n",
              "  .colab-df-quickchart {\n",
              "    background-color: var(--bg-color);\n",
              "    border: none;\n",
              "    border-radius: 50%;\n",
              "    cursor: pointer;\n",
              "    display: none;\n",
              "    fill: var(--fill-color);\n",
              "    height: 32px;\n",
              "    padding: 0;\n",
              "    width: 32px;\n",
              "  }\n",
              "\n",
              "  .colab-df-quickchart:hover {\n",
              "    background-color: var(--hover-bg-color);\n",
              "    box-shadow: 0 1px 2px rgba(60, 64, 67, 0.3), 0 1px 3px 1px rgba(60, 64, 67, 0.15);\n",
              "    fill: var(--button-hover-fill-color);\n",
              "  }\n",
              "\n",
              "  .colab-df-quickchart-complete:disabled,\n",
              "  .colab-df-quickchart-complete:disabled:hover {\n",
              "    background-color: var(--disabled-bg-color);\n",
              "    fill: var(--disabled-fill-color);\n",
              "    box-shadow: none;\n",
              "  }\n",
              "\n",
              "  .colab-df-spinner {\n",
              "    border: 2px solid var(--fill-color);\n",
              "    border-color: transparent;\n",
              "    border-bottom-color: var(--fill-color);\n",
              "    animation:\n",
              "      spin 1s steps(1) infinite;\n",
              "  }\n",
              "\n",
              "  @keyframes spin {\n",
              "    0% {\n",
              "      border-color: transparent;\n",
              "      border-bottom-color: var(--fill-color);\n",
              "      border-left-color: var(--fill-color);\n",
              "    }\n",
              "    20% {\n",
              "      border-color: transparent;\n",
              "      border-left-color: var(--fill-color);\n",
              "      border-top-color: var(--fill-color);\n",
              "    }\n",
              "    30% {\n",
              "      border-color: transparent;\n",
              "      border-left-color: var(--fill-color);\n",
              "      border-top-color: var(--fill-color);\n",
              "      border-right-color: var(--fill-color);\n",
              "    }\n",
              "    40% {\n",
              "      border-color: transparent;\n",
              "      border-right-color: var(--fill-color);\n",
              "      border-top-color: var(--fill-color);\n",
              "    }\n",
              "    60% {\n",
              "      border-color: transparent;\n",
              "      border-right-color: var(--fill-color);\n",
              "    }\n",
              "    80% {\n",
              "      border-color: transparent;\n",
              "      border-right-color: var(--fill-color);\n",
              "      border-bottom-color: var(--fill-color);\n",
              "    }\n",
              "    90% {\n",
              "      border-color: transparent;\n",
              "      border-bottom-color: var(--fill-color);\n",
              "    }\n",
              "  }\n",
              "</style>\n",
              "\n",
              "  <script>\n",
              "    async function quickchart(key) {\n",
              "      const quickchartButtonEl =\n",
              "        document.querySelector('#' + key + ' button');\n",
              "      quickchartButtonEl.disabled = true;  // To prevent multiple clicks.\n",
              "      quickchartButtonEl.classList.add('colab-df-spinner');\n",
              "      try {\n",
              "        const charts = await google.colab.kernel.invokeFunction(\n",
              "            'suggestCharts', [key], {});\n",
              "      } catch (error) {\n",
              "        console.error('Error during call to suggestCharts:', error);\n",
              "      }\n",
              "      quickchartButtonEl.classList.remove('colab-df-spinner');\n",
              "      quickchartButtonEl.classList.add('colab-df-quickchart-complete');\n",
              "    }\n",
              "    (() => {\n",
              "      let quickchartButtonEl =\n",
              "        document.querySelector('#df-54a9bf78-61cc-40e1-af5b-b35fbc2196f6 button');\n",
              "      quickchartButtonEl.style.display =\n",
              "        google.colab.kernel.accessAllowed ? 'block' : 'none';\n",
              "    })();\n",
              "  </script>\n",
              "</div>\n",
              "    </div>\n",
              "  </div>\n"
            ],
            "text/plain": [
              "      manage_type\n",
              "0               0\n",
              "1               0\n",
              "2               0\n",
              "3               0\n",
              "4               0\n",
              "...           ...\n",
              "33702           0\n",
              "33703           0\n",
              "33704           0\n",
              "33705           0\n",
              "33706           0\n",
              "\n",
              "[33707 rows x 1 columns]"
            ]
          },
          "execution_count": 36,
          "metadata": {},
          "output_type": "execute_result"
        }
      ],
      "source": [
        "own_feat_test"
      ]
    },
    {
      "cell_type": "code",
      "execution_count": null,
      "id": "e5961780",
      "metadata": {
        "id": "e5961780"
      },
      "outputs": [],
      "source": []
    },
    {
      "cell_type": "code",
      "execution_count": null,
      "id": "aed5ca9f",
      "metadata": {
        "colab": {
          "base_uri": "https://localhost:8080/",
          "height": 81,
          "referenced_widgets": [
            "89e7e2875b1649e78cd42b511dd85bb4",
            "e59e5d24cc1a4e9190980c264cf6face",
            "d158dda6e2a04f28b6b74bee94b4b5c6",
            "d92db98be66044968326c6ae194726f3",
            "449a7dc31c52474495a4bbd605e86ab1",
            "65831d6e66c84e448b0aaee99646ff7f",
            "e0b252aede91420f82a2feab029948c7",
            "98213536486f4d4aa6141d71fe53757b",
            "63a9dd79bb904e35afa09593ca39e458",
            "084ab861594643118ce745de8e3dc361",
            "1121b34ba598403bb7bf016bf243a6f6",
            "2a702031ad4d43fdbbead03206dc865d",
            "fba525ff50f24b959be1def5b4da6538",
            "278792289bee4a78bfe469a1a806468d",
            "7e8911fd629c4af082abca93522fc93f",
            "ebf42ef85cf44e3a9d4b8fc7936a5584",
            "48a71a65423d4c5db89c9c0c34d13cdc",
            "81ee349e94da424fb253dd683e81aaaf",
            "5e03c789f2c54c2d814089d5d10bd1cc",
            "d8861a7341ff4def868dc7d6163b9fae",
            "8e72f96e2a4b4c8c9b747b309ab1774e",
            "b64059c9850b455caa3c5848e05f155d"
          ]
        },
        "id": "aed5ca9f",
        "outputId": "3854d30f-6490-4b84-b863-b713b9f0477b"
      },
      "outputs": [
        {
          "data": {
            "application/vnd.jupyter.widget-view+json": {
              "model_id": "89e7e2875b1649e78cd42b511dd85bb4",
              "version_major": 2,
              "version_minor": 0
            },
            "text/plain": [
              "  0%|          | 0/11982 [00:00<?, ?it/s]"
            ]
          },
          "metadata": {},
          "output_type": "display_data"
        },
        {
          "data": {
            "application/vnd.jupyter.widget-view+json": {
              "model_id": "2a702031ad4d43fdbbead03206dc865d",
              "version_major": 2,
              "version_minor": 0
            },
            "text/plain": [
              "0it [00:00, ?it/s]"
            ]
          },
          "metadata": {},
          "output_type": "display_data"
        }
      ],
      "source": [
        "\n",
        "lastrep = LastRepair()\n",
        "\n",
        "pr_rem = load_pr_rems()\n",
        "\n",
        "lastrep.fit(pr_rem)\n",
        "\n",
        "lastreptab = lastrep.transform(targs)[[\"lastrepair\", \"cnt_repairs\"]]"
      ]
    },
    {
      "cell_type": "code",
      "execution_count": null,
      "id": "ff620288",
      "metadata": {
        "colab": {
          "base_uri": "https://localhost:8080/",
          "height": 49,
          "referenced_widgets": [
            "e260d57e65a94deebf0466af2915a1f1",
            "ea1ffc3fffb44dc0924953ef21a03909",
            "11fd9cd94f3e4d3ca07450dc299e34a1",
            "e49f9f4f7bdf4853947cf91c47bbde61",
            "a0dd6d1ffe5c41e5a420371150c6f3f4",
            "0bba1a40ea9e4a5099885b8b387df7f7",
            "80a6768b2a5741e2855da8df456495b2",
            "8c0586b8502b40a0bb799bd21def9b40",
            "1ec47d7f81ac4f72adaa289a73b09f10",
            "75481d89d4a1492db53b58ce52f5f87f",
            "5086eb2399da476fab99499d854fd300"
          ]
        },
        "id": "ff620288",
        "outputId": "f11eacb9-7644-4844-931d-30c83cc18ada"
      },
      "outputs": [
        {
          "data": {
            "application/vnd.jupyter.widget-view+json": {
              "model_id": "e260d57e65a94deebf0466af2915a1f1",
              "version_major": 2,
              "version_minor": 0
            },
            "text/plain": [
              "0it [00:00, ?it/s]"
            ]
          },
          "metadata": {},
          "output_type": "display_data"
        }
      ],
      "source": [
        "lastreptab_test = lastrep.transform(test.copy())[[\"lastrepair\", \"cnt_repairs\"]]"
      ]
    },
    {
      "cell_type": "code",
      "execution_count": null,
      "id": "cbe04c0b",
      "metadata": {
        "colab": {
          "base_uri": "https://localhost:8080/",
          "height": 424
        },
        "id": "cbe04c0b",
        "outputId": "895251f3-3525-4cd9-a4ed-e40f044e272a"
      },
      "outputs": [
        {
          "data": {
            "text/html": [
              "\n",
              "  <div id=\"df-f71b8f92-40a3-4e41-8804-2a1e3c58c81a\" class=\"colab-df-container\">\n",
              "    <div>\n",
              "<style scoped>\n",
              "    .dataframe tbody tr th:only-of-type {\n",
              "        vertical-align: middle;\n",
              "    }\n",
              "\n",
              "    .dataframe tbody tr th {\n",
              "        vertical-align: top;\n",
              "    }\n",
              "\n",
              "    .dataframe thead th {\n",
              "        text-align: right;\n",
              "    }\n",
              "</style>\n",
              "<table border=\"1\" class=\"dataframe\">\n",
              "  <thead>\n",
              "    <tr style=\"text-align: right;\">\n",
              "      <th></th>\n",
              "      <th>lastrepair</th>\n",
              "      <th>cnt_repairs</th>\n",
              "    </tr>\n",
              "  </thead>\n",
              "  <tbody>\n",
              "    <tr>\n",
              "      <th>0</th>\n",
              "      <td>8640000</td>\n",
              "      <td>1.0</td>\n",
              "    </tr>\n",
              "    <tr>\n",
              "      <th>1</th>\n",
              "      <td>7171200</td>\n",
              "      <td>1.0</td>\n",
              "    </tr>\n",
              "    <tr>\n",
              "      <th>2</th>\n",
              "      <td>7516800</td>\n",
              "      <td>1.0</td>\n",
              "    </tr>\n",
              "    <tr>\n",
              "      <th>3</th>\n",
              "      <td>-1</td>\n",
              "      <td>0.0</td>\n",
              "    </tr>\n",
              "    <tr>\n",
              "      <th>4</th>\n",
              "      <td>12614400</td>\n",
              "      <td>1.0</td>\n",
              "    </tr>\n",
              "    <tr>\n",
              "      <th>...</th>\n",
              "      <td>...</td>\n",
              "      <td>...</td>\n",
              "    </tr>\n",
              "    <tr>\n",
              "      <th>33702</th>\n",
              "      <td>-1</td>\n",
              "      <td>0.0</td>\n",
              "    </tr>\n",
              "    <tr>\n",
              "      <th>33703</th>\n",
              "      <td>14169600</td>\n",
              "      <td>1.0</td>\n",
              "    </tr>\n",
              "    <tr>\n",
              "      <th>33704</th>\n",
              "      <td>11577600</td>\n",
              "      <td>1.0</td>\n",
              "    </tr>\n",
              "    <tr>\n",
              "      <th>33705</th>\n",
              "      <td>15379200</td>\n",
              "      <td>1.0</td>\n",
              "    </tr>\n",
              "    <tr>\n",
              "      <th>33706</th>\n",
              "      <td>14083200</td>\n",
              "      <td>1.0</td>\n",
              "    </tr>\n",
              "  </tbody>\n",
              "</table>\n",
              "<p>33707 rows × 2 columns</p>\n",
              "</div>\n",
              "    <div class=\"colab-df-buttons\">\n",
              "\n",
              "  <div class=\"colab-df-container\">\n",
              "    <button class=\"colab-df-convert\" onclick=\"convertToInteractive('df-f71b8f92-40a3-4e41-8804-2a1e3c58c81a')\"\n",
              "            title=\"Convert this dataframe to an interactive table.\"\n",
              "            style=\"display:none;\">\n",
              "\n",
              "  <svg xmlns=\"http://www.w3.org/2000/svg\" height=\"24px\" viewBox=\"0 -960 960 960\">\n",
              "    <path d=\"M120-120v-720h720v720H120Zm60-500h600v-160H180v160Zm220 220h160v-160H400v160Zm0 220h160v-160H400v160ZM180-400h160v-160H180v160Zm440 0h160v-160H620v160ZM180-180h160v-160H180v160Zm440 0h160v-160H620v160Z\"/>\n",
              "  </svg>\n",
              "    </button>\n",
              "\n",
              "  <style>\n",
              "    .colab-df-container {\n",
              "      display:flex;\n",
              "      gap: 12px;\n",
              "    }\n",
              "\n",
              "    .colab-df-convert {\n",
              "      background-color: #E8F0FE;\n",
              "      border: none;\n",
              "      border-radius: 50%;\n",
              "      cursor: pointer;\n",
              "      display: none;\n",
              "      fill: #1967D2;\n",
              "      height: 32px;\n",
              "      padding: 0 0 0 0;\n",
              "      width: 32px;\n",
              "    }\n",
              "\n",
              "    .colab-df-convert:hover {\n",
              "      background-color: #E2EBFA;\n",
              "      box-shadow: 0px 1px 2px rgba(60, 64, 67, 0.3), 0px 1px 3px 1px rgba(60, 64, 67, 0.15);\n",
              "      fill: #174EA6;\n",
              "    }\n",
              "\n",
              "    .colab-df-buttons div {\n",
              "      margin-bottom: 4px;\n",
              "    }\n",
              "\n",
              "    [theme=dark] .colab-df-convert {\n",
              "      background-color: #3B4455;\n",
              "      fill: #D2E3FC;\n",
              "    }\n",
              "\n",
              "    [theme=dark] .colab-df-convert:hover {\n",
              "      background-color: #434B5C;\n",
              "      box-shadow: 0px 1px 3px 1px rgba(0, 0, 0, 0.15);\n",
              "      filter: drop-shadow(0px 1px 2px rgba(0, 0, 0, 0.3));\n",
              "      fill: #FFFFFF;\n",
              "    }\n",
              "  </style>\n",
              "\n",
              "    <script>\n",
              "      const buttonEl =\n",
              "        document.querySelector('#df-f71b8f92-40a3-4e41-8804-2a1e3c58c81a button.colab-df-convert');\n",
              "      buttonEl.style.display =\n",
              "        google.colab.kernel.accessAllowed ? 'block' : 'none';\n",
              "\n",
              "      async function convertToInteractive(key) {\n",
              "        const element = document.querySelector('#df-f71b8f92-40a3-4e41-8804-2a1e3c58c81a');\n",
              "        const dataTable =\n",
              "          await google.colab.kernel.invokeFunction('convertToInteractive',\n",
              "                                                    [key], {});\n",
              "        if (!dataTable) return;\n",
              "\n",
              "        const docLinkHtml = 'Like what you see? Visit the ' +\n",
              "          '<a target=\"_blank\" href=https://colab.research.google.com/notebooks/data_table.ipynb>data table notebook</a>'\n",
              "          + ' to learn more about interactive tables.';\n",
              "        element.innerHTML = '';\n",
              "        dataTable['output_type'] = 'display_data';\n",
              "        await google.colab.output.renderOutput(dataTable, element);\n",
              "        const docLink = document.createElement('div');\n",
              "        docLink.innerHTML = docLinkHtml;\n",
              "        element.appendChild(docLink);\n",
              "      }\n",
              "    </script>\n",
              "  </div>\n",
              "\n",
              "\n",
              "<div id=\"df-0a93c86e-0b97-4713-9c60-45e02d914b4d\">\n",
              "  <button class=\"colab-df-quickchart\" onclick=\"quickchart('df-0a93c86e-0b97-4713-9c60-45e02d914b4d')\"\n",
              "            title=\"Suggest charts\"\n",
              "            style=\"display:none;\">\n",
              "\n",
              "<svg xmlns=\"http://www.w3.org/2000/svg\" height=\"24px\"viewBox=\"0 0 24 24\"\n",
              "     width=\"24px\">\n",
              "    <g>\n",
              "        <path d=\"M19 3H5c-1.1 0-2 .9-2 2v14c0 1.1.9 2 2 2h14c1.1 0 2-.9 2-2V5c0-1.1-.9-2-2-2zM9 17H7v-7h2v7zm4 0h-2V7h2v10zm4 0h-2v-4h2v4z\"/>\n",
              "    </g>\n",
              "</svg>\n",
              "  </button>\n",
              "\n",
              "<style>\n",
              "  .colab-df-quickchart {\n",
              "      --bg-color: #E8F0FE;\n",
              "      --fill-color: #1967D2;\n",
              "      --hover-bg-color: #E2EBFA;\n",
              "      --hover-fill-color: #174EA6;\n",
              "      --disabled-fill-color: #AAA;\n",
              "      --disabled-bg-color: #DDD;\n",
              "  }\n",
              "\n",
              "  [theme=dark] .colab-df-quickchart {\n",
              "      --bg-color: #3B4455;\n",
              "      --fill-color: #D2E3FC;\n",
              "      --hover-bg-color: #434B5C;\n",
              "      --hover-fill-color: #FFFFFF;\n",
              "      --disabled-bg-color: #3B4455;\n",
              "      --disabled-fill-color: #666;\n",
              "  }\n",
              "\n",
              "  .colab-df-quickchart {\n",
              "    background-color: var(--bg-color);\n",
              "    border: none;\n",
              "    border-radius: 50%;\n",
              "    cursor: pointer;\n",
              "    display: none;\n",
              "    fill: var(--fill-color);\n",
              "    height: 32px;\n",
              "    padding: 0;\n",
              "    width: 32px;\n",
              "  }\n",
              "\n",
              "  .colab-df-quickchart:hover {\n",
              "    background-color: var(--hover-bg-color);\n",
              "    box-shadow: 0 1px 2px rgba(60, 64, 67, 0.3), 0 1px 3px 1px rgba(60, 64, 67, 0.15);\n",
              "    fill: var(--button-hover-fill-color);\n",
              "  }\n",
              "\n",
              "  .colab-df-quickchart-complete:disabled,\n",
              "  .colab-df-quickchart-complete:disabled:hover {\n",
              "    background-color: var(--disabled-bg-color);\n",
              "    fill: var(--disabled-fill-color);\n",
              "    box-shadow: none;\n",
              "  }\n",
              "\n",
              "  .colab-df-spinner {\n",
              "    border: 2px solid var(--fill-color);\n",
              "    border-color: transparent;\n",
              "    border-bottom-color: var(--fill-color);\n",
              "    animation:\n",
              "      spin 1s steps(1) infinite;\n",
              "  }\n",
              "\n",
              "  @keyframes spin {\n",
              "    0% {\n",
              "      border-color: transparent;\n",
              "      border-bottom-color: var(--fill-color);\n",
              "      border-left-color: var(--fill-color);\n",
              "    }\n",
              "    20% {\n",
              "      border-color: transparent;\n",
              "      border-left-color: var(--fill-color);\n",
              "      border-top-color: var(--fill-color);\n",
              "    }\n",
              "    30% {\n",
              "      border-color: transparent;\n",
              "      border-left-color: var(--fill-color);\n",
              "      border-top-color: var(--fill-color);\n",
              "      border-right-color: var(--fill-color);\n",
              "    }\n",
              "    40% {\n",
              "      border-color: transparent;\n",
              "      border-right-color: var(--fill-color);\n",
              "      border-top-color: var(--fill-color);\n",
              "    }\n",
              "    60% {\n",
              "      border-color: transparent;\n",
              "      border-right-color: var(--fill-color);\n",
              "    }\n",
              "    80% {\n",
              "      border-color: transparent;\n",
              "      border-right-color: var(--fill-color);\n",
              "      border-bottom-color: var(--fill-color);\n",
              "    }\n",
              "    90% {\n",
              "      border-color: transparent;\n",
              "      border-bottom-color: var(--fill-color);\n",
              "    }\n",
              "  }\n",
              "</style>\n",
              "\n",
              "  <script>\n",
              "    async function quickchart(key) {\n",
              "      const quickchartButtonEl =\n",
              "        document.querySelector('#' + key + ' button');\n",
              "      quickchartButtonEl.disabled = true;  // To prevent multiple clicks.\n",
              "      quickchartButtonEl.classList.add('colab-df-spinner');\n",
              "      try {\n",
              "        const charts = await google.colab.kernel.invokeFunction(\n",
              "            'suggestCharts', [key], {});\n",
              "      } catch (error) {\n",
              "        console.error('Error during call to suggestCharts:', error);\n",
              "      }\n",
              "      quickchartButtonEl.classList.remove('colab-df-spinner');\n",
              "      quickchartButtonEl.classList.add('colab-df-quickchart-complete');\n",
              "    }\n",
              "    (() => {\n",
              "      let quickchartButtonEl =\n",
              "        document.querySelector('#df-0a93c86e-0b97-4713-9c60-45e02d914b4d button');\n",
              "      quickchartButtonEl.style.display =\n",
              "        google.colab.kernel.accessAllowed ? 'block' : 'none';\n",
              "    })();\n",
              "  </script>\n",
              "</div>\n",
              "    </div>\n",
              "  </div>\n"
            ],
            "text/plain": [
              "       lastrepair  cnt_repairs\n",
              "0         8640000          1.0\n",
              "1         7171200          1.0\n",
              "2         7516800          1.0\n",
              "3              -1          0.0\n",
              "4        12614400          1.0\n",
              "...           ...          ...\n",
              "33702          -1          0.0\n",
              "33703    14169600          1.0\n",
              "33704    11577600          1.0\n",
              "33705    15379200          1.0\n",
              "33706    14083200          1.0\n",
              "\n",
              "[33707 rows x 2 columns]"
            ]
          },
          "execution_count": 39,
          "metadata": {},
          "output_type": "execute_result"
        }
      ],
      "source": [
        "lastreptab_test"
      ]
    },
    {
      "cell_type": "markdown",
      "id": "7ec9d8ac",
      "metadata": {
        "id": "7ec9d8ac"
      },
      "source": [
        "#### Достаем из таблицы tr_rem количество ремонтов до нужного месяца. Подражали бэйзлайну не очень сильная фича."
      ]
    },
    {
      "cell_type": "code",
      "execution_count": null,
      "id": "06df2881",
      "metadata": {
        "id": "06df2881"
      },
      "outputs": [],
      "source": [
        "\n",
        "def unfold_trem_applyer(rem_dict, x):\n",
        "    m = pd.to_datetime(x[\"month\"])\n",
        "    wn = x[\"wagnum\"]\n",
        "\n",
        "    if(wn in rem_dict):\n",
        "        ans = np.array([rem_dict[wn].searchsorted(m, side=\"left\") ])\n",
        "    else:\n",
        "        ans = np.array([0])\n",
        "\n",
        "    return pd.Series(data=ans, index=[\"num_small_repairs\"])\n",
        "\n",
        "\n",
        "class SmallRepairsExctractor(BaseEstimator, TransformerMixin):\n",
        "    def __init__(self, df):\n",
        "        df = df.sort_values([\"rem_month\"])\n",
        "        rem_dict = {}\n",
        "\n",
        "        for x in tqdm(df.groupby(\"wagnum\")):\n",
        "            wg, ddf = x\n",
        "            rem_dict[wg] = ddf.rem_month\n",
        "        self.rem_dict = rem_dict\n",
        "\n",
        "    def fit(self, X, y = None):\n",
        "        return self\n",
        "\n",
        "    def transform(self, X, y = None):\n",
        "        return X.apply(lambda x: unfold_trem_applyer(self.rem_dict, x), axis=1)"
      ]
    },
    {
      "cell_type": "code",
      "execution_count": null,
      "id": "44266595",
      "metadata": {
        "colab": {
          "base_uri": "https://localhost:8080/",
          "height": 49,
          "referenced_widgets": [
            "8969856800aa47a6b7018c1f136eed1a",
            "ba8d6a2854f54f918ae81a40a2fae4ad",
            "051c30c2cda04e73ab9b863e1c469ad8",
            "a07f66c1409d4ce3a6aaaaf1860d5993",
            "5839b8d85d8b466686be9cf6000baff3",
            "a7d1c46ab5c7482d9b7ca83fc50f6f85",
            "16041259b2f04460b299af706e769dfa",
            "43476d96f1134cad9309df5c99daa351",
            "ba4d850147c94fa9b7b08a0a578eeab1",
            "44484fea03284fe7b4fe189fe9457c38",
            "e2f388ccd87946a6b504692ea109c3bd"
          ]
        },
        "id": "44266595",
        "outputId": "3641c588-6391-4358-8c1f-f4e50e90377e"
      },
      "outputs": [
        {
          "data": {
            "application/vnd.jupyter.widget-view+json": {
              "model_id": "8969856800aa47a6b7018c1f136eed1a",
              "version_major": 2,
              "version_minor": 0
            },
            "text/plain": [
              "  0%|          | 0/19621 [00:00<?, ?it/s]"
            ]
          },
          "metadata": {},
          "output_type": "display_data"
        }
      ],
      "source": [
        "tr_rems = load_tr_rems()\n",
        "sre = SmallRepairsExctractor(tr_rems)\n",
        "trems_counts = sre.transform(targs)\n",
        "trems_counts.num_small_repairs = trems_counts.num_small_repairs.astype('category')"
      ]
    },
    {
      "cell_type": "code",
      "execution_count": null,
      "id": "b8a9bc62",
      "metadata": {
        "id": "b8a9bc62"
      },
      "outputs": [],
      "source": [
        "trems_counts_test = sre.transform(test)\n",
        "trems_counts_test.num_small_repairs = trems_counts_test.num_small_repairs.astype('category')"
      ]
    },
    {
      "cell_type": "code",
      "execution_count": null,
      "id": "377b4d5b",
      "metadata": {
        "colab": {
          "base_uri": "https://localhost:8080/",
          "height": 424
        },
        "id": "377b4d5b",
        "outputId": "e8da4776-18d1-446c-c7d9-8cfb61983432"
      },
      "outputs": [
        {
          "data": {
            "text/html": [
              "\n",
              "  <div id=\"df-e2fdadad-a67c-4989-b141-28730b2002a2\" class=\"colab-df-container\">\n",
              "    <div>\n",
              "<style scoped>\n",
              "    .dataframe tbody tr th:only-of-type {\n",
              "        vertical-align: middle;\n",
              "    }\n",
              "\n",
              "    .dataframe tbody tr th {\n",
              "        vertical-align: top;\n",
              "    }\n",
              "\n",
              "    .dataframe thead th {\n",
              "        text-align: right;\n",
              "    }\n",
              "</style>\n",
              "<table border=\"1\" class=\"dataframe\">\n",
              "  <thead>\n",
              "    <tr style=\"text-align: right;\">\n",
              "      <th></th>\n",
              "      <th>num_small_repairs</th>\n",
              "    </tr>\n",
              "  </thead>\n",
              "  <tbody>\n",
              "    <tr>\n",
              "      <th>0</th>\n",
              "      <td>3</td>\n",
              "    </tr>\n",
              "    <tr>\n",
              "      <th>1</th>\n",
              "      <td>2</td>\n",
              "    </tr>\n",
              "    <tr>\n",
              "      <th>2</th>\n",
              "      <td>2</td>\n",
              "    </tr>\n",
              "    <tr>\n",
              "      <th>3</th>\n",
              "      <td>2</td>\n",
              "    </tr>\n",
              "    <tr>\n",
              "      <th>4</th>\n",
              "      <td>0</td>\n",
              "    </tr>\n",
              "    <tr>\n",
              "      <th>...</th>\n",
              "      <td>...</td>\n",
              "    </tr>\n",
              "    <tr>\n",
              "      <th>33702</th>\n",
              "      <td>0</td>\n",
              "    </tr>\n",
              "    <tr>\n",
              "      <th>33703</th>\n",
              "      <td>0</td>\n",
              "    </tr>\n",
              "    <tr>\n",
              "      <th>33704</th>\n",
              "      <td>4</td>\n",
              "    </tr>\n",
              "    <tr>\n",
              "      <th>33705</th>\n",
              "      <td>0</td>\n",
              "    </tr>\n",
              "    <tr>\n",
              "      <th>33706</th>\n",
              "      <td>0</td>\n",
              "    </tr>\n",
              "  </tbody>\n",
              "</table>\n",
              "<p>33707 rows × 1 columns</p>\n",
              "</div>\n",
              "    <div class=\"colab-df-buttons\">\n",
              "\n",
              "  <div class=\"colab-df-container\">\n",
              "    <button class=\"colab-df-convert\" onclick=\"convertToInteractive('df-e2fdadad-a67c-4989-b141-28730b2002a2')\"\n",
              "            title=\"Convert this dataframe to an interactive table.\"\n",
              "            style=\"display:none;\">\n",
              "\n",
              "  <svg xmlns=\"http://www.w3.org/2000/svg\" height=\"24px\" viewBox=\"0 -960 960 960\">\n",
              "    <path d=\"M120-120v-720h720v720H120Zm60-500h600v-160H180v160Zm220 220h160v-160H400v160Zm0 220h160v-160H400v160ZM180-400h160v-160H180v160Zm440 0h160v-160H620v160ZM180-180h160v-160H180v160Zm440 0h160v-160H620v160Z\"/>\n",
              "  </svg>\n",
              "    </button>\n",
              "\n",
              "  <style>\n",
              "    .colab-df-container {\n",
              "      display:flex;\n",
              "      gap: 12px;\n",
              "    }\n",
              "\n",
              "    .colab-df-convert {\n",
              "      background-color: #E8F0FE;\n",
              "      border: none;\n",
              "      border-radius: 50%;\n",
              "      cursor: pointer;\n",
              "      display: none;\n",
              "      fill: #1967D2;\n",
              "      height: 32px;\n",
              "      padding: 0 0 0 0;\n",
              "      width: 32px;\n",
              "    }\n",
              "\n",
              "    .colab-df-convert:hover {\n",
              "      background-color: #E2EBFA;\n",
              "      box-shadow: 0px 1px 2px rgba(60, 64, 67, 0.3), 0px 1px 3px 1px rgba(60, 64, 67, 0.15);\n",
              "      fill: #174EA6;\n",
              "    }\n",
              "\n",
              "    .colab-df-buttons div {\n",
              "      margin-bottom: 4px;\n",
              "    }\n",
              "\n",
              "    [theme=dark] .colab-df-convert {\n",
              "      background-color: #3B4455;\n",
              "      fill: #D2E3FC;\n",
              "    }\n",
              "\n",
              "    [theme=dark] .colab-df-convert:hover {\n",
              "      background-color: #434B5C;\n",
              "      box-shadow: 0px 1px 3px 1px rgba(0, 0, 0, 0.15);\n",
              "      filter: drop-shadow(0px 1px 2px rgba(0, 0, 0, 0.3));\n",
              "      fill: #FFFFFF;\n",
              "    }\n",
              "  </style>\n",
              "\n",
              "    <script>\n",
              "      const buttonEl =\n",
              "        document.querySelector('#df-e2fdadad-a67c-4989-b141-28730b2002a2 button.colab-df-convert');\n",
              "      buttonEl.style.display =\n",
              "        google.colab.kernel.accessAllowed ? 'block' : 'none';\n",
              "\n",
              "      async function convertToInteractive(key) {\n",
              "        const element = document.querySelector('#df-e2fdadad-a67c-4989-b141-28730b2002a2');\n",
              "        const dataTable =\n",
              "          await google.colab.kernel.invokeFunction('convertToInteractive',\n",
              "                                                    [key], {});\n",
              "        if (!dataTable) return;\n",
              "\n",
              "        const docLinkHtml = 'Like what you see? Visit the ' +\n",
              "          '<a target=\"_blank\" href=https://colab.research.google.com/notebooks/data_table.ipynb>data table notebook</a>'\n",
              "          + ' to learn more about interactive tables.';\n",
              "        element.innerHTML = '';\n",
              "        dataTable['output_type'] = 'display_data';\n",
              "        await google.colab.output.renderOutput(dataTable, element);\n",
              "        const docLink = document.createElement('div');\n",
              "        docLink.innerHTML = docLinkHtml;\n",
              "        element.appendChild(docLink);\n",
              "      }\n",
              "    </script>\n",
              "  </div>\n",
              "\n",
              "\n",
              "<div id=\"df-827b2306-bb39-4378-bb08-834c0893d448\">\n",
              "  <button class=\"colab-df-quickchart\" onclick=\"quickchart('df-827b2306-bb39-4378-bb08-834c0893d448')\"\n",
              "            title=\"Suggest charts\"\n",
              "            style=\"display:none;\">\n",
              "\n",
              "<svg xmlns=\"http://www.w3.org/2000/svg\" height=\"24px\"viewBox=\"0 0 24 24\"\n",
              "     width=\"24px\">\n",
              "    <g>\n",
              "        <path d=\"M19 3H5c-1.1 0-2 .9-2 2v14c0 1.1.9 2 2 2h14c1.1 0 2-.9 2-2V5c0-1.1-.9-2-2-2zM9 17H7v-7h2v7zm4 0h-2V7h2v10zm4 0h-2v-4h2v4z\"/>\n",
              "    </g>\n",
              "</svg>\n",
              "  </button>\n",
              "\n",
              "<style>\n",
              "  .colab-df-quickchart {\n",
              "      --bg-color: #E8F0FE;\n",
              "      --fill-color: #1967D2;\n",
              "      --hover-bg-color: #E2EBFA;\n",
              "      --hover-fill-color: #174EA6;\n",
              "      --disabled-fill-color: #AAA;\n",
              "      --disabled-bg-color: #DDD;\n",
              "  }\n",
              "\n",
              "  [theme=dark] .colab-df-quickchart {\n",
              "      --bg-color: #3B4455;\n",
              "      --fill-color: #D2E3FC;\n",
              "      --hover-bg-color: #434B5C;\n",
              "      --hover-fill-color: #FFFFFF;\n",
              "      --disabled-bg-color: #3B4455;\n",
              "      --disabled-fill-color: #666;\n",
              "  }\n",
              "\n",
              "  .colab-df-quickchart {\n",
              "    background-color: var(--bg-color);\n",
              "    border: none;\n",
              "    border-radius: 50%;\n",
              "    cursor: pointer;\n",
              "    display: none;\n",
              "    fill: var(--fill-color);\n",
              "    height: 32px;\n",
              "    padding: 0;\n",
              "    width: 32px;\n",
              "  }\n",
              "\n",
              "  .colab-df-quickchart:hover {\n",
              "    background-color: var(--hover-bg-color);\n",
              "    box-shadow: 0 1px 2px rgba(60, 64, 67, 0.3), 0 1px 3px 1px rgba(60, 64, 67, 0.15);\n",
              "    fill: var(--button-hover-fill-color);\n",
              "  }\n",
              "\n",
              "  .colab-df-quickchart-complete:disabled,\n",
              "  .colab-df-quickchart-complete:disabled:hover {\n",
              "    background-color: var(--disabled-bg-color);\n",
              "    fill: var(--disabled-fill-color);\n",
              "    box-shadow: none;\n",
              "  }\n",
              "\n",
              "  .colab-df-spinner {\n",
              "    border: 2px solid var(--fill-color);\n",
              "    border-color: transparent;\n",
              "    border-bottom-color: var(--fill-color);\n",
              "    animation:\n",
              "      spin 1s steps(1) infinite;\n",
              "  }\n",
              "\n",
              "  @keyframes spin {\n",
              "    0% {\n",
              "      border-color: transparent;\n",
              "      border-bottom-color: var(--fill-color);\n",
              "      border-left-color: var(--fill-color);\n",
              "    }\n",
              "    20% {\n",
              "      border-color: transparent;\n",
              "      border-left-color: var(--fill-color);\n",
              "      border-top-color: var(--fill-color);\n",
              "    }\n",
              "    30% {\n",
              "      border-color: transparent;\n",
              "      border-left-color: var(--fill-color);\n",
              "      border-top-color: var(--fill-color);\n",
              "      border-right-color: var(--fill-color);\n",
              "    }\n",
              "    40% {\n",
              "      border-color: transparent;\n",
              "      border-right-color: var(--fill-color);\n",
              "      border-top-color: var(--fill-color);\n",
              "    }\n",
              "    60% {\n",
              "      border-color: transparent;\n",
              "      border-right-color: var(--fill-color);\n",
              "    }\n",
              "    80% {\n",
              "      border-color: transparent;\n",
              "      border-right-color: var(--fill-color);\n",
              "      border-bottom-color: var(--fill-color);\n",
              "    }\n",
              "    90% {\n",
              "      border-color: transparent;\n",
              "      border-bottom-color: var(--fill-color);\n",
              "    }\n",
              "  }\n",
              "</style>\n",
              "\n",
              "  <script>\n",
              "    async function quickchart(key) {\n",
              "      const quickchartButtonEl =\n",
              "        document.querySelector('#' + key + ' button');\n",
              "      quickchartButtonEl.disabled = true;  // To prevent multiple clicks.\n",
              "      quickchartButtonEl.classList.add('colab-df-spinner');\n",
              "      try {\n",
              "        const charts = await google.colab.kernel.invokeFunction(\n",
              "            'suggestCharts', [key], {});\n",
              "      } catch (error) {\n",
              "        console.error('Error during call to suggestCharts:', error);\n",
              "      }\n",
              "      quickchartButtonEl.classList.remove('colab-df-spinner');\n",
              "      quickchartButtonEl.classList.add('colab-df-quickchart-complete');\n",
              "    }\n",
              "    (() => {\n",
              "      let quickchartButtonEl =\n",
              "        document.querySelector('#df-827b2306-bb39-4378-bb08-834c0893d448 button');\n",
              "      quickchartButtonEl.style.display =\n",
              "        google.colab.kernel.accessAllowed ? 'block' : 'none';\n",
              "    })();\n",
              "  </script>\n",
              "</div>\n",
              "    </div>\n",
              "  </div>\n"
            ],
            "text/plain": [
              "      num_small_repairs\n",
              "0                     3\n",
              "1                     2\n",
              "2                     2\n",
              "3                     2\n",
              "4                     0\n",
              "...                 ...\n",
              "33702                 0\n",
              "33703                 0\n",
              "33704                 4\n",
              "33705                 0\n",
              "33706                 0\n",
              "\n",
              "[33707 rows x 1 columns]"
            ]
          },
          "execution_count": 43,
          "metadata": {},
          "output_type": "execute_result"
        }
      ],
      "source": [
        "trems_counts_test"
      ]
    },
    {
      "cell_type": "code",
      "execution_count": null,
      "id": "e90cd8ae",
      "metadata": {
        "id": "e90cd8ae"
      },
      "outputs": [],
      "source": []
    },
    {
      "cell_type": "markdown",
      "id": "db5d3d85",
      "metadata": {
        "id": "db5d3d85"
      },
      "source": [
        "#### Считаем статистики по грузам которые перевозил вагон до нужного месяца."
      ]
    },
    {
      "cell_type": "code",
      "execution_count": null,
      "id": "92bb8512",
      "metadata": {
        "id": "92bb8512"
      },
      "outputs": [],
      "source": [
        "tqdm.pandas()\n",
        "\n",
        "def get_counts(wag_groups, wagnum, month):\n",
        "    count_names = {\n",
        "        0: \"zerostype\",\n",
        "        1: \"onestype\",\n",
        "        2: \"twostype\"\n",
        "    }\n",
        "    wag_slice = wag_groups[wagnum]\n",
        "    wag_slice = wag_slice[wag_slice.plan_date <= month]\n",
        "    wag_slice_loads = wag_slice[wag_slice.isload == 1]\n",
        "    counts = wag_slice_loads.fr_class.value_counts([0, 1, 2], dropna=True)\n",
        "    if len(wag_slice):\n",
        "        counts *= len(wag_slice_loads) / len(wag_slice)\n",
        "\n",
        "    if len(wag_slice_loads):\n",
        "        skoroport = float(wag_slice_loads.skoroport.sum(skipna=True)) / len(wag_slice_loads)\n",
        "        naval = float(wag_slice_loads.naval.sum(skipna=True)) / len(wag_slice_loads)\n",
        "        naliv = float(wag_slice_loads.naliv.sum(skipna=True)) / len(wag_slice_loads)\n",
        "    else:\n",
        "        skoroport = 0\n",
        "        naval = 0\n",
        "        naliv = 0\n",
        "    data_list = list(counts.values) + [skoroport, naval, naliv]\n",
        "\n",
        "    col_names = [count_names[idx] for idx in counts.index] + [\"skoroport_frac\", \"naval_frac\", \"naliv_frac\"]\n",
        "    return pd.Series(data=data_list, index=col_names)\n",
        "\n",
        "class CountsCargo(BaseEstimator, TransformerMixin):\n",
        "  def __init__(self):\n",
        "    self.wag_groups = {}\n",
        "\n",
        "  #dislok, freq_info\n",
        "  def fit(self, dislok, freq_info):\n",
        "    dislok_cargo = dislok[[\"plan_date\", \"wagnum\", \"isload\", \"fr_id\"]]\n",
        "    freq_cargo = freq_info[[\"fr_id\", \"fr_class\", \"skoroport\", \"naval\", \"naliv\"]]\n",
        "    dislok_cargo = dislok_cargo.merge(freq_cargo, how=\"left\", on=\"fr_id\")\n",
        "    for i, wag_slice in tqdm(dislok_cargo.groupby(\"wagnum\")):\n",
        "        self.wag_groups[wag_slice[\"wagnum\"].iloc[0]] = wag_slice\n",
        "    return self\n",
        "\n",
        "  #target\n",
        "  def transform(self, test):\n",
        "    counts_df = test.progress_apply(lambda x: get_counts(self.wag_groups, x[\"wagnum\"], x[\"month\"]), axis=1)\n",
        "    counts_df = pd.concat([test, counts_df], axis=1)\n",
        "    counts_df[[\"naliv_frac\", \"naval_frac\", \"onestype\", \"skoroport_frac\", \"twostype\", \"zerostype\"]] = \\\n",
        "      counts_df[[\"naliv_frac\", \"naval_frac\", \"onestype\", \"skoroport_frac\", \"twostype\", \"zerostype\"]].fillna(0.0)\n",
        "    return counts_df"
      ]
    },
    {
      "cell_type": "code",
      "execution_count": null,
      "id": "b413fff2",
      "metadata": {
        "colab": {
          "base_uri": "https://localhost:8080/",
          "height": 81,
          "referenced_widgets": [
            "210ff764fd354598ba89cda44c16929d",
            "b14e59d202b44e478c882a022b68aa52",
            "50156702e0d4449aad86a4fc5307070c",
            "c63444c6544a480cb9b6e414d1a1a83e",
            "4125d6e1a80f42f980e75250303b2508",
            "82420aab112d416491218d4534c620c9",
            "ff1665caede946e8b11f3f6a1b904b1f",
            "7bde2d4ddb19464bb08f31710dd74de9",
            "3d3b97e00bdc4891bb84c8ecc766685a",
            "866b50a4788c4cc2b0bc11f2873ac88c",
            "7c28a2ae206e4c228e4e9f58bba46982",
            "efe5b7394033432e8ee9e75721246eae",
            "e7aee898422c44f586b2fe68b3be037d",
            "573b02a0978c4e96ae783b13d127f6f8",
            "ebfb4a3a9d89473d988dd056a6ec7b44",
            "ce75a61eb5ea4c69b777a0eebe7ae70a",
            "fb6740c74d004ded8d40bb2768a39584",
            "3f9e2f6932c5438db1cc185776d5ec2d",
            "51afc5aa9f9c4ccab485750d181a31ba",
            "acda5e845f714a21bb07207d7d95aa95",
            "85f39e9987e64c2c95e1edc2308380f5",
            "13209ba4a8924b99869fc231ad4f8d91"
          ]
        },
        "id": "b413fff2",
        "outputId": "4e3b3c40-6b35-494d-8a02-9d5befb22166"
      },
      "outputs": [
        {
          "data": {
            "application/vnd.jupyter.widget-view+json": {
              "model_id": "210ff764fd354598ba89cda44c16929d",
              "version_major": 2,
              "version_minor": 0
            },
            "text/plain": [
              "  0%|          | 0/33977 [00:00<?, ?it/s]"
            ]
          },
          "metadata": {},
          "output_type": "display_data"
        },
        {
          "data": {
            "application/vnd.jupyter.widget-view+json": {
              "model_id": "efe5b7394033432e8ee9e75721246eae",
              "version_major": 2,
              "version_minor": 0
            },
            "text/plain": [
              "  0%|          | 0/237561 [00:00<?, ?it/s]"
            ]
          },
          "metadata": {},
          "output_type": "display_data"
        }
      ],
      "source": [
        "dan_transformer = CountsCargo()\n",
        "freq_info = pd.read_parquet('./freight_info.parquet').convert_dtypes()\n",
        "dan_transformer.fit(dislok, freq_info)\n",
        "danf = dan_transformer.transform(targs)\n",
        "danf = danf[['naliv_frac', 'naval_frac', 'onestype', 'skoroport_frac', 'twostype', 'zerostype']]"
      ]
    },
    {
      "cell_type": "code",
      "execution_count": null,
      "id": "86b4abf6",
      "metadata": {
        "colab": {
          "base_uri": "https://localhost:8080/",
          "height": 49,
          "referenced_widgets": [
            "4e3179f7892b4309bd5cf9ce61549f46",
            "825d3ef6b04046ddbeb4c046cfbe6048",
            "60cccb5c539b45b386ed122da04f38e5",
            "9b44ba1fc54147f7bf9058589c652180",
            "49fa72ccb5d24aada59c1bc83843a96b",
            "9b70c485ba7d478784ff1e7868104508",
            "4c2641381221471ab828f548cbc85513",
            "4b4e9dcb690c49e0a11861ab8c1c2092",
            "4782ee83afd84a9ea5455550c325ad21",
            "70d31b36c781491db75a5f82197bf1e1",
            "5290f9bfd35a49729c718e5627260a8a"
          ]
        },
        "id": "86b4abf6",
        "outputId": "d622c56b-35c8-44d1-c29a-b4e0cd4460ec"
      },
      "outputs": [
        {
          "data": {
            "application/vnd.jupyter.widget-view+json": {
              "model_id": "4e3179f7892b4309bd5cf9ce61549f46",
              "version_major": 2,
              "version_minor": 0
            },
            "text/plain": [
              "  0%|          | 0/33707 [00:00<?, ?it/s]"
            ]
          },
          "metadata": {},
          "output_type": "display_data"
        }
      ],
      "source": [
        "danf_test = dan_transformer.transform(test)\n",
        "danf_test = danf_test[['naliv_frac', 'naval_frac', 'onestype', 'skoroport_frac', 'twostype', 'zerostype']]"
      ]
    },
    {
      "cell_type": "code",
      "execution_count": null,
      "id": "e9fcd691",
      "metadata": {
        "colab": {
          "base_uri": "https://localhost:8080/",
          "height": 424
        },
        "id": "e9fcd691",
        "outputId": "633f74fe-01df-46ec-865f-bf6c10ed1b89"
      },
      "outputs": [
        {
          "data": {
            "text/html": [
              "\n",
              "  <div id=\"df-e33f769c-49f5-4c01-b0ed-48a7e78e82c6\" class=\"colab-df-container\">\n",
              "    <div>\n",
              "<style scoped>\n",
              "    .dataframe tbody tr th:only-of-type {\n",
              "        vertical-align: middle;\n",
              "    }\n",
              "\n",
              "    .dataframe tbody tr th {\n",
              "        vertical-align: top;\n",
              "    }\n",
              "\n",
              "    .dataframe thead th {\n",
              "        text-align: right;\n",
              "    }\n",
              "</style>\n",
              "<table border=\"1\" class=\"dataframe\">\n",
              "  <thead>\n",
              "    <tr style=\"text-align: right;\">\n",
              "      <th></th>\n",
              "      <th>naliv_frac</th>\n",
              "      <th>naval_frac</th>\n",
              "      <th>onestype</th>\n",
              "      <th>skoroport_frac</th>\n",
              "      <th>twostype</th>\n",
              "      <th>zerostype</th>\n",
              "    </tr>\n",
              "  </thead>\n",
              "  <tbody>\n",
              "    <tr>\n",
              "      <th>0</th>\n",
              "      <td>0.0</td>\n",
              "      <td>0.841121</td>\n",
              "      <td>0.000000</td>\n",
              "      <td>0.0</td>\n",
              "      <td>0.122066</td>\n",
              "      <td>0.380282</td>\n",
              "    </tr>\n",
              "    <tr>\n",
              "      <th>1</th>\n",
              "      <td>0.0</td>\n",
              "      <td>0.898876</td>\n",
              "      <td>0.000000</td>\n",
              "      <td>0.0</td>\n",
              "      <td>0.089202</td>\n",
              "      <td>0.328638</td>\n",
              "    </tr>\n",
              "    <tr>\n",
              "      <th>2</th>\n",
              "      <td>0.0</td>\n",
              "      <td>0.560000</td>\n",
              "      <td>0.000000</td>\n",
              "      <td>0.0</td>\n",
              "      <td>0.220657</td>\n",
              "      <td>0.131455</td>\n",
              "    </tr>\n",
              "    <tr>\n",
              "      <th>3</th>\n",
              "      <td>0.0</td>\n",
              "      <td>0.440000</td>\n",
              "      <td>0.000000</td>\n",
              "      <td>0.0</td>\n",
              "      <td>0.206573</td>\n",
              "      <td>0.145540</td>\n",
              "    </tr>\n",
              "    <tr>\n",
              "      <th>4</th>\n",
              "      <td>0.0</td>\n",
              "      <td>0.635514</td>\n",
              "      <td>0.037559</td>\n",
              "      <td>0.0</td>\n",
              "      <td>0.286385</td>\n",
              "      <td>0.178404</td>\n",
              "    </tr>\n",
              "    <tr>\n",
              "      <th>...</th>\n",
              "      <td>...</td>\n",
              "      <td>...</td>\n",
              "      <td>...</td>\n",
              "      <td>...</td>\n",
              "      <td>...</td>\n",
              "      <td>...</td>\n",
              "    </tr>\n",
              "    <tr>\n",
              "      <th>33702</th>\n",
              "      <td>0.0</td>\n",
              "      <td>0.740000</td>\n",
              "      <td>0.000000</td>\n",
              "      <td>0.0</td>\n",
              "      <td>0.126761</td>\n",
              "      <td>0.342723</td>\n",
              "    </tr>\n",
              "    <tr>\n",
              "      <th>33703</th>\n",
              "      <td>0.0</td>\n",
              "      <td>0.709677</td>\n",
              "      <td>0.028475</td>\n",
              "      <td>0.0</td>\n",
              "      <td>0.208818</td>\n",
              "      <td>0.199326</td>\n",
              "    </tr>\n",
              "    <tr>\n",
              "      <th>33704</th>\n",
              "      <td>0.0</td>\n",
              "      <td>1.000000</td>\n",
              "      <td>0.000000</td>\n",
              "      <td>0.0</td>\n",
              "      <td>0.000000</td>\n",
              "      <td>0.347418</td>\n",
              "    </tr>\n",
              "    <tr>\n",
              "      <th>33705</th>\n",
              "      <td>0.0</td>\n",
              "      <td>1.000000</td>\n",
              "      <td>0.000000</td>\n",
              "      <td>0.0</td>\n",
              "      <td>0.107981</td>\n",
              "      <td>0.389671</td>\n",
              "    </tr>\n",
              "    <tr>\n",
              "      <th>33706</th>\n",
              "      <td>0.0</td>\n",
              "      <td>0.837209</td>\n",
              "      <td>0.197802</td>\n",
              "      <td>0.0</td>\n",
              "      <td>0.000000</td>\n",
              "      <td>0.038462</td>\n",
              "    </tr>\n",
              "  </tbody>\n",
              "</table>\n",
              "<p>33707 rows × 6 columns</p>\n",
              "</div>\n",
              "    <div class=\"colab-df-buttons\">\n",
              "\n",
              "  <div class=\"colab-df-container\">\n",
              "    <button class=\"colab-df-convert\" onclick=\"convertToInteractive('df-e33f769c-49f5-4c01-b0ed-48a7e78e82c6')\"\n",
              "            title=\"Convert this dataframe to an interactive table.\"\n",
              "            style=\"display:none;\">\n",
              "\n",
              "  <svg xmlns=\"http://www.w3.org/2000/svg\" height=\"24px\" viewBox=\"0 -960 960 960\">\n",
              "    <path d=\"M120-120v-720h720v720H120Zm60-500h600v-160H180v160Zm220 220h160v-160H400v160Zm0 220h160v-160H400v160ZM180-400h160v-160H180v160Zm440 0h160v-160H620v160ZM180-180h160v-160H180v160Zm440 0h160v-160H620v160Z\"/>\n",
              "  </svg>\n",
              "    </button>\n",
              "\n",
              "  <style>\n",
              "    .colab-df-container {\n",
              "      display:flex;\n",
              "      gap: 12px;\n",
              "    }\n",
              "\n",
              "    .colab-df-convert {\n",
              "      background-color: #E8F0FE;\n",
              "      border: none;\n",
              "      border-radius: 50%;\n",
              "      cursor: pointer;\n",
              "      display: none;\n",
              "      fill: #1967D2;\n",
              "      height: 32px;\n",
              "      padding: 0 0 0 0;\n",
              "      width: 32px;\n",
              "    }\n",
              "\n",
              "    .colab-df-convert:hover {\n",
              "      background-color: #E2EBFA;\n",
              "      box-shadow: 0px 1px 2px rgba(60, 64, 67, 0.3), 0px 1px 3px 1px rgba(60, 64, 67, 0.15);\n",
              "      fill: #174EA6;\n",
              "    }\n",
              "\n",
              "    .colab-df-buttons div {\n",
              "      margin-bottom: 4px;\n",
              "    }\n",
              "\n",
              "    [theme=dark] .colab-df-convert {\n",
              "      background-color: #3B4455;\n",
              "      fill: #D2E3FC;\n",
              "    }\n",
              "\n",
              "    [theme=dark] .colab-df-convert:hover {\n",
              "      background-color: #434B5C;\n",
              "      box-shadow: 0px 1px 3px 1px rgba(0, 0, 0, 0.15);\n",
              "      filter: drop-shadow(0px 1px 2px rgba(0, 0, 0, 0.3));\n",
              "      fill: #FFFFFF;\n",
              "    }\n",
              "  </style>\n",
              "\n",
              "    <script>\n",
              "      const buttonEl =\n",
              "        document.querySelector('#df-e33f769c-49f5-4c01-b0ed-48a7e78e82c6 button.colab-df-convert');\n",
              "      buttonEl.style.display =\n",
              "        google.colab.kernel.accessAllowed ? 'block' : 'none';\n",
              "\n",
              "      async function convertToInteractive(key) {\n",
              "        const element = document.querySelector('#df-e33f769c-49f5-4c01-b0ed-48a7e78e82c6');\n",
              "        const dataTable =\n",
              "          await google.colab.kernel.invokeFunction('convertToInteractive',\n",
              "                                                    [key], {});\n",
              "        if (!dataTable) return;\n",
              "\n",
              "        const docLinkHtml = 'Like what you see? Visit the ' +\n",
              "          '<a target=\"_blank\" href=https://colab.research.google.com/notebooks/data_table.ipynb>data table notebook</a>'\n",
              "          + ' to learn more about interactive tables.';\n",
              "        element.innerHTML = '';\n",
              "        dataTable['output_type'] = 'display_data';\n",
              "        await google.colab.output.renderOutput(dataTable, element);\n",
              "        const docLink = document.createElement('div');\n",
              "        docLink.innerHTML = docLinkHtml;\n",
              "        element.appendChild(docLink);\n",
              "      }\n",
              "    </script>\n",
              "  </div>\n",
              "\n",
              "\n",
              "<div id=\"df-5a73308d-e5ce-43c7-adf4-d4007831ab70\">\n",
              "  <button class=\"colab-df-quickchart\" onclick=\"quickchart('df-5a73308d-e5ce-43c7-adf4-d4007831ab70')\"\n",
              "            title=\"Suggest charts\"\n",
              "            style=\"display:none;\">\n",
              "\n",
              "<svg xmlns=\"http://www.w3.org/2000/svg\" height=\"24px\"viewBox=\"0 0 24 24\"\n",
              "     width=\"24px\">\n",
              "    <g>\n",
              "        <path d=\"M19 3H5c-1.1 0-2 .9-2 2v14c0 1.1.9 2 2 2h14c1.1 0 2-.9 2-2V5c0-1.1-.9-2-2-2zM9 17H7v-7h2v7zm4 0h-2V7h2v10zm4 0h-2v-4h2v4z\"/>\n",
              "    </g>\n",
              "</svg>\n",
              "  </button>\n",
              "\n",
              "<style>\n",
              "  .colab-df-quickchart {\n",
              "      --bg-color: #E8F0FE;\n",
              "      --fill-color: #1967D2;\n",
              "      --hover-bg-color: #E2EBFA;\n",
              "      --hover-fill-color: #174EA6;\n",
              "      --disabled-fill-color: #AAA;\n",
              "      --disabled-bg-color: #DDD;\n",
              "  }\n",
              "\n",
              "  [theme=dark] .colab-df-quickchart {\n",
              "      --bg-color: #3B4455;\n",
              "      --fill-color: #D2E3FC;\n",
              "      --hover-bg-color: #434B5C;\n",
              "      --hover-fill-color: #FFFFFF;\n",
              "      --disabled-bg-color: #3B4455;\n",
              "      --disabled-fill-color: #666;\n",
              "  }\n",
              "\n",
              "  .colab-df-quickchart {\n",
              "    background-color: var(--bg-color);\n",
              "    border: none;\n",
              "    border-radius: 50%;\n",
              "    cursor: pointer;\n",
              "    display: none;\n",
              "    fill: var(--fill-color);\n",
              "    height: 32px;\n",
              "    padding: 0;\n",
              "    width: 32px;\n",
              "  }\n",
              "\n",
              "  .colab-df-quickchart:hover {\n",
              "    background-color: var(--hover-bg-color);\n",
              "    box-shadow: 0 1px 2px rgba(60, 64, 67, 0.3), 0 1px 3px 1px rgba(60, 64, 67, 0.15);\n",
              "    fill: var(--button-hover-fill-color);\n",
              "  }\n",
              "\n",
              "  .colab-df-quickchart-complete:disabled,\n",
              "  .colab-df-quickchart-complete:disabled:hover {\n",
              "    background-color: var(--disabled-bg-color);\n",
              "    fill: var(--disabled-fill-color);\n",
              "    box-shadow: none;\n",
              "  }\n",
              "\n",
              "  .colab-df-spinner {\n",
              "    border: 2px solid var(--fill-color);\n",
              "    border-color: transparent;\n",
              "    border-bottom-color: var(--fill-color);\n",
              "    animation:\n",
              "      spin 1s steps(1) infinite;\n",
              "  }\n",
              "\n",
              "  @keyframes spin {\n",
              "    0% {\n",
              "      border-color: transparent;\n",
              "      border-bottom-color: var(--fill-color);\n",
              "      border-left-color: var(--fill-color);\n",
              "    }\n",
              "    20% {\n",
              "      border-color: transparent;\n",
              "      border-left-color: var(--fill-color);\n",
              "      border-top-color: var(--fill-color);\n",
              "    }\n",
              "    30% {\n",
              "      border-color: transparent;\n",
              "      border-left-color: var(--fill-color);\n",
              "      border-top-color: var(--fill-color);\n",
              "      border-right-color: var(--fill-color);\n",
              "    }\n",
              "    40% {\n",
              "      border-color: transparent;\n",
              "      border-right-color: var(--fill-color);\n",
              "      border-top-color: var(--fill-color);\n",
              "    }\n",
              "    60% {\n",
              "      border-color: transparent;\n",
              "      border-right-color: var(--fill-color);\n",
              "    }\n",
              "    80% {\n",
              "      border-color: transparent;\n",
              "      border-right-color: var(--fill-color);\n",
              "      border-bottom-color: var(--fill-color);\n",
              "    }\n",
              "    90% {\n",
              "      border-color: transparent;\n",
              "      border-bottom-color: var(--fill-color);\n",
              "    }\n",
              "  }\n",
              "</style>\n",
              "\n",
              "  <script>\n",
              "    async function quickchart(key) {\n",
              "      const quickchartButtonEl =\n",
              "        document.querySelector('#' + key + ' button');\n",
              "      quickchartButtonEl.disabled = true;  // To prevent multiple clicks.\n",
              "      quickchartButtonEl.classList.add('colab-df-spinner');\n",
              "      try {\n",
              "        const charts = await google.colab.kernel.invokeFunction(\n",
              "            'suggestCharts', [key], {});\n",
              "      } catch (error) {\n",
              "        console.error('Error during call to suggestCharts:', error);\n",
              "      }\n",
              "      quickchartButtonEl.classList.remove('colab-df-spinner');\n",
              "      quickchartButtonEl.classList.add('colab-df-quickchart-complete');\n",
              "    }\n",
              "    (() => {\n",
              "      let quickchartButtonEl =\n",
              "        document.querySelector('#df-5a73308d-e5ce-43c7-adf4-d4007831ab70 button');\n",
              "      quickchartButtonEl.style.display =\n",
              "        google.colab.kernel.accessAllowed ? 'block' : 'none';\n",
              "    })();\n",
              "  </script>\n",
              "</div>\n",
              "    </div>\n",
              "  </div>\n"
            ],
            "text/plain": [
              "       naliv_frac  naval_frac  onestype  skoroport_frac  twostype  zerostype\n",
              "0             0.0    0.841121  0.000000             0.0  0.122066   0.380282\n",
              "1             0.0    0.898876  0.000000             0.0  0.089202   0.328638\n",
              "2             0.0    0.560000  0.000000             0.0  0.220657   0.131455\n",
              "3             0.0    0.440000  0.000000             0.0  0.206573   0.145540\n",
              "4             0.0    0.635514  0.037559             0.0  0.286385   0.178404\n",
              "...           ...         ...       ...             ...       ...        ...\n",
              "33702         0.0    0.740000  0.000000             0.0  0.126761   0.342723\n",
              "33703         0.0    0.709677  0.028475             0.0  0.208818   0.199326\n",
              "33704         0.0    1.000000  0.000000             0.0  0.000000   0.347418\n",
              "33705         0.0    1.000000  0.000000             0.0  0.107981   0.389671\n",
              "33706         0.0    0.837209  0.197802             0.0  0.000000   0.038462\n",
              "\n",
              "[33707 rows x 6 columns]"
            ]
          },
          "execution_count": 47,
          "metadata": {},
          "output_type": "execute_result"
        }
      ],
      "source": [
        "danf_test"
      ]
    },
    {
      "cell_type": "code",
      "execution_count": null,
      "id": "1704cf83",
      "metadata": {
        "id": "1704cf83"
      },
      "outputs": [],
      "source": []
    },
    {
      "cell_type": "markdown",
      "id": "de121aea",
      "metadata": {
        "id": "de121aea"
      },
      "source": [
        "#### Добавляем фичи из таблици wag_params"
      ]
    },
    {
      "cell_type": "code",
      "execution_count": null,
      "id": "31c8d36b",
      "metadata": {
        "id": "31c8d36b"
      },
      "outputs": [],
      "source": [
        "wag_params = pd.read_parquet('wag_params.parquet').convert_dtypes()\n",
        "\n",
        "cols_to_drop = ['srok_sl', 'date_build', 'date_iskl']\n",
        "\n",
        "wag_params = wag_params.drop(columns=cols_to_drop)\n",
        "\n",
        "cat_feat = wag_params.columns[1:].values\n",
        "\n",
        "params = targs.merge(wag_params, on = \"wagnum\", how = \"left\")[cat_feat].copy()\n",
        "\n",
        "for p in cat_feat:\n",
        "    params[p] = params[p].astype('category')"
      ]
    },
    {
      "cell_type": "code",
      "execution_count": null,
      "id": "13415872",
      "metadata": {
        "id": "13415872"
      },
      "outputs": [],
      "source": [
        "params_test = test.merge(wag_params, on = \"wagnum\", how = \"left\")[cat_feat].copy()\n",
        "\n",
        "for p in cat_feat:\n",
        "    params_test[p] = params_test[p].astype('category')"
      ]
    },
    {
      "cell_type": "code",
      "execution_count": null,
      "id": "0baf329c",
      "metadata": {
        "id": "0baf329c"
      },
      "outputs": [],
      "source": []
    },
    {
      "cell_type": "code",
      "execution_count": null,
      "id": "ff895d94",
      "metadata": {
        "id": "ff895d94"
      },
      "outputs": [],
      "source": [
        "# mf_train = pd.concat([mff, ef, eff, nerep, params, own_feat, trems_counts, danf, lastreptab], axis = 1)\n",
        "# mf_test = pd.concat([mff_test, ef_test, eff_test, nerep_test, params_test, own_feat_test, trems_counts_test, danf_test, lastreptab_test], axis = 1)"
      ]
    },
    {
      "cell_type": "code",
      "execution_count": null,
      "id": "cbf958d3",
      "metadata": {
        "id": "cbf958d3"
      },
      "outputs": [],
      "source": [
        "# test = pd.read_csv('target/y_predict.csv')\n",
        "# mf_train = pd.concat([targs[[\"wagnum\", \"month\"]], mf_train], axis = 1)\n",
        "# mf_test = pd.concat([test[[\"wagnum\", \"month\"]], mf_test], axis = 1)"
      ]
    },
    {
      "cell_type": "code",
      "execution_count": null,
      "id": "BoP_mz9hhyMQ",
      "metadata": {
        "id": "BoP_mz9hhyMQ"
      },
      "outputs": [],
      "source": [
        "# mf_train"
      ]
    },
    {
      "cell_type": "markdown",
      "id": "fc99adff",
      "metadata": {
        "id": "fc99adff"
      },
      "source": [
        "#### Далее мы строим финальное решение\n",
        "\n",
        "#### В качестве алгоритма машинного обучения мы использовали бустинги из библиотеки LGBMClassifier, в финальном решение мы используем ансамбль из 7 бустингом с разными random_state, усредняя ответы для них\n",
        "\n",
        "#### Подбор гиперпараметров происходит в следующей секции"
      ]
    },
    {
      "cell_type": "code",
      "execution_count": null,
      "id": "Z9bdbTiwhyMR",
      "metadata": {
        "id": "Z9bdbTiwhyMR",
        "outputId": "0a7660e6-ca6c-4859-8b98-071fc01ef929"
      },
      "outputs": [
        {
          "name": "stdout",
          "output_type": "stream",
          "text": [
            "Collecting lightgbm\n",
            "  Obtaining dependency information for lightgbm from https://files.pythonhosted.org/packages/b8/9d/1ce80cee7c5ef60f2fcc7e9fa97f29f7a8de3dc5a08922b3b2f1e9106481/lightgbm-4.1.0-py3-none-manylinux_2_28_x86_64.whl.metadata\n",
            "  Downloading lightgbm-4.1.0-py3-none-manylinux_2_28_x86_64.whl.metadata (19 kB)\n",
            "Requirement already satisfied: numpy in /home/makriot/miniconda3/lib/python3.11/site-packages (from lightgbm) (1.26.1)\n",
            "Requirement already satisfied: scipy in /home/makriot/miniconda3/lib/python3.11/site-packages (from lightgbm) (1.11.3)\n",
            "Downloading lightgbm-4.1.0-py3-none-manylinux_2_28_x86_64.whl (3.1 MB)\n",
            "\u001b[2K   \u001b[90m━━━━━━━━━━━━━━━━━━━━━━━━━━━━━━━━━━━━━━━━\u001b[0m \u001b[32m3.1/3.1 MB\u001b[0m \u001b[31m5.5 MB/s\u001b[0m eta \u001b[36m0:00:00\u001b[0m00:01\u001b[0m00:01\u001b[0m\n",
            "\u001b[?25hInstalling collected packages: lightgbm\n",
            "Successfully installed lightgbm-4.1.0\n"
          ]
        }
      ],
      "source": [
        "!pip install lightgbm"
      ]
    },
    {
      "cell_type": "code",
      "execution_count": null,
      "id": "kkkHggABhyMR",
      "metadata": {
        "id": "kkkHggABhyMR"
      },
      "outputs": [],
      "source": [
        "from lightgbm import LGBMClassifier"
      ]
    },
    {
      "cell_type": "code",
      "execution_count": null,
      "id": "957c7834",
      "metadata": {
        "id": "957c7834",
        "outputId": "d3a4bc07-15ca-4925-bb37-26970888902f"
      },
      "outputs": [
        {
          "name": "stdout",
          "output_type": "stream",
          "text": [
            "[LightGBM] [Warning] Categorical features with more bins than the configured maximum bin number found.\n",
            "[LightGBM] [Warning] For categorical features, max_bin and max_bin_by_feature may be ignored with a large number of categories.\n",
            "[LightGBM] [Info] Number of positive: 3892, number of negative: 233669\n",
            "[LightGBM] [Info] Total Bins 7293\n",
            "[LightGBM] [Info] Number of data points in the train set: 237561, number of used features: 42\n",
            "[LightGBM] [Info] [binary:BoostFromScore]: pavg=0.016383 -> initscore=-4.094982\n",
            "[LightGBM] [Info] Start training from score -4.094982\n"
          ]
        },
        {
          "ename": "KeyboardInterrupt",
          "evalue": "",
          "output_type": "error",
          "traceback": [
            "\u001b[0;31m---------------------------------------------------------------------------\u001b[0m",
            "\u001b[0;31mKeyboardInterrupt\u001b[0m                         Traceback (most recent call last)",
            "\u001b[1;32m/home/makriot/Programming/DataWagon/train/baseline (8).ipynb Cell 71\u001b[0m line \u001b[0;36m1\n\u001b[1;32m      <a href='vscode-notebook-cell:/home/makriot/Programming/DataWagon/train/baseline%20%288%29.ipynb#Y125sZmlsZQ%3D%3D?line=1'>2</a>\u001b[0m \u001b[39mfor\u001b[39;00m i \u001b[39min\u001b[39;00m \u001b[39mrange\u001b[39m(\u001b[39m7\u001b[39m):\n\u001b[1;32m      <a href='vscode-notebook-cell:/home/makriot/Programming/DataWagon/train/baseline%20%288%29.ipynb#Y125sZmlsZQ%3D%3D?line=2'>3</a>\u001b[0m     model_day \u001b[39m=\u001b[39m LGBMClassifier(is_unbalance\u001b[39m=\u001b[39m\u001b[39mTrue\u001b[39;00m, num_threads \u001b[39m=\u001b[39m \u001b[39m8\u001b[39m, force_row_wise\u001b[39m=\u001b[39m\u001b[39mTrue\u001b[39;00m, \u001b[39m*\u001b[39m\u001b[39m*\u001b[39m{\u001b[39m'\u001b[39m\u001b[39mn_estimators\u001b[39m\u001b[39m'\u001b[39m: \u001b[39m10000\u001b[39m, \n\u001b[1;32m      <a href='vscode-notebook-cell:/home/makriot/Programming/DataWagon/train/baseline%20%288%29.ipynb#Y125sZmlsZQ%3D%3D?line=3'>4</a>\u001b[0m      \u001b[39m'\u001b[39m\u001b[39mlearning_rate\u001b[39m\u001b[39m'\u001b[39m: \u001b[39m0.013404981239009836\u001b[39m \u001b[39m/\u001b[39m \u001b[39m2\u001b[39m, \n\u001b[1;32m      <a href='vscode-notebook-cell:/home/makriot/Programming/DataWagon/train/baseline%20%288%29.ipynb#Y125sZmlsZQ%3D%3D?line=4'>5</a>\u001b[0m      \u001b[39m'\u001b[39m\u001b[39mmin_split_gain\u001b[39m\u001b[39m'\u001b[39m: \u001b[39m0.03842333239584914\u001b[39m, \n\u001b[0;32m   (...)\u001b[0m\n\u001b[1;32m      <a href='vscode-notebook-cell:/home/makriot/Programming/DataWagon/train/baseline%20%288%29.ipynb#Y125sZmlsZQ%3D%3D?line=7'>8</a>\u001b[0m      \u001b[39m'\u001b[39m\u001b[39mcat_l2\u001b[39m\u001b[39m'\u001b[39m: \u001b[39m68.60685058667403\u001b[39m,\n\u001b[1;32m      <a href='vscode-notebook-cell:/home/makriot/Programming/DataWagon/train/baseline%20%288%29.ipynb#Y125sZmlsZQ%3D%3D?line=8'>9</a>\u001b[0m      \u001b[39m'\u001b[39m\u001b[39mrandom_state\u001b[39m\u001b[39m'\u001b[39m: i})\n\u001b[0;32m---> <a href='vscode-notebook-cell:/home/makriot/Programming/DataWagon/train/baseline%20%288%29.ipynb#Y125sZmlsZQ%3D%3D?line=10'>11</a>\u001b[0m     model_day\u001b[39m.\u001b[39;49mfit(mf_train, targs\u001b[39m.\u001b[39;49mtarget_day)\n\u001b[1;32m     <a href='vscode-notebook-cell:/home/makriot/Programming/DataWagon/train/baseline%20%288%29.ipynb#Y125sZmlsZQ%3D%3D?line=11'>12</a>\u001b[0m     y_pred_day\u001b[39m.\u001b[39mappend(model_day\u001b[39m.\u001b[39mpredict(mf_test))\n\u001b[1;32m     <a href='vscode-notebook-cell:/home/makriot/Programming/DataWagon/train/baseline%20%288%29.ipynb#Y125sZmlsZQ%3D%3D?line=13'>14</a>\u001b[0m y_pred_day \u001b[39m=\u001b[39m np\u001b[39m.\u001b[39mconcatenate([i\u001b[39m.\u001b[39mreshape(\u001b[39m-\u001b[39m\u001b[39m1\u001b[39m,\u001b[39m1\u001b[39m) \u001b[39mfor\u001b[39;00m i \u001b[39min\u001b[39;00m y_pred_day], axis\u001b[39m=\u001b[39m\u001b[39m1\u001b[39m)\n",
            "File \u001b[0;32m~/miniconda3/lib/python3.11/site-packages/lightgbm/sklearn.py:1142\u001b[0m, in \u001b[0;36mLGBMClassifier.fit\u001b[0;34m(self, X, y, sample_weight, init_score, eval_set, eval_names, eval_sample_weight, eval_class_weight, eval_init_score, eval_metric, feature_name, categorical_feature, callbacks, init_model)\u001b[0m\n\u001b[1;32m   1139\u001b[0m         \u001b[39melse\u001b[39;00m:\n\u001b[1;32m   1140\u001b[0m             valid_sets\u001b[39m.\u001b[39mappend((valid_x, \u001b[39mself\u001b[39m\u001b[39m.\u001b[39m_le\u001b[39m.\u001b[39mtransform(valid_y)))\n\u001b[0;32m-> 1142\u001b[0m \u001b[39msuper\u001b[39;49m()\u001b[39m.\u001b[39;49mfit(\n\u001b[1;32m   1143\u001b[0m     X,\n\u001b[1;32m   1144\u001b[0m     _y,\n\u001b[1;32m   1145\u001b[0m     sample_weight\u001b[39m=\u001b[39;49msample_weight,\n\u001b[1;32m   1146\u001b[0m     init_score\u001b[39m=\u001b[39;49minit_score,\n\u001b[1;32m   1147\u001b[0m     eval_set\u001b[39m=\u001b[39;49mvalid_sets,\n\u001b[1;32m   1148\u001b[0m     eval_names\u001b[39m=\u001b[39;49meval_names,\n\u001b[1;32m   1149\u001b[0m     eval_sample_weight\u001b[39m=\u001b[39;49meval_sample_weight,\n\u001b[1;32m   1150\u001b[0m     eval_class_weight\u001b[39m=\u001b[39;49meval_class_weight,\n\u001b[1;32m   1151\u001b[0m     eval_init_score\u001b[39m=\u001b[39;49meval_init_score,\n\u001b[1;32m   1152\u001b[0m     eval_metric\u001b[39m=\u001b[39;49meval_metric,\n\u001b[1;32m   1153\u001b[0m     feature_name\u001b[39m=\u001b[39;49mfeature_name,\n\u001b[1;32m   1154\u001b[0m     categorical_feature\u001b[39m=\u001b[39;49mcategorical_feature,\n\u001b[1;32m   1155\u001b[0m     callbacks\u001b[39m=\u001b[39;49mcallbacks,\n\u001b[1;32m   1156\u001b[0m     init_model\u001b[39m=\u001b[39;49minit_model\n\u001b[1;32m   1157\u001b[0m )\n\u001b[1;32m   1158\u001b[0m \u001b[39mreturn\u001b[39;00m \u001b[39mself\u001b[39m\n",
            "File \u001b[0;32m~/miniconda3/lib/python3.11/site-packages/lightgbm/sklearn.py:842\u001b[0m, in \u001b[0;36mLGBMModel.fit\u001b[0;34m(self, X, y, sample_weight, init_score, group, eval_set, eval_names, eval_sample_weight, eval_class_weight, eval_init_score, eval_group, eval_metric, feature_name, categorical_feature, callbacks, init_model)\u001b[0m\n\u001b[1;32m    839\u001b[0m evals_result: _EvalResultDict \u001b[39m=\u001b[39m {}\n\u001b[1;32m    840\u001b[0m callbacks\u001b[39m.\u001b[39mappend(record_evaluation(evals_result))\n\u001b[0;32m--> 842\u001b[0m \u001b[39mself\u001b[39m\u001b[39m.\u001b[39m_Booster \u001b[39m=\u001b[39m train(\n\u001b[1;32m    843\u001b[0m     params\u001b[39m=\u001b[39;49mparams,\n\u001b[1;32m    844\u001b[0m     train_set\u001b[39m=\u001b[39;49mtrain_set,\n\u001b[1;32m    845\u001b[0m     num_boost_round\u001b[39m=\u001b[39;49m\u001b[39mself\u001b[39;49m\u001b[39m.\u001b[39;49mn_estimators,\n\u001b[1;32m    846\u001b[0m     valid_sets\u001b[39m=\u001b[39;49mvalid_sets,\n\u001b[1;32m    847\u001b[0m     valid_names\u001b[39m=\u001b[39;49meval_names,\n\u001b[1;32m    848\u001b[0m     feval\u001b[39m=\u001b[39;49meval_metrics_callable,  \u001b[39m# type: ignore[arg-type]\u001b[39;49;00m\n\u001b[1;32m    849\u001b[0m     init_model\u001b[39m=\u001b[39;49minit_model,\n\u001b[1;32m    850\u001b[0m     feature_name\u001b[39m=\u001b[39;49mfeature_name,\n\u001b[1;32m    851\u001b[0m     callbacks\u001b[39m=\u001b[39;49mcallbacks\n\u001b[1;32m    852\u001b[0m )\n\u001b[1;32m    854\u001b[0m \u001b[39mself\u001b[39m\u001b[39m.\u001b[39m_evals_result \u001b[39m=\u001b[39m evals_result\n\u001b[1;32m    855\u001b[0m \u001b[39mself\u001b[39m\u001b[39m.\u001b[39m_best_iteration \u001b[39m=\u001b[39m \u001b[39mself\u001b[39m\u001b[39m.\u001b[39m_Booster\u001b[39m.\u001b[39mbest_iteration\n",
            "File \u001b[0;32m~/miniconda3/lib/python3.11/site-packages/lightgbm/engine.py:276\u001b[0m, in \u001b[0;36mtrain\u001b[0;34m(params, train_set, num_boost_round, valid_sets, valid_names, feval, init_model, feature_name, categorical_feature, keep_training_booster, callbacks)\u001b[0m\n\u001b[1;32m    268\u001b[0m \u001b[39mfor\u001b[39;00m cb \u001b[39min\u001b[39;00m callbacks_before_iter:\n\u001b[1;32m    269\u001b[0m     cb(callback\u001b[39m.\u001b[39mCallbackEnv(model\u001b[39m=\u001b[39mbooster,\n\u001b[1;32m    270\u001b[0m                             params\u001b[39m=\u001b[39mparams,\n\u001b[1;32m    271\u001b[0m                             iteration\u001b[39m=\u001b[39mi,\n\u001b[1;32m    272\u001b[0m                             begin_iteration\u001b[39m=\u001b[39minit_iteration,\n\u001b[1;32m    273\u001b[0m                             end_iteration\u001b[39m=\u001b[39minit_iteration \u001b[39m+\u001b[39m num_boost_round,\n\u001b[1;32m    274\u001b[0m                             evaluation_result_list\u001b[39m=\u001b[39m\u001b[39mNone\u001b[39;00m))\n\u001b[0;32m--> 276\u001b[0m booster\u001b[39m.\u001b[39;49mupdate(fobj\u001b[39m=\u001b[39;49mfobj)\n\u001b[1;32m    278\u001b[0m evaluation_result_list: List[_LGBM_BoosterEvalMethodResultType] \u001b[39m=\u001b[39m []\n\u001b[1;32m    279\u001b[0m \u001b[39m# check evaluation result.\u001b[39;00m\n",
            "File \u001b[0;32m~/miniconda3/lib/python3.11/site-packages/lightgbm/basic.py:3658\u001b[0m, in \u001b[0;36mBooster.update\u001b[0;34m(self, train_set, fobj)\u001b[0m\n\u001b[1;32m   3656\u001b[0m \u001b[39mif\u001b[39;00m \u001b[39mself\u001b[39m\u001b[39m.\u001b[39m__set_objective_to_none:\n\u001b[1;32m   3657\u001b[0m     \u001b[39mraise\u001b[39;00m LightGBMError(\u001b[39m'\u001b[39m\u001b[39mCannot update due to null objective function.\u001b[39m\u001b[39m'\u001b[39m)\n\u001b[0;32m-> 3658\u001b[0m _safe_call(_LIB\u001b[39m.\u001b[39;49mLGBM_BoosterUpdateOneIter(\n\u001b[1;32m   3659\u001b[0m     \u001b[39mself\u001b[39;49m\u001b[39m.\u001b[39;49m_handle,\n\u001b[1;32m   3660\u001b[0m     ctypes\u001b[39m.\u001b[39;49mbyref(is_finished)))\n\u001b[1;32m   3661\u001b[0m \u001b[39mself\u001b[39m\u001b[39m.\u001b[39m__is_predicted_cur_iter \u001b[39m=\u001b[39m [\u001b[39mFalse\u001b[39;00m \u001b[39mfor\u001b[39;00m _ \u001b[39min\u001b[39;00m \u001b[39mrange\u001b[39m(\u001b[39mself\u001b[39m\u001b[39m.\u001b[39m__num_dataset)]\n\u001b[1;32m   3662\u001b[0m \u001b[39mreturn\u001b[39;00m is_finished\u001b[39m.\u001b[39mvalue \u001b[39m==\u001b[39m \u001b[39m1\u001b[39m\n",
            "\u001b[0;31mKeyboardInterrupt\u001b[0m: "
          ]
        }
      ],
      "source": [
        "y_pred_day = []\n",
        "for i in range(7):\n",
        "    model_day = LGBMClassifier(is_unbalance=True, num_threads = 8, force_row_wise=True, **{'n_estimators': 10000,\n",
        "     'learning_rate': 0.013404981239009836 / 2,\n",
        "     'min_split_gain': 0.03842333239584914,\n",
        "     'max_depth': -1,\n",
        "     'max_cat_threshold': 32,\n",
        "     'cat_l2': 68.60685058667403,\n",
        "     'random_state': i})\n",
        "\n",
        "    model_day.fit(mf_train, targs.target_day)\n",
        "    y_pred_day.append(model_day.predict(mf_test))\n",
        "\n",
        "y_pred_day = np.concatenate([i.reshape(-1,1) for i in y_pred_day], axis=1)"
      ]
    },
    {
      "cell_type": "code",
      "execution_count": null,
      "id": "a0b48b29",
      "metadata": {
        "id": "a0b48b29"
      },
      "outputs": [],
      "source": [
        "new_ans = y_pred_day.sum(axis=1).copy()\n",
        "new_ans[y_pred_day.sum(axis=1).copy() > 3] = 1\n",
        "new_ans[y_pred_day.sum(axis=1).copy() <= 3] = 0\n",
        "y_pred_day = new_ans"
      ]
    },
    {
      "cell_type": "code",
      "execution_count": null,
      "id": "8a3fca49",
      "metadata": {
        "id": "8a3fca49",
        "outputId": "5cf1bb48-55aa-4e93-e0e2-53f3c15242ef"
      },
      "outputs": [
        {
          "name": "stdout",
          "output_type": "stream",
          "text": [
            "[LightGBM] [Warning] num_threads is set=8, n_jobs=-1 will be ignored. Current value: num_threads=8\n",
            "[LightGBM] [Warning] num_threads is set=8, n_jobs=-1 will be ignored. Current value: num_threads=8\n",
            "[LightGBM] [Warning] num_threads is set=8, n_jobs=-1 will be ignored. Current value: num_threads=8\n",
            "[LightGBM] [Warning] num_threads is set=8, n_jobs=-1 will be ignored. Current value: num_threads=8\n"
          ]
        }
      ],
      "source": [
        "y_pred_month = []\n",
        "for i in range(7):\n",
        "    model_month = LGBMClassifier(is_unbalance=True, num_threads = 8, force_row_wise=True, **{'n_estimators': 10000,\n",
        "     'learning_rate': 0.024922405732354058 / 2,\n",
        "     'min_split_gain': 0.03126564532038549,\n",
        "     'max_depth': 10,\n",
        "     'max_cat_threshold': 128,\n",
        "     'cat_l2': 55.69886937210401,\n",
        "     'random_state': i})\n",
        "\n",
        "    model_month.fit(mf_train, targs.target_month)\n",
        "    y_pred_month.append(model_month.predict(mf_test))\n",
        "\n",
        "y_pred_month = np.concatenate([i.reshape(-1,1) for i in y_pred_month], axis=1)"
      ]
    },
    {
      "cell_type": "code",
      "execution_count": null,
      "id": "6836b7e2",
      "metadata": {
        "id": "6836b7e2"
      },
      "outputs": [],
      "source": [
        "new_ans = y_pred_month.sum(axis=1).copy()\n",
        "new_ans[y_pred_month.sum(axis=1).copy() > 3] = 1\n",
        "new_ans[y_pred_month.sum(axis=1).copy() <= 3] = 0\n",
        "y_pred_month = new_ans"
      ]
    },
    {
      "cell_type": "code",
      "execution_count": null,
      "id": "e72b67a7",
      "metadata": {
        "id": "e72b67a7"
      },
      "outputs": [],
      "source": [
        "submit = pd.read_csv('target/y_predict_submit_example.csv')\n",
        "submit.target_month = y_pred_month\n",
        "submit.target_day = y_pred_day\n",
        "submit.to_csv('submit3.csv', index=False)"
      ]
    },
    {
      "cell_type": "markdown",
      "id": "06bf1fcb",
      "metadata": {
        "id": "06bf1fcb"
      },
      "source": [
        "#### Здесь мы перебирали гиперпараметры с помощью optuna\n",
        "#### В качестве валидационной выборки мы использовали данные за февраль"
      ]
    },
    {
      "cell_type": "code",
      "execution_count": null,
      "id": "SqRtqqnshyMS",
      "metadata": {
        "id": "SqRtqqnshyMS"
      },
      "outputs": [],
      "source": [
        "mf = pd.concat([mff, ef, eff, nerep, params, own_feat, trems_counts, danf, lastreptab], axis = 1)"
      ]
    },
    {
      "cell_type": "code",
      "execution_count": null,
      "id": "2dCnzi8dhyMS",
      "metadata": {
        "id": "2dCnzi8dhyMS"
      },
      "outputs": [],
      "source": [
        "feat = pd.concat([targs[[\"index\", \"wagnum\", \"month\"]], mf], axis = 1)"
      ]
    },
    {
      "cell_type": "code",
      "execution_count": null,
      "id": "6219dfba",
      "metadata": {
        "id": "6219dfba"
      },
      "outputs": [],
      "source": [
        "data_mask = feat.month.apply(lambda x:int(x[5:7])) != 8"
      ]
    },
    {
      "cell_type": "code",
      "execution_count": null,
      "id": "252b2303",
      "metadata": {
        "id": "252b2303"
      },
      "outputs": [],
      "source": [
        "train_mask = (feat.month.apply(lambda x:int(x[5:7]))!= 8)&(feat.month.apply(lambda x:int(x[5:7]))!= 2)\n",
        "test_mask = feat.month.apply(lambda x:int(x[5:7])) == 2"
      ]
    },
    {
      "cell_type": "code",
      "execution_count": null,
      "id": "ef2be8e0",
      "metadata": {
        "id": "ef2be8e0"
      },
      "outputs": [],
      "source": [
        "X_train = mf[train_mask]\n",
        "y_train = targs[train_mask].target_month"
      ]
    },
    {
      "cell_type": "code",
      "execution_count": null,
      "id": "611a5f35",
      "metadata": {
        "id": "611a5f35"
      },
      "outputs": [],
      "source": [
        "X_test = mf[test_mask]\n",
        "y_test = targs[test_mask].target_month"
      ]
    },
    {
      "cell_type": "code",
      "execution_count": null,
      "id": "f276c2ea",
      "metadata": {
        "id": "f276c2ea"
      },
      "outputs": [],
      "source": [
        "X = mf[data_mask]\n",
        "y = targs[data_mask].target_month.values"
      ]
    },
    {
      "cell_type": "code",
      "execution_count": null,
      "id": "6401bda5",
      "metadata": {
        "id": "6401bda5",
        "outputId": "9fb59ad6-6166-4dc6-bc9d-0e28bc2eaddd"
      },
      "outputs": [
        {
          "name": "stderr",
          "output_type": "stream",
          "text": [
            "[I 2023-11-12 07:54:56,033] A new study created in memory with name: LGBM Classifier\n"
          ]
        },
        {
          "name": "stdout",
          "output_type": "stream",
          "text": [
            "[LightGBM] [Warning] num_threads is set=6, n_jobs=-1 will be ignored. Current value: num_threads=6\n",
            "[LightGBM] [Warning] num_threads is set=6, n_jobs=-1 will be ignored. Current value: num_threads=6\n",
            "[LightGBM] [Warning] num_threads is set=6, n_jobs=-1 will be ignored. Current value: num_threads=6\n",
            "[LightGBM] [Warning] num_threads is set=6, n_jobs=-1 will be ignored. Current value: num_threads=6\n",
            "[LightGBM] [Warning] num_threads is set=6, n_jobs=-1 will be ignored. Current value: num_threads=6\n"
          ]
        },
        {
          "name": "stderr",
          "output_type": "stream",
          "text": [
            "[I 2023-11-12 07:55:15,866] Trial 0 finished with value: 0.6860678544480908 and parameters: {'n_estimators': 500, 'learning_rate': 0.2424515371972734, 'min_split_gain': 0.02862180166588827, 'max_depth': 8, 'max_cat_threshold': 32, 'cat_l2': 51.395900406164415}. Best is trial 0 with value: 0.6860678544480908.\n"
          ]
        },
        {
          "name": "stdout",
          "output_type": "stream",
          "text": [
            "[LightGBM] [Warning] num_threads is set=6, n_jobs=-1 will be ignored. Current value: num_threads=6\n",
            "[LightGBM] [Warning] num_threads is set=6, n_jobs=-1 will be ignored. Current value: num_threads=6\n",
            "[LightGBM] [Warning] num_threads is set=6, n_jobs=-1 will be ignored. Current value: num_threads=6\n",
            "[LightGBM] [Warning] num_threads is set=6, n_jobs=-1 will be ignored. Current value: num_threads=6\n",
            "[LightGBM] [Warning] num_threads is set=6, n_jobs=-1 will be ignored. Current value: num_threads=6\n"
          ]
        },
        {
          "name": "stderr",
          "output_type": "stream",
          "text": [
            "[I 2023-11-12 07:55:34,723] Trial 1 finished with value: 0.5841128933778891 and parameters: {'n_estimators': 500, 'learning_rate': 0.021264367707282423, 'min_split_gain': 0.05720465530652167, 'max_depth': 5, 'max_cat_threshold': 64, 'cat_l2': 56.976424177648845}. Best is trial 0 with value: 0.6860678544480908.\n"
          ]
        },
        {
          "name": "stdout",
          "output_type": "stream",
          "text": [
            "[LightGBM] [Warning] num_threads is set=6, n_jobs=-1 will be ignored. Current value: num_threads=6\n",
            "[LightGBM] [Warning] num_threads is set=6, n_jobs=-1 will be ignored. Current value: num_threads=6\n",
            "[LightGBM] [Warning] num_threads is set=6, n_jobs=-1 will be ignored. Current value: num_threads=6\n",
            "[LightGBM] [Warning] num_threads is set=6, n_jobs=-1 will be ignored. Current value: num_threads=6\n",
            "[LightGBM] [Warning] num_threads is set=6, n_jobs=-1 will be ignored. Current value: num_threads=6\n"
          ]
        },
        {
          "name": "stderr",
          "output_type": "stream",
          "text": [
            "[I 2023-11-12 07:55:47,740] Trial 2 finished with value: 0.6305560569279554 and parameters: {'n_estimators': 500, 'learning_rate': 0.24400749018113124, 'min_split_gain': 0.01932492318276946, 'max_depth': 3, 'max_cat_threshold': 32, 'cat_l2': 87.52038471015027}. Best is trial 0 with value: 0.6860678544480908.\n"
          ]
        },
        {
          "name": "stdout",
          "output_type": "stream",
          "text": [
            "[LightGBM] [Warning] num_threads is set=6, n_jobs=-1 will be ignored. Current value: num_threads=6\n",
            "[LightGBM] [Warning] num_threads is set=6, n_jobs=-1 will be ignored. Current value: num_threads=6\n",
            "[LightGBM] [Warning] num_threads is set=6, n_jobs=-1 will be ignored. Current value: num_threads=6\n",
            "[LightGBM] [Warning] num_threads is set=6, n_jobs=-1 will be ignored. Current value: num_threads=6\n",
            "[LightGBM] [Warning] num_threads is set=6, n_jobs=-1 will be ignored. Current value: num_threads=6\n"
          ]
        },
        {
          "name": "stderr",
          "output_type": "stream",
          "text": [
            "[I 2023-11-12 07:56:11,472] Trial 3 finished with value: 0.6653335735766988 and parameters: {'n_estimators': 500, 'learning_rate': 0.07359513773373297, 'min_split_gain': 0.07227081365075748, 'max_depth': 10, 'max_cat_threshold': 128, 'cat_l2': 38.378164154485425}. Best is trial 0 with value: 0.6860678544480908.\n"
          ]
        },
        {
          "name": "stdout",
          "output_type": "stream",
          "text": [
            "[LightGBM] [Warning] num_threads is set=6, n_jobs=-1 will be ignored. Current value: num_threads=6\n",
            "[LightGBM] [Warning] num_threads is set=6, n_jobs=-1 will be ignored. Current value: num_threads=6\n",
            "[LightGBM] [Warning] num_threads is set=6, n_jobs=-1 will be ignored. Current value: num_threads=6\n",
            "[LightGBM] [Warning] num_threads is set=6, n_jobs=-1 will be ignored. Current value: num_threads=6\n",
            "[LightGBM] [Warning] num_threads is set=6, n_jobs=-1 will be ignored. Current value: num_threads=6\n"
          ]
        },
        {
          "name": "stderr",
          "output_type": "stream",
          "text": [
            "[I 2023-11-12 07:56:25,350] Trial 4 finished with value: 0.6394792899126136 and parameters: {'n_estimators': 500, 'learning_rate': 0.2485947758123082, 'min_split_gain': 0.04177050498346374, 'max_depth': 3, 'max_cat_threshold': 64, 'cat_l2': 65.19538928404138}. Best is trial 0 with value: 0.6860678544480908.\n"
          ]
        },
        {
          "name": "stdout",
          "output_type": "stream",
          "text": [
            "[LightGBM] [Warning] num_threads is set=6, n_jobs=-1 will be ignored. Current value: num_threads=6\n",
            "[LightGBM] [Warning] num_threads is set=6, n_jobs=-1 will be ignored. Current value: num_threads=6\n",
            "[LightGBM] [Warning] num_threads is set=6, n_jobs=-1 will be ignored. Current value: num_threads=6\n",
            "[LightGBM] [Warning] num_threads is set=6, n_jobs=-1 will be ignored. Current value: num_threads=6\n",
            "[LightGBM] [Warning] num_threads is set=6, n_jobs=-1 will be ignored. Current value: num_threads=6\n"
          ]
        },
        {
          "name": "stderr",
          "output_type": "stream",
          "text": [
            "[I 2023-11-12 07:56:41,228] Trial 5 finished with value: 0.6475331194409701 and parameters: {'n_estimators': 500, 'learning_rate': 0.17464837156594812, 'min_split_gain': 0.016409189340524957, 'max_depth': 4, 'max_cat_threshold': 32, 'cat_l2': 16.12380233904613}. Best is trial 0 with value: 0.6860678544480908.\n"
          ]
        },
        {
          "name": "stdout",
          "output_type": "stream",
          "text": [
            "[LightGBM] [Warning] num_threads is set=6, n_jobs=-1 will be ignored. Current value: num_threads=6\n",
            "[LightGBM] [Warning] num_threads is set=6, n_jobs=-1 will be ignored. Current value: num_threads=6\n",
            "[LightGBM] [Warning] num_threads is set=6, n_jobs=-1 will be ignored. Current value: num_threads=6\n",
            "[LightGBM] [Warning] num_threads is set=6, n_jobs=-1 will be ignored. Current value: num_threads=6\n",
            "[LightGBM] [Warning] num_threads is set=6, n_jobs=-1 will be ignored. Current value: num_threads=6\n"
          ]
        },
        {
          "name": "stderr",
          "output_type": "stream",
          "text": [
            "[I 2023-11-12 07:56:57,600] Trial 6 finished with value: 0.6422242651706542 and parameters: {'n_estimators': 500, 'learning_rate': 0.1190276629921124, 'min_split_gain': 0.0016256939086238154, 'max_depth': 4, 'max_cat_threshold': 64, 'cat_l2': 13.51802012369669}. Best is trial 0 with value: 0.6860678544480908.\n"
          ]
        },
        {
          "name": "stdout",
          "output_type": "stream",
          "text": [
            "[LightGBM] [Warning] num_threads is set=6, n_jobs=-1 will be ignored. Current value: num_threads=6\n",
            "[LightGBM] [Warning] num_threads is set=6, n_jobs=-1 will be ignored. Current value: num_threads=6\n",
            "[LightGBM] [Warning] num_threads is set=6, n_jobs=-1 will be ignored. Current value: num_threads=6\n",
            "[LightGBM] [Warning] num_threads is set=6, n_jobs=-1 will be ignored. Current value: num_threads=6\n",
            "[LightGBM] [Warning] num_threads is set=6, n_jobs=-1 will be ignored. Current value: num_threads=6\n"
          ]
        },
        {
          "name": "stderr",
          "output_type": "stream",
          "text": [
            "[I 2023-11-12 07:57:11,886] Trial 7 finished with value: 0.6368735560335496 and parameters: {'n_estimators': 500, 'learning_rate': 0.18611162489328562, 'min_split_gain': 0.044772872781817685, 'max_depth': 3, 'max_cat_threshold': 128, 'cat_l2': 62.75539869525877}. Best is trial 0 with value: 0.6860678544480908.\n"
          ]
        },
        {
          "name": "stdout",
          "output_type": "stream",
          "text": [
            "[LightGBM] [Warning] num_threads is set=6, n_jobs=-1 will be ignored. Current value: num_threads=6\n",
            "[LightGBM] [Warning] num_threads is set=6, n_jobs=-1 will be ignored. Current value: num_threads=6\n",
            "[LightGBM] [Warning] num_threads is set=6, n_jobs=-1 will be ignored. Current value: num_threads=6\n",
            "[LightGBM] [Warning] num_threads is set=6, n_jobs=-1 will be ignored. Current value: num_threads=6\n",
            "[LightGBM] [Warning] num_threads is set=6, n_jobs=-1 will be ignored. Current value: num_threads=6\n"
          ]
        },
        {
          "name": "stderr",
          "output_type": "stream",
          "text": [
            "[I 2023-11-12 07:57:33,090] Trial 8 finished with value: 0.6796406573930751 and parameters: {'n_estimators': 500, 'learning_rate': 0.16244452548145874, 'min_split_gain': 0.06352146415676417, 'max_depth': 8, 'max_cat_threshold': 16, 'cat_l2': 88.46044162808883}. Best is trial 0 with value: 0.6860678544480908.\n"
          ]
        },
        {
          "name": "stdout",
          "output_type": "stream",
          "text": [
            "[LightGBM] [Warning] num_threads is set=6, n_jobs=-1 will be ignored. Current value: num_threads=6\n",
            "[LightGBM] [Warning] num_threads is set=6, n_jobs=-1 will be ignored. Current value: num_threads=6\n",
            "[LightGBM] [Warning] num_threads is set=6, n_jobs=-1 will be ignored. Current value: num_threads=6\n",
            "[LightGBM] [Warning] num_threads is set=6, n_jobs=-1 will be ignored. Current value: num_threads=6\n",
            "[LightGBM] [Warning] num_threads is set=6, n_jobs=-1 will be ignored. Current value: num_threads=6\n"
          ]
        },
        {
          "name": "stderr",
          "output_type": "stream",
          "text": [
            "[I 2023-11-12 07:57:53,967] Trial 9 finished with value: 0.6856237554901575 and parameters: {'n_estimators': 500, 'learning_rate': 0.23046899300222434, 'min_split_gain': 0.030822390957075587, 'max_depth': 8, 'max_cat_threshold': 32, 'cat_l2': 42.69189033278756}. Best is trial 0 with value: 0.6860678544480908.\n"
          ]
        },
        {
          "name": "stdout",
          "output_type": "stream",
          "text": [
            "[LightGBM] [Warning] num_threads is set=6, n_jobs=-1 will be ignored. Current value: num_threads=6\n",
            "[LightGBM] [Warning] num_threads is set=6, n_jobs=-1 will be ignored. Current value: num_threads=6\n",
            "[LightGBM] [Warning] num_threads is set=6, n_jobs=-1 will be ignored. Current value: num_threads=6\n",
            "[LightGBM] [Warning] num_threads is set=6, n_jobs=-1 will be ignored. Current value: num_threads=6\n",
            "[LightGBM] [Warning] num_threads is set=6, n_jobs=-1 will be ignored. Current value: num_threads=6\n"
          ]
        },
        {
          "name": "stderr",
          "output_type": "stream",
          "text": [
            "[I 2023-11-12 07:58:13,917] Trial 10 finished with value: 0.6764533712159588 and parameters: {'n_estimators': 500, 'learning_rate': 0.2941185203028027, 'min_split_gain': 0.0956452978781506, 'max_depth': 6, 'max_cat_threshold': 8, 'cat_l2': 32.92757509858584}. Best is trial 0 with value: 0.6860678544480908.\n"
          ]
        },
        {
          "name": "stdout",
          "output_type": "stream",
          "text": [
            "[LightGBM] [Warning] num_threads is set=6, n_jobs=-1 will be ignored. Current value: num_threads=6\n",
            "[LightGBM] [Warning] num_threads is set=6, n_jobs=-1 will be ignored. Current value: num_threads=6\n",
            "[LightGBM] [Warning] num_threads is set=6, n_jobs=-1 will be ignored. Current value: num_threads=6\n",
            "[LightGBM] [Warning] num_threads is set=6, n_jobs=-1 will be ignored. Current value: num_threads=6\n",
            "[LightGBM] [Warning] num_threads is set=6, n_jobs=-1 will be ignored. Current value: num_threads=6\n"
          ]
        },
        {
          "name": "stderr",
          "output_type": "stream",
          "text": [
            "[I 2023-11-12 07:58:34,326] Trial 11 finished with value: 0.6888316297879802 and parameters: {'n_estimators': 500, 'learning_rate': 0.23063435869415547, 'min_split_gain': 0.03260632043082122, 'max_depth': 8, 'max_cat_threshold': 32, 'cat_l2': 41.37900059325428}. Best is trial 11 with value: 0.6888316297879802.\n"
          ]
        },
        {
          "name": "stdout",
          "output_type": "stream",
          "text": [
            "[LightGBM] [Warning] num_threads is set=6, n_jobs=-1 will be ignored. Current value: num_threads=6\n",
            "[LightGBM] [Warning] num_threads is set=6, n_jobs=-1 will be ignored. Current value: num_threads=6\n",
            "[LightGBM] [Warning] num_threads is set=6, n_jobs=-1 will be ignored. Current value: num_threads=6\n",
            "[LightGBM] [Warning] num_threads is set=6, n_jobs=-1 will be ignored. Current value: num_threads=6\n",
            "[LightGBM] [Warning] num_threads is set=6, n_jobs=-1 will be ignored. Current value: num_threads=6\n"
          ]
        },
        {
          "name": "stderr",
          "output_type": "stream",
          "text": [
            "[I 2023-11-12 07:58:54,680] Trial 12 finished with value: 0.6849626040034172 and parameters: {'n_estimators': 500, 'learning_rate': 0.2926359600884957, 'min_split_gain': 0.028363515546753683, 'max_depth': -1, 'max_cat_threshold': 32, 'cat_l2': 50.711521872268435}. Best is trial 11 with value: 0.6888316297879802.\n"
          ]
        },
        {
          "name": "stdout",
          "output_type": "stream",
          "text": [
            "[LightGBM] [Warning] num_threads is set=6, n_jobs=-1 will be ignored. Current value: num_threads=6\n",
            "[LightGBM] [Warning] num_threads is set=6, n_jobs=-1 will be ignored. Current value: num_threads=6\n",
            "[LightGBM] [Warning] num_threads is set=6, n_jobs=-1 will be ignored. Current value: num_threads=6\n",
            "[LightGBM] [Warning] num_threads is set=6, n_jobs=-1 will be ignored. Current value: num_threads=6\n",
            "[LightGBM] [Warning] num_threads is set=6, n_jobs=-1 will be ignored. Current value: num_threads=6\n"
          ]
        },
        {
          "name": "stderr",
          "output_type": "stream",
          "text": [
            "[I 2023-11-12 07:59:14,876] Trial 13 finished with value: 0.6841891128487437 and parameters: {'n_estimators': 500, 'learning_rate': 0.21823064903933306, 'min_split_gain': 0.037897258354798125, 'max_depth': 8, 'max_cat_threshold': 32, 'cat_l2': 27.97267878949862}. Best is trial 11 with value: 0.6888316297879802.\n"
          ]
        },
        {
          "name": "stdout",
          "output_type": "stream",
          "text": [
            "[LightGBM] [Warning] num_threads is set=6, n_jobs=-1 will be ignored. Current value: num_threads=6\n",
            "[LightGBM] [Warning] num_threads is set=6, n_jobs=-1 will be ignored. Current value: num_threads=6\n",
            "[LightGBM] [Warning] num_threads is set=6, n_jobs=-1 will be ignored. Current value: num_threads=6\n",
            "[LightGBM] [Warning] num_threads is set=6, n_jobs=-1 will be ignored. Current value: num_threads=6\n",
            "[LightGBM] [Warning] num_threads is set=6, n_jobs=-1 will be ignored. Current value: num_threads=6\n"
          ]
        },
        {
          "name": "stderr",
          "output_type": "stream",
          "text": [
            "[I 2023-11-12 07:59:35,660] Trial 14 finished with value: 0.6860093148275033 and parameters: {'n_estimators': 500, 'learning_rate': 0.20293726140097793, 'min_split_gain': 0.011563838616216182, 'max_depth': 8, 'max_cat_threshold': 16, 'cat_l2': 5.066637859048264}. Best is trial 11 with value: 0.6888316297879802.\n"
          ]
        },
        {
          "name": "stdout",
          "output_type": "stream",
          "text": [
            "[LightGBM] [Warning] num_threads is set=6, n_jobs=-1 will be ignored. Current value: num_threads=6\n",
            "[LightGBM] [Warning] num_threads is set=6, n_jobs=-1 will be ignored. Current value: num_threads=6\n",
            "[LightGBM] [Warning] num_threads is set=6, n_jobs=-1 will be ignored. Current value: num_threads=6\n",
            "[LightGBM] [Warning] num_threads is set=6, n_jobs=-1 will be ignored. Current value: num_threads=6\n",
            "[LightGBM] [Warning] num_threads is set=6, n_jobs=-1 will be ignored. Current value: num_threads=6\n"
          ]
        },
        {
          "name": "stderr",
          "output_type": "stream",
          "text": [
            "[I 2023-11-12 07:59:55,749] Trial 15 finished with value: 0.67406560103313 and parameters: {'n_estimators': 500, 'learning_rate': 0.26031449361602577, 'min_split_gain': 0.03395454802980872, 'max_depth': 8, 'max_cat_threshold': 8, 'cat_l2': 72.8854748025808}. Best is trial 11 with value: 0.6888316297879802.\n"
          ]
        },
        {
          "name": "stdout",
          "output_type": "stream",
          "text": [
            "[LightGBM] [Warning] num_threads is set=6, n_jobs=-1 will be ignored. Current value: num_threads=6\n",
            "[LightGBM] [Warning] num_threads is set=6, n_jobs=-1 will be ignored. Current value: num_threads=6\n",
            "[LightGBM] [Warning] num_threads is set=6, n_jobs=-1 will be ignored. Current value: num_threads=6\n",
            "[LightGBM] [Warning] num_threads is set=6, n_jobs=-1 will be ignored. Current value: num_threads=6\n",
            "[LightGBM] [Warning] num_threads is set=6, n_jobs=-1 will be ignored. Current value: num_threads=6\n"
          ]
        },
        {
          "name": "stderr",
          "output_type": "stream",
          "text": [
            "[I 2023-11-12 08:00:16,342] Trial 16 finished with value: 0.686593762814422 and parameters: {'n_estimators': 500, 'learning_rate': 0.20277644951341064, 'min_split_gain': 0.04951630644370222, 'max_depth': -1, 'max_cat_threshold': 32, 'cat_l2': 51.76088143323739}. Best is trial 11 with value: 0.6888316297879802.\n"
          ]
        },
        {
          "name": "stdout",
          "output_type": "stream",
          "text": [
            "[LightGBM] [Warning] num_threads is set=6, n_jobs=-1 will be ignored. Current value: num_threads=6\n",
            "[LightGBM] [Warning] num_threads is set=6, n_jobs=-1 will be ignored. Current value: num_threads=6\n",
            "[LightGBM] [Warning] num_threads is set=6, n_jobs=-1 will be ignored. Current value: num_threads=6\n",
            "[LightGBM] [Warning] num_threads is set=6, n_jobs=-1 will be ignored. Current value: num_threads=6\n",
            "[LightGBM] [Warning] num_threads is set=6, n_jobs=-1 will be ignored. Current value: num_threads=6\n"
          ]
        },
        {
          "name": "stderr",
          "output_type": "stream",
          "text": [
            "[I 2023-11-12 08:00:36,649] Trial 17 finished with value: 0.6859036554002367 and parameters: {'n_estimators': 500, 'learning_rate': 0.2017576994517553, 'min_split_gain': 0.04897375619206084, 'max_depth': -1, 'max_cat_threshold': 32, 'cat_l2': 42.93801489319048}. Best is trial 11 with value: 0.6888316297879802.\n"
          ]
        },
        {
          "name": "stdout",
          "output_type": "stream",
          "text": [
            "[LightGBM] [Warning] num_threads is set=6, n_jobs=-1 will be ignored. Current value: num_threads=6\n",
            "[LightGBM] [Warning] num_threads is set=6, n_jobs=-1 will be ignored. Current value: num_threads=6\n",
            "[LightGBM] [Warning] num_threads is set=6, n_jobs=-1 will be ignored. Current value: num_threads=6\n",
            "[LightGBM] [Warning] num_threads is set=6, n_jobs=-1 will be ignored. Current value: num_threads=6\n",
            "[LightGBM] [Warning] num_threads is set=6, n_jobs=-1 will be ignored. Current value: num_threads=6\n"
          ]
        },
        {
          "name": "stderr",
          "output_type": "stream",
          "text": [
            "[I 2023-11-12 08:00:57,807] Trial 18 finished with value: 0.6828730661077103 and parameters: {'n_estimators': 500, 'learning_rate': 0.1350182486144956, 'min_split_gain': 0.05370974180250212, 'max_depth': -1, 'max_cat_threshold': 32, 'cat_l2': 75.87187171965351}. Best is trial 11 with value: 0.6888316297879802.\n"
          ]
        },
        {
          "name": "stdout",
          "output_type": "stream",
          "text": [
            "[LightGBM] [Warning] num_threads is set=6, n_jobs=-1 will be ignored. Current value: num_threads=6\n",
            "[LightGBM] [Warning] num_threads is set=6, n_jobs=-1 will be ignored. Current value: num_threads=6\n",
            "[LightGBM] [Warning] num_threads is set=6, n_jobs=-1 will be ignored. Current value: num_threads=6\n",
            "[LightGBM] [Warning] num_threads is set=6, n_jobs=-1 will be ignored. Current value: num_threads=6\n",
            "[LightGBM] [Warning] num_threads is set=6, n_jobs=-1 will be ignored. Current value: num_threads=6\n"
          ]
        },
        {
          "name": "stderr",
          "output_type": "stream",
          "text": [
            "[I 2023-11-12 08:01:16,451] Trial 19 finished with value: 0.642383648664115 and parameters: {'n_estimators': 500, 'learning_rate': 0.15551354693140068, 'min_split_gain': 0.06764018645036919, 'max_depth': 5, 'max_cat_threshold': 8, 'cat_l2': 99.83321887202999}. Best is trial 11 with value: 0.6888316297879802.\n"
          ]
        },
        {
          "name": "stdout",
          "output_type": "stream",
          "text": [
            "[LightGBM] [Warning] num_threads is set=6, n_jobs=-1 will be ignored. Current value: num_threads=6\n",
            "[LightGBM] [Warning] num_threads is set=6, n_jobs=-1 will be ignored. Current value: num_threads=6\n",
            "[LightGBM] [Warning] num_threads is set=6, n_jobs=-1 will be ignored. Current value: num_threads=6\n",
            "[LightGBM] [Warning] num_threads is set=6, n_jobs=-1 will be ignored. Current value: num_threads=6\n",
            "[LightGBM] [Warning] num_threads is set=6, n_jobs=-1 will be ignored. Current value: num_threads=6\n"
          ]
        },
        {
          "name": "stderr",
          "output_type": "stream",
          "text": [
            "[I 2023-11-12 08:01:37,824] Trial 20 finished with value: 0.6877750484863788 and parameters: {'n_estimators': 500, 'learning_rate': 0.2030751768275744, 'min_split_gain': 0.04559873397987039, 'max_depth': 10, 'max_cat_threshold': 128, 'cat_l2': 26.14741733214893}. Best is trial 11 with value: 0.6888316297879802.\n"
          ]
        },
        {
          "name": "stdout",
          "output_type": "stream",
          "text": [
            "[LightGBM] [Warning] num_threads is set=6, n_jobs=-1 will be ignored. Current value: num_threads=6\n",
            "[LightGBM] [Warning] num_threads is set=6, n_jobs=-1 will be ignored. Current value: num_threads=6\n",
            "[LightGBM] [Warning] num_threads is set=6, n_jobs=-1 will be ignored. Current value: num_threads=6\n",
            "[LightGBM] [Warning] num_threads is set=6, n_jobs=-1 will be ignored. Current value: num_threads=6\n",
            "[LightGBM] [Warning] num_threads is set=6, n_jobs=-1 will be ignored. Current value: num_threads=6\n"
          ]
        },
        {
          "name": "stderr",
          "output_type": "stream",
          "text": [
            "[I 2023-11-12 08:01:59,061] Trial 21 finished with value: 0.6836759352263269 and parameters: {'n_estimators': 500, 'learning_rate': 0.20693302026373703, 'min_split_gain': 0.04452090266177759, 'max_depth': 10, 'max_cat_threshold': 128, 'cat_l2': 26.259810951090653}. Best is trial 11 with value: 0.6888316297879802.\n"
          ]
        },
        {
          "name": "stdout",
          "output_type": "stream",
          "text": [
            "[LightGBM] [Warning] num_threads is set=6, n_jobs=-1 will be ignored. Current value: num_threads=6\n",
            "[LightGBM] [Warning] num_threads is set=6, n_jobs=-1 will be ignored. Current value: num_threads=6\n",
            "[LightGBM] [Warning] num_threads is set=6, n_jobs=-1 will be ignored. Current value: num_threads=6\n",
            "[LightGBM] [Warning] num_threads is set=6, n_jobs=-1 will be ignored. Current value: num_threads=6\n",
            "[LightGBM] [Warning] num_threads is set=6, n_jobs=-1 will be ignored. Current value: num_threads=6\n"
          ]
        },
        {
          "name": "stderr",
          "output_type": "stream",
          "text": [
            "[I 2023-11-12 08:02:20,811] Trial 22 finished with value: 0.6847343860640074 and parameters: {'n_estimators': 500, 'learning_rate': 0.1818316623297704, 'min_split_gain': 0.0549356554180636, 'max_depth': 10, 'max_cat_threshold': 128, 'cat_l2': 47.2785787872373}. Best is trial 11 with value: 0.6888316297879802.\n"
          ]
        },
        {
          "name": "stdout",
          "output_type": "stream",
          "text": [
            "[LightGBM] [Warning] num_threads is set=6, n_jobs=-1 will be ignored. Current value: num_threads=6\n",
            "[LightGBM] [Warning] num_threads is set=6, n_jobs=-1 will be ignored. Current value: num_threads=6\n",
            "[LightGBM] [Warning] num_threads is set=6, n_jobs=-1 will be ignored. Current value: num_threads=6\n",
            "[LightGBM] [Warning] num_threads is set=6, n_jobs=-1 will be ignored. Current value: num_threads=6\n",
            "[LightGBM] [Warning] num_threads is set=6, n_jobs=-1 will be ignored. Current value: num_threads=6\n"
          ]
        },
        {
          "name": "stderr",
          "output_type": "stream",
          "text": [
            "[I 2023-11-12 08:02:43,063] Trial 23 finished with value: 0.6826350930085188 and parameters: {'n_estimators': 500, 'learning_rate': 0.21908610926756217, 'min_split_gain': 0.037766315670612394, 'max_depth': 6, 'max_cat_threshold': 128, 'cat_l2': 35.4200114944217}. Best is trial 11 with value: 0.6888316297879802.\n"
          ]
        },
        {
          "name": "stdout",
          "output_type": "stream",
          "text": [
            "[LightGBM] [Warning] num_threads is set=6, n_jobs=-1 will be ignored. Current value: num_threads=6\n",
            "[LightGBM] [Warning] num_threads is set=6, n_jobs=-1 will be ignored. Current value: num_threads=6\n",
            "[LightGBM] [Warning] num_threads is set=6, n_jobs=-1 will be ignored. Current value: num_threads=6\n",
            "[LightGBM] [Warning] num_threads is set=6, n_jobs=-1 will be ignored. Current value: num_threads=6\n",
            "[LightGBM] [Warning] num_threads is set=6, n_jobs=-1 will be ignored. Current value: num_threads=6\n"
          ]
        },
        {
          "name": "stderr",
          "output_type": "stream",
          "text": [
            "[I 2023-11-12 08:03:03,716] Trial 24 finished with value: 0.685886055876051 and parameters: {'n_estimators': 500, 'learning_rate': 0.26899697785342425, 'min_split_gain': 0.023921686564139913, 'max_depth': 10, 'max_cat_threshold': 16, 'cat_l2': 25.752726082095936}. Best is trial 11 with value: 0.6888316297879802.\n"
          ]
        },
        {
          "name": "stdout",
          "output_type": "stream",
          "text": [
            "[LightGBM] [Warning] num_threads is set=6, n_jobs=-1 will be ignored. Current value: num_threads=6\n",
            "[LightGBM] [Warning] num_threads is set=6, n_jobs=-1 will be ignored. Current value: num_threads=6\n",
            "[LightGBM] [Warning] num_threads is set=6, n_jobs=-1 will be ignored. Current value: num_threads=6\n",
            "[LightGBM] [Warning] num_threads is set=6, n_jobs=-1 will be ignored. Current value: num_threads=6\n",
            "[LightGBM] [Warning] num_threads is set=6, n_jobs=-1 will be ignored. Current value: num_threads=6\n"
          ]
        },
        {
          "name": "stderr",
          "output_type": "stream",
          "text": [
            "[I 2023-11-12 08:03:25,097] Trial 25 finished with value: 0.6853720170173592 and parameters: {'n_estimators': 500, 'learning_rate': 0.22290156224298688, 'min_split_gain': 0.048254211395048166, 'max_depth': -1, 'max_cat_threshold': 128, 'cat_l2': 43.945484460564685}. Best is trial 11 with value: 0.6888316297879802.\n"
          ]
        },
        {
          "name": "stdout",
          "output_type": "stream",
          "text": [
            "[LightGBM] [Warning] num_threads is set=6, n_jobs=-1 will be ignored. Current value: num_threads=6\n",
            "[LightGBM] [Warning] num_threads is set=6, n_jobs=-1 will be ignored. Current value: num_threads=6\n",
            "[LightGBM] [Warning] num_threads is set=6, n_jobs=-1 will be ignored. Current value: num_threads=6\n",
            "[LightGBM] [Warning] num_threads is set=6, n_jobs=-1 will be ignored. Current value: num_threads=6\n",
            "[LightGBM] [Warning] num_threads is set=6, n_jobs=-1 will be ignored. Current value: num_threads=6\n"
          ]
        },
        {
          "name": "stderr",
          "output_type": "stream",
          "text": [
            "[I 2023-11-12 08:03:45,323] Trial 26 finished with value: 0.6866398622787038 and parameters: {'n_estimators': 500, 'learning_rate': 0.19221219615912033, 'min_split_gain': 0.03816178636930292, 'max_depth': 10, 'max_cat_threshold': 32, 'cat_l2': 56.66777910677314}. Best is trial 11 with value: 0.6888316297879802.\n"
          ]
        },
        {
          "name": "stdout",
          "output_type": "stream",
          "text": [
            "[LightGBM] [Warning] num_threads is set=6, n_jobs=-1 will be ignored. Current value: num_threads=6\n",
            "[LightGBM] [Warning] num_threads is set=6, n_jobs=-1 will be ignored. Current value: num_threads=6\n",
            "[LightGBM] [Warning] num_threads is set=6, n_jobs=-1 will be ignored. Current value: num_threads=6\n",
            "[LightGBM] [Warning] num_threads is set=6, n_jobs=-1 will be ignored. Current value: num_threads=6\n",
            "[LightGBM] [Warning] num_threads is set=6, n_jobs=-1 will be ignored. Current value: num_threads=6\n"
          ]
        },
        {
          "name": "stderr",
          "output_type": "stream",
          "text": [
            "[I 2023-11-12 08:04:06,236] Trial 27 finished with value: 0.6850527950692663 and parameters: {'n_estimators': 500, 'learning_rate': 0.1796900247237887, 'min_split_gain': 0.03538123957254733, 'max_depth': 10, 'max_cat_threshold': 32, 'cat_l2': 37.06452954049576}. Best is trial 11 with value: 0.6888316297879802.\n"
          ]
        },
        {
          "name": "stdout",
          "output_type": "stream",
          "text": [
            "[LightGBM] [Warning] num_threads is set=6, n_jobs=-1 will be ignored. Current value: num_threads=6\n",
            "[LightGBM] [Warning] num_threads is set=6, n_jobs=-1 will be ignored. Current value: num_threads=6\n",
            "[LightGBM] [Warning] num_threads is set=6, n_jobs=-1 will be ignored. Current value: num_threads=6\n",
            "[LightGBM] [Warning] num_threads is set=6, n_jobs=-1 will be ignored. Current value: num_threads=6\n",
            "[LightGBM] [Warning] num_threads is set=6, n_jobs=-1 will be ignored. Current value: num_threads=6\n"
          ]
        },
        {
          "name": "stderr",
          "output_type": "stream",
          "text": [
            "[I 2023-11-12 08:04:27,976] Trial 28 finished with value: 0.6883363341473114 and parameters: {'n_estimators': 500, 'learning_rate': 0.2668739132273037, 'min_split_gain': 0.024860349482894346, 'max_depth': 10, 'max_cat_threshold': 128, 'cat_l2': 57.86025358121932}. Best is trial 11 with value: 0.6888316297879802.\n"
          ]
        },
        {
          "name": "stdout",
          "output_type": "stream",
          "text": [
            "[LightGBM] [Warning] num_threads is set=6, n_jobs=-1 will be ignored. Current value: num_threads=6\n",
            "[LightGBM] [Warning] num_threads is set=6, n_jobs=-1 will be ignored. Current value: num_threads=6\n",
            "[LightGBM] [Warning] num_threads is set=6, n_jobs=-1 will be ignored. Current value: num_threads=6\n",
            "[LightGBM] [Warning] num_threads is set=6, n_jobs=-1 will be ignored. Current value: num_threads=6\n",
            "[LightGBM] [Warning] num_threads is set=6, n_jobs=-1 will be ignored. Current value: num_threads=6\n"
          ]
        },
        {
          "name": "stderr",
          "output_type": "stream",
          "text": [
            "[I 2023-11-12 08:04:49,700] Trial 29 finished with value: 0.6850963456979773 and parameters: {'n_estimators': 500, 'learning_rate': 0.2715328051527559, 'min_split_gain': 0.026638076293729412, 'max_depth': 10, 'max_cat_threshold': 128, 'cat_l2': 45.50685729096079}. Best is trial 11 with value: 0.6888316297879802.\n"
          ]
        },
        {
          "name": "stdout",
          "output_type": "stream",
          "text": [
            "[LightGBM] [Warning] num_threads is set=6, n_jobs=-1 will be ignored. Current value: num_threads=6\n",
            "[LightGBM] [Warning] num_threads is set=6, n_jobs=-1 will be ignored. Current value: num_threads=6\n",
            "[LightGBM] [Warning] num_threads is set=6, n_jobs=-1 will be ignored. Current value: num_threads=6\n",
            "[LightGBM] [Warning] num_threads is set=6, n_jobs=-1 will be ignored. Current value: num_threads=6\n",
            "[LightGBM] [Warning] num_threads is set=6, n_jobs=-1 will be ignored. Current value: num_threads=6\n"
          ]
        },
        {
          "name": "stderr",
          "output_type": "stream",
          "text": [
            "[I 2023-11-12 08:05:11,523] Trial 30 finished with value: 0.6849429259414302 and parameters: {'n_estimators': 500, 'learning_rate': 0.23351746772294044, 'min_split_gain': 0.022321699251720773, 'max_depth': 10, 'max_cat_threshold': 128, 'cat_l2': 31.12953399243125}. Best is trial 11 with value: 0.6888316297879802.\n"
          ]
        },
        {
          "name": "stdout",
          "output_type": "stream",
          "text": [
            "[LightGBM] [Warning] num_threads is set=6, n_jobs=-1 will be ignored. Current value: num_threads=6\n",
            "[LightGBM] [Warning] num_threads is set=6, n_jobs=-1 will be ignored. Current value: num_threads=6\n",
            "[LightGBM] [Warning] num_threads is set=6, n_jobs=-1 will be ignored. Current value: num_threads=6\n",
            "[LightGBM] [Warning] num_threads is set=6, n_jobs=-1 will be ignored. Current value: num_threads=6\n",
            "[LightGBM] [Warning] num_threads is set=6, n_jobs=-1 will be ignored. Current value: num_threads=6\n"
          ]
        },
        {
          "name": "stderr",
          "output_type": "stream",
          "text": [
            "[I 2023-11-12 08:05:32,758] Trial 31 finished with value: 0.6908604431032936 and parameters: {'n_estimators': 500, 'learning_rate': 0.24922405732354058, 'min_split_gain': 0.03126564532038549, 'max_depth': 10, 'max_cat_threshold': 128, 'cat_l2': 55.69886937210401}. Best is trial 31 with value: 0.6908604431032936.\n"
          ]
        },
        {
          "name": "stdout",
          "output_type": "stream",
          "text": [
            "[LightGBM] [Warning] num_threads is set=6, n_jobs=-1 will be ignored. Current value: num_threads=6\n",
            "[LightGBM] [Warning] num_threads is set=6, n_jobs=-1 will be ignored. Current value: num_threads=6\n",
            "[LightGBM] [Warning] num_threads is set=6, n_jobs=-1 will be ignored. Current value: num_threads=6\n",
            "[LightGBM] [Warning] num_threads is set=6, n_jobs=-1 will be ignored. Current value: num_threads=6\n",
            "[LightGBM] [Warning] num_threads is set=6, n_jobs=-1 will be ignored. Current value: num_threads=6\n"
          ]
        },
        {
          "name": "stderr",
          "output_type": "stream",
          "text": [
            "[I 2023-11-12 08:05:54,125] Trial 32 finished with value: 0.6847464492024867 and parameters: {'n_estimators': 500, 'learning_rate': 0.25182191217578437, 'min_split_gain': 0.0304949725012875, 'max_depth': 10, 'max_cat_threshold': 128, 'cat_l2': 54.40352304481588}. Best is trial 31 with value: 0.6908604431032936.\n"
          ]
        },
        {
          "name": "stdout",
          "output_type": "stream",
          "text": [
            "[LightGBM] [Warning] num_threads is set=6, n_jobs=-1 will be ignored. Current value: num_threads=6\n",
            "[LightGBM] [Warning] num_threads is set=6, n_jobs=-1 will be ignored. Current value: num_threads=6\n",
            "[LightGBM] [Warning] num_threads is set=6, n_jobs=-1 will be ignored. Current value: num_threads=6\n",
            "[LightGBM] [Warning] num_threads is set=6, n_jobs=-1 will be ignored. Current value: num_threads=6\n",
            "[LightGBM] [Warning] num_threads is set=6, n_jobs=-1 will be ignored. Current value: num_threads=6\n"
          ]
        },
        {
          "name": "stderr",
          "output_type": "stream",
          "text": [
            "[I 2023-11-12 08:06:14,944] Trial 33 finished with value: 0.6847661775599188 and parameters: {'n_estimators': 500, 'learning_rate': 0.2480624100726809, 'min_split_gain': 0.01565288932844889, 'max_depth': 5, 'max_cat_threshold': 128, 'cat_l2': 57.40972683401317}. Best is trial 31 with value: 0.6908604431032936.\n"
          ]
        },
        {
          "name": "stdout",
          "output_type": "stream",
          "text": [
            "[LightGBM] [Warning] num_threads is set=6, n_jobs=-1 will be ignored. Current value: num_threads=6\n",
            "[LightGBM] [Warning] num_threads is set=6, n_jobs=-1 will be ignored. Current value: num_threads=6\n",
            "[LightGBM] [Warning] num_threads is set=6, n_jobs=-1 will be ignored. Current value: num_threads=6\n",
            "[LightGBM] [Warning] num_threads is set=6, n_jobs=-1 will be ignored. Current value: num_threads=6\n",
            "[LightGBM] [Warning] num_threads is set=6, n_jobs=-1 will be ignored. Current value: num_threads=6\n"
          ]
        },
        {
          "name": "stderr",
          "output_type": "stream",
          "text": [
            "[I 2023-11-12 08:06:35,761] Trial 34 finished with value: 0.686453917660242 and parameters: {'n_estimators': 500, 'learning_rate': 0.27474266717793877, 'min_split_gain': 0.024337668468409443, 'max_depth': 10, 'max_cat_threshold': 128, 'cat_l2': 39.45242853221886}. Best is trial 31 with value: 0.6908604431032936.\n"
          ]
        },
        {
          "name": "stdout",
          "output_type": "stream",
          "text": [
            "[LightGBM] [Warning] num_threads is set=6, n_jobs=-1 will be ignored. Current value: num_threads=6\n",
            "[LightGBM] [Warning] num_threads is set=6, n_jobs=-1 will be ignored. Current value: num_threads=6\n",
            "[LightGBM] [Warning] num_threads is set=6, n_jobs=-1 will be ignored. Current value: num_threads=6\n",
            "[LightGBM] [Warning] num_threads is set=6, n_jobs=-1 will be ignored. Current value: num_threads=6\n",
            "[LightGBM] [Warning] num_threads is set=6, n_jobs=-1 will be ignored. Current value: num_threads=6\n"
          ]
        },
        {
          "name": "stderr",
          "output_type": "stream",
          "text": [
            "[I 2023-11-12 08:06:55,883] Trial 35 finished with value: 0.6903773532478027 and parameters: {'n_estimators': 500, 'learning_rate': 0.23522873793241608, 'min_split_gain': 0.03308027298166509, 'max_depth': 10, 'max_cat_threshold': 64, 'cat_l2': 49.30582178324301}. Best is trial 31 with value: 0.6908604431032936.\n"
          ]
        },
        {
          "name": "stdout",
          "output_type": "stream",
          "text": [
            "[LightGBM] [Warning] num_threads is set=6, n_jobs=-1 will be ignored. Current value: num_threads=6\n",
            "[LightGBM] [Warning] num_threads is set=6, n_jobs=-1 will be ignored. Current value: num_threads=6\n",
            "[LightGBM] [Warning] num_threads is set=6, n_jobs=-1 will be ignored. Current value: num_threads=6\n",
            "[LightGBM] [Warning] num_threads is set=6, n_jobs=-1 will be ignored. Current value: num_threads=6\n",
            "[LightGBM] [Warning] num_threads is set=6, n_jobs=-1 will be ignored. Current value: num_threads=6\n"
          ]
        },
        {
          "name": "stderr",
          "output_type": "stream",
          "text": [
            "[I 2023-11-12 08:07:12,225] Trial 36 finished with value: 0.6663331004449585 and parameters: {'n_estimators': 500, 'learning_rate': 0.24397406977727487, 'min_split_gain': 0.03306961481297351, 'max_depth': 4, 'max_cat_threshold': 64, 'cat_l2': 49.86513637883123}. Best is trial 31 with value: 0.6908604431032936.\n"
          ]
        },
        {
          "name": "stdout",
          "output_type": "stream",
          "text": [
            "[LightGBM] [Warning] num_threads is set=6, n_jobs=-1 will be ignored. Current value: num_threads=6\n",
            "[LightGBM] [Warning] num_threads is set=6, n_jobs=-1 will be ignored. Current value: num_threads=6\n",
            "[LightGBM] [Warning] num_threads is set=6, n_jobs=-1 will be ignored. Current value: num_threads=6\n",
            "[LightGBM] [Warning] num_threads is set=6, n_jobs=-1 will be ignored. Current value: num_threads=6\n",
            "[LightGBM] [Warning] num_threads is set=6, n_jobs=-1 will be ignored. Current value: num_threads=6\n"
          ]
        },
        {
          "name": "stderr",
          "output_type": "stream",
          "text": [
            "[I 2023-11-12 08:07:25,581] Trial 37 finished with value: 0.6372290030065869 and parameters: {'n_estimators': 500, 'learning_rate': 0.23578214480494486, 'min_split_gain': 0.018447140999849045, 'max_depth': 3, 'max_cat_threshold': 64, 'cat_l2': 61.941990284141404}. Best is trial 31 with value: 0.6908604431032936.\n"
          ]
        },
        {
          "name": "stdout",
          "output_type": "stream",
          "text": [
            "[LightGBM] [Warning] num_threads is set=6, n_jobs=-1 will be ignored. Current value: num_threads=6\n",
            "[LightGBM] [Warning] num_threads is set=6, n_jobs=-1 will be ignored. Current value: num_threads=6\n",
            "[LightGBM] [Warning] num_threads is set=6, n_jobs=-1 will be ignored. Current value: num_threads=6\n",
            "[LightGBM] [Warning] num_threads is set=6, n_jobs=-1 will be ignored. Current value: num_threads=6\n",
            "[LightGBM] [Warning] num_threads is set=6, n_jobs=-1 will be ignored. Current value: num_threads=6\n"
          ]
        },
        {
          "name": "stderr",
          "output_type": "stream",
          "text": [
            "[I 2023-11-12 08:07:45,657] Trial 38 finished with value: 0.6854224250422934 and parameters: {'n_estimators': 500, 'learning_rate': 0.27863343227517356, 'min_split_gain': 0.0405731757133321, 'max_depth': 6, 'max_cat_threshold': 64, 'cat_l2': 48.80348010503195}. Best is trial 31 with value: 0.6908604431032936.\n"
          ]
        },
        {
          "name": "stdout",
          "output_type": "stream",
          "text": [
            "[LightGBM] [Warning] num_threads is set=6, n_jobs=-1 will be ignored. Current value: num_threads=6\n",
            "[LightGBM] [Warning] num_threads is set=6, n_jobs=-1 will be ignored. Current value: num_threads=6\n",
            "[LightGBM] [Warning] num_threads is set=6, n_jobs=-1 will be ignored. Current value: num_threads=6\n",
            "[LightGBM] [Warning] num_threads is set=6, n_jobs=-1 will be ignored. Current value: num_threads=6\n",
            "[LightGBM] [Warning] num_threads is set=6, n_jobs=-1 will be ignored. Current value: num_threads=6\n"
          ]
        },
        {
          "name": "stderr",
          "output_type": "stream",
          "text": [
            "[I 2023-11-12 08:08:05,581] Trial 39 finished with value: 0.6809370248370659 and parameters: {'n_estimators': 500, 'learning_rate': 0.2535932361319173, 'min_split_gain': 0.010524342503326432, 'max_depth': 10, 'max_cat_threshold': 64, 'cat_l2': 57.52026771018552}. Best is trial 31 with value: 0.6908604431032936.\n"
          ]
        },
        {
          "name": "stdout",
          "output_type": "stream",
          "text": [
            "[LightGBM] [Warning] num_threads is set=6, n_jobs=-1 will be ignored. Current value: num_threads=6\n",
            "[LightGBM] [Warning] num_threads is set=6, n_jobs=-1 will be ignored. Current value: num_threads=6\n",
            "[LightGBM] [Warning] num_threads is set=6, n_jobs=-1 will be ignored. Current value: num_threads=6\n",
            "[LightGBM] [Warning] num_threads is set=6, n_jobs=-1 will be ignored. Current value: num_threads=6\n",
            "[LightGBM] [Warning] num_threads is set=6, n_jobs=-1 will be ignored. Current value: num_threads=6\n"
          ]
        },
        {
          "name": "stderr",
          "output_type": "stream",
          "text": [
            "[I 2023-11-12 08:08:25,437] Trial 40 finished with value: 0.6861363901837978 and parameters: {'n_estimators': 500, 'learning_rate': 0.28468040621751023, 'min_split_gain': 0.028764077937874104, 'max_depth': 8, 'max_cat_threshold': 64, 'cat_l2': 64.81936510731106}. Best is trial 31 with value: 0.6908604431032936.\n"
          ]
        },
        {
          "name": "stdout",
          "output_type": "stream",
          "text": [
            "[LightGBM] [Warning] num_threads is set=6, n_jobs=-1 will be ignored. Current value: num_threads=6\n",
            "[LightGBM] [Warning] num_threads is set=6, n_jobs=-1 will be ignored. Current value: num_threads=6\n",
            "[LightGBM] [Warning] num_threads is set=6, n_jobs=-1 will be ignored. Current value: num_threads=6\n",
            "[LightGBM] [Warning] num_threads is set=6, n_jobs=-1 will be ignored. Current value: num_threads=6\n",
            "[LightGBM] [Warning] num_threads is set=6, n_jobs=-1 will be ignored. Current value: num_threads=6\n"
          ]
        },
        {
          "name": "stderr",
          "output_type": "stream",
          "text": [
            "[I 2023-11-12 08:08:46,284] Trial 41 finished with value: 0.6849564924099454 and parameters: {'n_estimators': 500, 'learning_rate': 0.2630018297129145, 'min_split_gain': 0.042713330381671785, 'max_depth': 10, 'max_cat_threshold': 128, 'cat_l2': 38.77774417877672}. Best is trial 31 with value: 0.6908604431032936.\n"
          ]
        },
        {
          "name": "stdout",
          "output_type": "stream",
          "text": [
            "[LightGBM] [Warning] num_threads is set=6, n_jobs=-1 will be ignored. Current value: num_threads=6\n",
            "[LightGBM] [Warning] num_threads is set=6, n_jobs=-1 will be ignored. Current value: num_threads=6\n",
            "[LightGBM] [Warning] num_threads is set=6, n_jobs=-1 will be ignored. Current value: num_threads=6\n",
            "[LightGBM] [Warning] num_threads is set=6, n_jobs=-1 will be ignored. Current value: num_threads=6\n",
            "[LightGBM] [Warning] num_threads is set=6, n_jobs=-1 will be ignored. Current value: num_threads=6\n"
          ]
        },
        {
          "name": "stderr",
          "output_type": "stream",
          "text": [
            "[I 2023-11-12 08:09:07,833] Trial 42 finished with value: 0.6865713264703474 and parameters: {'n_estimators': 500, 'learning_rate': 0.23366670391613745, 'min_split_gain': 0.034296996394270474, 'max_depth': 10, 'max_cat_threshold': 128, 'cat_l2': 51.515775794964824}. Best is trial 31 with value: 0.6908604431032936.\n"
          ]
        },
        {
          "name": "stdout",
          "output_type": "stream",
          "text": [
            "[LightGBM] [Warning] num_threads is set=6, n_jobs=-1 will be ignored. Current value: num_threads=6\n",
            "[LightGBM] [Warning] num_threads is set=6, n_jobs=-1 will be ignored. Current value: num_threads=6\n",
            "[LightGBM] [Warning] num_threads is set=6, n_jobs=-1 will be ignored. Current value: num_threads=6\n",
            "[LightGBM] [Warning] num_threads is set=6, n_jobs=-1 will be ignored. Current value: num_threads=6\n",
            "[LightGBM] [Warning] num_threads is set=6, n_jobs=-1 will be ignored. Current value: num_threads=6\n"
          ]
        },
        {
          "name": "stderr",
          "output_type": "stream",
          "text": [
            "[I 2023-11-12 08:09:25,436] Trial 43 finished with value: 0.6739807879727541 and parameters: {'n_estimators': 500, 'learning_rate': 0.29937087400462914, 'min_split_gain': 0.02650071865976559, 'max_depth': 4, 'max_cat_threshold': 128, 'cat_l2': 42.04013470764524}. Best is trial 31 with value: 0.6908604431032936.\n"
          ]
        },
        {
          "name": "stdout",
          "output_type": "stream",
          "text": [
            "[LightGBM] [Warning] num_threads is set=6, n_jobs=-1 will be ignored. Current value: num_threads=6\n",
            "[LightGBM] [Warning] num_threads is set=6, n_jobs=-1 will be ignored. Current value: num_threads=6\n",
            "[LightGBM] [Warning] num_threads is set=6, n_jobs=-1 will be ignored. Current value: num_threads=6\n",
            "[LightGBM] [Warning] num_threads is set=6, n_jobs=-1 will be ignored. Current value: num_threads=6\n",
            "[LightGBM] [Warning] num_threads is set=6, n_jobs=-1 will be ignored. Current value: num_threads=6\n"
          ]
        },
        {
          "name": "stderr",
          "output_type": "stream",
          "text": [
            "[I 2023-11-12 08:09:46,038] Trial 44 finished with value: 0.6853424558141417 and parameters: {'n_estimators': 500, 'learning_rate': 0.258669642450316, 'min_split_gain': 0.04225927472066242, 'max_depth': 10, 'max_cat_threshold': 16, 'cat_l2': 46.97873205933173}. Best is trial 31 with value: 0.6908604431032936.\n"
          ]
        },
        {
          "name": "stdout",
          "output_type": "stream",
          "text": [
            "[LightGBM] [Warning] num_threads is set=6, n_jobs=-1 will be ignored. Current value: num_threads=6\n",
            "[LightGBM] [Warning] num_threads is set=6, n_jobs=-1 will be ignored. Current value: num_threads=6\n",
            "[LightGBM] [Warning] num_threads is set=6, n_jobs=-1 will be ignored. Current value: num_threads=6\n",
            "[LightGBM] [Warning] num_threads is set=6, n_jobs=-1 will be ignored. Current value: num_threads=6\n",
            "[LightGBM] [Warning] num_threads is set=6, n_jobs=-1 will be ignored. Current value: num_threads=6\n"
          ]
        },
        {
          "name": "stderr",
          "output_type": "stream",
          "text": [
            "[I 2023-11-12 08:09:59,100] Trial 45 finished with value: 0.5964419383660295 and parameters: {'n_estimators': 500, 'learning_rate': 0.22005626360630157, 'min_split_gain': 0.021634375337918357, 'max_depth': 3, 'max_cat_threshold': 8, 'cat_l2': 60.53187757356105}. Best is trial 31 with value: 0.6908604431032936.\n"
          ]
        },
        {
          "name": "stdout",
          "output_type": "stream",
          "text": [
            "[LightGBM] [Warning] num_threads is set=6, n_jobs=-1 will be ignored. Current value: num_threads=6\n",
            "[LightGBM] [Warning] num_threads is set=6, n_jobs=-1 will be ignored. Current value: num_threads=6\n",
            "[LightGBM] [Warning] num_threads is set=6, n_jobs=-1 will be ignored. Current value: num_threads=6\n",
            "[LightGBM] [Warning] num_threads is set=6, n_jobs=-1 will be ignored. Current value: num_threads=6\n",
            "[LightGBM] [Warning] num_threads is set=6, n_jobs=-1 will be ignored. Current value: num_threads=6\n"
          ]
        },
        {
          "name": "stderr",
          "output_type": "stream",
          "text": [
            "[I 2023-11-12 08:10:18,731] Trial 46 finished with value: 0.6842572693265572 and parameters: {'n_estimators': 500, 'learning_rate': 0.24415306709113882, 'min_split_gain': 0.03033694971000647, 'max_depth': 5, 'max_cat_threshold': 64, 'cat_l2': 66.98535730841117}. Best is trial 31 with value: 0.6908604431032936.\n"
          ]
        },
        {
          "name": "stdout",
          "output_type": "stream",
          "text": [
            "[LightGBM] [Warning] num_threads is set=6, n_jobs=-1 will be ignored. Current value: num_threads=6\n",
            "[LightGBM] [Warning] num_threads is set=6, n_jobs=-1 will be ignored. Current value: num_threads=6\n",
            "[LightGBM] [Warning] num_threads is set=6, n_jobs=-1 will be ignored. Current value: num_threads=6\n",
            "[LightGBM] [Warning] num_threads is set=6, n_jobs=-1 will be ignored. Current value: num_threads=6\n",
            "[LightGBM] [Warning] num_threads is set=6, n_jobs=-1 will be ignored. Current value: num_threads=6\n"
          ]
        },
        {
          "name": "stderr",
          "output_type": "stream",
          "text": [
            "[I 2023-11-12 08:10:40,096] Trial 47 finished with value: 0.6837970401013098 and parameters: {'n_estimators': 500, 'learning_rate': 0.28309599963649246, 'min_split_gain': 0.03746490295254025, 'max_depth': 8, 'max_cat_threshold': 128, 'cat_l2': 54.08378351841454}. Best is trial 31 with value: 0.6908604431032936.\n"
          ]
        },
        {
          "name": "stdout",
          "output_type": "stream",
          "text": [
            "[LightGBM] [Warning] num_threads is set=6, n_jobs=-1 will be ignored. Current value: num_threads=6\n",
            "[LightGBM] [Warning] num_threads is set=6, n_jobs=-1 will be ignored. Current value: num_threads=6\n",
            "[LightGBM] [Warning] num_threads is set=6, n_jobs=-1 will be ignored. Current value: num_threads=6\n",
            "[LightGBM] [Warning] num_threads is set=6, n_jobs=-1 will be ignored. Current value: num_threads=6\n",
            "[LightGBM] [Warning] num_threads is set=6, n_jobs=-1 will be ignored. Current value: num_threads=6\n"
          ]
        },
        {
          "name": "stderr",
          "output_type": "stream",
          "text": [
            "[I 2023-11-12 08:11:01,136] Trial 48 finished with value: 0.6848375045392261 and parameters: {'n_estimators': 500, 'learning_rate': 0.23325467607171008, 'min_split_gain': 0.04554216295482416, 'max_depth': 10, 'max_cat_threshold': 128, 'cat_l2': 31.64065838786004}. Best is trial 31 with value: 0.6908604431032936.\n"
          ]
        },
        {
          "name": "stdout",
          "output_type": "stream",
          "text": [
            "[LightGBM] [Warning] num_threads is set=6, n_jobs=-1 will be ignored. Current value: num_threads=6\n",
            "[LightGBM] [Warning] num_threads is set=6, n_jobs=-1 will be ignored. Current value: num_threads=6\n",
            "[LightGBM] [Warning] num_threads is set=6, n_jobs=-1 will be ignored. Current value: num_threads=6\n",
            "[LightGBM] [Warning] num_threads is set=6, n_jobs=-1 will be ignored. Current value: num_threads=6\n",
            "[LightGBM] [Warning] num_threads is set=6, n_jobs=-1 will be ignored. Current value: num_threads=6\n"
          ]
        },
        {
          "name": "stderr",
          "output_type": "stream",
          "text": [
            "[I 2023-11-12 08:11:21,758] Trial 49 finished with value: 0.6831696465176165 and parameters: {'n_estimators': 500, 'learning_rate': 0.21142650000055518, 'min_split_gain': 0.03160404502326519, 'max_depth': 8, 'max_cat_threshold': 64, 'cat_l2': 23.143621119195824}. Best is trial 31 with value: 0.6908604431032936.\n"
          ]
        },
        {
          "name": "stdout",
          "output_type": "stream",
          "text": [
            "[LightGBM] [Warning] num_threads is set=6, n_jobs=-1 will be ignored. Current value: num_threads=6\n",
            "[LightGBM] [Warning] num_threads is set=6, n_jobs=-1 will be ignored. Current value: num_threads=6\n",
            "[LightGBM] [Warning] num_threads is set=6, n_jobs=-1 will be ignored. Current value: num_threads=6\n",
            "[LightGBM] [Warning] num_threads is set=6, n_jobs=-1 will be ignored. Current value: num_threads=6\n",
            "[LightGBM] [Warning] num_threads is set=6, n_jobs=-1 will be ignored. Current value: num_threads=6\n"
          ]
        },
        {
          "name": "stderr",
          "output_type": "stream",
          "text": [
            "[I 2023-11-12 08:11:43,547] Trial 50 finished with value: 0.6822607641170617 and parameters: {'n_estimators': 500, 'learning_rate': 0.16730832795858858, 'min_split_gain': 0.05243885783092306, 'max_depth': 10, 'max_cat_threshold': 16, 'cat_l2': 41.50867957028911}. Best is trial 31 with value: 0.6908604431032936.\n"
          ]
        },
        {
          "name": "stdout",
          "output_type": "stream",
          "text": [
            "[LightGBM] [Warning] num_threads is set=6, n_jobs=-1 will be ignored. Current value: num_threads=6\n",
            "[LightGBM] [Warning] num_threads is set=6, n_jobs=-1 will be ignored. Current value: num_threads=6\n",
            "[LightGBM] [Warning] num_threads is set=6, n_jobs=-1 will be ignored. Current value: num_threads=6\n",
            "[LightGBM] [Warning] num_threads is set=6, n_jobs=-1 will be ignored. Current value: num_threads=6\n",
            "[LightGBM] [Warning] num_threads is set=6, n_jobs=-1 will be ignored. Current value: num_threads=6\n"
          ]
        },
        {
          "name": "stderr",
          "output_type": "stream",
          "text": [
            "[I 2023-11-12 08:12:03,931] Trial 51 finished with value: 0.6870804312771306 and parameters: {'n_estimators': 500, 'learning_rate': 0.1965417624180153, 'min_split_gain': 0.03928705091633662, 'max_depth': 10, 'max_cat_threshold': 32, 'cat_l2': 54.176400173285195}. Best is trial 31 with value: 0.6908604431032936.\n"
          ]
        },
        {
          "name": "stdout",
          "output_type": "stream",
          "text": [
            "[LightGBM] [Warning] num_threads is set=6, n_jobs=-1 will be ignored. Current value: num_threads=6\n",
            "[LightGBM] [Warning] num_threads is set=6, n_jobs=-1 will be ignored. Current value: num_threads=6\n",
            "[LightGBM] [Warning] num_threads is set=6, n_jobs=-1 will be ignored. Current value: num_threads=6\n",
            "[LightGBM] [Warning] num_threads is set=6, n_jobs=-1 will be ignored. Current value: num_threads=6\n",
            "[LightGBM] [Warning] num_threads is set=6, n_jobs=-1 will be ignored. Current value: num_threads=6\n"
          ]
        },
        {
          "name": "stderr",
          "output_type": "stream",
          "text": [
            "[I 2023-11-12 08:12:23,832] Trial 52 finished with value: 0.6835125859160193 and parameters: {'n_estimators': 500, 'learning_rate': 0.1900065376707153, 'min_split_gain': 0.04010570373263653, 'max_depth': 10, 'max_cat_threshold': 32, 'cat_l2': 52.033199169494395}. Best is trial 31 with value: 0.6908604431032936.\n"
          ]
        },
        {
          "name": "stdout",
          "output_type": "stream",
          "text": [
            "[LightGBM] [Warning] num_threads is set=6, n_jobs=-1 will be ignored. Current value: num_threads=6\n",
            "[LightGBM] [Warning] num_threads is set=6, n_jobs=-1 will be ignored. Current value: num_threads=6\n",
            "[LightGBM] [Warning] num_threads is set=6, n_jobs=-1 will be ignored. Current value: num_threads=6\n",
            "[LightGBM] [Warning] num_threads is set=6, n_jobs=-1 will be ignored. Current value: num_threads=6\n",
            "[LightGBM] [Warning] num_threads is set=6, n_jobs=-1 will be ignored. Current value: num_threads=6\n"
          ]
        },
        {
          "name": "stderr",
          "output_type": "stream",
          "text": [
            "[I 2023-11-12 08:12:43,469] Trial 53 finished with value: 0.6890083267964284 and parameters: {'n_estimators': 500, 'learning_rate': 0.22609850714123206, 'min_split_gain': 0.035016698890970636, 'max_depth': 10, 'max_cat_threshold': 32, 'cat_l2': 47.3158103097262}. Best is trial 31 with value: 0.6908604431032936.\n"
          ]
        },
        {
          "name": "stdout",
          "output_type": "stream",
          "text": [
            "[LightGBM] [Warning] num_threads is set=6, n_jobs=-1 will be ignored. Current value: num_threads=6\n",
            "[LightGBM] [Warning] num_threads is set=6, n_jobs=-1 will be ignored. Current value: num_threads=6\n",
            "[LightGBM] [Warning] num_threads is set=6, n_jobs=-1 will be ignored. Current value: num_threads=6\n",
            "[LightGBM] [Warning] num_threads is set=6, n_jobs=-1 will be ignored. Current value: num_threads=6\n",
            "[LightGBM] [Warning] num_threads is set=6, n_jobs=-1 will be ignored. Current value: num_threads=6\n"
          ]
        },
        {
          "name": "stderr",
          "output_type": "stream",
          "text": [
            "[I 2023-11-12 08:13:03,152] Trial 54 finished with value: 0.6872062260071989 and parameters: {'n_estimators': 500, 'learning_rate': 0.22452416149779536, 'min_split_gain': 0.03455535951854757, 'max_depth': 10, 'max_cat_threshold': 32, 'cat_l2': 47.1980278431471}. Best is trial 31 with value: 0.6908604431032936.\n"
          ]
        },
        {
          "name": "stdout",
          "output_type": "stream",
          "text": [
            "[LightGBM] [Warning] num_threads is set=6, n_jobs=-1 will be ignored. Current value: num_threads=6\n",
            "[LightGBM] [Warning] num_threads is set=6, n_jobs=-1 will be ignored. Current value: num_threads=6\n",
            "[LightGBM] [Warning] num_threads is set=6, n_jobs=-1 will be ignored. Current value: num_threads=6\n",
            "[LightGBM] [Warning] num_threads is set=6, n_jobs=-1 will be ignored. Current value: num_threads=6\n",
            "[LightGBM] [Warning] num_threads is set=6, n_jobs=-1 will be ignored. Current value: num_threads=6\n"
          ]
        },
        {
          "name": "stderr",
          "output_type": "stream",
          "text": [
            "[I 2023-11-12 08:13:22,871] Trial 55 finished with value: 0.6850754290068245 and parameters: {'n_estimators': 500, 'learning_rate': 0.21303614326123163, 'min_split_gain': 0.026595222755241066, 'max_depth': 6, 'max_cat_threshold': 32, 'cat_l2': 34.07444635735972}. Best is trial 31 with value: 0.6908604431032936.\n"
          ]
        },
        {
          "name": "stdout",
          "output_type": "stream",
          "text": [
            "[LightGBM] [Warning] num_threads is set=6, n_jobs=-1 will be ignored. Current value: num_threads=6\n",
            "[LightGBM] [Warning] num_threads is set=6, n_jobs=-1 will be ignored. Current value: num_threads=6\n",
            "[LightGBM] [Warning] num_threads is set=6, n_jobs=-1 will be ignored. Current value: num_threads=6\n",
            "[LightGBM] [Warning] num_threads is set=6, n_jobs=-1 will be ignored. Current value: num_threads=6\n",
            "[LightGBM] [Warning] num_threads is set=6, n_jobs=-1 will be ignored. Current value: num_threads=6\n"
          ]
        },
        {
          "name": "stderr",
          "output_type": "stream",
          "text": [
            "[I 2023-11-12 08:13:42,549] Trial 56 finished with value: 0.6748240719106449 and parameters: {'n_estimators': 500, 'learning_rate': 0.2652735061860572, 'min_split_gain': 0.046996165711338196, 'max_depth': 8, 'max_cat_threshold': 8, 'cat_l2': 44.81699819463889}. Best is trial 31 with value: 0.6908604431032936.\n"
          ]
        },
        {
          "name": "stdout",
          "output_type": "stream",
          "text": [
            "[LightGBM] [Warning] num_threads is set=6, n_jobs=-1 will be ignored. Current value: num_threads=6\n",
            "[LightGBM] [Warning] num_threads is set=6, n_jobs=-1 will be ignored. Current value: num_threads=6\n",
            "[LightGBM] [Warning] num_threads is set=6, n_jobs=-1 will be ignored. Current value: num_threads=6\n",
            "[LightGBM] [Warning] num_threads is set=6, n_jobs=-1 will be ignored. Current value: num_threads=6\n",
            "[LightGBM] [Warning] num_threads is set=6, n_jobs=-1 will be ignored. Current value: num_threads=6\n"
          ]
        },
        {
          "name": "stderr",
          "output_type": "stream",
          "text": [
            "[I 2023-11-12 08:13:58,216] Trial 57 finished with value: 0.6596890093709031 and parameters: {'n_estimators': 500, 'learning_rate': 0.24574007324799108, 'min_split_gain': 0.030448216767598985, 'max_depth': 4, 'max_cat_threshold': 32, 'cat_l2': 38.48381521242359}. Best is trial 31 with value: 0.6908604431032936.\n"
          ]
        },
        {
          "name": "stdout",
          "output_type": "stream",
          "text": [
            "[LightGBM] [Warning] num_threads is set=6, n_jobs=-1 will be ignored. Current value: num_threads=6\n",
            "[LightGBM] [Warning] num_threads is set=6, n_jobs=-1 will be ignored. Current value: num_threads=6\n",
            "[LightGBM] [Warning] num_threads is set=6, n_jobs=-1 will be ignored. Current value: num_threads=6\n",
            "[LightGBM] [Warning] num_threads is set=6, n_jobs=-1 will be ignored. Current value: num_threads=6\n",
            "[LightGBM] [Warning] num_threads is set=6, n_jobs=-1 will be ignored. Current value: num_threads=6\n"
          ]
        },
        {
          "name": "stderr",
          "output_type": "stream",
          "text": [
            "[I 2023-11-12 08:14:19,508] Trial 58 finished with value: 0.6870879651684995 and parameters: {'n_estimators': 500, 'learning_rate': 0.2552372109978243, 'min_split_gain': 0.035611754153855875, 'max_depth': 10, 'max_cat_threshold': 128, 'cat_l2': 49.18209189309184}. Best is trial 31 with value: 0.6908604431032936.\n"
          ]
        },
        {
          "name": "stdout",
          "output_type": "stream",
          "text": [
            "[LightGBM] [Warning] num_threads is set=6, n_jobs=-1 will be ignored. Current value: num_threads=6\n",
            "[LightGBM] [Warning] num_threads is set=6, n_jobs=-1 will be ignored. Current value: num_threads=6\n",
            "[LightGBM] [Warning] num_threads is set=6, n_jobs=-1 will be ignored. Current value: num_threads=6\n",
            "[LightGBM] [Warning] num_threads is set=6, n_jobs=-1 will be ignored. Current value: num_threads=6\n",
            "[LightGBM] [Warning] num_threads is set=6, n_jobs=-1 will be ignored. Current value: num_threads=6\n"
          ]
        },
        {
          "name": "stderr",
          "output_type": "stream",
          "text": [
            "[I 2023-11-12 08:14:32,597] Trial 59 finished with value: 0.6246958621354206 and parameters: {'n_estimators': 500, 'learning_rate': 0.21169794470823253, 'min_split_gain': 0.044813256928213696, 'max_depth': 3, 'max_cat_threshold': 32, 'cat_l2': 59.73437816558882}. Best is trial 31 with value: 0.6908604431032936.\n"
          ]
        },
        {
          "name": "stdout",
          "output_type": "stream",
          "text": [
            "[LightGBM] [Warning] num_threads is set=6, n_jobs=-1 will be ignored. Current value: num_threads=6\n",
            "[LightGBM] [Warning] num_threads is set=6, n_jobs=-1 will be ignored. Current value: num_threads=6\n",
            "[LightGBM] [Warning] num_threads is set=6, n_jobs=-1 will be ignored. Current value: num_threads=6\n",
            "[LightGBM] [Warning] num_threads is set=6, n_jobs=-1 will be ignored. Current value: num_threads=6\n",
            "[LightGBM] [Warning] num_threads is set=6, n_jobs=-1 will be ignored. Current value: num_threads=6\n"
          ]
        },
        {
          "name": "stderr",
          "output_type": "stream",
          "text": [
            "[I 2023-11-12 08:14:54,063] Trial 60 finished with value: 0.6838698695179044 and parameters: {'n_estimators': 500, 'learning_rate': 0.22576546461823302, 'min_split_gain': 0.019466482706143963, 'max_depth': 10, 'max_cat_threshold': 128, 'cat_l2': 42.737716775235825}. Best is trial 31 with value: 0.6908604431032936.\n"
          ]
        },
        {
          "name": "stdout",
          "output_type": "stream",
          "text": [
            "[LightGBM] [Warning] num_threads is set=6, n_jobs=-1 will be ignored. Current value: num_threads=6\n",
            "[LightGBM] [Warning] num_threads is set=6, n_jobs=-1 will be ignored. Current value: num_threads=6\n",
            "[LightGBM] [Warning] num_threads is set=6, n_jobs=-1 will be ignored. Current value: num_threads=6\n",
            "[LightGBM] [Warning] num_threads is set=6, n_jobs=-1 will be ignored. Current value: num_threads=6\n",
            "[LightGBM] [Warning] num_threads is set=6, n_jobs=-1 will be ignored. Current value: num_threads=6\n"
          ]
        },
        {
          "name": "stderr",
          "output_type": "stream",
          "text": [
            "[I 2023-11-12 08:15:14,772] Trial 61 finished with value: 0.6890726944371459 and parameters: {'n_estimators': 500, 'learning_rate': 0.2254252911931832, 'min_split_gain': 0.033889540314170116, 'max_depth': 10, 'max_cat_threshold': 32, 'cat_l2': 47.80815785855845}. Best is trial 31 with value: 0.6908604431032936.\n"
          ]
        },
        {
          "name": "stdout",
          "output_type": "stream",
          "text": [
            "[LightGBM] [Warning] num_threads is set=6, n_jobs=-1 will be ignored. Current value: num_threads=6\n",
            "[LightGBM] [Warning] num_threads is set=6, n_jobs=-1 will be ignored. Current value: num_threads=6\n",
            "[LightGBM] [Warning] num_threads is set=6, n_jobs=-1 will be ignored. Current value: num_threads=6\n",
            "[LightGBM] [Warning] num_threads is set=6, n_jobs=-1 will be ignored. Current value: num_threads=6\n",
            "[LightGBM] [Warning] num_threads is set=6, n_jobs=-1 will be ignored. Current value: num_threads=6\n"
          ]
        },
        {
          "name": "stderr",
          "output_type": "stream",
          "text": [
            "[I 2023-11-12 08:15:34,802] Trial 62 finished with value: 0.6875382221867425 and parameters: {'n_estimators': 500, 'learning_rate': 0.23949808302033038, 'min_split_gain': 0.03283951796337265, 'max_depth': 10, 'max_cat_threshold': 32, 'cat_l2': 45.43143860168316}. Best is trial 31 with value: 0.6908604431032936.\n"
          ]
        },
        {
          "name": "stdout",
          "output_type": "stream",
          "text": [
            "[LightGBM] [Warning] num_threads is set=6, n_jobs=-1 will be ignored. Current value: num_threads=6\n",
            "[LightGBM] [Warning] num_threads is set=6, n_jobs=-1 will be ignored. Current value: num_threads=6\n",
            "[LightGBM] [Warning] num_threads is set=6, n_jobs=-1 will be ignored. Current value: num_threads=6\n",
            "[LightGBM] [Warning] num_threads is set=6, n_jobs=-1 will be ignored. Current value: num_threads=6\n",
            "[LightGBM] [Warning] num_threads is set=6, n_jobs=-1 will be ignored. Current value: num_threads=6\n"
          ]
        },
        {
          "name": "stderr",
          "output_type": "stream",
          "text": [
            "[I 2023-11-12 08:15:55,164] Trial 63 finished with value: 0.68777687575231 and parameters: {'n_estimators': 500, 'learning_rate': 0.22796153439126915, 'min_split_gain': 0.04155398765340046, 'max_depth': 10, 'max_cat_threshold': 32, 'cat_l2': 55.507373601141}. Best is trial 31 with value: 0.6908604431032936.\n"
          ]
        },
        {
          "name": "stdout",
          "output_type": "stream",
          "text": [
            "[LightGBM] [Warning] num_threads is set=6, n_jobs=-1 will be ignored. Current value: num_threads=6\n",
            "[LightGBM] [Warning] num_threads is set=6, n_jobs=-1 will be ignored. Current value: num_threads=6\n",
            "[LightGBM] [Warning] num_threads is set=6, n_jobs=-1 will be ignored. Current value: num_threads=6\n",
            "[LightGBM] [Warning] num_threads is set=6, n_jobs=-1 will be ignored. Current value: num_threads=6\n",
            "[LightGBM] [Warning] num_threads is set=6, n_jobs=-1 will be ignored. Current value: num_threads=6\n"
          ]
        },
        {
          "name": "stderr",
          "output_type": "stream",
          "text": [
            "[I 2023-11-12 08:16:15,423] Trial 64 finished with value: 0.6884398910756395 and parameters: {'n_estimators': 500, 'learning_rate': 0.26270849426482606, 'min_split_gain': 0.028289323238869363, 'max_depth': 10, 'max_cat_threshold': 32, 'cat_l2': 55.84510304025694}. Best is trial 31 with value: 0.6908604431032936.\n"
          ]
        },
        {
          "name": "stdout",
          "output_type": "stream",
          "text": [
            "[LightGBM] [Warning] num_threads is set=6, n_jobs=-1 will be ignored. Current value: num_threads=6\n",
            "[LightGBM] [Warning] num_threads is set=6, n_jobs=-1 will be ignored. Current value: num_threads=6\n",
            "[LightGBM] [Warning] num_threads is set=6, n_jobs=-1 will be ignored. Current value: num_threads=6\n",
            "[LightGBM] [Warning] num_threads is set=6, n_jobs=-1 will be ignored. Current value: num_threads=6\n",
            "[LightGBM] [Warning] num_threads is set=6, n_jobs=-1 will be ignored. Current value: num_threads=6\n"
          ]
        },
        {
          "name": "stderr",
          "output_type": "stream",
          "text": [
            "[I 2023-11-12 08:16:34,953] Trial 65 finished with value: 0.6831991903238717 and parameters: {'n_estimators': 500, 'learning_rate': 0.2652615636413784, 'min_split_gain': 0.02778458463458888, 'max_depth': 5, 'max_cat_threshold': 32, 'cat_l2': 51.92029926018643}. Best is trial 31 with value: 0.6908604431032936.\n"
          ]
        },
        {
          "name": "stdout",
          "output_type": "stream",
          "text": [
            "[LightGBM] [Warning] num_threads is set=6, n_jobs=-1 will be ignored. Current value: num_threads=6\n",
            "[LightGBM] [Warning] num_threads is set=6, n_jobs=-1 will be ignored. Current value: num_threads=6\n",
            "[LightGBM] [Warning] num_threads is set=6, n_jobs=-1 will be ignored. Current value: num_threads=6\n",
            "[LightGBM] [Warning] num_threads is set=6, n_jobs=-1 will be ignored. Current value: num_threads=6\n",
            "[LightGBM] [Warning] num_threads is set=6, n_jobs=-1 will be ignored. Current value: num_threads=6\n"
          ]
        },
        {
          "name": "stderr",
          "output_type": "stream",
          "text": [
            "[I 2023-11-12 08:16:55,440] Trial 66 finished with value: 0.6691687010471652 and parameters: {'n_estimators': 500, 'learning_rate': 0.2873595331546329, 'min_split_gain': 0.02421493309308701, 'max_depth': -1, 'max_cat_threshold': 32, 'cat_l2': 58.40866743025603}. Best is trial 31 with value: 0.6908604431032936.\n"
          ]
        },
        {
          "name": "stdout",
          "output_type": "stream",
          "text": [
            "[LightGBM] [Warning] num_threads is set=6, n_jobs=-1 will be ignored. Current value: num_threads=6\n",
            "[LightGBM] [Warning] num_threads is set=6, n_jobs=-1 will be ignored. Current value: num_threads=6\n",
            "[LightGBM] [Warning] num_threads is set=6, n_jobs=-1 will be ignored. Current value: num_threads=6\n",
            "[LightGBM] [Warning] num_threads is set=6, n_jobs=-1 will be ignored. Current value: num_threads=6\n",
            "[LightGBM] [Warning] num_threads is set=6, n_jobs=-1 will be ignored. Current value: num_threads=6\n"
          ]
        },
        {
          "name": "stderr",
          "output_type": "stream",
          "text": [
            "[I 2023-11-12 08:17:15,516] Trial 67 finished with value: 0.689001962538061 and parameters: {'n_estimators': 500, 'learning_rate': 0.24982572609502535, 'min_split_gain': 0.028390983718812837, 'max_depth': 10, 'max_cat_threshold': 32, 'cat_l2': 49.428529443848134}. Best is trial 31 with value: 0.6908604431032936.\n"
          ]
        },
        {
          "name": "stdout",
          "output_type": "stream",
          "text": [
            "[LightGBM] [Warning] num_threads is set=6, n_jobs=-1 will be ignored. Current value: num_threads=6\n",
            "[LightGBM] [Warning] num_threads is set=6, n_jobs=-1 will be ignored. Current value: num_threads=6\n",
            "[LightGBM] [Warning] num_threads is set=6, n_jobs=-1 will be ignored. Current value: num_threads=6\n",
            "[LightGBM] [Warning] num_threads is set=6, n_jobs=-1 will be ignored. Current value: num_threads=6\n",
            "[LightGBM] [Warning] num_threads is set=6, n_jobs=-1 will be ignored. Current value: num_threads=6\n"
          ]
        },
        {
          "name": "stderr",
          "output_type": "stream",
          "text": [
            "[I 2023-11-12 08:17:35,837] Trial 68 finished with value: 0.6882819831066217 and parameters: {'n_estimators': 500, 'learning_rate': 0.2511841039468706, 'min_split_gain': 0.03670654256701842, 'max_depth': 8, 'max_cat_threshold': 32, 'cat_l2': 48.93797049374438}. Best is trial 31 with value: 0.6908604431032936.\n"
          ]
        },
        {
          "name": "stdout",
          "output_type": "stream",
          "text": [
            "[LightGBM] [Warning] num_threads is set=6, n_jobs=-1 will be ignored. Current value: num_threads=6\n",
            "[LightGBM] [Warning] num_threads is set=6, n_jobs=-1 will be ignored. Current value: num_threads=6\n",
            "[LightGBM] [Warning] num_threads is set=6, n_jobs=-1 will be ignored. Current value: num_threads=6\n",
            "[LightGBM] [Warning] num_threads is set=6, n_jobs=-1 will be ignored. Current value: num_threads=6\n",
            "[LightGBM] [Warning] num_threads is set=6, n_jobs=-1 will be ignored. Current value: num_threads=6\n"
          ]
        },
        {
          "name": "stderr",
          "output_type": "stream",
          "text": [
            "[I 2023-11-12 08:17:55,940] Trial 69 finished with value: 0.6900588543139661 and parameters: {'n_estimators': 500, 'learning_rate': 0.2399922188126666, 'min_split_gain': 0.028885630081828897, 'max_depth': 10, 'max_cat_threshold': 32, 'cat_l2': 40.90237389807658}. Best is trial 31 with value: 0.6908604431032936.\n"
          ]
        },
        {
          "name": "stdout",
          "output_type": "stream",
          "text": [
            "[LightGBM] [Warning] num_threads is set=6, n_jobs=-1 will be ignored. Current value: num_threads=6\n",
            "[LightGBM] [Warning] num_threads is set=6, n_jobs=-1 will be ignored. Current value: num_threads=6\n",
            "[LightGBM] [Warning] num_threads is set=6, n_jobs=-1 will be ignored. Current value: num_threads=6\n",
            "[LightGBM] [Warning] num_threads is set=6, n_jobs=-1 will be ignored. Current value: num_threads=6\n",
            "[LightGBM] [Warning] num_threads is set=6, n_jobs=-1 will be ignored. Current value: num_threads=6\n"
          ]
        },
        {
          "name": "stderr",
          "output_type": "stream",
          "text": [
            "[I 2023-11-12 08:18:15,893] Trial 70 finished with value: 0.6860018214576069 and parameters: {'n_estimators': 500, 'learning_rate': 0.24257404117723202, 'min_split_gain': 0.03011226072914755, 'max_depth': 10, 'max_cat_threshold': 32, 'cat_l2': 35.58907701211593}. Best is trial 31 with value: 0.6908604431032936.\n"
          ]
        },
        {
          "name": "stdout",
          "output_type": "stream",
          "text": [
            "[LightGBM] [Warning] num_threads is set=6, n_jobs=-1 will be ignored. Current value: num_threads=6\n",
            "[LightGBM] [Warning] num_threads is set=6, n_jobs=-1 will be ignored. Current value: num_threads=6\n",
            "[LightGBM] [Warning] num_threads is set=6, n_jobs=-1 will be ignored. Current value: num_threads=6\n",
            "[LightGBM] [Warning] num_threads is set=6, n_jobs=-1 will be ignored. Current value: num_threads=6\n",
            "[LightGBM] [Warning] num_threads is set=6, n_jobs=-1 will be ignored. Current value: num_threads=6\n"
          ]
        },
        {
          "name": "stderr",
          "output_type": "stream",
          "text": [
            "[I 2023-11-12 08:18:35,692] Trial 71 finished with value: 0.6882547226083615 and parameters: {'n_estimators': 500, 'learning_rate': 0.25773113186662594, 'min_split_gain': 0.03309474796663936, 'max_depth': 10, 'max_cat_threshold': 32, 'cat_l2': 46.330390941101314}. Best is trial 31 with value: 0.6908604431032936.\n"
          ]
        },
        {
          "name": "stdout",
          "output_type": "stream",
          "text": [
            "[LightGBM] [Warning] num_threads is set=6, n_jobs=-1 will be ignored. Current value: num_threads=6\n",
            "[LightGBM] [Warning] num_threads is set=6, n_jobs=-1 will be ignored. Current value: num_threads=6\n",
            "[LightGBM] [Warning] num_threads is set=6, n_jobs=-1 will be ignored. Current value: num_threads=6\n",
            "[LightGBM] [Warning] num_threads is set=6, n_jobs=-1 will be ignored. Current value: num_threads=6\n",
            "[LightGBM] [Warning] num_threads is set=6, n_jobs=-1 will be ignored. Current value: num_threads=6\n"
          ]
        },
        {
          "name": "stderr",
          "output_type": "stream",
          "text": [
            "[I 2023-11-12 08:18:55,296] Trial 72 finished with value: 0.6873509434473166 and parameters: {'n_estimators': 500, 'learning_rate': 0.27403639116951295, 'min_split_gain': 0.02799631731259533, 'max_depth': 10, 'max_cat_threshold': 32, 'cat_l2': 40.21887889296812}. Best is trial 31 with value: 0.6908604431032936.\n"
          ]
        },
        {
          "name": "stdout",
          "output_type": "stream",
          "text": [
            "[LightGBM] [Warning] num_threads is set=6, n_jobs=-1 will be ignored. Current value: num_threads=6\n",
            "[LightGBM] [Warning] num_threads is set=6, n_jobs=-1 will be ignored. Current value: num_threads=6\n",
            "[LightGBM] [Warning] num_threads is set=6, n_jobs=-1 will be ignored. Current value: num_threads=6\n",
            "[LightGBM] [Warning] num_threads is set=6, n_jobs=-1 will be ignored. Current value: num_threads=6\n",
            "[LightGBM] [Warning] num_threads is set=6, n_jobs=-1 will be ignored. Current value: num_threads=6\n"
          ]
        },
        {
          "name": "stderr",
          "output_type": "stream",
          "text": [
            "[I 2023-11-12 08:19:14,943] Trial 73 finished with value: 0.6871444347774278 and parameters: {'n_estimators': 500, 'learning_rate': 0.23806752764245073, 'min_split_gain': 0.021224397184882008, 'max_depth': 10, 'max_cat_threshold': 32, 'cat_l2': 43.934588310375446}. Best is trial 31 with value: 0.6908604431032936.\n"
          ]
        },
        {
          "name": "stdout",
          "output_type": "stream",
          "text": [
            "[LightGBM] [Warning] num_threads is set=6, n_jobs=-1 will be ignored. Current value: num_threads=6\n",
            "[LightGBM] [Warning] num_threads is set=6, n_jobs=-1 will be ignored. Current value: num_threads=6\n",
            "[LightGBM] [Warning] num_threads is set=6, n_jobs=-1 will be ignored. Current value: num_threads=6\n",
            "[LightGBM] [Warning] num_threads is set=6, n_jobs=-1 will be ignored. Current value: num_threads=6\n",
            "[LightGBM] [Warning] num_threads is set=6, n_jobs=-1 will be ignored. Current value: num_threads=6\n"
          ]
        },
        {
          "name": "stderr",
          "output_type": "stream",
          "text": [
            "[I 2023-11-12 08:19:34,537] Trial 74 finished with value: 0.6887672140015644 and parameters: {'n_estimators': 500, 'learning_rate': 0.21892128848636672, 'min_split_gain': 0.03801286735873887, 'max_depth': 10, 'max_cat_threshold': 32, 'cat_l2': 54.4609261815213}. Best is trial 31 with value: 0.6908604431032936.\n"
          ]
        },
        {
          "name": "stdout",
          "output_type": "stream",
          "text": [
            "[LightGBM] [Warning] num_threads is set=6, n_jobs=-1 will be ignored. Current value: num_threads=6\n",
            "[LightGBM] [Warning] num_threads is set=6, n_jobs=-1 will be ignored. Current value: num_threads=6\n",
            "[LightGBM] [Warning] num_threads is set=6, n_jobs=-1 will be ignored. Current value: num_threads=6\n",
            "[LightGBM] [Warning] num_threads is set=6, n_jobs=-1 will be ignored. Current value: num_threads=6\n",
            "[LightGBM] [Warning] num_threads is set=6, n_jobs=-1 will be ignored. Current value: num_threads=6\n"
          ]
        },
        {
          "name": "stderr",
          "output_type": "stream",
          "text": [
            "[I 2023-11-12 08:19:54,448] Trial 75 finished with value: 0.6866697593777125 and parameters: {'n_estimators': 500, 'learning_rate': 0.22987966414697378, 'min_split_gain': 0.03799102676781065, 'max_depth': 10, 'max_cat_threshold': 32, 'cat_l2': 49.77830324712888}. Best is trial 31 with value: 0.6908604431032936.\n"
          ]
        },
        {
          "name": "stdout",
          "output_type": "stream",
          "text": [
            "[LightGBM] [Warning] num_threads is set=6, n_jobs=-1 will be ignored. Current value: num_threads=6\n",
            "[LightGBM] [Warning] num_threads is set=6, n_jobs=-1 will be ignored. Current value: num_threads=6\n",
            "[LightGBM] [Warning] num_threads is set=6, n_jobs=-1 will be ignored. Current value: num_threads=6\n",
            "[LightGBM] [Warning] num_threads is set=6, n_jobs=-1 will be ignored. Current value: num_threads=6\n",
            "[LightGBM] [Warning] num_threads is set=6, n_jobs=-1 will be ignored. Current value: num_threads=6\n"
          ]
        },
        {
          "name": "stderr",
          "output_type": "stream",
          "text": [
            "[I 2023-11-12 08:20:14,304] Trial 76 finished with value: 0.685071573765684 and parameters: {'n_estimators': 500, 'learning_rate': 0.21908875892284543, 'min_split_gain': 0.035317972374839496, 'max_depth': 6, 'max_cat_threshold': 32, 'cat_l2': 52.15649981666092}. Best is trial 31 with value: 0.6908604431032936.\n"
          ]
        },
        {
          "name": "stdout",
          "output_type": "stream",
          "text": [
            "[LightGBM] [Warning] num_threads is set=6, n_jobs=-1 will be ignored. Current value: num_threads=6\n",
            "[LightGBM] [Warning] num_threads is set=6, n_jobs=-1 will be ignored. Current value: num_threads=6\n",
            "[LightGBM] [Warning] num_threads is set=6, n_jobs=-1 will be ignored. Current value: num_threads=6\n",
            "[LightGBM] [Warning] num_threads is set=6, n_jobs=-1 will be ignored. Current value: num_threads=6\n",
            "[LightGBM] [Warning] num_threads is set=6, n_jobs=-1 will be ignored. Current value: num_threads=6\n"
          ]
        },
        {
          "name": "stderr",
          "output_type": "stream",
          "text": [
            "[I 2023-11-12 08:20:34,620] Trial 77 finished with value: 0.6870646289451706 and parameters: {'n_estimators': 500, 'learning_rate': 0.2011011320026631, 'min_split_gain': 0.0327480885017443, 'max_depth': 10, 'max_cat_threshold': 32, 'cat_l2': 40.79931283864566}. Best is trial 31 with value: 0.6908604431032936.\n"
          ]
        },
        {
          "name": "stdout",
          "output_type": "stream",
          "text": [
            "[LightGBM] [Warning] num_threads is set=6, n_jobs=-1 will be ignored. Current value: num_threads=6\n",
            "[LightGBM] [Warning] num_threads is set=6, n_jobs=-1 will be ignored. Current value: num_threads=6\n",
            "[LightGBM] [Warning] num_threads is set=6, n_jobs=-1 will be ignored. Current value: num_threads=6\n",
            "[LightGBM] [Warning] num_threads is set=6, n_jobs=-1 will be ignored. Current value: num_threads=6\n",
            "[LightGBM] [Warning] num_threads is set=6, n_jobs=-1 will be ignored. Current value: num_threads=6\n"
          ]
        },
        {
          "name": "stderr",
          "output_type": "stream",
          "text": [
            "[I 2023-11-12 08:20:55,307] Trial 78 finished with value: 0.6727022345418903 and parameters: {'n_estimators': 500, 'learning_rate': 0.21424566299721892, 'min_split_gain': 0.04011040562785125, 'max_depth': 8, 'max_cat_threshold': 8, 'cat_l2': 47.7758009638346}. Best is trial 31 with value: 0.6908604431032936.\n"
          ]
        },
        {
          "name": "stdout",
          "output_type": "stream",
          "text": [
            "[LightGBM] [Warning] num_threads is set=6, n_jobs=-1 will be ignored. Current value: num_threads=6\n",
            "[LightGBM] [Warning] num_threads is set=6, n_jobs=-1 will be ignored. Current value: num_threads=6\n",
            "[LightGBM] [Warning] num_threads is set=6, n_jobs=-1 will be ignored. Current value: num_threads=6\n",
            "[LightGBM] [Warning] num_threads is set=6, n_jobs=-1 will be ignored. Current value: num_threads=6\n",
            "[LightGBM] [Warning] num_threads is set=6, n_jobs=-1 will be ignored. Current value: num_threads=6\n"
          ]
        },
        {
          "name": "stderr",
          "output_type": "stream",
          "text": [
            "[I 2023-11-12 08:21:16,396] Trial 79 finished with value: 0.6851011539545164 and parameters: {'n_estimators': 500, 'learning_rate': 0.2497142460869285, 'min_split_gain': 0.03647413965834458, 'max_depth': -1, 'max_cat_threshold': 16, 'cat_l2': 36.55047947728208}. Best is trial 31 with value: 0.6908604431032936.\n"
          ]
        },
        {
          "name": "stdout",
          "output_type": "stream",
          "text": [
            "[LightGBM] [Warning] num_threads is set=6, n_jobs=-1 will be ignored. Current value: num_threads=6\n",
            "[LightGBM] [Warning] num_threads is set=6, n_jobs=-1 will be ignored. Current value: num_threads=6\n",
            "[LightGBM] [Warning] num_threads is set=6, n_jobs=-1 will be ignored. Current value: num_threads=6\n",
            "[LightGBM] [Warning] num_threads is set=6, n_jobs=-1 will be ignored. Current value: num_threads=6\n",
            "[LightGBM] [Warning] num_threads is set=6, n_jobs=-1 will be ignored. Current value: num_threads=6\n"
          ]
        },
        {
          "name": "stderr",
          "output_type": "stream",
          "text": [
            "[I 2023-11-12 08:21:32,265] Trial 80 finished with value: 0.6660251246882829 and parameters: {'n_estimators': 500, 'learning_rate': 0.23761502391676564, 'min_split_gain': 0.04315390970424694, 'max_depth': 4, 'max_cat_threshold': 64, 'cat_l2': 43.80775100403931}. Best is trial 31 with value: 0.6908604431032936.\n"
          ]
        },
        {
          "name": "stdout",
          "output_type": "stream",
          "text": [
            "[LightGBM] [Warning] num_threads is set=6, n_jobs=-1 will be ignored. Current value: num_threads=6\n",
            "[LightGBM] [Warning] num_threads is set=6, n_jobs=-1 will be ignored. Current value: num_threads=6\n",
            "[LightGBM] [Warning] num_threads is set=6, n_jobs=-1 will be ignored. Current value: num_threads=6\n",
            "[LightGBM] [Warning] num_threads is set=6, n_jobs=-1 will be ignored. Current value: num_threads=6\n",
            "[LightGBM] [Warning] num_threads is set=6, n_jobs=-1 will be ignored. Current value: num_threads=6\n"
          ]
        },
        {
          "name": "stderr",
          "output_type": "stream",
          "text": [
            "[I 2023-11-12 08:21:52,551] Trial 81 finished with value: 0.6872810042687784 and parameters: {'n_estimators': 500, 'learning_rate': 0.2291409655820343, 'min_split_gain': 0.02860359049807236, 'max_depth': 10, 'max_cat_threshold': 32, 'cat_l2': 55.07193464842077}. Best is trial 31 with value: 0.6908604431032936.\n"
          ]
        },
        {
          "name": "stdout",
          "output_type": "stream",
          "text": [
            "[LightGBM] [Warning] num_threads is set=6, n_jobs=-1 will be ignored. Current value: num_threads=6\n",
            "[LightGBM] [Warning] num_threads is set=6, n_jobs=-1 will be ignored. Current value: num_threads=6\n",
            "[LightGBM] [Warning] num_threads is set=6, n_jobs=-1 will be ignored. Current value: num_threads=6\n",
            "[LightGBM] [Warning] num_threads is set=6, n_jobs=-1 will be ignored. Current value: num_threads=6\n",
            "[LightGBM] [Warning] num_threads is set=6, n_jobs=-1 will be ignored. Current value: num_threads=6\n"
          ]
        },
        {
          "name": "stderr",
          "output_type": "stream",
          "text": [
            "[I 2023-11-12 08:22:12,626] Trial 82 finished with value: 0.6833095638262108 and parameters: {'n_estimators': 500, 'learning_rate': 0.2587821870656838, 'min_split_gain': 0.025457271353127902, 'max_depth': 10, 'max_cat_threshold': 32, 'cat_l2': 54.03121056407595}. Best is trial 31 with value: 0.6908604431032936.\n"
          ]
        },
        {
          "name": "stdout",
          "output_type": "stream",
          "text": [
            "[LightGBM] [Warning] num_threads is set=6, n_jobs=-1 will be ignored. Current value: num_threads=6\n",
            "[LightGBM] [Warning] num_threads is set=6, n_jobs=-1 will be ignored. Current value: num_threads=6\n",
            "[LightGBM] [Warning] num_threads is set=6, n_jobs=-1 will be ignored. Current value: num_threads=6\n",
            "[LightGBM] [Warning] num_threads is set=6, n_jobs=-1 will be ignored. Current value: num_threads=6\n",
            "[LightGBM] [Warning] num_threads is set=6, n_jobs=-1 will be ignored. Current value: num_threads=6\n"
          ]
        },
        {
          "name": "stderr",
          "output_type": "stream",
          "text": [
            "[I 2023-11-12 08:22:32,213] Trial 83 finished with value: 0.6858704511218432 and parameters: {'n_estimators': 500, 'learning_rate': 0.24529907600948683, 'min_split_gain': 0.03138935156517045, 'max_depth': 10, 'max_cat_threshold': 32, 'cat_l2': 50.334511769826}. Best is trial 31 with value: 0.6908604431032936.\n"
          ]
        },
        {
          "name": "stdout",
          "output_type": "stream",
          "text": [
            "[LightGBM] [Warning] num_threads is set=6, n_jobs=-1 will be ignored. Current value: num_threads=6\n",
            "[LightGBM] [Warning] num_threads is set=6, n_jobs=-1 will be ignored. Current value: num_threads=6\n",
            "[LightGBM] [Warning] num_threads is set=6, n_jobs=-1 will be ignored. Current value: num_threads=6\n",
            "[LightGBM] [Warning] num_threads is set=6, n_jobs=-1 will be ignored. Current value: num_threads=6\n",
            "[LightGBM] [Warning] num_threads is set=6, n_jobs=-1 will be ignored. Current value: num_threads=6\n"
          ]
        },
        {
          "name": "stderr",
          "output_type": "stream",
          "text": [
            "[I 2023-11-12 08:22:51,892] Trial 84 finished with value: 0.6890096739824143 and parameters: {'n_estimators': 500, 'learning_rate': 0.2712083045394424, 'min_split_gain': 0.028802642055411463, 'max_depth': 10, 'max_cat_threshold': 32, 'cat_l2': 56.821912025413084}. Best is trial 31 with value: 0.6908604431032936.\n"
          ]
        },
        {
          "name": "stdout",
          "output_type": "stream",
          "text": [
            "[LightGBM] [Warning] num_threads is set=6, n_jobs=-1 will be ignored. Current value: num_threads=6\n",
            "[LightGBM] [Warning] num_threads is set=6, n_jobs=-1 will be ignored. Current value: num_threads=6\n",
            "[LightGBM] [Warning] num_threads is set=6, n_jobs=-1 will be ignored. Current value: num_threads=6\n",
            "[LightGBM] [Warning] num_threads is set=6, n_jobs=-1 will be ignored. Current value: num_threads=6\n",
            "[LightGBM] [Warning] num_threads is set=6, n_jobs=-1 will be ignored. Current value: num_threads=6\n"
          ]
        },
        {
          "name": "stderr",
          "output_type": "stream",
          "text": [
            "[I 2023-11-12 08:23:11,359] Trial 85 finished with value: 0.6850388174782395 and parameters: {'n_estimators': 500, 'learning_rate': 0.22249693558832812, 'min_split_gain': 0.023928406853461308, 'max_depth': 10, 'max_cat_threshold': 32, 'cat_l2': 45.46155257300546}. Best is trial 31 with value: 0.6908604431032936.\n"
          ]
        },
        {
          "name": "stdout",
          "output_type": "stream",
          "text": [
            "[LightGBM] [Warning] num_threads is set=6, n_jobs=-1 will be ignored. Current value: num_threads=6\n",
            "[LightGBM] [Warning] num_threads is set=6, n_jobs=-1 will be ignored. Current value: num_threads=6\n",
            "[LightGBM] [Warning] num_threads is set=6, n_jobs=-1 will be ignored. Current value: num_threads=6\n",
            "[LightGBM] [Warning] num_threads is set=6, n_jobs=-1 will be ignored. Current value: num_threads=6\n",
            "[LightGBM] [Warning] num_threads is set=6, n_jobs=-1 will be ignored. Current value: num_threads=6\n"
          ]
        },
        {
          "name": "stderr",
          "output_type": "stream",
          "text": [
            "[I 2023-11-12 08:23:24,354] Trial 86 finished with value: 0.6252850090710655 and parameters: {'n_estimators': 500, 'learning_rate': 0.206363334952048, 'min_split_gain': 0.0340967331014372, 'max_depth': 3, 'max_cat_threshold': 32, 'cat_l2': 47.899955478089836}. Best is trial 31 with value: 0.6908604431032936.\n"
          ]
        },
        {
          "name": "stdout",
          "output_type": "stream",
          "text": [
            "[LightGBM] [Warning] num_threads is set=6, n_jobs=-1 will be ignored. Current value: num_threads=6\n",
            "[LightGBM] [Warning] num_threads is set=6, n_jobs=-1 will be ignored. Current value: num_threads=6\n",
            "[LightGBM] [Warning] num_threads is set=6, n_jobs=-1 will be ignored. Current value: num_threads=6\n",
            "[LightGBM] [Warning] num_threads is set=6, n_jobs=-1 will be ignored. Current value: num_threads=6\n",
            "[LightGBM] [Warning] num_threads is set=6, n_jobs=-1 will be ignored. Current value: num_threads=6\n"
          ]
        },
        {
          "name": "stderr",
          "output_type": "stream",
          "text": [
            "[I 2023-11-12 08:23:44,352] Trial 87 finished with value: 0.6843998569078256 and parameters: {'n_estimators': 500, 'learning_rate': 0.27709193848636127, 'min_split_gain': 0.031282583776497515, 'max_depth': 10, 'max_cat_threshold': 64, 'cat_l2': 52.907085080155696}. Best is trial 31 with value: 0.6908604431032936.\n"
          ]
        },
        {
          "name": "stdout",
          "output_type": "stream",
          "text": [
            "[LightGBM] [Warning] num_threads is set=6, n_jobs=-1 will be ignored. Current value: num_threads=6\n",
            "[LightGBM] [Warning] num_threads is set=6, n_jobs=-1 will be ignored. Current value: num_threads=6\n",
            "[LightGBM] [Warning] num_threads is set=6, n_jobs=-1 will be ignored. Current value: num_threads=6\n",
            "[LightGBM] [Warning] num_threads is set=6, n_jobs=-1 will be ignored. Current value: num_threads=6\n",
            "[LightGBM] [Warning] num_threads is set=6, n_jobs=-1 will be ignored. Current value: num_threads=6\n"
          ]
        },
        {
          "name": "stderr",
          "output_type": "stream",
          "text": [
            "[I 2023-11-12 08:24:03,182] Trial 88 finished with value: 0.6783074742883776 and parameters: {'n_estimators': 500, 'learning_rate': 0.23778628667105395, 'min_split_gain': 0.03863277641214161, 'max_depth': 5, 'max_cat_threshold': 32, 'cat_l2': 60.726914347843845}. Best is trial 31 with value: 0.6908604431032936.\n"
          ]
        },
        {
          "name": "stdout",
          "output_type": "stream",
          "text": [
            "[LightGBM] [Warning] num_threads is set=6, n_jobs=-1 will be ignored. Current value: num_threads=6\n",
            "[LightGBM] [Warning] num_threads is set=6, n_jobs=-1 will be ignored. Current value: num_threads=6\n",
            "[LightGBM] [Warning] num_threads is set=6, n_jobs=-1 will be ignored. Current value: num_threads=6\n"
          ]
        },
        {
          "name": "stderr",
          "output_type": "stream",
          "text": [
            "[W 2023-11-12 08:24:15,286] Trial 89 failed with parameters: {'n_estimators': 500, 'learning_rate': 0.27093410663966183, 'min_split_gain': 0.035938970211483005, 'max_depth': 10, 'max_cat_threshold': 32, 'cat_l2': 40.637649698069765} because of the following error: KeyboardInterrupt().\n",
            "Traceback (most recent call last):\n",
            "  File \"C:\\Anaconda3\\lib\\site-packages\\optuna\\study\\_optimize.py\", line 200, in _run_trial\n",
            "    value_or_values = func(trial)\n",
            "  File \"C:\\Users\\Егор\\AppData\\Local\\Temp\\ipykernel_14824\\4251613687.py\", line 33, in objective\n",
            "    for ti, di in StratifiedKFold(n_splits=5, shuffle=True).split(X, y):\n",
            "  File \"C:\\Anaconda3\\lib\\site-packages\\sklearn\\model_selection\\_split.py\", line 352, in split\n",
            "    for train, test in super().split(X, y, groups):\n",
            "  File \"C:\\Anaconda3\\lib\\site-packages\\sklearn\\model_selection\\_split.py\", line 87, in split\n",
            "    test_index = indices[test_index]\n",
            "KeyboardInterrupt\n",
            "[W 2023-11-12 08:24:15,309] Trial 89 failed with value None.\n"
          ]
        },
        {
          "ename": "KeyboardInterrupt",
          "evalue": "",
          "output_type": "error",
          "traceback": [
            "\u001b[1;31m---------------------------------------------------------------------------\u001b[0m",
            "\u001b[1;31mKeyboardInterrupt\u001b[0m                         Traceback (most recent call last)",
            "Cell \u001b[1;32mIn[413], line 60\u001b[0m\n\u001b[0;32m     56\u001b[0m     \u001b[38;5;28;01mreturn\u001b[39;00m np\u001b[38;5;241m.\u001b[39mmean(cvr)\n\u001b[0;32m     59\u001b[0m study \u001b[38;5;241m=\u001b[39m optuna\u001b[38;5;241m.\u001b[39mcreate_study(direction\u001b[38;5;241m=\u001b[39m\u001b[38;5;124m\"\u001b[39m\u001b[38;5;124mmaximize\u001b[39m\u001b[38;5;124m\"\u001b[39m, study_name\u001b[38;5;241m=\u001b[39m\u001b[38;5;124m\"\u001b[39m\u001b[38;5;124mLGBM Classifier\u001b[39m\u001b[38;5;124m\"\u001b[39m)\n\u001b[1;32m---> 60\u001b[0m \u001b[43mstudy\u001b[49m\u001b[38;5;241;43m.\u001b[39;49m\u001b[43moptimize\u001b[49m\u001b[43m(\u001b[49m\u001b[43mobjective\u001b[49m\u001b[43m,\u001b[49m\u001b[43m \u001b[49m\u001b[43mn_trials\u001b[49m\u001b[38;5;241;43m=\u001b[39;49m\u001b[38;5;241;43m100\u001b[39;49m\u001b[43m)\u001b[49m\n",
            "File \u001b[1;32mC:\\Anaconda3\\lib\\site-packages\\optuna\\study\\study.py:451\u001b[0m, in \u001b[0;36mStudy.optimize\u001b[1;34m(self, func, n_trials, timeout, n_jobs, catch, callbacks, gc_after_trial, show_progress_bar)\u001b[0m\n\u001b[0;32m    348\u001b[0m \u001b[38;5;28;01mdef\u001b[39;00m \u001b[38;5;21moptimize\u001b[39m(\n\u001b[0;32m    349\u001b[0m     \u001b[38;5;28mself\u001b[39m,\n\u001b[0;32m    350\u001b[0m     func: ObjectiveFuncType,\n\u001b[1;32m   (...)\u001b[0m\n\u001b[0;32m    357\u001b[0m     show_progress_bar: \u001b[38;5;28mbool\u001b[39m \u001b[38;5;241m=\u001b[39m \u001b[38;5;28;01mFalse\u001b[39;00m,\n\u001b[0;32m    358\u001b[0m ) \u001b[38;5;241m-\u001b[39m\u001b[38;5;241m>\u001b[39m \u001b[38;5;28;01mNone\u001b[39;00m:\n\u001b[0;32m    359\u001b[0m \u001b[38;5;250m    \u001b[39m\u001b[38;5;124;03m\"\"\"Optimize an objective function.\u001b[39;00m\n\u001b[0;32m    360\u001b[0m \n\u001b[0;32m    361\u001b[0m \u001b[38;5;124;03m    Optimization is done by choosing a suitable set of hyperparameter values from a given\u001b[39;00m\n\u001b[1;32m   (...)\u001b[0m\n\u001b[0;32m    449\u001b[0m \u001b[38;5;124;03m            If nested invocation of this method occurs.\u001b[39;00m\n\u001b[0;32m    450\u001b[0m \u001b[38;5;124;03m    \"\"\"\u001b[39;00m\n\u001b[1;32m--> 451\u001b[0m     \u001b[43m_optimize\u001b[49m\u001b[43m(\u001b[49m\n\u001b[0;32m    452\u001b[0m \u001b[43m        \u001b[49m\u001b[43mstudy\u001b[49m\u001b[38;5;241;43m=\u001b[39;49m\u001b[38;5;28;43mself\u001b[39;49m\u001b[43m,\u001b[49m\n\u001b[0;32m    453\u001b[0m \u001b[43m        \u001b[49m\u001b[43mfunc\u001b[49m\u001b[38;5;241;43m=\u001b[39;49m\u001b[43mfunc\u001b[49m\u001b[43m,\u001b[49m\n\u001b[0;32m    454\u001b[0m \u001b[43m        \u001b[49m\u001b[43mn_trials\u001b[49m\u001b[38;5;241;43m=\u001b[39;49m\u001b[43mn_trials\u001b[49m\u001b[43m,\u001b[49m\n\u001b[0;32m    455\u001b[0m \u001b[43m        \u001b[49m\u001b[43mtimeout\u001b[49m\u001b[38;5;241;43m=\u001b[39;49m\u001b[43mtimeout\u001b[49m\u001b[43m,\u001b[49m\n\u001b[0;32m    456\u001b[0m \u001b[43m        \u001b[49m\u001b[43mn_jobs\u001b[49m\u001b[38;5;241;43m=\u001b[39;49m\u001b[43mn_jobs\u001b[49m\u001b[43m,\u001b[49m\n\u001b[0;32m    457\u001b[0m \u001b[43m        \u001b[49m\u001b[43mcatch\u001b[49m\u001b[38;5;241;43m=\u001b[39;49m\u001b[38;5;28;43mtuple\u001b[39;49m\u001b[43m(\u001b[49m\u001b[43mcatch\u001b[49m\u001b[43m)\u001b[49m\u001b[43m \u001b[49m\u001b[38;5;28;43;01mif\u001b[39;49;00m\u001b[43m \u001b[49m\u001b[38;5;28;43misinstance\u001b[39;49m\u001b[43m(\u001b[49m\u001b[43mcatch\u001b[49m\u001b[43m,\u001b[49m\u001b[43m \u001b[49m\u001b[43mIterable\u001b[49m\u001b[43m)\u001b[49m\u001b[43m \u001b[49m\u001b[38;5;28;43;01melse\u001b[39;49;00m\u001b[43m \u001b[49m\u001b[43m(\u001b[49m\u001b[43mcatch\u001b[49m\u001b[43m,\u001b[49m\u001b[43m)\u001b[49m\u001b[43m,\u001b[49m\n\u001b[0;32m    458\u001b[0m \u001b[43m        \u001b[49m\u001b[43mcallbacks\u001b[49m\u001b[38;5;241;43m=\u001b[39;49m\u001b[43mcallbacks\u001b[49m\u001b[43m,\u001b[49m\n\u001b[0;32m    459\u001b[0m \u001b[43m        \u001b[49m\u001b[43mgc_after_trial\u001b[49m\u001b[38;5;241;43m=\u001b[39;49m\u001b[43mgc_after_trial\u001b[49m\u001b[43m,\u001b[49m\n\u001b[0;32m    460\u001b[0m \u001b[43m        \u001b[49m\u001b[43mshow_progress_bar\u001b[49m\u001b[38;5;241;43m=\u001b[39;49m\u001b[43mshow_progress_bar\u001b[49m\u001b[43m,\u001b[49m\n\u001b[0;32m    461\u001b[0m \u001b[43m    \u001b[49m\u001b[43m)\u001b[49m\n",
            "File \u001b[1;32mC:\\Anaconda3\\lib\\site-packages\\optuna\\study\\_optimize.py:66\u001b[0m, in \u001b[0;36m_optimize\u001b[1;34m(study, func, n_trials, timeout, n_jobs, catch, callbacks, gc_after_trial, show_progress_bar)\u001b[0m\n\u001b[0;32m     64\u001b[0m \u001b[38;5;28;01mtry\u001b[39;00m:\n\u001b[0;32m     65\u001b[0m     \u001b[38;5;28;01mif\u001b[39;00m n_jobs \u001b[38;5;241m==\u001b[39m \u001b[38;5;241m1\u001b[39m:\n\u001b[1;32m---> 66\u001b[0m         \u001b[43m_optimize_sequential\u001b[49m\u001b[43m(\u001b[49m\n\u001b[0;32m     67\u001b[0m \u001b[43m            \u001b[49m\u001b[43mstudy\u001b[49m\u001b[43m,\u001b[49m\n\u001b[0;32m     68\u001b[0m \u001b[43m            \u001b[49m\u001b[43mfunc\u001b[49m\u001b[43m,\u001b[49m\n\u001b[0;32m     69\u001b[0m \u001b[43m            \u001b[49m\u001b[43mn_trials\u001b[49m\u001b[43m,\u001b[49m\n\u001b[0;32m     70\u001b[0m \u001b[43m            \u001b[49m\u001b[43mtimeout\u001b[49m\u001b[43m,\u001b[49m\n\u001b[0;32m     71\u001b[0m \u001b[43m            \u001b[49m\u001b[43mcatch\u001b[49m\u001b[43m,\u001b[49m\n\u001b[0;32m     72\u001b[0m \u001b[43m            \u001b[49m\u001b[43mcallbacks\u001b[49m\u001b[43m,\u001b[49m\n\u001b[0;32m     73\u001b[0m \u001b[43m            \u001b[49m\u001b[43mgc_after_trial\u001b[49m\u001b[43m,\u001b[49m\n\u001b[0;32m     74\u001b[0m \u001b[43m            \u001b[49m\u001b[43mreseed_sampler_rng\u001b[49m\u001b[38;5;241;43m=\u001b[39;49m\u001b[38;5;28;43;01mFalse\u001b[39;49;00m\u001b[43m,\u001b[49m\n\u001b[0;32m     75\u001b[0m \u001b[43m            \u001b[49m\u001b[43mtime_start\u001b[49m\u001b[38;5;241;43m=\u001b[39;49m\u001b[38;5;28;43;01mNone\u001b[39;49;00m\u001b[43m,\u001b[49m\n\u001b[0;32m     76\u001b[0m \u001b[43m            \u001b[49m\u001b[43mprogress_bar\u001b[49m\u001b[38;5;241;43m=\u001b[39;49m\u001b[43mprogress_bar\u001b[49m\u001b[43m,\u001b[49m\n\u001b[0;32m     77\u001b[0m \u001b[43m        \u001b[49m\u001b[43m)\u001b[49m\n\u001b[0;32m     78\u001b[0m     \u001b[38;5;28;01melse\u001b[39;00m:\n\u001b[0;32m     79\u001b[0m         \u001b[38;5;28;01mif\u001b[39;00m n_jobs \u001b[38;5;241m==\u001b[39m \u001b[38;5;241m-\u001b[39m\u001b[38;5;241m1\u001b[39m:\n",
            "File \u001b[1;32mC:\\Anaconda3\\lib\\site-packages\\optuna\\study\\_optimize.py:163\u001b[0m, in \u001b[0;36m_optimize_sequential\u001b[1;34m(study, func, n_trials, timeout, catch, callbacks, gc_after_trial, reseed_sampler_rng, time_start, progress_bar)\u001b[0m\n\u001b[0;32m    160\u001b[0m         \u001b[38;5;28;01mbreak\u001b[39;00m\n\u001b[0;32m    162\u001b[0m \u001b[38;5;28;01mtry\u001b[39;00m:\n\u001b[1;32m--> 163\u001b[0m     frozen_trial \u001b[38;5;241m=\u001b[39m \u001b[43m_run_trial\u001b[49m\u001b[43m(\u001b[49m\u001b[43mstudy\u001b[49m\u001b[43m,\u001b[49m\u001b[43m \u001b[49m\u001b[43mfunc\u001b[49m\u001b[43m,\u001b[49m\u001b[43m \u001b[49m\u001b[43mcatch\u001b[49m\u001b[43m)\u001b[49m\n\u001b[0;32m    164\u001b[0m \u001b[38;5;28;01mfinally\u001b[39;00m:\n\u001b[0;32m    165\u001b[0m     \u001b[38;5;66;03m# The following line mitigates memory problems that can be occurred in some\u001b[39;00m\n\u001b[0;32m    166\u001b[0m     \u001b[38;5;66;03m# environments (e.g., services that use computing containers such as GitHub Actions).\u001b[39;00m\n\u001b[0;32m    167\u001b[0m     \u001b[38;5;66;03m# Please refer to the following PR for further details:\u001b[39;00m\n\u001b[0;32m    168\u001b[0m     \u001b[38;5;66;03m# https://github.com/optuna/optuna/pull/325.\u001b[39;00m\n\u001b[0;32m    169\u001b[0m     \u001b[38;5;28;01mif\u001b[39;00m gc_after_trial:\n",
            "File \u001b[1;32mC:\\Anaconda3\\lib\\site-packages\\optuna\\study\\_optimize.py:251\u001b[0m, in \u001b[0;36m_run_trial\u001b[1;34m(study, func, catch)\u001b[0m\n\u001b[0;32m    244\u001b[0m         \u001b[38;5;28;01massert\u001b[39;00m \u001b[38;5;28;01mFalse\u001b[39;00m, \u001b[38;5;124m\"\u001b[39m\u001b[38;5;124mShould not reach.\u001b[39m\u001b[38;5;124m\"\u001b[39m\n\u001b[0;32m    246\u001b[0m \u001b[38;5;28;01mif\u001b[39;00m (\n\u001b[0;32m    247\u001b[0m     frozen_trial\u001b[38;5;241m.\u001b[39mstate \u001b[38;5;241m==\u001b[39m TrialState\u001b[38;5;241m.\u001b[39mFAIL\n\u001b[0;32m    248\u001b[0m     \u001b[38;5;129;01mand\u001b[39;00m func_err \u001b[38;5;129;01mis\u001b[39;00m \u001b[38;5;129;01mnot\u001b[39;00m \u001b[38;5;28;01mNone\u001b[39;00m\n\u001b[0;32m    249\u001b[0m     \u001b[38;5;129;01mand\u001b[39;00m \u001b[38;5;129;01mnot\u001b[39;00m \u001b[38;5;28misinstance\u001b[39m(func_err, catch)\n\u001b[0;32m    250\u001b[0m ):\n\u001b[1;32m--> 251\u001b[0m     \u001b[38;5;28;01mraise\u001b[39;00m func_err\n\u001b[0;32m    252\u001b[0m \u001b[38;5;28;01mreturn\u001b[39;00m frozen_trial\n",
            "File \u001b[1;32mC:\\Anaconda3\\lib\\site-packages\\optuna\\study\\_optimize.py:200\u001b[0m, in \u001b[0;36m_run_trial\u001b[1;34m(study, func, catch)\u001b[0m\n\u001b[0;32m    198\u001b[0m \u001b[38;5;28;01mwith\u001b[39;00m get_heartbeat_thread(trial\u001b[38;5;241m.\u001b[39m_trial_id, study\u001b[38;5;241m.\u001b[39m_storage):\n\u001b[0;32m    199\u001b[0m     \u001b[38;5;28;01mtry\u001b[39;00m:\n\u001b[1;32m--> 200\u001b[0m         value_or_values \u001b[38;5;241m=\u001b[39m \u001b[43mfunc\u001b[49m\u001b[43m(\u001b[49m\u001b[43mtrial\u001b[49m\u001b[43m)\u001b[49m\n\u001b[0;32m    201\u001b[0m     \u001b[38;5;28;01mexcept\u001b[39;00m exceptions\u001b[38;5;241m.\u001b[39mTrialPruned \u001b[38;5;28;01mas\u001b[39;00m e:\n\u001b[0;32m    202\u001b[0m         \u001b[38;5;66;03m# TODO(mamu): Handle multi-objective cases.\u001b[39;00m\n\u001b[0;32m    203\u001b[0m         state \u001b[38;5;241m=\u001b[39m TrialState\u001b[38;5;241m.\u001b[39mPRUNED\n",
            "Cell \u001b[1;32mIn[413], line 33\u001b[0m, in \u001b[0;36mobjective\u001b[1;34m(trial)\u001b[0m\n\u001b[0;32m     30\u001b[0m lgbm \u001b[38;5;241m=\u001b[39m LGBMClassifier(is_unbalance\u001b[38;5;241m=\u001b[39m\u001b[38;5;28;01mTrue\u001b[39;00m, num_threads \u001b[38;5;241m=\u001b[39m \u001b[38;5;241m6\u001b[39m, force_row_wise\u001b[38;5;241m=\u001b[39m\u001b[38;5;28;01mTrue\u001b[39;00m, \u001b[38;5;241m*\u001b[39m\u001b[38;5;241m*\u001b[39mparam_grid)\n\u001b[0;32m     31\u001b[0m cvr \u001b[38;5;241m=\u001b[39m []\n\u001b[1;32m---> 33\u001b[0m \u001b[38;5;28;01mfor\u001b[39;00m ti, di \u001b[38;5;129;01min\u001b[39;00m StratifiedKFold(n_splits\u001b[38;5;241m=\u001b[39m\u001b[38;5;241m5\u001b[39m, shuffle\u001b[38;5;241m=\u001b[39m\u001b[38;5;28;01mTrue\u001b[39;00m)\u001b[38;5;241m.\u001b[39msplit(X, y):\n\u001b[0;32m     34\u001b[0m     Xt \u001b[38;5;241m=\u001b[39m X\u001b[38;5;241m.\u001b[39miloc[ti]\n\u001b[0;32m     35\u001b[0m     \u001b[38;5;66;03m#print(ti)\u001b[39;00m\n",
            "File \u001b[1;32mC:\\Anaconda3\\lib\\site-packages\\sklearn\\model_selection\\_split.py:352\u001b[0m, in \u001b[0;36m_BaseKFold.split\u001b[1;34m(self, X, y, groups)\u001b[0m\n\u001b[0;32m    344\u001b[0m \u001b[38;5;28;01mif\u001b[39;00m \u001b[38;5;28mself\u001b[39m\u001b[38;5;241m.\u001b[39mn_splits \u001b[38;5;241m>\u001b[39m n_samples:\n\u001b[0;32m    345\u001b[0m     \u001b[38;5;28;01mraise\u001b[39;00m \u001b[38;5;167;01mValueError\u001b[39;00m(\n\u001b[0;32m    346\u001b[0m         (\n\u001b[0;32m    347\u001b[0m             \u001b[38;5;124m\"\u001b[39m\u001b[38;5;124mCannot have number of splits n_splits=\u001b[39m\u001b[38;5;132;01m{0}\u001b[39;00m\u001b[38;5;124m greater\u001b[39m\u001b[38;5;124m\"\u001b[39m\n\u001b[0;32m    348\u001b[0m             \u001b[38;5;124m\"\u001b[39m\u001b[38;5;124m than the number of samples: n_samples=\u001b[39m\u001b[38;5;132;01m{1}\u001b[39;00m\u001b[38;5;124m.\u001b[39m\u001b[38;5;124m\"\u001b[39m\n\u001b[0;32m    349\u001b[0m         )\u001b[38;5;241m.\u001b[39mformat(\u001b[38;5;28mself\u001b[39m\u001b[38;5;241m.\u001b[39mn_splits, n_samples)\n\u001b[0;32m    350\u001b[0m     )\n\u001b[1;32m--> 352\u001b[0m \u001b[38;5;28;01mfor\u001b[39;00m train, test \u001b[38;5;129;01min\u001b[39;00m \u001b[38;5;28msuper\u001b[39m()\u001b[38;5;241m.\u001b[39msplit(X, y, groups):\n\u001b[0;32m    353\u001b[0m     \u001b[38;5;28;01myield\u001b[39;00m train, test\n",
            "File \u001b[1;32mC:\\Anaconda3\\lib\\site-packages\\sklearn\\model_selection\\_split.py:87\u001b[0m, in \u001b[0;36mBaseCrossValidator.split\u001b[1;34m(self, X, y, groups)\u001b[0m\n\u001b[0;32m     85\u001b[0m \u001b[38;5;28;01mfor\u001b[39;00m test_index \u001b[38;5;129;01min\u001b[39;00m \u001b[38;5;28mself\u001b[39m\u001b[38;5;241m.\u001b[39m_iter_test_masks(X, y, groups):\n\u001b[0;32m     86\u001b[0m     train_index \u001b[38;5;241m=\u001b[39m indices[np\u001b[38;5;241m.\u001b[39mlogical_not(test_index)]\n\u001b[1;32m---> 87\u001b[0m     test_index \u001b[38;5;241m=\u001b[39m \u001b[43mindices\u001b[49m\u001b[43m[\u001b[49m\u001b[43mtest_index\u001b[49m\u001b[43m]\u001b[49m\n\u001b[0;32m     88\u001b[0m     \u001b[38;5;28;01myield\u001b[39;00m train_index, test_index\n",
            "\u001b[1;31mKeyboardInterrupt\u001b[0m: "
          ]
        }
      ],
      "source": [
        "import optuna\n",
        "import numpy as np\n",
        "#from optuna.integration import LightGBMPruningCallback\n",
        "from sklearn.model_selection import StratifiedKFold\n",
        "\n",
        "def objective(trial):\n",
        "    param_grid = {\n",
        "        # \"device_type\": trial.suggest_categorical(\"device_type\", ['gpu']),\n",
        "        \"n_estimators\": trial.suggest_categorical(\"n_estimators\", [500]),\n",
        "        \"learning_rate\": trial.suggest_float(\"learning_rate\", 0.01, 0.3),\n",
        "        #\"num_leaves\": trial.suggest_int(\"num_leaves\", 20, 300, step=20),\n",
        "        #\"min_child_samples\": trial.suggest_int(\"min_child_samples\", 5, 100, step=5),\n",
        "        #\"lambda_l1\": trial.suggest_int(\"lambda_l1\", 0, 100, step=5),\n",
        "        #\"lambda_l2\": trial.suggest_int(\"lambda_l2\", 0, 100, step=5),\n",
        "        \"min_split_gain\": trial.suggest_float(\"min_split_gain\", 0, 0.1),\n",
        "        #\"subsample\": trial.suggest_float(\n",
        "        #    \"subsample\", 0.2, 0.95, step=0.1\n",
        "        #),\n",
        "        #\"subsample_freq\": trial.suggest_categorical(\"subsample_freq\", [1]),\n",
        "        #\"colsample_bytree\": trial.suggest_float(\n",
        "        #    \"colsample_bytree\", 0.2, 0.95, step=0.1\n",
        "        #),\n",
        "        \"max_depth\": trial.suggest_categorical(\"max_depth\", [-1, 3, 4, 5, 6, 8, 10]),\n",
        "        \"max_cat_threshold\": trial.suggest_categorical(\"max_cat_threshold\", [8, 16, 32, 64, 128]),\n",
        "        \"cat_l2\": trial.suggest_float(\"cat_l2\", 5.0, 100.0)\n",
        "\n",
        "    }\n",
        "\n",
        "\n",
        "    lgbm = LGBMClassifier(is_unbalance=True, num_threads = 6, force_row_wise=True, **param_grid)\n",
        "    cvr = []\n",
        "\n",
        "    for ti, di in StratifiedKFold(n_splits=5, shuffle=True).split(X, y):\n",
        "        Xt = X.iloc[ti]\n",
        "        #print(ti)\n",
        "        yt = y[ti]\n",
        "\n",
        "        Xd = X.iloc[di]\n",
        "        yd = y[di]\n",
        "\n",
        "        lgbm.fit(\n",
        "            Xt,\n",
        "            yt\n",
        "        )\n",
        "\n",
        "\n",
        "        #lgbm.fit(Xt, yt, sample_weight = sample_weights[ti])\n",
        "\n",
        "        ypred = lgbm.predict(Xd)\n",
        "\n",
        "\n",
        "        cvr.append(f1_score(yd, ypred))\n",
        "\n",
        "        #print(confusion_matrix(yd, [int(x) if x>=0 else 0 for x in np.round(ypred)]))\n",
        "\n",
        "    return np.mean(cvr)\n",
        "\n",
        "\n",
        "study = optuna.create_study(direction=\"maximize\", study_name=\"LGBM Classifier\")\n",
        "study.optimize(objective, n_trials=100)"
      ]
    },
    {
      "cell_type": "code",
      "execution_count": null,
      "id": "a7892d6c",
      "metadata": {
        "id": "a7892d6c",
        "outputId": "1fa13f75-703b-4809-80b1-6853370a570a"
      },
      "outputs": [
        {
          "data": {
            "text/plain": [
              "{'n_estimators': 500,\n",
              " 'learning_rate': 0.1653879638699648,\n",
              " 'num_leaves': 60,\n",
              " 'max_depth': 8,\n",
              " 'max_cat_threshold': 32,\n",
              " 'cat_l2': 25.2041278553189}"
            ]
          },
          "execution_count": 268,
          "metadata": {},
          "output_type": "execute_result"
        }
      ],
      "source": [
        "study.best_params"
      ]
    },
    {
      "cell_type": "code",
      "execution_count": null,
      "id": "4367727d",
      "metadata": {
        "id": "4367727d",
        "outputId": "8be71993-fd54-43b6-b18f-a71c1e2d1f51"
      },
      "outputs": [
        {
          "data": {
            "text/html": [
              "<style>#sk-container-id-20 {color: black;background-color: white;}#sk-container-id-20 pre{padding: 0;}#sk-container-id-20 div.sk-toggleable {background-color: white;}#sk-container-id-20 label.sk-toggleable__label {cursor: pointer;display: block;width: 100%;margin-bottom: 0;padding: 0.3em;box-sizing: border-box;text-align: center;}#sk-container-id-20 label.sk-toggleable__label-arrow:before {content: \"▸\";float: left;margin-right: 0.25em;color: #696969;}#sk-container-id-20 label.sk-toggleable__label-arrow:hover:before {color: black;}#sk-container-id-20 div.sk-estimator:hover label.sk-toggleable__label-arrow:before {color: black;}#sk-container-id-20 div.sk-toggleable__content {max-height: 0;max-width: 0;overflow: hidden;text-align: left;background-color: #f0f8ff;}#sk-container-id-20 div.sk-toggleable__content pre {margin: 0.2em;color: black;border-radius: 0.25em;background-color: #f0f8ff;}#sk-container-id-20 input.sk-toggleable__control:checked~div.sk-toggleable__content {max-height: 200px;max-width: 100%;overflow: auto;}#sk-container-id-20 input.sk-toggleable__control:checked~label.sk-toggleable__label-arrow:before {content: \"▾\";}#sk-container-id-20 div.sk-estimator input.sk-toggleable__control:checked~label.sk-toggleable__label {background-color: #d4ebff;}#sk-container-id-20 div.sk-label input.sk-toggleable__control:checked~label.sk-toggleable__label {background-color: #d4ebff;}#sk-container-id-20 input.sk-hidden--visually {border: 0;clip: rect(1px 1px 1px 1px);clip: rect(1px, 1px, 1px, 1px);height: 1px;margin: -1px;overflow: hidden;padding: 0;position: absolute;width: 1px;}#sk-container-id-20 div.sk-estimator {font-family: monospace;background-color: #f0f8ff;border: 1px dotted black;border-radius: 0.25em;box-sizing: border-box;margin-bottom: 0.5em;}#sk-container-id-20 div.sk-estimator:hover {background-color: #d4ebff;}#sk-container-id-20 div.sk-parallel-item::after {content: \"\";width: 100%;border-bottom: 1px solid gray;flex-grow: 1;}#sk-container-id-20 div.sk-label:hover label.sk-toggleable__label {background-color: #d4ebff;}#sk-container-id-20 div.sk-serial::before {content: \"\";position: absolute;border-left: 1px solid gray;box-sizing: border-box;top: 0;bottom: 0;left: 50%;z-index: 0;}#sk-container-id-20 div.sk-serial {display: flex;flex-direction: column;align-items: center;background-color: white;padding-right: 0.2em;padding-left: 0.2em;position: relative;}#sk-container-id-20 div.sk-item {position: relative;z-index: 1;}#sk-container-id-20 div.sk-parallel {display: flex;align-items: stretch;justify-content: center;background-color: white;position: relative;}#sk-container-id-20 div.sk-item::before, #sk-container-id-20 div.sk-parallel-item::before {content: \"\";position: absolute;border-left: 1px solid gray;box-sizing: border-box;top: 0;bottom: 0;left: 50%;z-index: -1;}#sk-container-id-20 div.sk-parallel-item {display: flex;flex-direction: column;z-index: 1;position: relative;background-color: white;}#sk-container-id-20 div.sk-parallel-item:first-child::after {align-self: flex-end;width: 50%;}#sk-container-id-20 div.sk-parallel-item:last-child::after {align-self: flex-start;width: 50%;}#sk-container-id-20 div.sk-parallel-item:only-child::after {width: 0;}#sk-container-id-20 div.sk-dashed-wrapped {border: 1px dashed gray;margin: 0 0.4em 0.5em 0.4em;box-sizing: border-box;padding-bottom: 0.4em;background-color: white;}#sk-container-id-20 div.sk-label label {font-family: monospace;font-weight: bold;display: inline-block;line-height: 1.2em;}#sk-container-id-20 div.sk-label-container {text-align: center;}#sk-container-id-20 div.sk-container {/* jupyter's `normalize.less` sets `[hidden] { display: none; }` but bootstrap.min.css set `[hidden] { display: none !important; }` so we also need the `!important` here to be able to override the default hidden behavior on the sphinx rendered scikit-learn.org. See: https://github.com/scikit-learn/scikit-learn/issues/21755 */display: inline-block !important;position: relative;}#sk-container-id-20 div.sk-text-repr-fallback {display: none;}</style><div id=\"sk-container-id-20\" class=\"sk-top-container\"><div class=\"sk-text-repr-fallback\"><pre>LGBMClassifier(cat_l2=68.60685058667403, force_row_wise=True, is_unbalance=True,\n",
              "               learning_rate=0.13404981239009836, max_cat_threshold=32,\n",
              "               min_split_gain=0.03842333239584914, n_estimators=500,\n",
              "               num_threads=8, seed=77)</pre><b>In a Jupyter environment, please rerun this cell to show the HTML representation or trust the notebook. <br />On GitHub, the HTML representation is unable to render, please try loading this page with nbviewer.org.</b></div><div class=\"sk-container\" hidden><div class=\"sk-item\"><div class=\"sk-estimator sk-toggleable\"><input class=\"sk-toggleable__control sk-hidden--visually\" id=\"sk-estimator-id-20\" type=\"checkbox\" checked><label for=\"sk-estimator-id-20\" class=\"sk-toggleable__label sk-toggleable__label-arrow\">LGBMClassifier</label><div class=\"sk-toggleable__content\"><pre>LGBMClassifier(cat_l2=68.60685058667403, force_row_wise=True, is_unbalance=True,\n",
              "               learning_rate=0.13404981239009836, max_cat_threshold=32,\n",
              "               min_split_gain=0.03842333239584914, n_estimators=500,\n",
              "               num_threads=8, seed=77)</pre></div></div></div></div></div>"
            ],
            "text/plain": [
              "LGBMClassifier(cat_l2=68.60685058667403, force_row_wise=True, is_unbalance=True,\n",
              "               learning_rate=0.13404981239009836, max_cat_threshold=32,\n",
              "               min_split_gain=0.03842333239584914, n_estimators=500,\n",
              "               num_threads=8, seed=77)"
            ]
          },
          "execution_count": 310,
          "metadata": {},
          "output_type": "execute_result"
        }
      ],
      "source": [
        "lgbm = LGBMClassifier(is_unbalance=True, num_threads = 8, force_row_wise=True, seed = 77, **{'n_estimators': 500,\n",
        " 'learning_rate': 0.13404981239009836,\n",
        " 'min_split_gain': 0.03842333239584914,\n",
        " 'max_depth': -1,\n",
        " 'max_cat_threshold': 32,\n",
        " 'cat_l2': 68.60685058667403})\n",
        "\n",
        "lgbm.fit(X_train, y_train)"
      ]
    },
    {
      "cell_type": "code",
      "execution_count": null,
      "id": "2e980373",
      "metadata": {
        "id": "2e980373"
      },
      "outputs": [],
      "source": [
        "y_pred = lgbm.predict(X_test)"
      ]
    },
    {
      "cell_type": "code",
      "execution_count": null,
      "id": "598fc39c",
      "metadata": {
        "id": "598fc39c",
        "outputId": "72f3b2d1-d0b1-4962-9355-ca25d423c77b"
      },
      "outputs": [
        {
          "data": {
            "text/plain": [
              "0.5083333333333333"
            ]
          },
          "execution_count": 311,
          "metadata": {},
          "output_type": "execute_result"
        }
      ],
      "source": [
        "from sklearn.metrics import f1_score\n",
        "f1_score(y_test, y_pred)"
      ]
    },
    {
      "cell_type": "code",
      "execution_count": null,
      "id": "452a205a",
      "metadata": {
        "id": "452a205a",
        "outputId": "5f631dfc-9526-46de-9392-ecf298df9277"
      },
      "outputs": [
        {
          "data": {
            "text/plain": [
              "[('probeg', 85000),\n",
              " ('time_before_srok_sl', 73727),\n",
              " ('age', 70465),\n",
              " ('under_load_percent', 66132),\n",
              " ('last_month_std', 62623),\n",
              " ('under_load_dist', 53323),\n",
              " ('time_before_remont', 49907),\n",
              " ('nearrepair', 41690),\n",
              " ('under_load_days', 39959),\n",
              " ('last_month_run', 36222),\n",
              " ('last_month_mean', 32189),\n",
              " ('cur_st_send', 28207),\n",
              " ('num_small_repairs', 13870),\n",
              " ('cur_st_dest', 10195),\n",
              " ('tormoz', 6178),\n",
              " ('kod_remont', 5781),\n",
              " ('kuzov', 5037),\n",
              " ('tara', 3113),\n",
              " ('ownertype', 2773),\n",
              " ('manage_type', 2388),\n",
              " ('rod_id', 1572),\n",
              " ('stat_remont', 1437),\n",
              " ('kod_vrab_tr_rems', 1173),\n",
              " ('model', 1081),\n",
              " ('zavod_build', 455),\n",
              " ('cnsi_probeg_kr', 204),\n",
              " ('tipvozd', 155),\n",
              " ('tippogl', 134),\n",
              " ('gruz', 10),\n",
              " ('norma_km', 0),\n",
              " ('telega', 0),\n",
              " ('cnsi_probeg_dr', 0),\n",
              " ('cnsi_volumek', 0),\n",
              " ('cnsi_gruz_capacity', 0)]"
            ]
          },
          "execution_count": 228,
          "metadata": {},
          "output_type": "execute_result"
        }
      ],
      "source": [
        "sorted(list(zip(X_train.columns, lgbm.feature_importances_)), key=lambda x: x[1])[::-1]"
      ]
    },
    {
      "cell_type": "code",
      "execution_count": null,
      "id": "932b52e2",
      "metadata": {
        "id": "932b52e2"
      },
      "outputs": [],
      "source": []
    },
    {
      "cell_type": "markdown",
      "id": "-MAIFHdlhyMU",
      "metadata": {
        "id": "-MAIFHdlhyMU"
      },
      "source": [
        "## Catboost + rel.work"
      ]
    },
    {
      "cell_type": "code",
      "execution_count": null,
      "id": "CYBfoTfnhyMU",
      "metadata": {
        "id": "CYBfoTfnhyMU"
      },
      "outputs": [],
      "source": [
        "mf = pd.concat([mff, ef, eff, nerep, params, own_feat, trems_counts, danf, lastreptab], axis = 1)"
      ]
    },
    {
      "cell_type": "code",
      "execution_count": null,
      "id": "TYU37ybEhyMV",
      "metadata": {
        "id": "TYU37ybEhyMV"
      },
      "outputs": [],
      "source": [
        "feat = pd.concat([targs[[\"index\", \"wagnum\", \"month\"]], mf], axis = 1)"
      ]
    },
    {
      "cell_type": "code",
      "execution_count": null,
      "id": "892eGbXehyMV",
      "metadata": {
        "id": "892eGbXehyMV"
      },
      "outputs": [],
      "source": [
        "data_mask = feat.month.apply(lambda x:int(x[5:7])) != 8"
      ]
    },
    {
      "cell_type": "code",
      "execution_count": null,
      "id": "J8lq24t-hyMV",
      "metadata": {
        "id": "J8lq24t-hyMV"
      },
      "outputs": [],
      "source": [
        "train_mask = (feat.month.apply(lambda x:int(x[5:7]))!= 8)&(feat.month.apply(lambda x:int(x[5:7]))!= 2)\n",
        "test_mask = feat.month.apply(lambda x:int(x[5:7])) == 2"
      ]
    },
    {
      "cell_type": "code",
      "execution_count": null,
      "id": "JODgt8J0hyMV",
      "metadata": {
        "id": "JODgt8J0hyMV"
      },
      "outputs": [],
      "source": [
        "X_train = mf[train_mask]\n",
        "y_train_month = targs[train_mask].target_month"
      ]
    },
    {
      "cell_type": "code",
      "execution_count": null,
      "id": "3UlbOhFahyMV",
      "metadata": {
        "id": "3UlbOhFahyMV"
      },
      "outputs": [],
      "source": [
        "X_train = mf[train_mask]\n",
        "y_train_day = targs[train_mask].target_day"
      ]
    },
    {
      "cell_type": "code",
      "execution_count": null,
      "id": "Ktn8fErkhyMV",
      "metadata": {
        "id": "Ktn8fErkhyMV"
      },
      "outputs": [],
      "source": [
        "X_test = mf[test_mask]\n",
        "y_test_month = targs[test_mask].target_month"
      ]
    },
    {
      "cell_type": "code",
      "execution_count": null,
      "id": "48raYQcshyMV",
      "metadata": {
        "id": "48raYQcshyMV"
      },
      "outputs": [],
      "source": [
        "X_test = mf[test_mask]\n",
        "y_test_day = targs[test_mask].target_day"
      ]
    },
    {
      "cell_type": "code",
      "execution_count": null,
      "id": "p4q-mDYshyMW",
      "metadata": {
        "id": "p4q-mDYshyMW"
      },
      "outputs": [],
      "source": [
        "X = mf[data_mask]\n",
        "y = targs[data_mask].target_month.values"
      ]
    },
    {
      "cell_type": "markdown",
      "id": "b2RaSghQhyMW",
      "metadata": {
        "id": "b2RaSghQhyMW"
      },
      "source": [
        "### lgbm"
      ]
    },
    {
      "cell_type": "code",
      "execution_count": null,
      "id": "8Hs24WOXhyMW",
      "metadata": {
        "id": "8Hs24WOXhyMW",
        "outputId": "1d190a86-2bfc-4e8b-b960-4cf03ed0a1de"
      },
      "outputs": [
        {
          "name": "stdout",
          "output_type": "stream",
          "text": [
            "[LightGBM] [Warning] Categorical features with more bins than the configured maximum bin number found.\n",
            "[LightGBM] [Warning] For categorical features, max_bin and max_bin_by_feature may be ignored with a large number of categories.\n",
            "[LightGBM] [Info] Number of positive: 8465, number of negative: 161413\n",
            "[LightGBM] [Info] Total Bins 7182\n",
            "[LightGBM] [Info] Number of data points in the train set: 169878, number of used features: 42\n",
            "[LightGBM] [Info] [binary:BoostFromScore]: pavg=0.049830 -> initscore=-2.948026\n",
            "[LightGBM] [Info] Start training from score -2.948026\n"
          ]
        },
        {
          "data": {
            "text/html": [
              "<style>#sk-container-id-5 {color: black;}#sk-container-id-5 pre{padding: 0;}#sk-container-id-5 div.sk-toggleable {background-color: white;}#sk-container-id-5 label.sk-toggleable__label {cursor: pointer;display: block;width: 100%;margin-bottom: 0;padding: 0.3em;box-sizing: border-box;text-align: center;}#sk-container-id-5 label.sk-toggleable__label-arrow:before {content: \"▸\";float: left;margin-right: 0.25em;color: #696969;}#sk-container-id-5 label.sk-toggleable__label-arrow:hover:before {color: black;}#sk-container-id-5 div.sk-estimator:hover label.sk-toggleable__label-arrow:before {color: black;}#sk-container-id-5 div.sk-toggleable__content {max-height: 0;max-width: 0;overflow: hidden;text-align: left;background-color: #f0f8ff;}#sk-container-id-5 div.sk-toggleable__content pre {margin: 0.2em;color: black;border-radius: 0.25em;background-color: #f0f8ff;}#sk-container-id-5 input.sk-toggleable__control:checked~div.sk-toggleable__content {max-height: 200px;max-width: 100%;overflow: auto;}#sk-container-id-5 input.sk-toggleable__control:checked~label.sk-toggleable__label-arrow:before {content: \"▾\";}#sk-container-id-5 div.sk-estimator input.sk-toggleable__control:checked~label.sk-toggleable__label {background-color: #d4ebff;}#sk-container-id-5 div.sk-label input.sk-toggleable__control:checked~label.sk-toggleable__label {background-color: #d4ebff;}#sk-container-id-5 input.sk-hidden--visually {border: 0;clip: rect(1px 1px 1px 1px);clip: rect(1px, 1px, 1px, 1px);height: 1px;margin: -1px;overflow: hidden;padding: 0;position: absolute;width: 1px;}#sk-container-id-5 div.sk-estimator {font-family: monospace;background-color: #f0f8ff;border: 1px dotted black;border-radius: 0.25em;box-sizing: border-box;margin-bottom: 0.5em;}#sk-container-id-5 div.sk-estimator:hover {background-color: #d4ebff;}#sk-container-id-5 div.sk-parallel-item::after {content: \"\";width: 100%;border-bottom: 1px solid gray;flex-grow: 1;}#sk-container-id-5 div.sk-label:hover label.sk-toggleable__label {background-color: #d4ebff;}#sk-container-id-5 div.sk-serial::before {content: \"\";position: absolute;border-left: 1px solid gray;box-sizing: border-box;top: 0;bottom: 0;left: 50%;z-index: 0;}#sk-container-id-5 div.sk-serial {display: flex;flex-direction: column;align-items: center;background-color: white;padding-right: 0.2em;padding-left: 0.2em;position: relative;}#sk-container-id-5 div.sk-item {position: relative;z-index: 1;}#sk-container-id-5 div.sk-parallel {display: flex;align-items: stretch;justify-content: center;background-color: white;position: relative;}#sk-container-id-5 div.sk-item::before, #sk-container-id-5 div.sk-parallel-item::before {content: \"\";position: absolute;border-left: 1px solid gray;box-sizing: border-box;top: 0;bottom: 0;left: 50%;z-index: -1;}#sk-container-id-5 div.sk-parallel-item {display: flex;flex-direction: column;z-index: 1;position: relative;background-color: white;}#sk-container-id-5 div.sk-parallel-item:first-child::after {align-self: flex-end;width: 50%;}#sk-container-id-5 div.sk-parallel-item:last-child::after {align-self: flex-start;width: 50%;}#sk-container-id-5 div.sk-parallel-item:only-child::after {width: 0;}#sk-container-id-5 div.sk-dashed-wrapped {border: 1px dashed gray;margin: 0 0.4em 0.5em 0.4em;box-sizing: border-box;padding-bottom: 0.4em;background-color: white;}#sk-container-id-5 div.sk-label label {font-family: monospace;font-weight: bold;display: inline-block;line-height: 1.2em;}#sk-container-id-5 div.sk-label-container {text-align: center;}#sk-container-id-5 div.sk-container {/* jupyter's `normalize.less` sets `[hidden] { display: none; }` but bootstrap.min.css set `[hidden] { display: none !important; }` so we also need the `!important` here to be able to override the default hidden behavior on the sphinx rendered scikit-learn.org. See: https://github.com/scikit-learn/scikit-learn/issues/21755 */display: inline-block !important;position: relative;}#sk-container-id-5 div.sk-text-repr-fallback {display: none;}</style><div id=\"sk-container-id-5\" class=\"sk-top-container\"><div class=\"sk-text-repr-fallback\"><pre>LGBMClassifier(cat_l2=68.60685058667403, force_row_wise=True, is_unbalance=True,\n",
              "               learning_rate=0.013404981239009836, max_cat_threshold=32,\n",
              "               min_split_gain=0.03842333239584914, n_estimators=5000,\n",
              "               num_threads=8, seed=77)</pre><b>In a Jupyter environment, please rerun this cell to show the HTML representation or trust the notebook. <br />On GitHub, the HTML representation is unable to render, please try loading this page with nbviewer.org.</b></div><div class=\"sk-container\" hidden><div class=\"sk-item\"><div class=\"sk-estimator sk-toggleable\"><input class=\"sk-toggleable__control sk-hidden--visually\" id=\"sk-estimator-id-5\" type=\"checkbox\" checked><label for=\"sk-estimator-id-5\" class=\"sk-toggleable__label sk-toggleable__label-arrow\">LGBMClassifier</label><div class=\"sk-toggleable__content\"><pre>LGBMClassifier(cat_l2=68.60685058667403, force_row_wise=True, is_unbalance=True,\n",
              "               learning_rate=0.013404981239009836, max_cat_threshold=32,\n",
              "               min_split_gain=0.03842333239584914, n_estimators=5000,\n",
              "               num_threads=8, seed=77)</pre></div></div></div></div></div>"
            ],
            "text/plain": [
              "LGBMClassifier(cat_l2=68.60685058667403, force_row_wise=True, is_unbalance=True,\n",
              "               learning_rate=0.013404981239009836, max_cat_threshold=32,\n",
              "               min_split_gain=0.03842333239584914, n_estimators=5000,\n",
              "               num_threads=8, seed=77)"
            ]
          },
          "execution_count": 108,
          "metadata": {},
          "output_type": "execute_result"
        }
      ],
      "source": [
        "lgbm_month = LGBMClassifier(is_unbalance=True, num_threads = 8, force_row_wise=True, seed = 77, **{'n_estimators': 500,\n",
        " 'learning_rate': 0.13404981239009836,\n",
        " 'min_split_gain': 0.03842333239584914,\n",
        " 'max_depth': -1,\n",
        " 'max_cat_threshold': 32,\n",
        " 'cat_l2': 68.60685058667403})\n",
        "\n",
        "lgbm_month.fit(X_train, y_train_month)"
      ]
    },
    {
      "cell_type": "code",
      "execution_count": null,
      "id": "7teMEocihyMW",
      "metadata": {
        "id": "7teMEocihyMW",
        "outputId": "13e99e9f-645c-450b-a8b0-c9a3f9431997"
      },
      "outputs": [
        {
          "name": "stdout",
          "output_type": "stream",
          "text": [
            "[LightGBM] [Warning] Categorical features with more bins than the configured maximum bin number found.\n",
            "[LightGBM] [Warning] For categorical features, max_bin and max_bin_by_feature may be ignored with a large number of categories.\n",
            "[LightGBM] [Info] Number of positive: 2760, number of negative: 167118\n",
            "[LightGBM] [Info] Total Bins 7182\n",
            "[LightGBM] [Info] Number of data points in the train set: 169878, number of used features: 42\n",
            "[LightGBM] [Info] [binary:BoostFromScore]: pavg=0.016247 -> initscore=-4.103469\n",
            "[LightGBM] [Info] Start training from score -4.103469\n"
          ]
        },
        {
          "data": {
            "text/html": [
              "<style>#sk-container-id-6 {color: black;}#sk-container-id-6 pre{padding: 0;}#sk-container-id-6 div.sk-toggleable {background-color: white;}#sk-container-id-6 label.sk-toggleable__label {cursor: pointer;display: block;width: 100%;margin-bottom: 0;padding: 0.3em;box-sizing: border-box;text-align: center;}#sk-container-id-6 label.sk-toggleable__label-arrow:before {content: \"▸\";float: left;margin-right: 0.25em;color: #696969;}#sk-container-id-6 label.sk-toggleable__label-arrow:hover:before {color: black;}#sk-container-id-6 div.sk-estimator:hover label.sk-toggleable__label-arrow:before {color: black;}#sk-container-id-6 div.sk-toggleable__content {max-height: 0;max-width: 0;overflow: hidden;text-align: left;background-color: #f0f8ff;}#sk-container-id-6 div.sk-toggleable__content pre {margin: 0.2em;color: black;border-radius: 0.25em;background-color: #f0f8ff;}#sk-container-id-6 input.sk-toggleable__control:checked~div.sk-toggleable__content {max-height: 200px;max-width: 100%;overflow: auto;}#sk-container-id-6 input.sk-toggleable__control:checked~label.sk-toggleable__label-arrow:before {content: \"▾\";}#sk-container-id-6 div.sk-estimator input.sk-toggleable__control:checked~label.sk-toggleable__label {background-color: #d4ebff;}#sk-container-id-6 div.sk-label input.sk-toggleable__control:checked~label.sk-toggleable__label {background-color: #d4ebff;}#sk-container-id-6 input.sk-hidden--visually {border: 0;clip: rect(1px 1px 1px 1px);clip: rect(1px, 1px, 1px, 1px);height: 1px;margin: -1px;overflow: hidden;padding: 0;position: absolute;width: 1px;}#sk-container-id-6 div.sk-estimator {font-family: monospace;background-color: #f0f8ff;border: 1px dotted black;border-radius: 0.25em;box-sizing: border-box;margin-bottom: 0.5em;}#sk-container-id-6 div.sk-estimator:hover {background-color: #d4ebff;}#sk-container-id-6 div.sk-parallel-item::after {content: \"\";width: 100%;border-bottom: 1px solid gray;flex-grow: 1;}#sk-container-id-6 div.sk-label:hover label.sk-toggleable__label {background-color: #d4ebff;}#sk-container-id-6 div.sk-serial::before {content: \"\";position: absolute;border-left: 1px solid gray;box-sizing: border-box;top: 0;bottom: 0;left: 50%;z-index: 0;}#sk-container-id-6 div.sk-serial {display: flex;flex-direction: column;align-items: center;background-color: white;padding-right: 0.2em;padding-left: 0.2em;position: relative;}#sk-container-id-6 div.sk-item {position: relative;z-index: 1;}#sk-container-id-6 div.sk-parallel {display: flex;align-items: stretch;justify-content: center;background-color: white;position: relative;}#sk-container-id-6 div.sk-item::before, #sk-container-id-6 div.sk-parallel-item::before {content: \"\";position: absolute;border-left: 1px solid gray;box-sizing: border-box;top: 0;bottom: 0;left: 50%;z-index: -1;}#sk-container-id-6 div.sk-parallel-item {display: flex;flex-direction: column;z-index: 1;position: relative;background-color: white;}#sk-container-id-6 div.sk-parallel-item:first-child::after {align-self: flex-end;width: 50%;}#sk-container-id-6 div.sk-parallel-item:last-child::after {align-self: flex-start;width: 50%;}#sk-container-id-6 div.sk-parallel-item:only-child::after {width: 0;}#sk-container-id-6 div.sk-dashed-wrapped {border: 1px dashed gray;margin: 0 0.4em 0.5em 0.4em;box-sizing: border-box;padding-bottom: 0.4em;background-color: white;}#sk-container-id-6 div.sk-label label {font-family: monospace;font-weight: bold;display: inline-block;line-height: 1.2em;}#sk-container-id-6 div.sk-label-container {text-align: center;}#sk-container-id-6 div.sk-container {/* jupyter's `normalize.less` sets `[hidden] { display: none; }` but bootstrap.min.css set `[hidden] { display: none !important; }` so we also need the `!important` here to be able to override the default hidden behavior on the sphinx rendered scikit-learn.org. See: https://github.com/scikit-learn/scikit-learn/issues/21755 */display: inline-block !important;position: relative;}#sk-container-id-6 div.sk-text-repr-fallback {display: none;}</style><div id=\"sk-container-id-6\" class=\"sk-top-container\"><div class=\"sk-text-repr-fallback\"><pre>LGBMClassifier(cat_l2=68.60685058667403, force_row_wise=True, is_unbalance=True,\n",
              "               learning_rate=0.013404981239009836, max_cat_threshold=32,\n",
              "               min_split_gain=0.03842333239584914, n_estimators=5000,\n",
              "               num_threads=8, seed=77)</pre><b>In a Jupyter environment, please rerun this cell to show the HTML representation or trust the notebook. <br />On GitHub, the HTML representation is unable to render, please try loading this page with nbviewer.org.</b></div><div class=\"sk-container\" hidden><div class=\"sk-item\"><div class=\"sk-estimator sk-toggleable\"><input class=\"sk-toggleable__control sk-hidden--visually\" id=\"sk-estimator-id-6\" type=\"checkbox\" checked><label for=\"sk-estimator-id-6\" class=\"sk-toggleable__label sk-toggleable__label-arrow\">LGBMClassifier</label><div class=\"sk-toggleable__content\"><pre>LGBMClassifier(cat_l2=68.60685058667403, force_row_wise=True, is_unbalance=True,\n",
              "               learning_rate=0.013404981239009836, max_cat_threshold=32,\n",
              "               min_split_gain=0.03842333239584914, n_estimators=5000,\n",
              "               num_threads=8, seed=77)</pre></div></div></div></div></div>"
            ],
            "text/plain": [
              "LGBMClassifier(cat_l2=68.60685058667403, force_row_wise=True, is_unbalance=True,\n",
              "               learning_rate=0.013404981239009836, max_cat_threshold=32,\n",
              "               min_split_gain=0.03842333239584914, n_estimators=5000,\n",
              "               num_threads=8, seed=77)"
            ]
          },
          "execution_count": 109,
          "metadata": {},
          "output_type": "execute_result"
        }
      ],
      "source": [
        "lgbm_day = LGBMClassifier(is_unbalance=True, num_threads = 8, force_row_wise=True, seed = 77, **{'n_estimators': 500,\n",
        " 'learning_rate': 0.13404981239009836,\n",
        " 'min_split_gain': 0.03842333239584914,\n",
        " 'max_depth': -1,\n",
        " 'max_cat_threshold': 32,\n",
        " 'cat_l2': 68.60685058667403})\n",
        "\n",
        "lgbm_day.fit(X_train, y_train_day)"
      ]
    },
    {
      "cell_type": "code",
      "execution_count": null,
      "id": "Z6nz3HVqhyMW",
      "metadata": {
        "id": "Z6nz3HVqhyMW",
        "outputId": "785b5245-de84-496b-ee78-7f5ccf3b43ff"
      },
      "outputs": [
        {
          "name": "stdout",
          "output_type": "stream",
          "text": [
            "[LightGBM] [Warning] Categorical features with more bins than the configured maximum bin number found.\n",
            "[LightGBM] [Warning] For categorical features, max_bin and max_bin_by_feature may be ignored with a large number of categories.\n",
            "[LightGBM] [Info] Number of positive: 2760, number of negative: 167118\n",
            "[LightGBM] [Info] Total Bins 7182\n",
            "[LightGBM] [Info] Number of data points in the train set: 169878, number of used features: 42\n",
            "[LightGBM] [Info] [binary:BoostFromScore]: pavg=0.016247 -> initscore=-4.103469\n",
            "[LightGBM] [Info] Start training from score -4.103469\n",
            "[LightGBM] [Warning] Categorical features with more bins than the configured maximum bin number found.\n",
            "[LightGBM] [Warning] For categorical features, max_bin and max_bin_by_feature may be ignored with a large number of categories.\n",
            "[LightGBM] [Info] Number of positive: 2760, number of negative: 167118\n",
            "[LightGBM] [Info] Total Bins 7182\n",
            "[LightGBM] [Info] Number of data points in the train set: 169878, number of used features: 42\n",
            "[LightGBM] [Info] [binary:BoostFromScore]: pavg=0.016247 -> initscore=-4.103469\n",
            "[LightGBM] [Info] Start training from score -4.103469\n",
            "[LightGBM] [Warning] Categorical features with more bins than the configured maximum bin number found.\n",
            "[LightGBM] [Warning] For categorical features, max_bin and max_bin_by_feature may be ignored with a large number of categories.\n",
            "[LightGBM] [Info] Number of positive: 2760, number of negative: 167118\n",
            "[LightGBM] [Info] Total Bins 7182\n",
            "[LightGBM] [Info] Number of data points in the train set: 169878, number of used features: 42\n",
            "[LightGBM] [Info] [binary:BoostFromScore]: pavg=0.016247 -> initscore=-4.103469\n",
            "[LightGBM] [Info] Start training from score -4.103469\n",
            "[LightGBM] [Warning] Categorical features with more bins than the configured maximum bin number found.\n",
            "[LightGBM] [Warning] For categorical features, max_bin and max_bin_by_feature may be ignored with a large number of categories.\n",
            "[LightGBM] [Info] Number of positive: 2760, number of negative: 167118\n",
            "[LightGBM] [Info] Total Bins 7182\n",
            "[LightGBM] [Info] Number of data points in the train set: 169878, number of used features: 42\n",
            "[LightGBM] [Info] [binary:BoostFromScore]: pavg=0.016247 -> initscore=-4.103469\n",
            "[LightGBM] [Info] Start training from score -4.103469\n",
            "[LightGBM] [Warning] Categorical features with more bins than the configured maximum bin number found.\n",
            "[LightGBM] [Warning] For categorical features, max_bin and max_bin_by_feature may be ignored with a large number of categories.\n",
            "[LightGBM] [Info] Number of positive: 2760, number of negative: 167118\n",
            "[LightGBM] [Info] Total Bins 7182\n",
            "[LightGBM] [Info] Number of data points in the train set: 169878, number of used features: 42\n",
            "[LightGBM] [Info] [binary:BoostFromScore]: pavg=0.016247 -> initscore=-4.103469\n",
            "[LightGBM] [Info] Start training from score -4.103469\n",
            "[LightGBM] [Warning] Categorical features with more bins than the configured maximum bin number found.\n",
            "[LightGBM] [Warning] For categorical features, max_bin and max_bin_by_feature may be ignored with a large number of categories.\n",
            "[LightGBM] [Info] Number of positive: 2760, number of negative: 167118\n",
            "[LightGBM] [Info] Total Bins 7182\n",
            "[LightGBM] [Info] Number of data points in the train set: 169878, number of used features: 42\n",
            "[LightGBM] [Info] [binary:BoostFromScore]: pavg=0.016247 -> initscore=-4.103469\n",
            "[LightGBM] [Info] Start training from score -4.103469\n",
            "[LightGBM] [Warning] Categorical features with more bins than the configured maximum bin number found.\n",
            "[LightGBM] [Warning] For categorical features, max_bin and max_bin_by_feature may be ignored with a large number of categories.\n",
            "[LightGBM] [Info] Number of positive: 2760, number of negative: 167118\n",
            "[LightGBM] [Info] Total Bins 7182\n",
            "[LightGBM] [Info] Number of data points in the train set: 169878, number of used features: 42\n",
            "[LightGBM] [Info] [binary:BoostFromScore]: pavg=0.016247 -> initscore=-4.103469\n",
            "[LightGBM] [Info] Start training from score -4.103469\n"
          ]
        }
      ],
      "source": [
        "y_pred_day = []\n",
        "for i in range(7):\n",
        "    model_day = LGBMClassifier(is_unbalance=True, num_threads = 8, force_row_wise=True, **{'n_estimators': 10000,\n",
        "     'learning_rate': 0.013404981239009836 / 2,\n",
        "     'min_split_gain': 0.03842333239584914,\n",
        "     'max_depth': -1,\n",
        "     'max_cat_threshold': 32,\n",
        "     'cat_l2': 68.60685058667403,\n",
        "     'random_state': i})\n",
        "\n",
        "    model_day.fit(X_train, y_train_day)\n",
        "    y_pred_day.append(model_day.predict(X_test))\n",
        "\n",
        "y_pred_day = np.concatenate([i.reshape(-1,1) for i in y_pred_day], axis=1)"
      ]
    },
    {
      "cell_type": "code",
      "execution_count": null,
      "id": "djbeaHe7hyMW",
      "metadata": {
        "id": "djbeaHe7hyMW"
      },
      "outputs": [],
      "source": [
        "new_ans = y_pred_day.sum(axis=1).copy()\n",
        "new_ans[y_pred_day.sum(axis=1).copy() > 3] = 1\n",
        "new_ans[y_pred_day.sum(axis=1).copy() <= 3] = 0\n",
        "y_pred_day = new_ans"
      ]
    },
    {
      "cell_type": "code",
      "execution_count": null,
      "id": "DPjnpIaPhyMX",
      "metadata": {
        "id": "DPjnpIaPhyMX",
        "outputId": "06cf89d1-5e09-4fe2-d0c8-d2050465266b"
      },
      "outputs": [
        {
          "name": "stdout",
          "output_type": "stream",
          "text": [
            "[LightGBM] [Warning] Accuracy may be bad since you didn't explicitly set num_leaves OR 2^max_depth > num_leaves. (num_leaves=31).\n",
            "[LightGBM] [Warning] Categorical features with more bins than the configured maximum bin number found.\n",
            "[LightGBM] [Warning] For categorical features, max_bin and max_bin_by_feature may be ignored with a large number of categories.\n",
            "[LightGBM] [Warning] Accuracy may be bad since you didn't explicitly set num_leaves OR 2^max_depth > num_leaves. (num_leaves=31).\n",
            "[LightGBM] [Info] Number of positive: 8465, number of negative: 161413\n",
            "[LightGBM] [Info] Total Bins 7182\n",
            "[LightGBM] [Info] Number of data points in the train set: 169878, number of used features: 42\n",
            "[LightGBM] [Info] [binary:BoostFromScore]: pavg=0.049830 -> initscore=-2.948026\n",
            "[LightGBM] [Info] Start training from score -2.948026\n",
            "[LightGBM] [Warning] Accuracy may be bad since you didn't explicitly set num_leaves OR 2^max_depth > num_leaves. (num_leaves=31).\n",
            "[LightGBM] [Warning] Accuracy may be bad since you didn't explicitly set num_leaves OR 2^max_depth > num_leaves. (num_leaves=31).\n",
            "[LightGBM] [Warning] Categorical features with more bins than the configured maximum bin number found.\n",
            "[LightGBM] [Warning] For categorical features, max_bin and max_bin_by_feature may be ignored with a large number of categories.\n",
            "[LightGBM] [Warning] Accuracy may be bad since you didn't explicitly set num_leaves OR 2^max_depth > num_leaves. (num_leaves=31).\n",
            "[LightGBM] [Info] Number of positive: 8465, number of negative: 161413\n",
            "[LightGBM] [Info] Total Bins 7182\n",
            "[LightGBM] [Info] Number of data points in the train set: 169878, number of used features: 42\n",
            "[LightGBM] [Info] [binary:BoostFromScore]: pavg=0.049830 -> initscore=-2.948026\n",
            "[LightGBM] [Info] Start training from score -2.948026\n",
            "[LightGBM] [Warning] Accuracy may be bad since you didn't explicitly set num_leaves OR 2^max_depth > num_leaves. (num_leaves=31).\n",
            "[LightGBM] [Warning] Accuracy may be bad since you didn't explicitly set num_leaves OR 2^max_depth > num_leaves. (num_leaves=31).\n",
            "[LightGBM] [Warning] Categorical features with more bins than the configured maximum bin number found.\n",
            "[LightGBM] [Warning] For categorical features, max_bin and max_bin_by_feature may be ignored with a large number of categories.\n",
            "[LightGBM] [Warning] Accuracy may be bad since you didn't explicitly set num_leaves OR 2^max_depth > num_leaves. (num_leaves=31).\n",
            "[LightGBM] [Info] Number of positive: 8465, number of negative: 161413\n",
            "[LightGBM] [Info] Total Bins 7182\n",
            "[LightGBM] [Info] Number of data points in the train set: 169878, number of used features: 42\n",
            "[LightGBM] [Info] [binary:BoostFromScore]: pavg=0.049830 -> initscore=-2.948026\n",
            "[LightGBM] [Info] Start training from score -2.948026\n",
            "[LightGBM] [Warning] Accuracy may be bad since you didn't explicitly set num_leaves OR 2^max_depth > num_leaves. (num_leaves=31).\n",
            "[LightGBM] [Warning] Accuracy may be bad since you didn't explicitly set num_leaves OR 2^max_depth > num_leaves. (num_leaves=31).\n",
            "[LightGBM] [Warning] Categorical features with more bins than the configured maximum bin number found.\n",
            "[LightGBM] [Warning] For categorical features, max_bin and max_bin_by_feature may be ignored with a large number of categories.\n",
            "[LightGBM] [Warning] Accuracy may be bad since you didn't explicitly set num_leaves OR 2^max_depth > num_leaves. (num_leaves=31).\n",
            "[LightGBM] [Info] Number of positive: 8465, number of negative: 161413\n",
            "[LightGBM] [Info] Total Bins 7182\n",
            "[LightGBM] [Info] Number of data points in the train set: 169878, number of used features: 42\n",
            "[LightGBM] [Info] [binary:BoostFromScore]: pavg=0.049830 -> initscore=-2.948026\n",
            "[LightGBM] [Info] Start training from score -2.948026\n",
            "[LightGBM] [Warning] Accuracy may be bad since you didn't explicitly set num_leaves OR 2^max_depth > num_leaves. (num_leaves=31).\n",
            "[LightGBM] [Warning] Accuracy may be bad since you didn't explicitly set num_leaves OR 2^max_depth > num_leaves. (num_leaves=31).\n",
            "[LightGBM] [Warning] Categorical features with more bins than the configured maximum bin number found.\n",
            "[LightGBM] [Warning] For categorical features, max_bin and max_bin_by_feature may be ignored with a large number of categories.\n",
            "[LightGBM] [Warning] Accuracy may be bad since you didn't explicitly set num_leaves OR 2^max_depth > num_leaves. (num_leaves=31).\n",
            "[LightGBM] [Info] Number of positive: 8465, number of negative: 161413\n",
            "[LightGBM] [Info] Total Bins 7182\n",
            "[LightGBM] [Info] Number of data points in the train set: 169878, number of used features: 42\n",
            "[LightGBM] [Info] [binary:BoostFromScore]: pavg=0.049830 -> initscore=-2.948026\n",
            "[LightGBM] [Info] Start training from score -2.948026\n",
            "[LightGBM] [Warning] Accuracy may be bad since you didn't explicitly set num_leaves OR 2^max_depth > num_leaves. (num_leaves=31).\n",
            "[LightGBM] [Warning] Accuracy may be bad since you didn't explicitly set num_leaves OR 2^max_depth > num_leaves. (num_leaves=31).\n",
            "[LightGBM] [Warning] Categorical features with more bins than the configured maximum bin number found.\n",
            "[LightGBM] [Warning] For categorical features, max_bin and max_bin_by_feature may be ignored with a large number of categories.\n",
            "[LightGBM] [Warning] Accuracy may be bad since you didn't explicitly set num_leaves OR 2^max_depth > num_leaves. (num_leaves=31).\n",
            "[LightGBM] [Info] Number of positive: 8465, number of negative: 161413\n",
            "[LightGBM] [Info] Total Bins 7182\n",
            "[LightGBM] [Info] Number of data points in the train set: 169878, number of used features: 42\n",
            "[LightGBM] [Info] [binary:BoostFromScore]: pavg=0.049830 -> initscore=-2.948026\n",
            "[LightGBM] [Info] Start training from score -2.948026\n",
            "[LightGBM] [Warning] Accuracy may be bad since you didn't explicitly set num_leaves OR 2^max_depth > num_leaves. (num_leaves=31).\n",
            "[LightGBM] [Warning] Accuracy may be bad since you didn't explicitly set num_leaves OR 2^max_depth > num_leaves. (num_leaves=31).\n",
            "[LightGBM] [Warning] Categorical features with more bins than the configured maximum bin number found.\n",
            "[LightGBM] [Warning] For categorical features, max_bin and max_bin_by_feature may be ignored with a large number of categories.\n",
            "[LightGBM] [Warning] Accuracy may be bad since you didn't explicitly set num_leaves OR 2^max_depth > num_leaves. (num_leaves=31).\n",
            "[LightGBM] [Info] Number of positive: 8465, number of negative: 161413\n",
            "[LightGBM] [Info] Total Bins 7182\n",
            "[LightGBM] [Info] Number of data points in the train set: 169878, number of used features: 42\n",
            "[LightGBM] [Info] [binary:BoostFromScore]: pavg=0.049830 -> initscore=-2.948026\n",
            "[LightGBM] [Info] Start training from score -2.948026\n",
            "[LightGBM] [Warning] Accuracy may be bad since you didn't explicitly set num_leaves OR 2^max_depth > num_leaves. (num_leaves=31).\n"
          ]
        }
      ],
      "source": [
        "y_pred_month = []\n",
        "for i in range(7):\n",
        "    model_month = LGBMClassifier(is_unbalance=True, num_threads = 8, force_row_wise=True, **{'n_estimators': 10000,\n",
        "     'learning_rate': 0.024922405732354058 / 2,\n",
        "     'min_split_gain': 0.03126564532038549,\n",
        "     'max_depth': 10,\n",
        "     'max_cat_threshold': 128,\n",
        "     'cat_l2': 55.69886937210401,\n",
        "     'random_state': i})\n",
        "\n",
        "    model_month.fit(X_train, y_train_month)\n",
        "    y_pred_month.append(model_month.predict(X_test))\n",
        "\n",
        "y_pred_month = np.concatenate([i.reshape(-1,1) for i in y_pred_month], axis=1)"
      ]
    },
    {
      "cell_type": "code",
      "execution_count": null,
      "id": "C7CLK7jRhyMX",
      "metadata": {
        "id": "C7CLK7jRhyMX"
      },
      "outputs": [],
      "source": [
        "new_ans = y_pred_month.sum(axis=1).copy()\n",
        "new_ans[y_pred_month.sum(axis=1).copy() > 3] = 1\n",
        "new_ans[y_pred_month.sum(axis=1).copy() <= 3] = 0\n",
        "y_pred_month = new_ans"
      ]
    },
    {
      "cell_type": "code",
      "execution_count": null,
      "id": "YDb8NqrlhyMX",
      "metadata": {
        "id": "YDb8NqrlhyMX"
      },
      "outputs": [],
      "source": [
        "y_pred_month = lgbm_month.predict(X_test)"
      ]
    },
    {
      "cell_type": "code",
      "execution_count": null,
      "id": "W4UTG2P7hyMX",
      "metadata": {
        "id": "W4UTG2P7hyMX"
      },
      "outputs": [],
      "source": [
        "y_pred_day = lgbm_day.predict(X_test)"
      ]
    },
    {
      "cell_type": "code",
      "execution_count": null,
      "id": "72ix9pWvhyMX",
      "metadata": {
        "id": "72ix9pWvhyMX",
        "outputId": "c3ac8d96-a90b-4397-920a-4440ca1ef7e2"
      },
      "outputs": [
        {
          "name": "stdout",
          "output_type": "stream",
          "text": [
            "0.6858137510879024 0.6084608460846085 0.6471372985862555\n"
          ]
        }
      ],
      "source": [
        "from sklearn.metrics import f1_score\n",
        "\n",
        "month_score = f1_score(y_test_month.values, y_pred_month)\n",
        "day_score = f1_score(y_test_day.values, y_pred_day)\n",
        "print(month_score, day_score, (month_score + day_score) / 2)"
      ]
    },
    {
      "cell_type": "code",
      "execution_count": null,
      "id": "26A2cfq4hyMX",
      "metadata": {
        "id": "26A2cfq4hyMX",
        "outputId": "24ea5078-3456-457c-835f-29e9960ce487"
      },
      "outputs": [
        {
          "name": "stdout",
          "output_type": "stream",
          "text": [
            "0.6756204379562044 0.5952170062001771 0.6354187220781908\n"
          ]
        }
      ],
      "source": [
        "from sklearn.metrics import f1_score\n",
        "\n",
        "month_score = f1_score(y_test_month.values, y_pred_month)\n",
        "day_score = f1_score(y_test_day.values, y_pred_day)\n",
        "print(month_score, day_score, (month_score + day_score) / 2)"
      ]
    },
    {
      "cell_type": "code",
      "execution_count": null,
      "id": "BeJ0klAKhyMX",
      "metadata": {
        "id": "BeJ0klAKhyMX",
        "outputId": "802229db-a7d2-4077-f075-3bbd243658a9"
      },
      "outputs": [
        {
          "name": "stdout",
          "output_type": "stream",
          "text": [
            "0.6697247706422018 0.5952170062001771 0.6324708884211895\n"
          ]
        }
      ],
      "source": [
        "from sklearn.metrics import f1_score\n",
        "\n",
        "month_score = f1_score(y_test_month, y_pred_month)\n",
        "day_score = f1_score(y_test_day, y_pred_day)\n",
        "print(month_score, day_score, (month_score + day_score) / 2)"
      ]
    },
    {
      "cell_type": "code",
      "execution_count": null,
      "id": "VrlXgFlEhyMY",
      "metadata": {
        "id": "VrlXgFlEhyMY",
        "outputId": "b9675999-7e7e-402b-9118-35647bcfae70"
      },
      "outputs": [
        {
          "data": {
            "text/plain": [
              "[('probeg', 85000),\n",
              " ('time_before_srok_sl', 73727),\n",
              " ('age', 70465),\n",
              " ('under_load_percent', 66132),\n",
              " ('last_month_std', 62623),\n",
              " ('under_load_dist', 53323),\n",
              " ('time_before_remont', 49907),\n",
              " ('nearrepair', 41690),\n",
              " ('under_load_days', 39959),\n",
              " ('last_month_run', 36222),\n",
              " ('last_month_mean', 32189),\n",
              " ('cur_st_send', 28207),\n",
              " ('num_small_repairs', 13870),\n",
              " ('cur_st_dest', 10195),\n",
              " ('tormoz', 6178),\n",
              " ('kod_remont', 5781),\n",
              " ('kuzov', 5037),\n",
              " ('tara', 3113),\n",
              " ('ownertype', 2773),\n",
              " ('manage_type', 2388),\n",
              " ('rod_id', 1572),\n",
              " ('stat_remont', 1437),\n",
              " ('kod_vrab_tr_rems', 1173),\n",
              " ('model', 1081),\n",
              " ('zavod_build', 455),\n",
              " ('cnsi_probeg_kr', 204),\n",
              " ('tipvozd', 155),\n",
              " ('tippogl', 134),\n",
              " ('gruz', 10),\n",
              " ('norma_km', 0),\n",
              " ('telega', 0),\n",
              " ('cnsi_probeg_dr', 0),\n",
              " ('cnsi_volumek', 0),\n",
              " ('cnsi_gruz_capacity', 0)]"
            ]
          },
          "metadata": {},
          "output_type": "display_data"
        }
      ],
      "source": [
        "sorted(list(zip(X_train.columns, lgbm.feature_importances_)), key=lambda x: x[1])[::-1]"
      ]
    },
    {
      "cell_type": "markdown",
      "id": "BC5lJmDthyMY",
      "metadata": {
        "id": "BC5lJmDthyMY"
      },
      "source": [
        "## Now just Catboost"
      ]
    },
    {
      "cell_type": "code",
      "execution_count": null,
      "id": "61qgs2rchyMY",
      "metadata": {
        "colab": {
          "base_uri": "https://localhost:8080/"
        },
        "id": "61qgs2rchyMY",
        "outputId": "ea237e0e-d2ff-46b8-99b1-d41b92dc663b"
      },
      "outputs": [
        {
          "name": "stdout",
          "output_type": "stream",
          "text": [
            "Collecting catboost\n",
            "  Downloading catboost-1.2.2-cp310-cp310-manylinux2014_x86_64.whl (98.7 MB)\n",
            "\u001b[2K     \u001b[90m━━━━━━━━━━━━━━━━━━━━━━━━━━━━━━━━━━━━━━━━\u001b[0m \u001b[32m98.7/98.7 MB\u001b[0m \u001b[31m10.1 MB/s\u001b[0m eta \u001b[36m0:00:00\u001b[0m\n",
            "\u001b[?25hRequirement already satisfied: graphviz in /usr/local/lib/python3.10/dist-packages (from catboost) (0.20.1)\n",
            "Requirement already satisfied: matplotlib in /usr/local/lib/python3.10/dist-packages (from catboost) (3.7.1)\n",
            "Requirement already satisfied: numpy>=1.16.0 in /usr/local/lib/python3.10/dist-packages (from catboost) (1.23.5)\n",
            "Requirement already satisfied: pandas>=0.24 in /usr/local/lib/python3.10/dist-packages (from catboost) (1.5.3)\n",
            "Requirement already satisfied: scipy in /usr/local/lib/python3.10/dist-packages (from catboost) (1.11.4)\n",
            "Requirement already satisfied: plotly in /usr/local/lib/python3.10/dist-packages (from catboost) (5.15.0)\n",
            "Requirement already satisfied: six in /usr/local/lib/python3.10/dist-packages (from catboost) (1.16.0)\n",
            "Requirement already satisfied: python-dateutil>=2.8.1 in /usr/local/lib/python3.10/dist-packages (from pandas>=0.24->catboost) (2.8.2)\n",
            "Requirement already satisfied: pytz>=2020.1 in /usr/local/lib/python3.10/dist-packages (from pandas>=0.24->catboost) (2023.3.post1)\n",
            "Requirement already satisfied: contourpy>=1.0.1 in /usr/local/lib/python3.10/dist-packages (from matplotlib->catboost) (1.2.0)\n",
            "Requirement already satisfied: cycler>=0.10 in /usr/local/lib/python3.10/dist-packages (from matplotlib->catboost) (0.12.1)\n",
            "Requirement already satisfied: fonttools>=4.22.0 in /usr/local/lib/python3.10/dist-packages (from matplotlib->catboost) (4.46.0)\n",
            "Requirement already satisfied: kiwisolver>=1.0.1 in /usr/local/lib/python3.10/dist-packages (from matplotlib->catboost) (1.4.5)\n",
            "Requirement already satisfied: packaging>=20.0 in /usr/local/lib/python3.10/dist-packages (from matplotlib->catboost) (23.2)\n",
            "Requirement already satisfied: pillow>=6.2.0 in /usr/local/lib/python3.10/dist-packages (from matplotlib->catboost) (9.4.0)\n",
            "Requirement already satisfied: pyparsing>=2.3.1 in /usr/local/lib/python3.10/dist-packages (from matplotlib->catboost) (3.1.1)\n",
            "Requirement already satisfied: tenacity>=6.2.0 in /usr/local/lib/python3.10/dist-packages (from plotly->catboost) (8.2.3)\n",
            "Installing collected packages: catboost\n",
            "Successfully installed catboost-1.2.2\n"
          ]
        }
      ],
      "source": [
        "!pip install catboost"
      ]
    },
    {
      "cell_type": "code",
      "execution_count": null,
      "id": "jFtUrRoGhyMY",
      "metadata": {
        "id": "jFtUrRoGhyMY"
      },
      "outputs": [],
      "source": [
        "from catboost import CatBoostClassifier"
      ]
    },
    {
      "cell_type": "code",
      "execution_count": null,
      "id": "iLJmMFRshyMY",
      "metadata": {
        "id": "iLJmMFRshyMY"
      },
      "outputs": [],
      "source": [
        "cat_features = list(X_train.columns[X_train.dtypes == \"category\"])"
      ]
    },
    {
      "cell_type": "code",
      "execution_count": null,
      "id": "102g_pzZhyMY",
      "metadata": {
        "id": "102g_pzZhyMY"
      },
      "outputs": [],
      "source": [
        "catb_X_train = X_train.copy()\n",
        "catb_X_test = X_test.copy()\n",
        "catb_X = X.copy()"
      ]
    },
    {
      "cell_type": "code",
      "execution_count": null,
      "id": "QaNjJ5K-hyMY",
      "metadata": {
        "id": "QaNjJ5K-hyMY"
      },
      "outputs": [],
      "source": [
        "catb_X_train[cat_features] = catb_X_train[cat_features].astype(str)\n",
        "catb_X_test[cat_features] = catb_X_test[cat_features].astype(str)"
      ]
    },
    {
      "cell_type": "code",
      "execution_count": null,
      "id": "ZXjc1_9YhyMZ",
      "metadata": {
        "id": "ZXjc1_9YhyMZ"
      },
      "outputs": [],
      "source": [
        "catb_X_train.fillna(0, inplace=True)\n",
        "catb_X_test.fillna(0, inplace=True)"
      ]
    },
    {
      "cell_type": "code",
      "execution_count": null,
      "id": "Gpn6D6TXhyMZ",
      "metadata": {
        "id": "Gpn6D6TXhyMZ"
      },
      "outputs": [],
      "source": [
        "catb_X[cat_features] = catb_X[cat_features].astype(str)\n",
        "catb_X.fillna(0, inplace=True)"
      ]
    },
    {
      "cell_type": "markdown",
      "id": "XZ3wK5kDhyMZ",
      "metadata": {
        "id": "XZ3wK5kDhyMZ"
      },
      "source": [
        "### baseline catboost experiments"
      ]
    },
    {
      "cell_type": "code",
      "execution_count": null,
      "id": "ljtKHPA6hyMZ",
      "metadata": {
        "id": "ljtKHPA6hyMZ"
      },
      "outputs": [],
      "source": [
        "catb_month = CatBoostClassifier(\n",
        "    random_seed=42,\n",
        "    # logging_level='Silent',\n",
        "    cat_features=cat_features\n",
        ")"
      ]
    },
    {
      "cell_type": "code",
      "execution_count": null,
      "id": "Vcwl_D0EhyMZ",
      "metadata": {
        "id": "Vcwl_D0EhyMZ"
      },
      "outputs": [],
      "source": [
        "catb_month = CatBoostClassifier(\n",
        "    random_seed=42,\n",
        "    # logging_level='Silent',\n",
        "    cat_features=cat_features,\n",
        "    iterations=2000\n",
        ")"
      ]
    },
    {
      "cell_type": "code",
      "execution_count": null,
      "id": "0qMr-_cIhyMZ",
      "metadata": {
        "id": "0qMr-_cIhyMZ"
      },
      "outputs": [],
      "source": [
        "catb_month.fit(catb_X_train, y_train_month)"
      ]
    },
    {
      "cell_type": "code",
      "execution_count": null,
      "id": "W3iqM6F1hyMZ",
      "metadata": {
        "id": "W3iqM6F1hyMZ"
      },
      "outputs": [],
      "source": [
        "y_pred_month = catb_month.predict(catb_X_test)"
      ]
    },
    {
      "cell_type": "code",
      "execution_count": null,
      "id": "B-fpurB1hyMa",
      "metadata": {
        "id": "B-fpurB1hyMa"
      },
      "outputs": [],
      "source": [
        "catb_day = CatBoostClassifier(\n",
        "    random_seed=42,\n",
        "    # logging_level='Silent',\n",
        "    cat_features=cat_features\n",
        ")"
      ]
    },
    {
      "cell_type": "code",
      "execution_count": null,
      "id": "C1pOYrnnhyMa",
      "metadata": {
        "id": "C1pOYrnnhyMa"
      },
      "outputs": [],
      "source": [
        "catb_day = CatBoostClassifier(\n",
        "    random_seed=42,\n",
        "    # logging_level='Silent',\n",
        "    cat_features=cat_features,\n",
        "    iterations=2000\n",
        ")"
      ]
    },
    {
      "cell_type": "code",
      "execution_count": null,
      "id": "yiB3q2nShyMa",
      "metadata": {
        "id": "yiB3q2nShyMa"
      },
      "outputs": [],
      "source": [
        "catb_day.fit(catb_X_train, y_train_day)"
      ]
    },
    {
      "cell_type": "code",
      "execution_count": null,
      "id": "pjSNTCQthyMa",
      "metadata": {
        "id": "pjSNTCQthyMa"
      },
      "outputs": [],
      "source": [
        "y_pred_day = catb_day.predict(catb_X_test)"
      ]
    },
    {
      "cell_type": "code",
      "execution_count": null,
      "id": "JTA024R8hyMa",
      "metadata": {
        "id": "JTA024R8hyMa",
        "outputId": "1d669bfb-5ab8-4049-e649-48ab2d10f22b"
      },
      "outputs": [
        {
          "name": "stdout",
          "output_type": "stream",
          "text": [
            "0.6860734369831293 0.6174920969441517 0.6517827669636405\n"
          ]
        }
      ],
      "source": [
        "from sklearn.metrics import f1_score\n",
        "\n",
        "#iterations=2000\n",
        "month_score = f1_score(y_test_month, y_pred_month)\n",
        "day_score = f1_score(y_test_day, y_pred_day)\n",
        "print(month_score, day_score, (month_score + day_score) / 2)"
      ]
    },
    {
      "cell_type": "code",
      "execution_count": null,
      "id": "ZgcnkStGhyMa",
      "metadata": {
        "id": "ZgcnkStGhyMa",
        "outputId": "0aa31081-cbdb-44ea-9630-479a16ba9e1e"
      },
      "outputs": [
        {
          "name": "stdout",
          "output_type": "stream",
          "text": [
            "0.6811062979006998 0.6217948717948718 0.6514505848477858\n"
          ]
        }
      ],
      "source": [
        "from sklearn.metrics import f1_score\n",
        "\n",
        "#iterations=1000\n",
        "month_score = f1_score(y_test_month, y_pred_month)\n",
        "day_score = f1_score(y_test_day, y_pred_day)\n",
        "print(month_score, day_score, (month_score + day_score) / 2)"
      ]
    },
    {
      "cell_type": "code",
      "execution_count": null,
      "id": "foFyZUJrhyMb",
      "metadata": {
        "id": "foFyZUJrhyMb",
        "outputId": "4160a19d-3f86-4f60-dda5-d6fc9175e337"
      },
      "outputs": [
        {
          "data": {
            "text/plain": [
              "[('probeg', 45.33480980852727),\n",
              " ('lastrepair', 9.37554934821155),\n",
              " ('nearrepair', 7.385409474220373),\n",
              " ('time_before_remont', 6.228876711720449),\n",
              " ('last_month_run', 2.305777164208808),\n",
              " ('zerostype', 2.0616416465615037),\n",
              " ('twostype', 1.9750704456338364),\n",
              " ('cur_st_dest', 1.9372384974987922),\n",
              " ('num_small_repairs', 1.8034677023175214),\n",
              " ('kod_vrab_tr_rems', 1.7979521876480316),\n",
              " ('last_month_mean', 1.6279337296030763),\n",
              " ('under_load_dist', 1.5579660394543808),\n",
              " ('under_load_percent', 1.488675726037661),\n",
              " ('last_month_std', 1.4818001624609136),\n",
              " ('age', 1.4701704989806743),\n",
              " ('cur_st_send', 1.23861585599143),\n",
              " ('onestype', 1.0984570750880966),\n",
              " ('naval_frac', 1.0642694009867997),\n",
              " ('tara', 0.9859413873823673),\n",
              " ('time_before_srok_sl', 0.9354143658289628),\n",
              " ('under_load_days', 0.6987092316790435),\n",
              " ('model', 0.49794540383500224),\n",
              " ('cnsi_volumek', 0.49784662801642526),\n",
              " ('rod_id', 0.44929627833971375),\n",
              " ('stat_remont', 0.4415230444400417),\n",
              " ('ownertype', 0.41886537674675245),\n",
              " ('cnsi_probeg_dr', 0.37068314029160476),\n",
              " ('cnt_repairs', 0.35735194729376785),\n",
              " ('norma_km', 0.34509571676940554),\n",
              " ('tipvozd', 0.34469433629005186),\n",
              " ('gruz', 0.30529029721636125),\n",
              " ('cnsi_gruz_capacity', 0.29753910565481767),\n",
              " ('kod_remont', 0.28698408833639655),\n",
              " ('cnsi_probeg_kr', 0.2765747212166776),\n",
              " ('tippogl', 0.2747234198674706),\n",
              " ('zavod_build', 0.26820998424520287),\n",
              " ('telega', 0.23339881992860673),\n",
              " ('naliv_frac', 0.11492862058049809),\n",
              " ('tormoz', 0.11199983677897142),\n",
              " ('manage_type', 0.10860045922794856),\n",
              " ('kuzov', 0.10529623022836153),\n",
              " ('skoroport_frac', 0.03940608465424137)]"
            ]
          },
          "execution_count": 289,
          "metadata": {},
          "output_type": "execute_result"
        }
      ],
      "source": [
        "sorted(zip(catb_month.feature_names_, catb_month.feature_importances_), key=lambda x: x[1], reverse=True)"
      ]
    },
    {
      "cell_type": "code",
      "execution_count": null,
      "id": "_zZvedLbhyMb",
      "metadata": {
        "id": "_zZvedLbhyMb",
        "outputId": "4223f757-d54c-4596-bae7-684efcda41af"
      },
      "outputs": [
        {
          "data": {
            "text/plain": [
              "[('probeg', 46.79317548047109),\n",
              " ('lastrepair', 6.354820090844153),\n",
              " ('time_before_remont', 5.487152573029469),\n",
              " ('nearrepair', 5.052763243168936),\n",
              " ('cur_st_dest', 2.8244014708815866),\n",
              " ('kod_vrab_tr_rems', 2.307616236512592),\n",
              " ('num_small_repairs', 2.205607923656645),\n",
              " ('time_before_srok_sl', 2.0699246025920073),\n",
              " ('gruz', 1.9150575370258525),\n",
              " ('age', 1.875782976373751),\n",
              " ('last_month_mean', 1.7694147747031626),\n",
              " ('cur_st_send', 1.738081489187057),\n",
              " ('cnt_repairs', 1.7200631892755225),\n",
              " ('last_month_std', 1.686373748872904),\n",
              " ('naval_frac', 1.6295292628293647),\n",
              " ('zerostype', 1.6218905876222565),\n",
              " ('last_month_run', 1.441502062765582),\n",
              " ('under_load_dist', 1.335873108172304),\n",
              " ('twostype', 1.318250624438879),\n",
              " ('tippogl', 1.2406001942926974),\n",
              " ('tara', 1.2125908042209148),\n",
              " ('under_load_percent', 1.1586473535475397),\n",
              " ('under_load_days', 1.0547076519696126),\n",
              " ('onestype', 0.8893163410538465),\n",
              " ('tipvozd', 0.5344316655719921),\n",
              " ('zavod_build', 0.5175084097702054),\n",
              " ('kod_remont', 0.391844146060256),\n",
              " ('norma_km', 0.2787319080114558),\n",
              " ('model', 0.25076451309449316),\n",
              " ('cnsi_probeg_dr', 0.22138599635785972),\n",
              " ('kuzov', 0.21522307160065968),\n",
              " ('stat_remont', 0.1607328469605704),\n",
              " ('telega', 0.15912739799880465),\n",
              " ('tormoz', 0.11226549422652692),\n",
              " ('skoroport_frac', 0.1081554204973227),\n",
              " ('cnsi_volumek', 0.09834870721634954),\n",
              " ('cnsi_gruz_capacity', 0.06879972939107044),\n",
              " ('ownertype', 0.05700087305041987),\n",
              " ('cnsi_probeg_kr', 0.05384774497849101),\n",
              " ('naliv_frac', 0.0410217684940584),\n",
              " ('manage_type', 0.02446761163559862),\n",
              " ('rod_id', 0.003199367576419447)]"
            ]
          },
          "execution_count": 290,
          "metadata": {},
          "output_type": "execute_result"
        }
      ],
      "source": [
        "sorted(zip(catb_day.feature_names_, catb_day.feature_importances_), key=lambda x: x[1], reverse=True)"
      ]
    },
    {
      "cell_type": "code",
      "execution_count": null,
      "id": "q52VlxKvhyMb",
      "metadata": {
        "colab": {
          "referenced_widgets": [
            "1e77736df41c4ef390248f0c1e7a8963"
          ]
        },
        "id": "q52VlxKvhyMb",
        "outputId": "44bb935b-afd4-4641-ad03-d0360de8f7e7"
      },
      "outputs": [
        {
          "data": {
            "application/vnd.jupyter.widget-view+json": {
              "model_id": "1e77736df41c4ef390248f0c1e7a8963",
              "version_major": 2,
              "version_minor": 0
            },
            "text/plain": [
              "  0%|          | 0/7 [00:00<?, ?it/s]"
            ]
          },
          "metadata": {},
          "output_type": "display_data"
        }
      ],
      "source": [
        "y_pred_day = []\n",
        "for i in tqdm(range(7)):\n",
        "    catb_day = CatBoostClassifier(\n",
        "        random_seed=i,\n",
        "        logging_level='Silent',\n",
        "        cat_features=cat_features\n",
        "    )\n",
        "\n",
        "    catb_day.fit(catb_X_train, y_train_day)\n",
        "    y_pred_day.append(catb_day.predict(catb_X_test))\n",
        "\n",
        "y_pred_day = np.concatenate([i.reshape(-1,1) for i in y_pred_day], axis=1)"
      ]
    },
    {
      "cell_type": "code",
      "execution_count": null,
      "id": "IJU6epixhyMb",
      "metadata": {
        "id": "IJU6epixhyMb"
      },
      "outputs": [],
      "source": [
        "new_ans = y_pred_day.sum(axis=1).copy()\n",
        "new_ans[y_pred_day.sum(axis=1).copy() > 3] = 1\n",
        "new_ans[y_pred_day.sum(axis=1).copy() <= 3] = 0\n",
        "y_pred_day = new_ans"
      ]
    },
    {
      "cell_type": "code",
      "execution_count": null,
      "id": "A-uLkDcBhyMb",
      "metadata": {
        "colab": {
          "referenced_widgets": [
            "015f96ea477a449f9b583044c361bdec"
          ]
        },
        "id": "A-uLkDcBhyMb",
        "outputId": "98b539ef-25d9-43d5-cf70-ea86e976038d"
      },
      "outputs": [
        {
          "data": {
            "application/vnd.jupyter.widget-view+json": {
              "model_id": "015f96ea477a449f9b583044c361bdec",
              "version_major": 2,
              "version_minor": 0
            },
            "text/plain": [
              "  0%|          | 0/7 [00:00<?, ?it/s]"
            ]
          },
          "metadata": {},
          "output_type": "display_data"
        }
      ],
      "source": [
        "y_pred_month = []\n",
        "for i in tqdm(range(7)):\n",
        "    catb_month = CatBoostClassifier(\n",
        "        random_seed=i,\n",
        "        logging_level='Silent',\n",
        "        cat_features=cat_features\n",
        "    )\n",
        "\n",
        "    catb_month.fit(catb_X_train, y_train_month)\n",
        "    y_pred_month.append(catb_month.predict(catb_X_test))\n",
        "\n",
        "y_pred_month = np.concatenate([i.reshape(-1,1) for i in y_pred_month], axis=1)"
      ]
    },
    {
      "cell_type": "code",
      "execution_count": null,
      "id": "iG69x19shyMb",
      "metadata": {
        "id": "iG69x19shyMb"
      },
      "outputs": [],
      "source": [
        "new_ans = y_pred_month.sum(axis=1).copy()\n",
        "new_ans[y_pred_month.sum(axis=1).copy() > 3] = 1\n",
        "new_ans[y_pred_month.sum(axis=1).copy() <= 3] = 0\n",
        "y_pred_month = new_ans"
      ]
    },
    {
      "cell_type": "code",
      "execution_count": null,
      "id": "J6P47kk9hyMc",
      "metadata": {
        "id": "J6P47kk9hyMc",
        "outputId": "ca5c9e88-730c-4d40-9a20-45253d3a937e"
      },
      "outputs": [
        {
          "name": "stdout",
          "output_type": "stream",
          "text": [
            "0.686300463269358 0.6252676659528907 0.6557840646111244\n"
          ]
        }
      ],
      "source": [
        "from sklearn.metrics import f1_score\n",
        "\n",
        "month_score = f1_score(y_test_month, y_pred_month)\n",
        "day_score = f1_score(y_test_day, y_pred_day)\n",
        "print(month_score, day_score, (month_score + day_score) / 2)"
      ]
    },
    {
      "cell_type": "markdown",
      "id": "H3Z8MrSXPIB5",
      "metadata": {
        "id": "H3Z8MrSXPIB5"
      },
      "source": [
        "### GPU Catboost"
      ]
    },
    {
      "cell_type": "code",
      "execution_count": null,
      "id": "659bQ3tRQSC6",
      "metadata": {
        "id": "659bQ3tRQSC6"
      },
      "outputs": [],
      "source": [
        "catb_month = CatBoostClassifier(\n",
        "    random_seed=42,\n",
        "    # logging_level='Silent',\n",
        "    cat_features=cat_features,\n",
        "    task_type=\"GPU\",\n",
        "    # devices='0:1',\n",
        ")"
      ]
    },
    {
      "cell_type": "code",
      "execution_count": null,
      "id": "Ti44L2Q3QSC7",
      "metadata": {
        "id": "Ti44L2Q3QSC7"
      },
      "outputs": [],
      "source": [
        "catb_day = CatBoostClassifier(\n",
        "    random_seed=42,\n",
        "    # logging_level='Silent',\n",
        "    cat_features=cat_features,\n",
        "    task_type=\"GPU\",\n",
        "    # devices='0:1',\n",
        ")"
      ]
    },
    {
      "cell_type": "code",
      "execution_count": null,
      "id": "iH19CUrlQSC7",
      "metadata": {
        "id": "iH19CUrlQSC7"
      },
      "outputs": [],
      "source": [
        "catb_month.fit(catb_X_train, y_train_month)"
      ]
    },
    {
      "cell_type": "code",
      "execution_count": null,
      "id": "QB7tPF9TQSC8",
      "metadata": {
        "id": "QB7tPF9TQSC8"
      },
      "outputs": [],
      "source": [
        "y_pred_month = catb_month.predict(catb_X_test)"
      ]
    },
    {
      "cell_type": "code",
      "execution_count": null,
      "id": "J2rwaFo6QSC8",
      "metadata": {
        "id": "J2rwaFo6QSC8"
      },
      "outputs": [],
      "source": [
        "catb_day.fit(catb_X_train, y_train_day)"
      ]
    },
    {
      "cell_type": "code",
      "execution_count": null,
      "id": "VoGK04UvQSC9",
      "metadata": {
        "id": "VoGK04UvQSC9"
      },
      "outputs": [],
      "source": [
        "y_pred_day = catb_day.predict(catb_X_test)"
      ]
    },
    {
      "cell_type": "code",
      "execution_count": null,
      "id": "aPZwiYctQSC9",
      "metadata": {
        "colab": {
          "base_uri": "https://localhost:8080/"
        },
        "id": "aPZwiYctQSC9",
        "outputId": "de9ae0c2-47e5-4faf-8ad7-1e981172bfb4"
      },
      "outputs": [
        {
          "name": "stdout",
          "output_type": "stream",
          "text": [
            "0.6868150116240451 0.5925925925925926 0.6397038021083188\n"
          ]
        }
      ],
      "source": [
        "from sklearn.metrics import f1_score\n",
        "\n",
        "month_score = f1_score(y_test_month, y_pred_month)\n",
        "day_score = f1_score(y_test_day, y_pred_day)\n",
        "print(month_score, day_score, (month_score + day_score) / 2)"
      ]
    },
    {
      "cell_type": "markdown",
      "id": "oKJ5OYY7hyMc",
      "metadata": {
        "id": "oKJ5OYY7hyMc"
      },
      "source": [
        "### Tuning catboost"
      ]
    },
    {
      "cell_type": "markdown",
      "id": "Wj29R6EhhyMe",
      "metadata": {
        "id": "Wj29R6EhhyMe"
      },
      "source": [
        "Неплохой буст в качестве получается когда увеличиваем one_hot_max_size"
      ]
    },
    {
      "cell_type": "code",
      "execution_count": null,
      "id": "jP2nS4XNiwQ3",
      "metadata": {
        "colab": {
          "base_uri": "https://localhost:8080/"
        },
        "id": "jP2nS4XNiwQ3",
        "outputId": "6f78a503-3314-44b7-d6f9-f838969c8573"
      },
      "outputs": [
        {
          "name": "stdout",
          "output_type": "stream",
          "text": [
            "Collecting optuna\n",
            "  Downloading optuna-3.5.0-py3-none-any.whl (413 kB)\n",
            "\u001b[2K     \u001b[90m━━━━━━━━━━━━━━━━━━━━━━━━━━━━━━━━━━━━━━━━\u001b[0m \u001b[32m413.4/413.4 kB\u001b[0m \u001b[31m6.9 MB/s\u001b[0m eta \u001b[36m0:00:00\u001b[0m\n",
            "\u001b[?25hCollecting alembic>=1.5.0 (from optuna)\n",
            "  Downloading alembic-1.13.1-py3-none-any.whl (233 kB)\n",
            "\u001b[2K     \u001b[90m━━━━━━━━━━━━━━━━━━━━━━━━━━━━━━━━━━━━━━━━\u001b[0m \u001b[32m233.4/233.4 kB\u001b[0m \u001b[31m10.2 MB/s\u001b[0m eta \u001b[36m0:00:00\u001b[0m\n",
            "\u001b[?25hCollecting colorlog (from optuna)\n",
            "  Downloading colorlog-6.8.0-py3-none-any.whl (11 kB)\n",
            "Requirement already satisfied: numpy in /usr/local/lib/python3.10/dist-packages (from optuna) (1.23.5)\n",
            "Requirement already satisfied: packaging>=20.0 in /usr/local/lib/python3.10/dist-packages (from optuna) (23.2)\n",
            "Requirement already satisfied: sqlalchemy>=1.3.0 in /usr/local/lib/python3.10/dist-packages (from optuna) (2.0.23)\n",
            "Requirement already satisfied: tqdm in /usr/local/lib/python3.10/dist-packages (from optuna) (4.66.1)\n",
            "Requirement already satisfied: PyYAML in /usr/local/lib/python3.10/dist-packages (from optuna) (6.0.1)\n",
            "Collecting Mako (from alembic>=1.5.0->optuna)\n",
            "  Downloading Mako-1.3.0-py3-none-any.whl (78 kB)\n",
            "\u001b[2K     \u001b[90m━━━━━━━━━━━━━━━━━━━━━━━━━━━━━━━━━━━━━━━━\u001b[0m \u001b[32m78.6/78.6 kB\u001b[0m \u001b[31m11.1 MB/s\u001b[0m eta \u001b[36m0:00:00\u001b[0m\n",
            "\u001b[?25hRequirement already satisfied: typing-extensions>=4 in /usr/local/lib/python3.10/dist-packages (from alembic>=1.5.0->optuna) (4.5.0)\n",
            "Requirement already satisfied: greenlet!=0.4.17 in /usr/local/lib/python3.10/dist-packages (from sqlalchemy>=1.3.0->optuna) (3.0.2)\n",
            "Requirement already satisfied: MarkupSafe>=0.9.2 in /usr/local/lib/python3.10/dist-packages (from Mako->alembic>=1.5.0->optuna) (2.1.3)\n",
            "Installing collected packages: Mako, colorlog, alembic, optuna\n",
            "Successfully installed Mako-1.3.0 alembic-1.13.1 colorlog-6.8.0 optuna-3.5.0\n"
          ]
        }
      ],
      "source": [
        "!pip install optuna"
      ]
    },
    {
      "cell_type": "code",
      "execution_count": null,
      "id": "neOM8phYCs2p",
      "metadata": {
        "colab": {
          "base_uri": "https://localhost:8080/"
        },
        "id": "neOM8phYCs2p",
        "outputId": "2b404253-5d6b-4247-e7dc-78bc3aeb2cdc"
      },
      "outputs": [
        {
          "name": "stderr",
          "output_type": "stream",
          "text": [
            "[I 2023-12-21 17:11:30,189] A new study created in memory with name: CatBoost Classifier\n",
            "[I 2023-12-21 17:14:36,980] Trial 0 finished with value: 0.692567866334788 and parameters: {'learning_rate': 0.002460722273510353, 'depth': 4, 'subsample': 0.5860982196724367, 'colsample_bylevel': 0.42709495534950254, 'min_data_in_leaf': 9, 'bagging_temperature': 0.4574759375937508, 'l2_leaf_reg': 2.5434957754823215, 'leaf_estimation_iterations': 8}. Best is trial 0 with value: 0.692567866334788.\n",
            "[I 2023-12-21 17:17:22,970] Trial 1 finished with value: 0.6968506719870708 and parameters: {'learning_rate': 0.005541531642456082, 'depth': 10, 'subsample': 0.6969070794391691, 'colsample_bylevel': 0.5684402268013333, 'min_data_in_leaf': 56, 'bagging_temperature': 0.9807995974613467, 'l2_leaf_reg': 2.5107763763633906, 'leaf_estimation_iterations': 3}. Best is trial 1 with value: 0.6968506719870708.\n",
            "[I 2023-12-21 17:20:04,649] Trial 2 finished with value: 0.6913895577920037 and parameters: {'learning_rate': 0.04070374081931593, 'depth': 1, 'subsample': 0.46801643755779, 'colsample_bylevel': 0.1313692828427721, 'min_data_in_leaf': 50, 'bagging_temperature': 0.08067709977613957, 'l2_leaf_reg': 3.024631329431908, 'leaf_estimation_iterations': 1}. Best is trial 1 with value: 0.6968506719870708.\n",
            "[I 2023-12-21 17:22:53,909] Trial 3 finished with value: 0.6926604993118918 and parameters: {'learning_rate': 0.001411025142360141, 'depth': 1, 'subsample': 0.6699158155594349, 'colsample_bylevel': 0.656274648771183, 'min_data_in_leaf': 42, 'bagging_temperature': 0.49728655551126, 'l2_leaf_reg': 4.1272956649266135, 'leaf_estimation_iterations': 1}. Best is trial 1 with value: 0.6968506719870708.\n",
            "[I 2023-12-21 17:25:43,614] Trial 4 finished with value: 0.6940614291399557 and parameters: {'learning_rate': 0.0026442580289135677, 'depth': 4, 'subsample': 0.2325283736170649, 'colsample_bylevel': 0.17417426774118, 'min_data_in_leaf': 74, 'bagging_temperature': 0.15050446064342116, 'l2_leaf_reg': 6.4662071747002985, 'leaf_estimation_iterations': 2}. Best is trial 1 with value: 0.6968506719870708.\n",
            "[I 2023-12-21 17:28:30,095] Trial 5 finished with value: 0.6921475723592146 and parameters: {'learning_rate': 0.0016252647273512404, 'depth': 9, 'subsample': 0.13368406283602643, 'colsample_bylevel': 0.24600717081693907, 'min_data_in_leaf': 86, 'bagging_temperature': 0.8266215891011035, 'l2_leaf_reg': 2.293445185823854, 'leaf_estimation_iterations': 10}. Best is trial 1 with value: 0.6968506719870708.\n",
            "[I 2023-12-21 17:31:22,274] Trial 6 finished with value: 0.6941772767792669 and parameters: {'learning_rate': 0.0038073285174115, 'depth': 10, 'subsample': 0.498240270238376, 'colsample_bylevel': 0.3904482661344552, 'min_data_in_leaf': 39, 'bagging_temperature': 0.38928977462326275, 'l2_leaf_reg': 6.0942488137950015, 'leaf_estimation_iterations': 4}. Best is trial 1 with value: 0.6968506719870708.\n",
            "[I 2023-12-21 17:34:06,938] Trial 7 finished with value: 0.6952435857727459 and parameters: {'learning_rate': 0.06858630947045177, 'depth': 6, 'subsample': 0.7631956504565656, 'colsample_bylevel': 0.5619339560372272, 'min_data_in_leaf': 7, 'bagging_temperature': 0.09729528958749789, 'l2_leaf_reg': 2.625110060198357, 'leaf_estimation_iterations': 7}. Best is trial 1 with value: 0.6968506719870708.\n",
            "[I 2023-12-21 17:36:50,571] Trial 8 finished with value: 0.6948235677054341 and parameters: {'learning_rate': 0.005583677610781929, 'depth': 2, 'subsample': 0.09487046474537328, 'colsample_bylevel': 0.10120476415614288, 'min_data_in_leaf': 100, 'bagging_temperature': 0.20705777155642036, 'l2_leaf_reg': 6.576512570483586, 'leaf_estimation_iterations': 1}. Best is trial 1 with value: 0.6968506719870708.\n",
            "[I 2023-12-21 17:39:38,726] Trial 9 finished with value: 0.6944192175205864 and parameters: {'learning_rate': 0.002424641275162964, 'depth': 2, 'subsample': 0.4057505965681392, 'colsample_bylevel': 0.258760853250616, 'min_data_in_leaf': 88, 'bagging_temperature': 0.8504796508683327, 'l2_leaf_reg': 4.808054950608476, 'leaf_estimation_iterations': 9}. Best is trial 1 with value: 0.6968506719870708.\n",
            "[I 2023-12-21 17:42:22,693] Trial 10 finished with value: 0.693726787721615 and parameters: {'learning_rate': 0.0150104249601295, 'depth': 8, 'subsample': 0.9611307730904219, 'colsample_bylevel': 0.9158901957495774, 'min_data_in_leaf': 66, 'bagging_temperature': 0.661868261314966, 'l2_leaf_reg': 1.159905687272176, 'leaf_estimation_iterations': 4}. Best is trial 1 with value: 0.6968506719870708.\n",
            "[I 2023-12-21 17:45:01,235] Trial 11 finished with value: 0.6954157644072261 and parameters: {'learning_rate': 0.07932433927098322, 'depth': 7, 'subsample': 0.7886439835891575, 'colsample_bylevel': 0.6868316356401102, 'min_data_in_leaf': 19, 'bagging_temperature': 0.963548932063485, 'l2_leaf_reg': 1.5988082519569804, 'leaf_estimation_iterations': 7}. Best is trial 1 with value: 0.6968506719870708.\n",
            "[I 2023-12-21 17:47:43,463] Trial 12 finished with value: 0.6953169716329851 and parameters: {'learning_rate': 0.00974085050149616, 'depth': 7, 'subsample': 0.8670943469418138, 'colsample_bylevel': 0.7776001817760072, 'min_data_in_leaf': 26, 'bagging_temperature': 0.993902060149715, 'l2_leaf_reg': 1.488727812375677, 'leaf_estimation_iterations': 6}. Best is trial 1 with value: 0.6968506719870708.\n",
            "[I 2023-12-21 17:50:20,129] Trial 13 finished with value: 0.6944123792287199 and parameters: {'learning_rate': 0.025141174884244086, 'depth': 10, 'subsample': 0.7614944613670194, 'colsample_bylevel': 0.7089663423947873, 'min_data_in_leaf': 23, 'bagging_temperature': 0.9973292309567591, 'l2_leaf_reg': 1.735658713283421, 'leaf_estimation_iterations': 4}. Best is trial 1 with value: 0.6968506719870708.\n",
            "[I 2023-12-21 17:52:57,671] Trial 14 finished with value: 0.6954749646921335 and parameters: {'learning_rate': 0.08426521697235016, 'depth': 8, 'subsample': 0.9663386605446693, 'colsample_bylevel': 0.8802333540632387, 'min_data_in_leaf': 62, 'bagging_temperature': 0.7356543417551389, 'l2_leaf_reg': 1.0375761434052753, 'leaf_estimation_iterations': 5}. Best is trial 1 with value: 0.6968506719870708.\n",
            "[I 2023-12-21 17:55:38,162] Trial 15 finished with value: 0.6938818342435114 and parameters: {'learning_rate': 0.007370700073881113, 'depth': 9, 'subsample': 0.986977284242193, 'colsample_bylevel': 0.9621817228885827, 'min_data_in_leaf': 63, 'bagging_temperature': 0.6855706122803177, 'l2_leaf_reg': 9.288932725528301, 'leaf_estimation_iterations': 3}. Best is trial 1 with value: 0.6968506719870708.\n",
            "[I 2023-12-21 17:58:16,443] Trial 16 finished with value: 0.6925760445771587 and parameters: {'learning_rate': 0.016751757818449613, 'depth': 8, 'subsample': 0.3437104423109102, 'colsample_bylevel': 0.8180304984960768, 'min_data_in_leaf': 57, 'bagging_temperature': 0.6944118564153076, 'l2_leaf_reg': 1.0845390623595648, 'leaf_estimation_iterations': 5}. Best is trial 1 with value: 0.6968506719870708.\n",
            "[I 2023-12-21 18:00:56,445] Trial 17 finished with value: 0.6950240490153899 and parameters: {'learning_rate': 0.03886718203215083, 'depth': 9, 'subsample': 0.6064099723056364, 'colsample_bylevel': 0.5146669397075004, 'min_data_in_leaf': 73, 'bagging_temperature': 0.83098379382791, 'l2_leaf_reg': 1.9202270849379064, 'leaf_estimation_iterations': 3}. Best is trial 1 with value: 0.6968506719870708.\n",
            "[I 2023-12-21 18:03:34,587] Trial 18 finished with value: 0.6946717442229308 and parameters: {'learning_rate': 0.005562677665541698, 'depth': 5, 'subsample': 0.7020731006452903, 'colsample_bylevel': 0.8811052461594729, 'min_data_in_leaf': 42, 'bagging_temperature': 0.5725412640972063, 'l2_leaf_reg': 3.6432383524287224, 'leaf_estimation_iterations': 5}. Best is trial 1 with value: 0.6968506719870708.\n",
            "[I 2023-12-21 18:06:12,689] Trial 19 finished with value: 0.69361046323428 and parameters: {'learning_rate': 0.0010115994501862153, 'depth': 10, 'subsample': 0.8656091363109794, 'colsample_bylevel': 0.9898128873928229, 'min_data_in_leaf': 54, 'bagging_temperature': 0.8753938261921037, 'l2_leaf_reg': 1.318038424171419, 'leaf_estimation_iterations': 6}. Best is trial 1 with value: 0.6968506719870708.\n",
            "[I 2023-12-21 18:08:54,460] Trial 20 finished with value: 0.694571470355561 and parameters: {'learning_rate': 0.014528521470917367, 'depth': 8, 'subsample': 0.8954995686343303, 'colsample_bylevel': 0.6050985034563257, 'min_data_in_leaf': 81, 'bagging_temperature': 0.3083960169628822, 'l2_leaf_reg': 2.1582363317295252, 'leaf_estimation_iterations': 3}. Best is trial 1 with value: 0.6968506719870708.\n",
            "[I 2023-12-21 18:11:30,253] Trial 21 finished with value: 0.6940936792194755 and parameters: {'learning_rate': 0.0773235161532142, 'depth': 7, 'subsample': 0.8164222757072332, 'colsample_bylevel': 0.7059064819484812, 'min_data_in_leaf': 27, 'bagging_temperature': 0.9248216491131513, 'l2_leaf_reg': 1.4974255620449823, 'leaf_estimation_iterations': 7}. Best is trial 1 with value: 0.6968506719870708.\n",
            "[I 2023-12-21 18:14:13,036] Trial 22 finished with value: 0.6931755268705801 and parameters: {'learning_rate': 0.09668840704057115, 'depth': 7, 'subsample': 0.7110137155817184, 'colsample_bylevel': 0.7813868604318408, 'min_data_in_leaf': 1, 'bagging_temperature': 0.7608690824611068, 'l2_leaf_reg': 1.0012964265106308, 'leaf_estimation_iterations': 7}. Best is trial 1 with value: 0.6968506719870708.\n",
            "[I 2023-12-21 18:16:49,922] Trial 23 finished with value: 0.6925837070824055 and parameters: {'learning_rate': 0.04935559907891235, 'depth': 6, 'subsample': 0.9157051815618831, 'colsample_bylevel': 0.45951732108032917, 'min_data_in_leaf': 35, 'bagging_temperature': 0.9333438751108696, 'l2_leaf_reg': 1.7250958929941136, 'leaf_estimation_iterations': 8}. Best is trial 1 with value: 0.6968506719870708.\n",
            "[I 2023-12-21 18:19:27,224] Trial 24 finished with value: 0.6947934986739949 and parameters: {'learning_rate': 0.03170994907219288, 'depth': 9, 'subsample': 0.7904010680669992, 'colsample_bylevel': 0.8395867898848244, 'min_data_in_leaf': 49, 'bagging_temperature': 0.7671884239515844, 'l2_leaf_reg': 1.3643485308597123, 'leaf_estimation_iterations': 5}. Best is trial 1 with value: 0.6968506719870708.\n",
            "[I 2023-12-21 18:22:13,403] Trial 25 finished with value: 0.6937664959599797 and parameters: {'learning_rate': 0.0564579633641842, 'depth': 8, 'subsample': 0.6082920930242262, 'colsample_bylevel': 0.6565111601465079, 'min_data_in_leaf': 18, 'bagging_temperature': 0.6000899705083887, 'l2_leaf_reg': 1.2083355395329276, 'leaf_estimation_iterations': 6}. Best is trial 1 with value: 0.6968506719870708.\n",
            "[I 2023-12-21 18:24:50,074] Trial 26 finished with value: 0.694935229166474 and parameters: {'learning_rate': 0.023045182198408898, 'depth': 5, 'subsample': 0.9939263003680885, 'colsample_bylevel': 0.34360909119434035, 'min_data_in_leaf': 63, 'bagging_temperature': 0.9357871459434006, 'l2_leaf_reg': 1.9266569855692695, 'leaf_estimation_iterations': 2}. Best is trial 1 with value: 0.6968506719870708.\n",
            "[I 2023-12-21 18:27:27,238] Trial 27 finished with value: 0.6951522215498511 and parameters: {'learning_rate': 0.09654680225660879, 'depth': 7, 'subsample': 0.8274981694307847, 'colsample_bylevel': 0.5073822449521729, 'min_data_in_leaf': 34, 'bagging_temperature': 0.7499724635197543, 'l2_leaf_reg': 3.1195349128030987, 'leaf_estimation_iterations': 8}. Best is trial 1 with value: 0.6968506719870708.\n",
            "[I 2023-12-21 18:30:12,000] Trial 28 finished with value: 0.6929264289206319 and parameters: {'learning_rate': 0.011592903837771364, 'depth': 10, 'subsample': 0.67643176983425, 'colsample_bylevel': 0.735031671232325, 'min_data_in_leaf': 57, 'bagging_temperature': 0.900161120183778, 'l2_leaf_reg': 1.6846743717690165, 'leaf_estimation_iterations': 4}. Best is trial 1 with value: 0.6968506719870708.\n",
            "[I 2023-12-21 18:32:47,634] Trial 29 finished with value: 0.6941330533507415 and parameters: {'learning_rate': 0.004056370903574177, 'depth': 6, 'subsample': 0.9307631589459464, 'colsample_bylevel': 0.6395403841103942, 'min_data_in_leaf': 15, 'bagging_temperature': 0.5844358958524856, 'l2_leaf_reg': 2.591743687485568, 'leaf_estimation_iterations': 10}. Best is trial 1 with value: 0.6968506719870708.\n",
            "[I 2023-12-21 18:35:30,687] Trial 30 finished with value: 0.6921902220985053 and parameters: {'learning_rate': 0.021927121926470436, 'depth': 9, 'subsample': 0.6079349596195028, 'colsample_bylevel': 0.5706998544504802, 'min_data_in_leaf': 71, 'bagging_temperature': 0.995628758598836, 'l2_leaf_reg': 2.2103599583698093, 'leaf_estimation_iterations': 9}. Best is trial 1 with value: 0.6968506719870708.\n",
            "[I 2023-12-21 18:38:09,427] Trial 31 finished with value: 0.6950781566560597 and parameters: {'learning_rate': 0.008668020205969658, 'depth': 7, 'subsample': 0.8466356780866261, 'colsample_bylevel': 0.7751255221602334, 'min_data_in_leaf': 28, 'bagging_temperature': 0.9984597480339258, 'l2_leaf_reg': 1.4591058575553453, 'leaf_estimation_iterations': 6}. Best is trial 1 with value: 0.6968506719870708.\n",
            "[I 2023-12-21 18:40:51,194] Trial 32 finished with value: 0.6923050857798906 and parameters: {'learning_rate': 0.0062488816486959715, 'depth': 7, 'subsample': 0.5446027437408204, 'colsample_bylevel': 0.8824300479448133, 'min_data_in_leaf': 14, 'bagging_temperature': 0.8056155306057667, 'l2_leaf_reg': 1.2394535939768172, 'leaf_estimation_iterations': 7}. Best is trial 1 with value: 0.6968506719870708.\n",
            "[I 2023-12-21 18:43:28,201] Trial 33 finished with value: 0.6922258606707142 and parameters: {'learning_rate': 0.010695556629290578, 'depth': 8, 'subsample': 0.7505879033267369, 'colsample_bylevel': 0.7405584772448289, 'min_data_in_leaf': 48, 'bagging_temperature': 0.002874605409864728, 'l2_leaf_reg': 1.0693283816395165, 'leaf_estimation_iterations': 6}. Best is trial 1 with value: 0.6968506719870708.\n",
            "[I 2023-12-21 18:46:10,362] Trial 34 finished with value: 0.6924490976224287 and parameters: {'learning_rate': 0.004023984019005763, 'depth': 5, 'subsample': 0.8646398800665605, 'colsample_bylevel': 0.6696800892392419, 'min_data_in_leaf': 43, 'bagging_temperature': 0.9257919180750069, 'l2_leaf_reg': 1.584306856365603, 'leaf_estimation_iterations': 5}. Best is trial 1 with value: 0.6968506719870708.\n",
            "[I 2023-12-21 18:48:48,664] Trial 35 finished with value: 0.6935680122924895 and parameters: {'learning_rate': 0.03937186222307827, 'depth': 4, 'subsample': 0.9221119331617493, 'colsample_bylevel': 0.8191786590628474, 'min_data_in_leaf': 7, 'bagging_temperature': 0.960447117265724, 'l2_leaf_reg': 1.9930123708206942, 'leaf_estimation_iterations': 7}. Best is trial 1 with value: 0.6968506719870708.\n",
            "[I 2023-12-21 18:51:24,632] Trial 36 finished with value: 0.6957639911498209 and parameters: {'learning_rate': 0.0029065710251085525, 'depth': 6, 'subsample': 0.6524212051645799, 'colsample_bylevel': 0.9177365582758007, 'min_data_in_leaf': 24, 'bagging_temperature': 0.4578975603257451, 'l2_leaf_reg': 3.6197195643082654, 'leaf_estimation_iterations': 2}. Best is trial 1 with value: 0.6968506719870708.\n",
            "[I 2023-12-21 18:54:08,767] Trial 37 finished with value: 0.6962247777027164 and parameters: {'learning_rate': 0.002575683761978506, 'depth': 6, 'subsample': 0.4533532951608239, 'colsample_bylevel': 0.9365132446665324, 'min_data_in_leaf': 33, 'bagging_temperature': 0.43961760487159307, 'l2_leaf_reg': 3.648126316708603, 'leaf_estimation_iterations': 2}. Best is trial 1 with value: 0.6968506719870708.\n"
          ]
        }
      ],
      "source": [
        "import optuna\n",
        "import numpy as np\n",
        "from sklearn.metrics import f1_score\n",
        "from sklearn.model_selection import StratifiedKFold\n",
        "from catboost import Pool\n",
        "\n",
        "train_pool = Pool(catb_X, label = y, cat_features=cat_features)\n",
        "\n",
        "def objective(trial):\n",
        "    param_grid = {\n",
        "        \"iterations\": 1000,\n",
        "        \"learning_rate\": trial.suggest_float(\"learning_rate\", 1e-3, 0.1, log=True),\n",
        "        \"depth\": trial.suggest_int(\"depth\", 1, 10),\n",
        "        \"subsample\": trial.suggest_float(\"subsample\", 0.05, 1.0),\n",
        "        \"colsample_bylevel\": trial.suggest_float(\"colsample_bylevel\", 0.05, 1.0),\n",
        "        \"min_data_in_leaf\": trial.suggest_int(\"min_data_in_leaf\", 1, 100),\n",
        "        \"bagging_temperature\": trial.suggest_float(\"bagging_temperature\", 0.0, 1.0),\n",
        "        \"l2_leaf_reg\": trial.suggest_float(\"l2_leaf_reg\", 1, 10, log=True),\n",
        "        \"leaf_estimation_iterations\": trial.suggest_int(\"leaf_estimation_iterations\", 1, 10)\n",
        "    }\n",
        "\n",
        "    clf = CatBoostClassifier(\n",
        "        random_seed=42,\n",
        "        logging_level='Silent',\n",
        "        cat_features=cat_features,\n",
        "        task_type=\"GPU\",\n",
        "    )\n",
        "    cvr = []\n",
        "\n",
        "    for ti, di in StratifiedKFold(n_splits=3, shuffle=True).split(catb_X, y):  # n_splits = 3\n",
        "        # Xt = catb_X.iloc[ti]\n",
        "        # yt = y[ti]\n",
        "        # Xd = catb_X.iloc[di]\n",
        "        yd = y[di]\n",
        "\n",
        "        train_slice = train_pool.slice(ti)\n",
        "        test_slice = train_pool.slice(di)\n",
        "\n",
        "        clf.fit(train_slice)\n",
        "\n",
        "        ypred = clf.predict(test_slice)\n",
        "\n",
        "\n",
        "        cvr.append(f1_score(yd, ypred))\n",
        "\n",
        "        #print(confusion_matrix(yd, [int(x) if x>=0 else 0 for x in np.round(ypred)]))\n",
        "\n",
        "    return np.mean(cvr)\n",
        "\n",
        "\n",
        "study = optuna.create_study(direction=\"maximize\", study_name=\"CatBoost Classifier\")\n",
        "study.optimize(objective, n_trials=100)"
      ]
    },
    {
      "cell_type": "code",
      "execution_count": null,
      "id": "ZYshL09NPMfX",
      "metadata": {
        "id": "ZYshL09NPMfX"
      },
      "outputs": [],
      "source": [
        "best_params_month = {'learning_rate': 0.005541531642456082,\n",
        "                     'depth': 10,\n",
        "                     'subsample': 0.6969070794391691,\n",
        "                     'colsample_bylevel': 0.5684402268013333,\n",
        "                     'min_data_in_leaf': 56,\n",
        "                     'bagging_temperature': 0.9807995974613467,\n",
        "                     'l2_leaf_reg': 2.5107763763633906,\n",
        "                     'leaf_estimation_iterations': 3}\n",
        "\n",
        "catb_month = CatBoostClassifier(\n",
        "    random_seed=42,\n",
        "    # logging_level='Silent',\n",
        "    cat_features=cat_features,\n",
        "    **best_params_month\n",
        ")"
      ]
    },
    {
      "cell_type": "code",
      "execution_count": null,
      "id": "aH-n026cHWyV",
      "metadata": {
        "id": "aH-n026cHWyV"
      },
      "outputs": [],
      "source": [
        "catb_month.fit(catb_X_train, y_train_month)"
      ]
    },
    {
      "cell_type": "code",
      "execution_count": null,
      "id": "kxj4PXBWBO3g",
      "metadata": {
        "id": "kxj4PXBWBO3g"
      },
      "outputs": [],
      "source": []
    }
  ],
  "metadata": {
    "accelerator": "GPU",
    "colab": {
      "collapsed_sections": [
        "fc99adff",
        "XZ3wK5kDhyMZ",
        "H3Z8MrSXPIB5"
      ],
      "gpuType": "T4",
      "provenance": []
    },
    "kernelspec": {
      "display_name": "Python 3",
      "name": "python3"
    },
    "language_info": {
      "codemirror_mode": {
        "name": "ipython",
        "version": 3
      },
      "file_extension": ".py",
      "mimetype": "text/x-python",
      "name": "python",
      "nbconvert_exporter": "python",
      "pygments_lexer": "ipython3",
      "version": "3.11.5"
    },
    "widgets": {
      "application/vnd.jupyter.widget-state+json": {
        "006ad12965fb42018b98ceec7762cc75": {
          "model_module": "@jupyter-widgets/controls",
          "model_module_version": "1.5.0",
          "model_name": "HTMLModel",
          "state": {
            "_dom_classes": [],
            "_model_module": "@jupyter-widgets/controls",
            "_model_module_version": "1.5.0",
            "_model_name": "HTMLModel",
            "_view_count": null,
            "_view_module": "@jupyter-widgets/controls",
            "_view_module_version": "1.5.0",
            "_view_name": "HTMLView",
            "description": "",
            "description_tooltip": null,
            "layout": "IPY_MODEL_d588fa29cfdd4b5db989665ce394a4ad",
            "placeholder": "​",
            "style": "IPY_MODEL_6ba2e2255b084691add6671bc54440dd",
            "value": ""
          }
        },
        "03c21878d7be496c9ad05ac7f1b2c869": {
          "model_module": "@jupyter-widgets/controls",
          "model_module_version": "1.5.0",
          "model_name": "FloatProgressModel",
          "state": {
            "_dom_classes": [],
            "_model_module": "@jupyter-widgets/controls",
            "_model_module_version": "1.5.0",
            "_model_name": "FloatProgressModel",
            "_view_count": null,
            "_view_module": "@jupyter-widgets/controls",
            "_view_module_version": "1.5.0",
            "_view_name": "ProgressView",
            "bar_style": "success",
            "description": "",
            "description_tooltip": null,
            "layout": "IPY_MODEL_dac33c72112c4da9a88032642f3daba8",
            "max": 1,
            "min": 0,
            "orientation": "horizontal",
            "style": "IPY_MODEL_1f6431bb046b416eb20eb063c8256e70",
            "value": 1
          }
        },
        "0511bbb9fed640dfb01c0f7ab8c93a4e": {
          "model_module": "@jupyter-widgets/controls",
          "model_module_version": "1.5.0",
          "model_name": "ProgressStyleModel",
          "state": {
            "_model_module": "@jupyter-widgets/controls",
            "_model_module_version": "1.5.0",
            "_model_name": "ProgressStyleModel",
            "_view_count": null,
            "_view_module": "@jupyter-widgets/base",
            "_view_module_version": "1.2.0",
            "_view_name": "StyleView",
            "bar_color": null,
            "description_width": ""
          }
        },
        "051c30c2cda04e73ab9b863e1c469ad8": {
          "model_module": "@jupyter-widgets/controls",
          "model_module_version": "1.5.0",
          "model_name": "FloatProgressModel",
          "state": {
            "_dom_classes": [],
            "_model_module": "@jupyter-widgets/controls",
            "_model_module_version": "1.5.0",
            "_model_name": "FloatProgressModel",
            "_view_count": null,
            "_view_module": "@jupyter-widgets/controls",
            "_view_module_version": "1.5.0",
            "_view_name": "ProgressView",
            "bar_style": "success",
            "description": "",
            "description_tooltip": null,
            "layout": "IPY_MODEL_43476d96f1134cad9309df5c99daa351",
            "max": 19621,
            "min": 0,
            "orientation": "horizontal",
            "style": "IPY_MODEL_ba4d850147c94fa9b7b08a0a578eeab1",
            "value": 19621
          }
        },
        "059802d046714a1aa9db19f3f61ff387": {
          "model_module": "@jupyter-widgets/controls",
          "model_module_version": "1.5.0",
          "model_name": "HTMLModel",
          "state": {
            "_dom_classes": [],
            "_model_module": "@jupyter-widgets/controls",
            "_model_module_version": "1.5.0",
            "_model_name": "HTMLModel",
            "_view_count": null,
            "_view_module": "@jupyter-widgets/controls",
            "_view_module_version": "1.5.0",
            "_view_name": "HTMLView",
            "description": "",
            "description_tooltip": null,
            "layout": "IPY_MODEL_8c1170cc2ae54a23aae31bfb9cb977ac",
            "placeholder": "​",
            "style": "IPY_MODEL_09f5f164153941129b88b0103da166c8",
            "value": "100%"
          }
        },
        "063fb9771d63496db639b54a36def224": {
          "model_module": "@jupyter-widgets/controls",
          "model_module_version": "1.5.0",
          "model_name": "ProgressStyleModel",
          "state": {
            "_model_module": "@jupyter-widgets/controls",
            "_model_module_version": "1.5.0",
            "_model_name": "ProgressStyleModel",
            "_view_count": null,
            "_view_module": "@jupyter-widgets/base",
            "_view_module_version": "1.2.0",
            "_view_name": "StyleView",
            "bar_color": null,
            "description_width": ""
          }
        },
        "07998257d26e4fc89edb55351300f8e8": {
          "model_module": "@jupyter-widgets/controls",
          "model_module_version": "1.5.0",
          "model_name": "HTMLModel",
          "state": {
            "_dom_classes": [],
            "_model_module": "@jupyter-widgets/controls",
            "_model_module_version": "1.5.0",
            "_model_name": "HTMLModel",
            "_view_count": null,
            "_view_module": "@jupyter-widgets/controls",
            "_view_module_version": "1.5.0",
            "_view_name": "HTMLView",
            "description": "",
            "description_tooltip": null,
            "layout": "IPY_MODEL_6dd5a31ef183426791e8e72154f01021",
            "placeholder": "​",
            "style": "IPY_MODEL_5b3513aec2514571b7e355f34aa8707d",
            "value": " 237561/? [02:23&lt;00:00, 1742.04it/s]"
          }
        },
        "084ab861594643118ce745de8e3dc361": {
          "model_module": "@jupyter-widgets/base",
          "model_module_version": "1.2.0",
          "model_name": "LayoutModel",
          "state": {
            "_model_module": "@jupyter-widgets/base",
            "_model_module_version": "1.2.0",
            "_model_name": "LayoutModel",
            "_view_count": null,
            "_view_module": "@jupyter-widgets/base",
            "_view_module_version": "1.2.0",
            "_view_name": "LayoutView",
            "align_content": null,
            "align_items": null,
            "align_self": null,
            "border": null,
            "bottom": null,
            "display": null,
            "flex": null,
            "flex_flow": null,
            "grid_area": null,
            "grid_auto_columns": null,
            "grid_auto_flow": null,
            "grid_auto_rows": null,
            "grid_column": null,
            "grid_gap": null,
            "grid_row": null,
            "grid_template_areas": null,
            "grid_template_columns": null,
            "grid_template_rows": null,
            "height": null,
            "justify_content": null,
            "justify_items": null,
            "left": null,
            "margin": null,
            "max_height": null,
            "max_width": null,
            "min_height": null,
            "min_width": null,
            "object_fit": null,
            "object_position": null,
            "order": null,
            "overflow": null,
            "overflow_x": null,
            "overflow_y": null,
            "padding": null,
            "right": null,
            "top": null,
            "visibility": null,
            "width": null
          }
        },
        "0858b08b3aae428da8c0d9d42915ed24": {
          "model_module": "@jupyter-widgets/base",
          "model_module_version": "1.2.0",
          "model_name": "LayoutModel",
          "state": {
            "_model_module": "@jupyter-widgets/base",
            "_model_module_version": "1.2.0",
            "_model_name": "LayoutModel",
            "_view_count": null,
            "_view_module": "@jupyter-widgets/base",
            "_view_module_version": "1.2.0",
            "_view_name": "LayoutView",
            "align_content": null,
            "align_items": null,
            "align_self": null,
            "border": null,
            "bottom": null,
            "display": null,
            "flex": null,
            "flex_flow": null,
            "grid_area": null,
            "grid_auto_columns": null,
            "grid_auto_flow": null,
            "grid_auto_rows": null,
            "grid_column": null,
            "grid_gap": null,
            "grid_row": null,
            "grid_template_areas": null,
            "grid_template_columns": null,
            "grid_template_rows": null,
            "height": null,
            "justify_content": null,
            "justify_items": null,
            "left": null,
            "margin": null,
            "max_height": null,
            "max_width": null,
            "min_height": null,
            "min_width": null,
            "object_fit": null,
            "object_position": null,
            "order": null,
            "overflow": null,
            "overflow_x": null,
            "overflow_y": null,
            "padding": null,
            "right": null,
            "top": null,
            "visibility": null,
            "width": null
          }
        },
        "09f5f164153941129b88b0103da166c8": {
          "model_module": "@jupyter-widgets/controls",
          "model_module_version": "1.5.0",
          "model_name": "DescriptionStyleModel",
          "state": {
            "_model_module": "@jupyter-widgets/controls",
            "_model_module_version": "1.5.0",
            "_model_name": "DescriptionStyleModel",
            "_view_count": null,
            "_view_module": "@jupyter-widgets/base",
            "_view_module_version": "1.2.0",
            "_view_name": "StyleView",
            "description_width": ""
          }
        },
        "0bba1a40ea9e4a5099885b8b387df7f7": {
          "model_module": "@jupyter-widgets/base",
          "model_module_version": "1.2.0",
          "model_name": "LayoutModel",
          "state": {
            "_model_module": "@jupyter-widgets/base",
            "_model_module_version": "1.2.0",
            "_model_name": "LayoutModel",
            "_view_count": null,
            "_view_module": "@jupyter-widgets/base",
            "_view_module_version": "1.2.0",
            "_view_name": "LayoutView",
            "align_content": null,
            "align_items": null,
            "align_self": null,
            "border": null,
            "bottom": null,
            "display": null,
            "flex": null,
            "flex_flow": null,
            "grid_area": null,
            "grid_auto_columns": null,
            "grid_auto_flow": null,
            "grid_auto_rows": null,
            "grid_column": null,
            "grid_gap": null,
            "grid_row": null,
            "grid_template_areas": null,
            "grid_template_columns": null,
            "grid_template_rows": null,
            "height": null,
            "justify_content": null,
            "justify_items": null,
            "left": null,
            "margin": null,
            "max_height": null,
            "max_width": null,
            "min_height": null,
            "min_width": null,
            "object_fit": null,
            "object_position": null,
            "order": null,
            "overflow": null,
            "overflow_x": null,
            "overflow_y": null,
            "padding": null,
            "right": null,
            "top": null,
            "visibility": null,
            "width": null
          }
        },
        "0e415af1e9c7472d9b5713682443b87d": {
          "model_module": "@jupyter-widgets/controls",
          "model_module_version": "1.5.0",
          "model_name": "HTMLModel",
          "state": {
            "_dom_classes": [],
            "_model_module": "@jupyter-widgets/controls",
            "_model_module_version": "1.5.0",
            "_model_name": "HTMLModel",
            "_view_count": null,
            "_view_module": "@jupyter-widgets/controls",
            "_view_module_version": "1.5.0",
            "_view_name": "HTMLView",
            "description": "",
            "description_tooltip": null,
            "layout": "IPY_MODEL_5ddefb1b0e13426f8fde8a9d8ab9791b",
            "placeholder": "​",
            "style": "IPY_MODEL_67b03a1c91ba46069267ed5cae00385c",
            "value": " 6249857/? [00:04&lt;00:00, 1471053.64it/s]"
          }
        },
        "1121b34ba598403bb7bf016bf243a6f6": {
          "model_module": "@jupyter-widgets/controls",
          "model_module_version": "1.5.0",
          "model_name": "DescriptionStyleModel",
          "state": {
            "_model_module": "@jupyter-widgets/controls",
            "_model_module_version": "1.5.0",
            "_model_name": "DescriptionStyleModel",
            "_view_count": null,
            "_view_module": "@jupyter-widgets/base",
            "_view_module_version": "1.2.0",
            "_view_name": "StyleView",
            "description_width": ""
          }
        },
        "11fd9cd94f3e4d3ca07450dc299e34a1": {
          "model_module": "@jupyter-widgets/controls",
          "model_module_version": "1.5.0",
          "model_name": "FloatProgressModel",
          "state": {
            "_dom_classes": [],
            "_model_module": "@jupyter-widgets/controls",
            "_model_module_version": "1.5.0",
            "_model_name": "FloatProgressModel",
            "_view_count": null,
            "_view_module": "@jupyter-widgets/controls",
            "_view_module_version": "1.5.0",
            "_view_name": "ProgressView",
            "bar_style": "success",
            "description": "",
            "description_tooltip": null,
            "layout": "IPY_MODEL_8c0586b8502b40a0bb799bd21def9b40",
            "max": 1,
            "min": 0,
            "orientation": "horizontal",
            "style": "IPY_MODEL_1ec47d7f81ac4f72adaa289a73b09f10",
            "value": 1
          }
        },
        "13209ba4a8924b99869fc231ad4f8d91": {
          "model_module": "@jupyter-widgets/controls",
          "model_module_version": "1.5.0",
          "model_name": "DescriptionStyleModel",
          "state": {
            "_model_module": "@jupyter-widgets/controls",
            "_model_module_version": "1.5.0",
            "_model_name": "DescriptionStyleModel",
            "_view_count": null,
            "_view_module": "@jupyter-widgets/base",
            "_view_module_version": "1.2.0",
            "_view_name": "StyleView",
            "description_width": ""
          }
        },
        "16041259b2f04460b299af706e769dfa": {
          "model_module": "@jupyter-widgets/controls",
          "model_module_version": "1.5.0",
          "model_name": "DescriptionStyleModel",
          "state": {
            "_model_module": "@jupyter-widgets/controls",
            "_model_module_version": "1.5.0",
            "_model_name": "DescriptionStyleModel",
            "_view_count": null,
            "_view_module": "@jupyter-widgets/base",
            "_view_module_version": "1.2.0",
            "_view_name": "StyleView",
            "description_width": ""
          }
        },
        "1b3fedff3e0440f5977317788d8a88be": {
          "model_module": "@jupyter-widgets/controls",
          "model_module_version": "1.5.0",
          "model_name": "HBoxModel",
          "state": {
            "_dom_classes": [],
            "_model_module": "@jupyter-widgets/controls",
            "_model_module_version": "1.5.0",
            "_model_name": "HBoxModel",
            "_view_count": null,
            "_view_module": "@jupyter-widgets/controls",
            "_view_module_version": "1.5.0",
            "_view_name": "HBoxView",
            "box_style": "",
            "children": [
              "IPY_MODEL_006ad12965fb42018b98ceec7762cc75",
              "IPY_MODEL_03c21878d7be496c9ad05ac7f1b2c869",
              "IPY_MODEL_48ddb67c93f5410b9ae54fda5ea8da4a"
            ],
            "layout": "IPY_MODEL_833969bb58ac474e84ddfbe139184db2"
          }
        },
        "1d07549e72fb4e248ad5993b18e8ba61": {
          "model_module": "@jupyter-widgets/controls",
          "model_module_version": "1.5.0",
          "model_name": "DescriptionStyleModel",
          "state": {
            "_model_module": "@jupyter-widgets/controls",
            "_model_module_version": "1.5.0",
            "_model_name": "DescriptionStyleModel",
            "_view_count": null,
            "_view_module": "@jupyter-widgets/base",
            "_view_module_version": "1.2.0",
            "_view_name": "StyleView",
            "description_width": ""
          }
        },
        "1ec47d7f81ac4f72adaa289a73b09f10": {
          "model_module": "@jupyter-widgets/controls",
          "model_module_version": "1.5.0",
          "model_name": "ProgressStyleModel",
          "state": {
            "_model_module": "@jupyter-widgets/controls",
            "_model_module_version": "1.5.0",
            "_model_name": "ProgressStyleModel",
            "_view_count": null,
            "_view_module": "@jupyter-widgets/base",
            "_view_module_version": "1.2.0",
            "_view_name": "StyleView",
            "bar_color": null,
            "description_width": ""
          }
        },
        "1f6431bb046b416eb20eb063c8256e70": {
          "model_module": "@jupyter-widgets/controls",
          "model_module_version": "1.5.0",
          "model_name": "ProgressStyleModel",
          "state": {
            "_model_module": "@jupyter-widgets/controls",
            "_model_module_version": "1.5.0",
            "_model_name": "ProgressStyleModel",
            "_view_count": null,
            "_view_module": "@jupyter-widgets/base",
            "_view_module_version": "1.2.0",
            "_view_name": "StyleView",
            "bar_color": null,
            "description_width": ""
          }
        },
        "210ff764fd354598ba89cda44c16929d": {
          "model_module": "@jupyter-widgets/controls",
          "model_module_version": "1.5.0",
          "model_name": "HBoxModel",
          "state": {
            "_dom_classes": [],
            "_model_module": "@jupyter-widgets/controls",
            "_model_module_version": "1.5.0",
            "_model_name": "HBoxModel",
            "_view_count": null,
            "_view_module": "@jupyter-widgets/controls",
            "_view_module_version": "1.5.0",
            "_view_name": "HBoxView",
            "box_style": "",
            "children": [
              "IPY_MODEL_b14e59d202b44e478c882a022b68aa52",
              "IPY_MODEL_50156702e0d4449aad86a4fc5307070c",
              "IPY_MODEL_c63444c6544a480cb9b6e414d1a1a83e"
            ],
            "layout": "IPY_MODEL_4125d6e1a80f42f980e75250303b2508"
          }
        },
        "222a8d69cd7145ec97d5ceb8097239c1": {
          "model_module": "@jupyter-widgets/controls",
          "model_module_version": "1.5.0",
          "model_name": "HTMLModel",
          "state": {
            "_dom_classes": [],
            "_model_module": "@jupyter-widgets/controls",
            "_model_module_version": "1.5.0",
            "_model_name": "HTMLModel",
            "_view_count": null,
            "_view_module": "@jupyter-widgets/controls",
            "_view_module_version": "1.5.0",
            "_view_name": "HTMLView",
            "description": "",
            "description_tooltip": null,
            "layout": "IPY_MODEL_2313eafc28dd478ab6494e3232ed1d67",
            "placeholder": "​",
            "style": "IPY_MODEL_6c8715c2a62a436791d00fc5ebd49fdb",
            "value": " 33977/33977 [03:42&lt;00:00, 228.27it/s]"
          }
        },
        "2313eafc28dd478ab6494e3232ed1d67": {
          "model_module": "@jupyter-widgets/base",
          "model_module_version": "1.2.0",
          "model_name": "LayoutModel",
          "state": {
            "_model_module": "@jupyter-widgets/base",
            "_model_module_version": "1.2.0",
            "_model_name": "LayoutModel",
            "_view_count": null,
            "_view_module": "@jupyter-widgets/base",
            "_view_module_version": "1.2.0",
            "_view_name": "LayoutView",
            "align_content": null,
            "align_items": null,
            "align_self": null,
            "border": null,
            "bottom": null,
            "display": null,
            "flex": null,
            "flex_flow": null,
            "grid_area": null,
            "grid_auto_columns": null,
            "grid_auto_flow": null,
            "grid_auto_rows": null,
            "grid_column": null,
            "grid_gap": null,
            "grid_row": null,
            "grid_template_areas": null,
            "grid_template_columns": null,
            "grid_template_rows": null,
            "height": null,
            "justify_content": null,
            "justify_items": null,
            "left": null,
            "margin": null,
            "max_height": null,
            "max_width": null,
            "min_height": null,
            "min_width": null,
            "object_fit": null,
            "object_position": null,
            "order": null,
            "overflow": null,
            "overflow_x": null,
            "overflow_y": null,
            "padding": null,
            "right": null,
            "top": null,
            "visibility": null,
            "width": null
          }
        },
        "24dcaf9a539f42048f2e887f3294b560": {
          "model_module": "@jupyter-widgets/base",
          "model_module_version": "1.2.0",
          "model_name": "LayoutModel",
          "state": {
            "_model_module": "@jupyter-widgets/base",
            "_model_module_version": "1.2.0",
            "_model_name": "LayoutModel",
            "_view_count": null,
            "_view_module": "@jupyter-widgets/base",
            "_view_module_version": "1.2.0",
            "_view_name": "LayoutView",
            "align_content": null,
            "align_items": null,
            "align_self": null,
            "border": null,
            "bottom": null,
            "display": null,
            "flex": null,
            "flex_flow": null,
            "grid_area": null,
            "grid_auto_columns": null,
            "grid_auto_flow": null,
            "grid_auto_rows": null,
            "grid_column": null,
            "grid_gap": null,
            "grid_row": null,
            "grid_template_areas": null,
            "grid_template_columns": null,
            "grid_template_rows": null,
            "height": null,
            "justify_content": null,
            "justify_items": null,
            "left": null,
            "margin": null,
            "max_height": null,
            "max_width": null,
            "min_height": null,
            "min_width": null,
            "object_fit": null,
            "object_position": null,
            "order": null,
            "overflow": null,
            "overflow_x": null,
            "overflow_y": null,
            "padding": null,
            "right": null,
            "top": null,
            "visibility": null,
            "width": null
          }
        },
        "26e81d57988c44219d6d618e24ad6185": {
          "model_module": "@jupyter-widgets/base",
          "model_module_version": "1.2.0",
          "model_name": "LayoutModel",
          "state": {
            "_model_module": "@jupyter-widgets/base",
            "_model_module_version": "1.2.0",
            "_model_name": "LayoutModel",
            "_view_count": null,
            "_view_module": "@jupyter-widgets/base",
            "_view_module_version": "1.2.0",
            "_view_name": "LayoutView",
            "align_content": null,
            "align_items": null,
            "align_self": null,
            "border": null,
            "bottom": null,
            "display": null,
            "flex": null,
            "flex_flow": null,
            "grid_area": null,
            "grid_auto_columns": null,
            "grid_auto_flow": null,
            "grid_auto_rows": null,
            "grid_column": null,
            "grid_gap": null,
            "grid_row": null,
            "grid_template_areas": null,
            "grid_template_columns": null,
            "grid_template_rows": null,
            "height": null,
            "justify_content": null,
            "justify_items": null,
            "left": null,
            "margin": null,
            "max_height": null,
            "max_width": null,
            "min_height": null,
            "min_width": null,
            "object_fit": null,
            "object_position": null,
            "order": null,
            "overflow": null,
            "overflow_x": null,
            "overflow_y": null,
            "padding": null,
            "right": null,
            "top": null,
            "visibility": null,
            "width": null
          }
        },
        "275a425a95fc4f7ba8af44f55790f67f": {
          "model_module": "@jupyter-widgets/controls",
          "model_module_version": "1.5.0",
          "model_name": "FloatProgressModel",
          "state": {
            "_dom_classes": [],
            "_model_module": "@jupyter-widgets/controls",
            "_model_module_version": "1.5.0",
            "_model_name": "FloatProgressModel",
            "_view_count": null,
            "_view_module": "@jupyter-widgets/controls",
            "_view_module_version": "1.5.0",
            "_view_name": "ProgressView",
            "bar_style": "success",
            "description": "",
            "description_tooltip": null,
            "layout": "IPY_MODEL_37929d38a325497bb622c7f0260c9a82",
            "max": 33977,
            "min": 0,
            "orientation": "horizontal",
            "style": "IPY_MODEL_ce724663b79f48fb9187fbfc7a0206ae",
            "value": 33977
          }
        },
        "278792289bee4a78bfe469a1a806468d": {
          "model_module": "@jupyter-widgets/controls",
          "model_module_version": "1.5.0",
          "model_name": "FloatProgressModel",
          "state": {
            "_dom_classes": [],
            "_model_module": "@jupyter-widgets/controls",
            "_model_module_version": "1.5.0",
            "_model_name": "FloatProgressModel",
            "_view_count": null,
            "_view_module": "@jupyter-widgets/controls",
            "_view_module_version": "1.5.0",
            "_view_name": "ProgressView",
            "bar_style": "success",
            "description": "",
            "description_tooltip": null,
            "layout": "IPY_MODEL_5e03c789f2c54c2d814089d5d10bd1cc",
            "max": 1,
            "min": 0,
            "orientation": "horizontal",
            "style": "IPY_MODEL_d8861a7341ff4def868dc7d6163b9fae",
            "value": 1
          }
        },
        "28e9a142df884015b65e8186d0ff785a": {
          "model_module": "@jupyter-widgets/controls",
          "model_module_version": "1.5.0",
          "model_name": "FloatProgressModel",
          "state": {
            "_dom_classes": [],
            "_model_module": "@jupyter-widgets/controls",
            "_model_module_version": "1.5.0",
            "_model_name": "FloatProgressModel",
            "_view_count": null,
            "_view_module": "@jupyter-widgets/controls",
            "_view_module_version": "1.5.0",
            "_view_name": "ProgressView",
            "bar_style": "success",
            "description": "",
            "description_tooltip": null,
            "layout": "IPY_MODEL_dac2a294b4e647bd837d7997db727031",
            "max": 33977,
            "min": 0,
            "orientation": "horizontal",
            "style": "IPY_MODEL_ededa60b254c4b8189760de35e44d665",
            "value": 33977
          }
        },
        "2a702031ad4d43fdbbead03206dc865d": {
          "model_module": "@jupyter-widgets/controls",
          "model_module_version": "1.5.0",
          "model_name": "HBoxModel",
          "state": {
            "_dom_classes": [],
            "_model_module": "@jupyter-widgets/controls",
            "_model_module_version": "1.5.0",
            "_model_name": "HBoxModel",
            "_view_count": null,
            "_view_module": "@jupyter-widgets/controls",
            "_view_module_version": "1.5.0",
            "_view_name": "HBoxView",
            "box_style": "",
            "children": [
              "IPY_MODEL_fba525ff50f24b959be1def5b4da6538",
              "IPY_MODEL_278792289bee4a78bfe469a1a806468d",
              "IPY_MODEL_7e8911fd629c4af082abca93522fc93f"
            ],
            "layout": "IPY_MODEL_ebf42ef85cf44e3a9d4b8fc7936a5584"
          }
        },
        "2a82622656144d85ae11d6fe4a45c06e": {
          "model_module": "@jupyter-widgets/base",
          "model_module_version": "1.2.0",
          "model_name": "LayoutModel",
          "state": {
            "_model_module": "@jupyter-widgets/base",
            "_model_module_version": "1.2.0",
            "_model_name": "LayoutModel",
            "_view_count": null,
            "_view_module": "@jupyter-widgets/base",
            "_view_module_version": "1.2.0",
            "_view_name": "LayoutView",
            "align_content": null,
            "align_items": null,
            "align_self": null,
            "border": null,
            "bottom": null,
            "display": null,
            "flex": null,
            "flex_flow": null,
            "grid_area": null,
            "grid_auto_columns": null,
            "grid_auto_flow": null,
            "grid_auto_rows": null,
            "grid_column": null,
            "grid_gap": null,
            "grid_row": null,
            "grid_template_areas": null,
            "grid_template_columns": null,
            "grid_template_rows": null,
            "height": null,
            "justify_content": null,
            "justify_items": null,
            "left": null,
            "margin": null,
            "max_height": null,
            "max_width": null,
            "min_height": null,
            "min_width": null,
            "object_fit": null,
            "object_position": null,
            "order": null,
            "overflow": null,
            "overflow_x": null,
            "overflow_y": null,
            "padding": null,
            "right": null,
            "top": null,
            "visibility": null,
            "width": null
          }
        },
        "350eca210c414197bd0f7ae4883b5c77": {
          "model_module": "@jupyter-widgets/controls",
          "model_module_version": "1.5.0",
          "model_name": "DescriptionStyleModel",
          "state": {
            "_model_module": "@jupyter-widgets/controls",
            "_model_module_version": "1.5.0",
            "_model_name": "DescriptionStyleModel",
            "_view_count": null,
            "_view_module": "@jupyter-widgets/base",
            "_view_module_version": "1.2.0",
            "_view_name": "StyleView",
            "description_width": ""
          }
        },
        "36b4c5263d0d419d9515b3e711e360bc": {
          "model_module": "@jupyter-widgets/controls",
          "model_module_version": "1.5.0",
          "model_name": "HBoxModel",
          "state": {
            "_dom_classes": [],
            "_model_module": "@jupyter-widgets/controls",
            "_model_module_version": "1.5.0",
            "_model_name": "HBoxModel",
            "_view_count": null,
            "_view_module": "@jupyter-widgets/controls",
            "_view_module_version": "1.5.0",
            "_view_name": "HBoxView",
            "box_style": "",
            "children": [
              "IPY_MODEL_4c8ef12d49664b02a1d5b83256d515d2",
              "IPY_MODEL_28e9a142df884015b65e8186d0ff785a",
              "IPY_MODEL_222a8d69cd7145ec97d5ceb8097239c1"
            ],
            "layout": "IPY_MODEL_9a1ef083fe1b428690170fbce7e36225"
          }
        },
        "37929d38a325497bb622c7f0260c9a82": {
          "model_module": "@jupyter-widgets/base",
          "model_module_version": "1.2.0",
          "model_name": "LayoutModel",
          "state": {
            "_model_module": "@jupyter-widgets/base",
            "_model_module_version": "1.2.0",
            "_model_name": "LayoutModel",
            "_view_count": null,
            "_view_module": "@jupyter-widgets/base",
            "_view_module_version": "1.2.0",
            "_view_name": "LayoutView",
            "align_content": null,
            "align_items": null,
            "align_self": null,
            "border": null,
            "bottom": null,
            "display": null,
            "flex": null,
            "flex_flow": null,
            "grid_area": null,
            "grid_auto_columns": null,
            "grid_auto_flow": null,
            "grid_auto_rows": null,
            "grid_column": null,
            "grid_gap": null,
            "grid_row": null,
            "grid_template_areas": null,
            "grid_template_columns": null,
            "grid_template_rows": null,
            "height": null,
            "justify_content": null,
            "justify_items": null,
            "left": null,
            "margin": null,
            "max_height": null,
            "max_width": null,
            "min_height": null,
            "min_width": null,
            "object_fit": null,
            "object_position": null,
            "order": null,
            "overflow": null,
            "overflow_x": null,
            "overflow_y": null,
            "padding": null,
            "right": null,
            "top": null,
            "visibility": null,
            "width": null
          }
        },
        "3d3b97e00bdc4891bb84c8ecc766685a": {
          "model_module": "@jupyter-widgets/controls",
          "model_module_version": "1.5.0",
          "model_name": "ProgressStyleModel",
          "state": {
            "_model_module": "@jupyter-widgets/controls",
            "_model_module_version": "1.5.0",
            "_model_name": "ProgressStyleModel",
            "_view_count": null,
            "_view_module": "@jupyter-widgets/base",
            "_view_module_version": "1.2.0",
            "_view_name": "StyleView",
            "bar_color": null,
            "description_width": ""
          }
        },
        "3f9e2f6932c5438db1cc185776d5ec2d": {
          "model_module": "@jupyter-widgets/controls",
          "model_module_version": "1.5.0",
          "model_name": "DescriptionStyleModel",
          "state": {
            "_model_module": "@jupyter-widgets/controls",
            "_model_module_version": "1.5.0",
            "_model_name": "DescriptionStyleModel",
            "_view_count": null,
            "_view_module": "@jupyter-widgets/base",
            "_view_module_version": "1.2.0",
            "_view_name": "StyleView",
            "description_width": ""
          }
        },
        "40533602db654c9e99e6a34b69e15ac5": {
          "model_module": "@jupyter-widgets/base",
          "model_module_version": "1.2.0",
          "model_name": "LayoutModel",
          "state": {
            "_model_module": "@jupyter-widgets/base",
            "_model_module_version": "1.2.0",
            "_model_name": "LayoutModel",
            "_view_count": null,
            "_view_module": "@jupyter-widgets/base",
            "_view_module_version": "1.2.0",
            "_view_name": "LayoutView",
            "align_content": null,
            "align_items": null,
            "align_self": null,
            "border": null,
            "bottom": null,
            "display": null,
            "flex": null,
            "flex_flow": null,
            "grid_area": null,
            "grid_auto_columns": null,
            "grid_auto_flow": null,
            "grid_auto_rows": null,
            "grid_column": null,
            "grid_gap": null,
            "grid_row": null,
            "grid_template_areas": null,
            "grid_template_columns": null,
            "grid_template_rows": null,
            "height": null,
            "justify_content": null,
            "justify_items": null,
            "left": null,
            "margin": null,
            "max_height": null,
            "max_width": null,
            "min_height": null,
            "min_width": null,
            "object_fit": null,
            "object_position": null,
            "order": null,
            "overflow": null,
            "overflow_x": null,
            "overflow_y": null,
            "padding": null,
            "right": null,
            "top": null,
            "visibility": null,
            "width": null
          }
        },
        "4125d6e1a80f42f980e75250303b2508": {
          "model_module": "@jupyter-widgets/base",
          "model_module_version": "1.2.0",
          "model_name": "LayoutModel",
          "state": {
            "_model_module": "@jupyter-widgets/base",
            "_model_module_version": "1.2.0",
            "_model_name": "LayoutModel",
            "_view_count": null,
            "_view_module": "@jupyter-widgets/base",
            "_view_module_version": "1.2.0",
            "_view_name": "LayoutView",
            "align_content": null,
            "align_items": null,
            "align_self": null,
            "border": null,
            "bottom": null,
            "display": null,
            "flex": null,
            "flex_flow": null,
            "grid_area": null,
            "grid_auto_columns": null,
            "grid_auto_flow": null,
            "grid_auto_rows": null,
            "grid_column": null,
            "grid_gap": null,
            "grid_row": null,
            "grid_template_areas": null,
            "grid_template_columns": null,
            "grid_template_rows": null,
            "height": null,
            "justify_content": null,
            "justify_items": null,
            "left": null,
            "margin": null,
            "max_height": null,
            "max_width": null,
            "min_height": null,
            "min_width": null,
            "object_fit": null,
            "object_position": null,
            "order": null,
            "overflow": null,
            "overflow_x": null,
            "overflow_y": null,
            "padding": null,
            "right": null,
            "top": null,
            "visibility": null,
            "width": null
          }
        },
        "41269dad5d454417bb85d3ab0e8336eb": {
          "model_module": "@jupyter-widgets/controls",
          "model_module_version": "1.5.0",
          "model_name": "ProgressStyleModel",
          "state": {
            "_model_module": "@jupyter-widgets/controls",
            "_model_module_version": "1.5.0",
            "_model_name": "ProgressStyleModel",
            "_view_count": null,
            "_view_module": "@jupyter-widgets/base",
            "_view_module_version": "1.2.0",
            "_view_name": "StyleView",
            "bar_color": null,
            "description_width": ""
          }
        },
        "426a3926c5ed4a99b08b64dad370854c": {
          "model_module": "@jupyter-widgets/controls",
          "model_module_version": "1.5.0",
          "model_name": "HBoxModel",
          "state": {
            "_dom_classes": [],
            "_model_module": "@jupyter-widgets/controls",
            "_model_module_version": "1.5.0",
            "_model_name": "HBoxModel",
            "_view_count": null,
            "_view_module": "@jupyter-widgets/controls",
            "_view_module_version": "1.5.0",
            "_view_name": "HBoxView",
            "box_style": "",
            "children": [
              "IPY_MODEL_d6918fed7c08433fbd3f7db7ad400cab",
              "IPY_MODEL_42f169be6ebb407d811900ef9d846b5b",
              "IPY_MODEL_0e415af1e9c7472d9b5713682443b87d"
            ],
            "layout": "IPY_MODEL_a80071272a7c4e65876bdfdab0edcd78"
          }
        },
        "42f169be6ebb407d811900ef9d846b5b": {
          "model_module": "@jupyter-widgets/controls",
          "model_module_version": "1.5.0",
          "model_name": "FloatProgressModel",
          "state": {
            "_dom_classes": [],
            "_model_module": "@jupyter-widgets/controls",
            "_model_module_version": "1.5.0",
            "_model_name": "FloatProgressModel",
            "_view_count": null,
            "_view_module": "@jupyter-widgets/controls",
            "_view_module_version": "1.5.0",
            "_view_name": "ProgressView",
            "bar_style": "success",
            "description": "",
            "description_tooltip": null,
            "layout": "IPY_MODEL_612bb6f5944d4d8f9bd059c734f1e46a",
            "max": 1,
            "min": 0,
            "orientation": "horizontal",
            "style": "IPY_MODEL_b77bcbb40bb84dfe968e77b8ee8acb71",
            "value": 1
          }
        },
        "43476d96f1134cad9309df5c99daa351": {
          "model_module": "@jupyter-widgets/base",
          "model_module_version": "1.2.0",
          "model_name": "LayoutModel",
          "state": {
            "_model_module": "@jupyter-widgets/base",
            "_model_module_version": "1.2.0",
            "_model_name": "LayoutModel",
            "_view_count": null,
            "_view_module": "@jupyter-widgets/base",
            "_view_module_version": "1.2.0",
            "_view_name": "LayoutView",
            "align_content": null,
            "align_items": null,
            "align_self": null,
            "border": null,
            "bottom": null,
            "display": null,
            "flex": null,
            "flex_flow": null,
            "grid_area": null,
            "grid_auto_columns": null,
            "grid_auto_flow": null,
            "grid_auto_rows": null,
            "grid_column": null,
            "grid_gap": null,
            "grid_row": null,
            "grid_template_areas": null,
            "grid_template_columns": null,
            "grid_template_rows": null,
            "height": null,
            "justify_content": null,
            "justify_items": null,
            "left": null,
            "margin": null,
            "max_height": null,
            "max_width": null,
            "min_height": null,
            "min_width": null,
            "object_fit": null,
            "object_position": null,
            "order": null,
            "overflow": null,
            "overflow_x": null,
            "overflow_y": null,
            "padding": null,
            "right": null,
            "top": null,
            "visibility": null,
            "width": null
          }
        },
        "44484fea03284fe7b4fe189fe9457c38": {
          "model_module": "@jupyter-widgets/base",
          "model_module_version": "1.2.0",
          "model_name": "LayoutModel",
          "state": {
            "_model_module": "@jupyter-widgets/base",
            "_model_module_version": "1.2.0",
            "_model_name": "LayoutModel",
            "_view_count": null,
            "_view_module": "@jupyter-widgets/base",
            "_view_module_version": "1.2.0",
            "_view_name": "LayoutView",
            "align_content": null,
            "align_items": null,
            "align_self": null,
            "border": null,
            "bottom": null,
            "display": null,
            "flex": null,
            "flex_flow": null,
            "grid_area": null,
            "grid_auto_columns": null,
            "grid_auto_flow": null,
            "grid_auto_rows": null,
            "grid_column": null,
            "grid_gap": null,
            "grid_row": null,
            "grid_template_areas": null,
            "grid_template_columns": null,
            "grid_template_rows": null,
            "height": null,
            "justify_content": null,
            "justify_items": null,
            "left": null,
            "margin": null,
            "max_height": null,
            "max_width": null,
            "min_height": null,
            "min_width": null,
            "object_fit": null,
            "object_position": null,
            "order": null,
            "overflow": null,
            "overflow_x": null,
            "overflow_y": null,
            "padding": null,
            "right": null,
            "top": null,
            "visibility": null,
            "width": null
          }
        },
        "449a7dc31c52474495a4bbd605e86ab1": {
          "model_module": "@jupyter-widgets/base",
          "model_module_version": "1.2.0",
          "model_name": "LayoutModel",
          "state": {
            "_model_module": "@jupyter-widgets/base",
            "_model_module_version": "1.2.0",
            "_model_name": "LayoutModel",
            "_view_count": null,
            "_view_module": "@jupyter-widgets/base",
            "_view_module_version": "1.2.0",
            "_view_name": "LayoutView",
            "align_content": null,
            "align_items": null,
            "align_self": null,
            "border": null,
            "bottom": null,
            "display": null,
            "flex": null,
            "flex_flow": null,
            "grid_area": null,
            "grid_auto_columns": null,
            "grid_auto_flow": null,
            "grid_auto_rows": null,
            "grid_column": null,
            "grid_gap": null,
            "grid_row": null,
            "grid_template_areas": null,
            "grid_template_columns": null,
            "grid_template_rows": null,
            "height": null,
            "justify_content": null,
            "justify_items": null,
            "left": null,
            "margin": null,
            "max_height": null,
            "max_width": null,
            "min_height": null,
            "min_width": null,
            "object_fit": null,
            "object_position": null,
            "order": null,
            "overflow": null,
            "overflow_x": null,
            "overflow_y": null,
            "padding": null,
            "right": null,
            "top": null,
            "visibility": null,
            "width": null
          }
        },
        "46960a410dce40cfb2af66f722b9e799": {
          "model_module": "@jupyter-widgets/controls",
          "model_module_version": "1.5.0",
          "model_name": "DescriptionStyleModel",
          "state": {
            "_model_module": "@jupyter-widgets/controls",
            "_model_module_version": "1.5.0",
            "_model_name": "DescriptionStyleModel",
            "_view_count": null,
            "_view_module": "@jupyter-widgets/base",
            "_view_module_version": "1.2.0",
            "_view_name": "StyleView",
            "description_width": ""
          }
        },
        "4782ee83afd84a9ea5455550c325ad21": {
          "model_module": "@jupyter-widgets/controls",
          "model_module_version": "1.5.0",
          "model_name": "ProgressStyleModel",
          "state": {
            "_model_module": "@jupyter-widgets/controls",
            "_model_module_version": "1.5.0",
            "_model_name": "ProgressStyleModel",
            "_view_count": null,
            "_view_module": "@jupyter-widgets/base",
            "_view_module_version": "1.2.0",
            "_view_name": "StyleView",
            "bar_color": null,
            "description_width": ""
          }
        },
        "48a71a65423d4c5db89c9c0c34d13cdc": {
          "model_module": "@jupyter-widgets/base",
          "model_module_version": "1.2.0",
          "model_name": "LayoutModel",
          "state": {
            "_model_module": "@jupyter-widgets/base",
            "_model_module_version": "1.2.0",
            "_model_name": "LayoutModel",
            "_view_count": null,
            "_view_module": "@jupyter-widgets/base",
            "_view_module_version": "1.2.0",
            "_view_name": "LayoutView",
            "align_content": null,
            "align_items": null,
            "align_self": null,
            "border": null,
            "bottom": null,
            "display": null,
            "flex": null,
            "flex_flow": null,
            "grid_area": null,
            "grid_auto_columns": null,
            "grid_auto_flow": null,
            "grid_auto_rows": null,
            "grid_column": null,
            "grid_gap": null,
            "grid_row": null,
            "grid_template_areas": null,
            "grid_template_columns": null,
            "grid_template_rows": null,
            "height": null,
            "justify_content": null,
            "justify_items": null,
            "left": null,
            "margin": null,
            "max_height": null,
            "max_width": null,
            "min_height": null,
            "min_width": null,
            "object_fit": null,
            "object_position": null,
            "order": null,
            "overflow": null,
            "overflow_x": null,
            "overflow_y": null,
            "padding": null,
            "right": null,
            "top": null,
            "visibility": null,
            "width": null
          }
        },
        "48ddb67c93f5410b9ae54fda5ea8da4a": {
          "model_module": "@jupyter-widgets/controls",
          "model_module_version": "1.5.0",
          "model_name": "HTMLModel",
          "state": {
            "_dom_classes": [],
            "_model_module": "@jupyter-widgets/controls",
            "_model_module_version": "1.5.0",
            "_model_name": "HTMLModel",
            "_view_count": null,
            "_view_module": "@jupyter-widgets/controls",
            "_view_module_version": "1.5.0",
            "_view_name": "HTMLView",
            "description": "",
            "description_tooltip": null,
            "layout": "IPY_MODEL_2a82622656144d85ae11d6fe4a45c06e",
            "placeholder": "​",
            "style": "IPY_MODEL_de9ed9f05a84478bbab6494f8af2071b",
            "value": " 237561/? [00:35&lt;00:00, 7319.58it/s]"
          }
        },
        "49fa72ccb5d24aada59c1bc83843a96b": {
          "model_module": "@jupyter-widgets/base",
          "model_module_version": "1.2.0",
          "model_name": "LayoutModel",
          "state": {
            "_model_module": "@jupyter-widgets/base",
            "_model_module_version": "1.2.0",
            "_model_name": "LayoutModel",
            "_view_count": null,
            "_view_module": "@jupyter-widgets/base",
            "_view_module_version": "1.2.0",
            "_view_name": "LayoutView",
            "align_content": null,
            "align_items": null,
            "align_self": null,
            "border": null,
            "bottom": null,
            "display": null,
            "flex": null,
            "flex_flow": null,
            "grid_area": null,
            "grid_auto_columns": null,
            "grid_auto_flow": null,
            "grid_auto_rows": null,
            "grid_column": null,
            "grid_gap": null,
            "grid_row": null,
            "grid_template_areas": null,
            "grid_template_columns": null,
            "grid_template_rows": null,
            "height": null,
            "justify_content": null,
            "justify_items": null,
            "left": null,
            "margin": null,
            "max_height": null,
            "max_width": null,
            "min_height": null,
            "min_width": null,
            "object_fit": null,
            "object_position": null,
            "order": null,
            "overflow": null,
            "overflow_x": null,
            "overflow_y": null,
            "padding": null,
            "right": null,
            "top": null,
            "visibility": null,
            "width": null
          }
        },
        "4b4e9dcb690c49e0a11861ab8c1c2092": {
          "model_module": "@jupyter-widgets/base",
          "model_module_version": "1.2.0",
          "model_name": "LayoutModel",
          "state": {
            "_model_module": "@jupyter-widgets/base",
            "_model_module_version": "1.2.0",
            "_model_name": "LayoutModel",
            "_view_count": null,
            "_view_module": "@jupyter-widgets/base",
            "_view_module_version": "1.2.0",
            "_view_name": "LayoutView",
            "align_content": null,
            "align_items": null,
            "align_self": null,
            "border": null,
            "bottom": null,
            "display": null,
            "flex": null,
            "flex_flow": null,
            "grid_area": null,
            "grid_auto_columns": null,
            "grid_auto_flow": null,
            "grid_auto_rows": null,
            "grid_column": null,
            "grid_gap": null,
            "grid_row": null,
            "grid_template_areas": null,
            "grid_template_columns": null,
            "grid_template_rows": null,
            "height": null,
            "justify_content": null,
            "justify_items": null,
            "left": null,
            "margin": null,
            "max_height": null,
            "max_width": null,
            "min_height": null,
            "min_width": null,
            "object_fit": null,
            "object_position": null,
            "order": null,
            "overflow": null,
            "overflow_x": null,
            "overflow_y": null,
            "padding": null,
            "right": null,
            "top": null,
            "visibility": null,
            "width": null
          }
        },
        "4c2641381221471ab828f548cbc85513": {
          "model_module": "@jupyter-widgets/controls",
          "model_module_version": "1.5.0",
          "model_name": "DescriptionStyleModel",
          "state": {
            "_model_module": "@jupyter-widgets/controls",
            "_model_module_version": "1.5.0",
            "_model_name": "DescriptionStyleModel",
            "_view_count": null,
            "_view_module": "@jupyter-widgets/base",
            "_view_module_version": "1.2.0",
            "_view_name": "StyleView",
            "description_width": ""
          }
        },
        "4c8ef12d49664b02a1d5b83256d515d2": {
          "model_module": "@jupyter-widgets/controls",
          "model_module_version": "1.5.0",
          "model_name": "HTMLModel",
          "state": {
            "_dom_classes": [],
            "_model_module": "@jupyter-widgets/controls",
            "_model_module_version": "1.5.0",
            "_model_name": "HTMLModel",
            "_view_count": null,
            "_view_module": "@jupyter-widgets/controls",
            "_view_module_version": "1.5.0",
            "_view_name": "HTMLView",
            "description": "",
            "description_tooltip": null,
            "layout": "IPY_MODEL_763ff32e590c482b96c855e97bc32952",
            "placeholder": "​",
            "style": "IPY_MODEL_8fc1bf7453844b358f449c6d01853c5d",
            "value": "100%"
          }
        },
        "4e3179f7892b4309bd5cf9ce61549f46": {
          "model_module": "@jupyter-widgets/controls",
          "model_module_version": "1.5.0",
          "model_name": "HBoxModel",
          "state": {
            "_dom_classes": [],
            "_model_module": "@jupyter-widgets/controls",
            "_model_module_version": "1.5.0",
            "_model_name": "HBoxModel",
            "_view_count": null,
            "_view_module": "@jupyter-widgets/controls",
            "_view_module_version": "1.5.0",
            "_view_name": "HBoxView",
            "box_style": "",
            "children": [
              "IPY_MODEL_825d3ef6b04046ddbeb4c046cfbe6048",
              "IPY_MODEL_60cccb5c539b45b386ed122da04f38e5",
              "IPY_MODEL_9b44ba1fc54147f7bf9058589c652180"
            ],
            "layout": "IPY_MODEL_49fa72ccb5d24aada59c1bc83843a96b"
          }
        },
        "4eca6ffe308c450cb5fcf5c74f41691d": {
          "model_module": "@jupyter-widgets/controls",
          "model_module_version": "1.5.0",
          "model_name": "HTMLModel",
          "state": {
            "_dom_classes": [],
            "_model_module": "@jupyter-widgets/controls",
            "_model_module_version": "1.5.0",
            "_model_name": "HTMLModel",
            "_view_count": null,
            "_view_module": "@jupyter-widgets/controls",
            "_view_module_version": "1.5.0",
            "_view_name": "HTMLView",
            "description": "",
            "description_tooltip": null,
            "layout": "IPY_MODEL_4eecb8423b494f71b18151c2b429364d",
            "placeholder": "​",
            "style": "IPY_MODEL_f1cbeb08f366401aa3e362bcfa44dd9c",
            "value": ""
          }
        },
        "4eecb8423b494f71b18151c2b429364d": {
          "model_module": "@jupyter-widgets/base",
          "model_module_version": "1.2.0",
          "model_name": "LayoutModel",
          "state": {
            "_model_module": "@jupyter-widgets/base",
            "_model_module_version": "1.2.0",
            "_model_name": "LayoutModel",
            "_view_count": null,
            "_view_module": "@jupyter-widgets/base",
            "_view_module_version": "1.2.0",
            "_view_name": "LayoutView",
            "align_content": null,
            "align_items": null,
            "align_self": null,
            "border": null,
            "bottom": null,
            "display": null,
            "flex": null,
            "flex_flow": null,
            "grid_area": null,
            "grid_auto_columns": null,
            "grid_auto_flow": null,
            "grid_auto_rows": null,
            "grid_column": null,
            "grid_gap": null,
            "grid_row": null,
            "grid_template_areas": null,
            "grid_template_columns": null,
            "grid_template_rows": null,
            "height": null,
            "justify_content": null,
            "justify_items": null,
            "left": null,
            "margin": null,
            "max_height": null,
            "max_width": null,
            "min_height": null,
            "min_width": null,
            "object_fit": null,
            "object_position": null,
            "order": null,
            "overflow": null,
            "overflow_x": null,
            "overflow_y": null,
            "padding": null,
            "right": null,
            "top": null,
            "visibility": null,
            "width": null
          }
        },
        "50156702e0d4449aad86a4fc5307070c": {
          "model_module": "@jupyter-widgets/controls",
          "model_module_version": "1.5.0",
          "model_name": "FloatProgressModel",
          "state": {
            "_dom_classes": [],
            "_model_module": "@jupyter-widgets/controls",
            "_model_module_version": "1.5.0",
            "_model_name": "FloatProgressModel",
            "_view_count": null,
            "_view_module": "@jupyter-widgets/controls",
            "_view_module_version": "1.5.0",
            "_view_name": "ProgressView",
            "bar_style": "success",
            "description": "",
            "description_tooltip": null,
            "layout": "IPY_MODEL_7bde2d4ddb19464bb08f31710dd74de9",
            "max": 33977,
            "min": 0,
            "orientation": "horizontal",
            "style": "IPY_MODEL_3d3b97e00bdc4891bb84c8ecc766685a",
            "value": 33977
          }
        },
        "5086eb2399da476fab99499d854fd300": {
          "model_module": "@jupyter-widgets/controls",
          "model_module_version": "1.5.0",
          "model_name": "DescriptionStyleModel",
          "state": {
            "_model_module": "@jupyter-widgets/controls",
            "_model_module_version": "1.5.0",
            "_model_name": "DescriptionStyleModel",
            "_view_count": null,
            "_view_module": "@jupyter-widgets/base",
            "_view_module_version": "1.2.0",
            "_view_name": "StyleView",
            "description_width": ""
          }
        },
        "51615cd1c62e497b995a9de46a8f5a1e": {
          "model_module": "@jupyter-widgets/controls",
          "model_module_version": "1.5.0",
          "model_name": "DescriptionStyleModel",
          "state": {
            "_model_module": "@jupyter-widgets/controls",
            "_model_module_version": "1.5.0",
            "_model_name": "DescriptionStyleModel",
            "_view_count": null,
            "_view_module": "@jupyter-widgets/base",
            "_view_module_version": "1.2.0",
            "_view_name": "StyleView",
            "description_width": ""
          }
        },
        "51afc5aa9f9c4ccab485750d181a31ba": {
          "model_module": "@jupyter-widgets/base",
          "model_module_version": "1.2.0",
          "model_name": "LayoutModel",
          "state": {
            "_model_module": "@jupyter-widgets/base",
            "_model_module_version": "1.2.0",
            "_model_name": "LayoutModel",
            "_view_count": null,
            "_view_module": "@jupyter-widgets/base",
            "_view_module_version": "1.2.0",
            "_view_name": "LayoutView",
            "align_content": null,
            "align_items": null,
            "align_self": null,
            "border": null,
            "bottom": null,
            "display": null,
            "flex": null,
            "flex_flow": null,
            "grid_area": null,
            "grid_auto_columns": null,
            "grid_auto_flow": null,
            "grid_auto_rows": null,
            "grid_column": null,
            "grid_gap": null,
            "grid_row": null,
            "grid_template_areas": null,
            "grid_template_columns": null,
            "grid_template_rows": null,
            "height": null,
            "justify_content": null,
            "justify_items": null,
            "left": null,
            "margin": null,
            "max_height": null,
            "max_width": null,
            "min_height": null,
            "min_width": null,
            "object_fit": null,
            "object_position": null,
            "order": null,
            "overflow": null,
            "overflow_x": null,
            "overflow_y": null,
            "padding": null,
            "right": null,
            "top": null,
            "visibility": null,
            "width": null
          }
        },
        "5290f9bfd35a49729c718e5627260a8a": {
          "model_module": "@jupyter-widgets/controls",
          "model_module_version": "1.5.0",
          "model_name": "DescriptionStyleModel",
          "state": {
            "_model_module": "@jupyter-widgets/controls",
            "_model_module_version": "1.5.0",
            "_model_name": "DescriptionStyleModel",
            "_view_count": null,
            "_view_module": "@jupyter-widgets/base",
            "_view_module_version": "1.2.0",
            "_view_name": "StyleView",
            "description_width": ""
          }
        },
        "57112260c5924cbea4a04c38aeec0736": {
          "model_module": "@jupyter-widgets/controls",
          "model_module_version": "1.5.0",
          "model_name": "HBoxModel",
          "state": {
            "_dom_classes": [],
            "_model_module": "@jupyter-widgets/controls",
            "_model_module_version": "1.5.0",
            "_model_name": "HBoxModel",
            "_view_count": null,
            "_view_module": "@jupyter-widgets/controls",
            "_view_module_version": "1.5.0",
            "_view_name": "HBoxView",
            "box_style": "",
            "children": [
              "IPY_MODEL_b92ad127d378440d90499c98e045be72",
              "IPY_MODEL_f859d48ac19441bcaaf5979fbbe926af",
              "IPY_MODEL_5fc962084b04435c9133d1aace311efe"
            ],
            "layout": "IPY_MODEL_778e12e828ce4d9e9893669756efe5b6"
          }
        },
        "573b02a0978c4e96ae783b13d127f6f8": {
          "model_module": "@jupyter-widgets/controls",
          "model_module_version": "1.5.0",
          "model_name": "FloatProgressModel",
          "state": {
            "_dom_classes": [],
            "_model_module": "@jupyter-widgets/controls",
            "_model_module_version": "1.5.0",
            "_model_name": "FloatProgressModel",
            "_view_count": null,
            "_view_module": "@jupyter-widgets/controls",
            "_view_module_version": "1.5.0",
            "_view_name": "ProgressView",
            "bar_style": "success",
            "description": "",
            "description_tooltip": null,
            "layout": "IPY_MODEL_51afc5aa9f9c4ccab485750d181a31ba",
            "max": 237561,
            "min": 0,
            "orientation": "horizontal",
            "style": "IPY_MODEL_acda5e845f714a21bb07207d7d95aa95",
            "value": 237561
          }
        },
        "5839b8d85d8b466686be9cf6000baff3": {
          "model_module": "@jupyter-widgets/base",
          "model_module_version": "1.2.0",
          "model_name": "LayoutModel",
          "state": {
            "_model_module": "@jupyter-widgets/base",
            "_model_module_version": "1.2.0",
            "_model_name": "LayoutModel",
            "_view_count": null,
            "_view_module": "@jupyter-widgets/base",
            "_view_module_version": "1.2.0",
            "_view_name": "LayoutView",
            "align_content": null,
            "align_items": null,
            "align_self": null,
            "border": null,
            "bottom": null,
            "display": null,
            "flex": null,
            "flex_flow": null,
            "grid_area": null,
            "grid_auto_columns": null,
            "grid_auto_flow": null,
            "grid_auto_rows": null,
            "grid_column": null,
            "grid_gap": null,
            "grid_row": null,
            "grid_template_areas": null,
            "grid_template_columns": null,
            "grid_template_rows": null,
            "height": null,
            "justify_content": null,
            "justify_items": null,
            "left": null,
            "margin": null,
            "max_height": null,
            "max_width": null,
            "min_height": null,
            "min_width": null,
            "object_fit": null,
            "object_position": null,
            "order": null,
            "overflow": null,
            "overflow_x": null,
            "overflow_y": null,
            "padding": null,
            "right": null,
            "top": null,
            "visibility": null,
            "width": null
          }
        },
        "5b1e7de3a7b14d79bf8552acd6b2f55e": {
          "model_module": "@jupyter-widgets/controls",
          "model_module_version": "1.5.0",
          "model_name": "HTMLModel",
          "state": {
            "_dom_classes": [],
            "_model_module": "@jupyter-widgets/controls",
            "_model_module_version": "1.5.0",
            "_model_name": "HTMLModel",
            "_view_count": null,
            "_view_module": "@jupyter-widgets/controls",
            "_view_module_version": "1.5.0",
            "_view_name": "HTMLView",
            "description": "",
            "description_tooltip": null,
            "layout": "IPY_MODEL_24dcaf9a539f42048f2e887f3294b560",
            "placeholder": "​",
            "style": "IPY_MODEL_350eca210c414197bd0f7ae4883b5c77",
            "value": " 33707/? [00:05&lt;00:00, 5639.43it/s]"
          }
        },
        "5b3513aec2514571b7e355f34aa8707d": {
          "model_module": "@jupyter-widgets/controls",
          "model_module_version": "1.5.0",
          "model_name": "DescriptionStyleModel",
          "state": {
            "_model_module": "@jupyter-widgets/controls",
            "_model_module_version": "1.5.0",
            "_model_name": "DescriptionStyleModel",
            "_view_count": null,
            "_view_module": "@jupyter-widgets/base",
            "_view_module_version": "1.2.0",
            "_view_name": "StyleView",
            "description_width": ""
          }
        },
        "5b9f50d8cac74646a5c2d24de1a2c398": {
          "model_module": "@jupyter-widgets/base",
          "model_module_version": "1.2.0",
          "model_name": "LayoutModel",
          "state": {
            "_model_module": "@jupyter-widgets/base",
            "_model_module_version": "1.2.0",
            "_model_name": "LayoutModel",
            "_view_count": null,
            "_view_module": "@jupyter-widgets/base",
            "_view_module_version": "1.2.0",
            "_view_name": "LayoutView",
            "align_content": null,
            "align_items": null,
            "align_self": null,
            "border": null,
            "bottom": null,
            "display": null,
            "flex": null,
            "flex_flow": null,
            "grid_area": null,
            "grid_auto_columns": null,
            "grid_auto_flow": null,
            "grid_auto_rows": null,
            "grid_column": null,
            "grid_gap": null,
            "grid_row": null,
            "grid_template_areas": null,
            "grid_template_columns": null,
            "grid_template_rows": null,
            "height": null,
            "justify_content": null,
            "justify_items": null,
            "left": null,
            "margin": null,
            "max_height": null,
            "max_width": null,
            "min_height": null,
            "min_width": null,
            "object_fit": null,
            "object_position": null,
            "order": null,
            "overflow": null,
            "overflow_x": null,
            "overflow_y": null,
            "padding": null,
            "right": null,
            "top": null,
            "visibility": null,
            "width": null
          }
        },
        "5ddefb1b0e13426f8fde8a9d8ab9791b": {
          "model_module": "@jupyter-widgets/base",
          "model_module_version": "1.2.0",
          "model_name": "LayoutModel",
          "state": {
            "_model_module": "@jupyter-widgets/base",
            "_model_module_version": "1.2.0",
            "_model_name": "LayoutModel",
            "_view_count": null,
            "_view_module": "@jupyter-widgets/base",
            "_view_module_version": "1.2.0",
            "_view_name": "LayoutView",
            "align_content": null,
            "align_items": null,
            "align_self": null,
            "border": null,
            "bottom": null,
            "display": null,
            "flex": null,
            "flex_flow": null,
            "grid_area": null,
            "grid_auto_columns": null,
            "grid_auto_flow": null,
            "grid_auto_rows": null,
            "grid_column": null,
            "grid_gap": null,
            "grid_row": null,
            "grid_template_areas": null,
            "grid_template_columns": null,
            "grid_template_rows": null,
            "height": null,
            "justify_content": null,
            "justify_items": null,
            "left": null,
            "margin": null,
            "max_height": null,
            "max_width": null,
            "min_height": null,
            "min_width": null,
            "object_fit": null,
            "object_position": null,
            "order": null,
            "overflow": null,
            "overflow_x": null,
            "overflow_y": null,
            "padding": null,
            "right": null,
            "top": null,
            "visibility": null,
            "width": null
          }
        },
        "5e03c789f2c54c2d814089d5d10bd1cc": {
          "model_module": "@jupyter-widgets/base",
          "model_module_version": "1.2.0",
          "model_name": "LayoutModel",
          "state": {
            "_model_module": "@jupyter-widgets/base",
            "_model_module_version": "1.2.0",
            "_model_name": "LayoutModel",
            "_view_count": null,
            "_view_module": "@jupyter-widgets/base",
            "_view_module_version": "1.2.0",
            "_view_name": "LayoutView",
            "align_content": null,
            "align_items": null,
            "align_self": null,
            "border": null,
            "bottom": null,
            "display": null,
            "flex": null,
            "flex_flow": null,
            "grid_area": null,
            "grid_auto_columns": null,
            "grid_auto_flow": null,
            "grid_auto_rows": null,
            "grid_column": null,
            "grid_gap": null,
            "grid_row": null,
            "grid_template_areas": null,
            "grid_template_columns": null,
            "grid_template_rows": null,
            "height": null,
            "justify_content": null,
            "justify_items": null,
            "left": null,
            "margin": null,
            "max_height": null,
            "max_width": null,
            "min_height": null,
            "min_width": null,
            "object_fit": null,
            "object_position": null,
            "order": null,
            "overflow": null,
            "overflow_x": null,
            "overflow_y": null,
            "padding": null,
            "right": null,
            "top": null,
            "visibility": null,
            "width": "20px"
          }
        },
        "5e12e1e9df12469f97a7860d297972e1": {
          "model_module": "@jupyter-widgets/controls",
          "model_module_version": "1.5.0",
          "model_name": "HTMLModel",
          "state": {
            "_dom_classes": [],
            "_model_module": "@jupyter-widgets/controls",
            "_model_module_version": "1.5.0",
            "_model_name": "HTMLModel",
            "_view_count": null,
            "_view_module": "@jupyter-widgets/controls",
            "_view_module_version": "1.5.0",
            "_view_name": "HTMLView",
            "description": "",
            "description_tooltip": null,
            "layout": "IPY_MODEL_e962cd17d8814243b5bc021d07fb928a",
            "placeholder": "​",
            "style": "IPY_MODEL_46960a410dce40cfb2af66f722b9e799",
            "value": " 33977/33977 [00:21&lt;00:00, 1394.57it/s]"
          }
        },
        "5fc962084b04435c9133d1aace311efe": {
          "model_module": "@jupyter-widgets/controls",
          "model_module_version": "1.5.0",
          "model_name": "HTMLModel",
          "state": {
            "_dom_classes": [],
            "_model_module": "@jupyter-widgets/controls",
            "_model_module_version": "1.5.0",
            "_model_name": "HTMLModel",
            "_view_count": null,
            "_view_module": "@jupyter-widgets/controls",
            "_view_module_version": "1.5.0",
            "_view_name": "HTMLView",
            "description": "",
            "description_tooltip": null,
            "layout": "IPY_MODEL_fd98062ccf32495dbd273e742972bbd2",
            "placeholder": "​",
            "style": "IPY_MODEL_1d07549e72fb4e248ad5993b18e8ba61",
            "value": " 6249857/? [00:05&lt;00:00, 1369559.86it/s]"
          }
        },
        "60cccb5c539b45b386ed122da04f38e5": {
          "model_module": "@jupyter-widgets/controls",
          "model_module_version": "1.5.0",
          "model_name": "FloatProgressModel",
          "state": {
            "_dom_classes": [],
            "_model_module": "@jupyter-widgets/controls",
            "_model_module_version": "1.5.0",
            "_model_name": "FloatProgressModel",
            "_view_count": null,
            "_view_module": "@jupyter-widgets/controls",
            "_view_module_version": "1.5.0",
            "_view_name": "ProgressView",
            "bar_style": "success",
            "description": "",
            "description_tooltip": null,
            "layout": "IPY_MODEL_4b4e9dcb690c49e0a11861ab8c1c2092",
            "max": 33707,
            "min": 0,
            "orientation": "horizontal",
            "style": "IPY_MODEL_4782ee83afd84a9ea5455550c325ad21",
            "value": 33707
          }
        },
        "612bb6f5944d4d8f9bd059c734f1e46a": {
          "model_module": "@jupyter-widgets/base",
          "model_module_version": "1.2.0",
          "model_name": "LayoutModel",
          "state": {
            "_model_module": "@jupyter-widgets/base",
            "_model_module_version": "1.2.0",
            "_model_name": "LayoutModel",
            "_view_count": null,
            "_view_module": "@jupyter-widgets/base",
            "_view_module_version": "1.2.0",
            "_view_name": "LayoutView",
            "align_content": null,
            "align_items": null,
            "align_self": null,
            "border": null,
            "bottom": null,
            "display": null,
            "flex": null,
            "flex_flow": null,
            "grid_area": null,
            "grid_auto_columns": null,
            "grid_auto_flow": null,
            "grid_auto_rows": null,
            "grid_column": null,
            "grid_gap": null,
            "grid_row": null,
            "grid_template_areas": null,
            "grid_template_columns": null,
            "grid_template_rows": null,
            "height": null,
            "justify_content": null,
            "justify_items": null,
            "left": null,
            "margin": null,
            "max_height": null,
            "max_width": null,
            "min_height": null,
            "min_width": null,
            "object_fit": null,
            "object_position": null,
            "order": null,
            "overflow": null,
            "overflow_x": null,
            "overflow_y": null,
            "padding": null,
            "right": null,
            "top": null,
            "visibility": null,
            "width": "20px"
          }
        },
        "63a9dd79bb904e35afa09593ca39e458": {
          "model_module": "@jupyter-widgets/controls",
          "model_module_version": "1.5.0",
          "model_name": "ProgressStyleModel",
          "state": {
            "_model_module": "@jupyter-widgets/controls",
            "_model_module_version": "1.5.0",
            "_model_name": "ProgressStyleModel",
            "_view_count": null,
            "_view_module": "@jupyter-widgets/base",
            "_view_module_version": "1.2.0",
            "_view_name": "StyleView",
            "bar_color": null,
            "description_width": ""
          }
        },
        "65831d6e66c84e448b0aaee99646ff7f": {
          "model_module": "@jupyter-widgets/base",
          "model_module_version": "1.2.0",
          "model_name": "LayoutModel",
          "state": {
            "_model_module": "@jupyter-widgets/base",
            "_model_module_version": "1.2.0",
            "_model_name": "LayoutModel",
            "_view_count": null,
            "_view_module": "@jupyter-widgets/base",
            "_view_module_version": "1.2.0",
            "_view_name": "LayoutView",
            "align_content": null,
            "align_items": null,
            "align_self": null,
            "border": null,
            "bottom": null,
            "display": null,
            "flex": null,
            "flex_flow": null,
            "grid_area": null,
            "grid_auto_columns": null,
            "grid_auto_flow": null,
            "grid_auto_rows": null,
            "grid_column": null,
            "grid_gap": null,
            "grid_row": null,
            "grid_template_areas": null,
            "grid_template_columns": null,
            "grid_template_rows": null,
            "height": null,
            "justify_content": null,
            "justify_items": null,
            "left": null,
            "margin": null,
            "max_height": null,
            "max_width": null,
            "min_height": null,
            "min_width": null,
            "object_fit": null,
            "object_position": null,
            "order": null,
            "overflow": null,
            "overflow_x": null,
            "overflow_y": null,
            "padding": null,
            "right": null,
            "top": null,
            "visibility": null,
            "width": null
          }
        },
        "67b03a1c91ba46069267ed5cae00385c": {
          "model_module": "@jupyter-widgets/controls",
          "model_module_version": "1.5.0",
          "model_name": "DescriptionStyleModel",
          "state": {
            "_model_module": "@jupyter-widgets/controls",
            "_model_module_version": "1.5.0",
            "_model_name": "DescriptionStyleModel",
            "_view_count": null,
            "_view_module": "@jupyter-widgets/base",
            "_view_module_version": "1.2.0",
            "_view_name": "StyleView",
            "description_width": ""
          }
        },
        "6a2cdfc12bc44289a625c33664ff4e9d": {
          "model_module": "@jupyter-widgets/base",
          "model_module_version": "1.2.0",
          "model_name": "LayoutModel",
          "state": {
            "_model_module": "@jupyter-widgets/base",
            "_model_module_version": "1.2.0",
            "_model_name": "LayoutModel",
            "_view_count": null,
            "_view_module": "@jupyter-widgets/base",
            "_view_module_version": "1.2.0",
            "_view_name": "LayoutView",
            "align_content": null,
            "align_items": null,
            "align_self": null,
            "border": null,
            "bottom": null,
            "display": null,
            "flex": null,
            "flex_flow": null,
            "grid_area": null,
            "grid_auto_columns": null,
            "grid_auto_flow": null,
            "grid_auto_rows": null,
            "grid_column": null,
            "grid_gap": null,
            "grid_row": null,
            "grid_template_areas": null,
            "grid_template_columns": null,
            "grid_template_rows": null,
            "height": null,
            "justify_content": null,
            "justify_items": null,
            "left": null,
            "margin": null,
            "max_height": null,
            "max_width": null,
            "min_height": null,
            "min_width": null,
            "object_fit": null,
            "object_position": null,
            "order": null,
            "overflow": null,
            "overflow_x": null,
            "overflow_y": null,
            "padding": null,
            "right": null,
            "top": null,
            "visibility": null,
            "width": null
          }
        },
        "6ba2e2255b084691add6671bc54440dd": {
          "model_module": "@jupyter-widgets/controls",
          "model_module_version": "1.5.0",
          "model_name": "DescriptionStyleModel",
          "state": {
            "_model_module": "@jupyter-widgets/controls",
            "_model_module_version": "1.5.0",
            "_model_name": "DescriptionStyleModel",
            "_view_count": null,
            "_view_module": "@jupyter-widgets/base",
            "_view_module_version": "1.2.0",
            "_view_name": "StyleView",
            "description_width": ""
          }
        },
        "6c8715c2a62a436791d00fc5ebd49fdb": {
          "model_module": "@jupyter-widgets/controls",
          "model_module_version": "1.5.0",
          "model_name": "DescriptionStyleModel",
          "state": {
            "_model_module": "@jupyter-widgets/controls",
            "_model_module_version": "1.5.0",
            "_model_name": "DescriptionStyleModel",
            "_view_count": null,
            "_view_module": "@jupyter-widgets/base",
            "_view_module_version": "1.2.0",
            "_view_name": "StyleView",
            "description_width": ""
          }
        },
        "6dd5a31ef183426791e8e72154f01021": {
          "model_module": "@jupyter-widgets/base",
          "model_module_version": "1.2.0",
          "model_name": "LayoutModel",
          "state": {
            "_model_module": "@jupyter-widgets/base",
            "_model_module_version": "1.2.0",
            "_model_name": "LayoutModel",
            "_view_count": null,
            "_view_module": "@jupyter-widgets/base",
            "_view_module_version": "1.2.0",
            "_view_name": "LayoutView",
            "align_content": null,
            "align_items": null,
            "align_self": null,
            "border": null,
            "bottom": null,
            "display": null,
            "flex": null,
            "flex_flow": null,
            "grid_area": null,
            "grid_auto_columns": null,
            "grid_auto_flow": null,
            "grid_auto_rows": null,
            "grid_column": null,
            "grid_gap": null,
            "grid_row": null,
            "grid_template_areas": null,
            "grid_template_columns": null,
            "grid_template_rows": null,
            "height": null,
            "justify_content": null,
            "justify_items": null,
            "left": null,
            "margin": null,
            "max_height": null,
            "max_width": null,
            "min_height": null,
            "min_width": null,
            "object_fit": null,
            "object_position": null,
            "order": null,
            "overflow": null,
            "overflow_x": null,
            "overflow_y": null,
            "padding": null,
            "right": null,
            "top": null,
            "visibility": null,
            "width": null
          }
        },
        "70d31b36c781491db75a5f82197bf1e1": {
          "model_module": "@jupyter-widgets/base",
          "model_module_version": "1.2.0",
          "model_name": "LayoutModel",
          "state": {
            "_model_module": "@jupyter-widgets/base",
            "_model_module_version": "1.2.0",
            "_model_name": "LayoutModel",
            "_view_count": null,
            "_view_module": "@jupyter-widgets/base",
            "_view_module_version": "1.2.0",
            "_view_name": "LayoutView",
            "align_content": null,
            "align_items": null,
            "align_self": null,
            "border": null,
            "bottom": null,
            "display": null,
            "flex": null,
            "flex_flow": null,
            "grid_area": null,
            "grid_auto_columns": null,
            "grid_auto_flow": null,
            "grid_auto_rows": null,
            "grid_column": null,
            "grid_gap": null,
            "grid_row": null,
            "grid_template_areas": null,
            "grid_template_columns": null,
            "grid_template_rows": null,
            "height": null,
            "justify_content": null,
            "justify_items": null,
            "left": null,
            "margin": null,
            "max_height": null,
            "max_width": null,
            "min_height": null,
            "min_width": null,
            "object_fit": null,
            "object_position": null,
            "order": null,
            "overflow": null,
            "overflow_x": null,
            "overflow_y": null,
            "padding": null,
            "right": null,
            "top": null,
            "visibility": null,
            "width": null
          }
        },
        "743cadafda1e4d0494e611ff56085da1": {
          "model_module": "@jupyter-widgets/controls",
          "model_module_version": "1.5.0",
          "model_name": "HTMLModel",
          "state": {
            "_dom_classes": [],
            "_model_module": "@jupyter-widgets/controls",
            "_model_module_version": "1.5.0",
            "_model_name": "HTMLModel",
            "_view_count": null,
            "_view_module": "@jupyter-widgets/controls",
            "_view_module_version": "1.5.0",
            "_view_name": "HTMLView",
            "description": "",
            "description_tooltip": null,
            "layout": "IPY_MODEL_40533602db654c9e99e6a34b69e15ac5",
            "placeholder": "​",
            "style": "IPY_MODEL_959807109add4ebb9778089dd546a15e",
            "value": ""
          }
        },
        "753d152f490b47e189ca088dd6ff252a": {
          "model_module": "@jupyter-widgets/base",
          "model_module_version": "1.2.0",
          "model_name": "LayoutModel",
          "state": {
            "_model_module": "@jupyter-widgets/base",
            "_model_module_version": "1.2.0",
            "_model_name": "LayoutModel",
            "_view_count": null,
            "_view_module": "@jupyter-widgets/base",
            "_view_module_version": "1.2.0",
            "_view_name": "LayoutView",
            "align_content": null,
            "align_items": null,
            "align_self": null,
            "border": null,
            "bottom": null,
            "display": null,
            "flex": null,
            "flex_flow": null,
            "grid_area": null,
            "grid_auto_columns": null,
            "grid_auto_flow": null,
            "grid_auto_rows": null,
            "grid_column": null,
            "grid_gap": null,
            "grid_row": null,
            "grid_template_areas": null,
            "grid_template_columns": null,
            "grid_template_rows": null,
            "height": null,
            "justify_content": null,
            "justify_items": null,
            "left": null,
            "margin": null,
            "max_height": null,
            "max_width": null,
            "min_height": null,
            "min_width": null,
            "object_fit": null,
            "object_position": null,
            "order": null,
            "overflow": null,
            "overflow_x": null,
            "overflow_y": null,
            "padding": null,
            "right": null,
            "top": null,
            "visibility": null,
            "width": "20px"
          }
        },
        "75481d89d4a1492db53b58ce52f5f87f": {
          "model_module": "@jupyter-widgets/base",
          "model_module_version": "1.2.0",
          "model_name": "LayoutModel",
          "state": {
            "_model_module": "@jupyter-widgets/base",
            "_model_module_version": "1.2.0",
            "_model_name": "LayoutModel",
            "_view_count": null,
            "_view_module": "@jupyter-widgets/base",
            "_view_module_version": "1.2.0",
            "_view_name": "LayoutView",
            "align_content": null,
            "align_items": null,
            "align_self": null,
            "border": null,
            "bottom": null,
            "display": null,
            "flex": null,
            "flex_flow": null,
            "grid_area": null,
            "grid_auto_columns": null,
            "grid_auto_flow": null,
            "grid_auto_rows": null,
            "grid_column": null,
            "grid_gap": null,
            "grid_row": null,
            "grid_template_areas": null,
            "grid_template_columns": null,
            "grid_template_rows": null,
            "height": null,
            "justify_content": null,
            "justify_items": null,
            "left": null,
            "margin": null,
            "max_height": null,
            "max_width": null,
            "min_height": null,
            "min_width": null,
            "object_fit": null,
            "object_position": null,
            "order": null,
            "overflow": null,
            "overflow_x": null,
            "overflow_y": null,
            "padding": null,
            "right": null,
            "top": null,
            "visibility": null,
            "width": null
          }
        },
        "763ff32e590c482b96c855e97bc32952": {
          "model_module": "@jupyter-widgets/base",
          "model_module_version": "1.2.0",
          "model_name": "LayoutModel",
          "state": {
            "_model_module": "@jupyter-widgets/base",
            "_model_module_version": "1.2.0",
            "_model_name": "LayoutModel",
            "_view_count": null,
            "_view_module": "@jupyter-widgets/base",
            "_view_module_version": "1.2.0",
            "_view_name": "LayoutView",
            "align_content": null,
            "align_items": null,
            "align_self": null,
            "border": null,
            "bottom": null,
            "display": null,
            "flex": null,
            "flex_flow": null,
            "grid_area": null,
            "grid_auto_columns": null,
            "grid_auto_flow": null,
            "grid_auto_rows": null,
            "grid_column": null,
            "grid_gap": null,
            "grid_row": null,
            "grid_template_areas": null,
            "grid_template_columns": null,
            "grid_template_rows": null,
            "height": null,
            "justify_content": null,
            "justify_items": null,
            "left": null,
            "margin": null,
            "max_height": null,
            "max_width": null,
            "min_height": null,
            "min_width": null,
            "object_fit": null,
            "object_position": null,
            "order": null,
            "overflow": null,
            "overflow_x": null,
            "overflow_y": null,
            "padding": null,
            "right": null,
            "top": null,
            "visibility": null,
            "width": null
          }
        },
        "778e12e828ce4d9e9893669756efe5b6": {
          "model_module": "@jupyter-widgets/base",
          "model_module_version": "1.2.0",
          "model_name": "LayoutModel",
          "state": {
            "_model_module": "@jupyter-widgets/base",
            "_model_module_version": "1.2.0",
            "_model_name": "LayoutModel",
            "_view_count": null,
            "_view_module": "@jupyter-widgets/base",
            "_view_module_version": "1.2.0",
            "_view_name": "LayoutView",
            "align_content": null,
            "align_items": null,
            "align_self": null,
            "border": null,
            "bottom": null,
            "display": null,
            "flex": null,
            "flex_flow": null,
            "grid_area": null,
            "grid_auto_columns": null,
            "grid_auto_flow": null,
            "grid_auto_rows": null,
            "grid_column": null,
            "grid_gap": null,
            "grid_row": null,
            "grid_template_areas": null,
            "grid_template_columns": null,
            "grid_template_rows": null,
            "height": null,
            "justify_content": null,
            "justify_items": null,
            "left": null,
            "margin": null,
            "max_height": null,
            "max_width": null,
            "min_height": null,
            "min_width": null,
            "object_fit": null,
            "object_position": null,
            "order": null,
            "overflow": null,
            "overflow_x": null,
            "overflow_y": null,
            "padding": null,
            "right": null,
            "top": null,
            "visibility": null,
            "width": null
          }
        },
        "7bde2d4ddb19464bb08f31710dd74de9": {
          "model_module": "@jupyter-widgets/base",
          "model_module_version": "1.2.0",
          "model_name": "LayoutModel",
          "state": {
            "_model_module": "@jupyter-widgets/base",
            "_model_module_version": "1.2.0",
            "_model_name": "LayoutModel",
            "_view_count": null,
            "_view_module": "@jupyter-widgets/base",
            "_view_module_version": "1.2.0",
            "_view_name": "LayoutView",
            "align_content": null,
            "align_items": null,
            "align_self": null,
            "border": null,
            "bottom": null,
            "display": null,
            "flex": null,
            "flex_flow": null,
            "grid_area": null,
            "grid_auto_columns": null,
            "grid_auto_flow": null,
            "grid_auto_rows": null,
            "grid_column": null,
            "grid_gap": null,
            "grid_row": null,
            "grid_template_areas": null,
            "grid_template_columns": null,
            "grid_template_rows": null,
            "height": null,
            "justify_content": null,
            "justify_items": null,
            "left": null,
            "margin": null,
            "max_height": null,
            "max_width": null,
            "min_height": null,
            "min_width": null,
            "object_fit": null,
            "object_position": null,
            "order": null,
            "overflow": null,
            "overflow_x": null,
            "overflow_y": null,
            "padding": null,
            "right": null,
            "top": null,
            "visibility": null,
            "width": null
          }
        },
        "7c28a2ae206e4c228e4e9f58bba46982": {
          "model_module": "@jupyter-widgets/controls",
          "model_module_version": "1.5.0",
          "model_name": "DescriptionStyleModel",
          "state": {
            "_model_module": "@jupyter-widgets/controls",
            "_model_module_version": "1.5.0",
            "_model_name": "DescriptionStyleModel",
            "_view_count": null,
            "_view_module": "@jupyter-widgets/base",
            "_view_module_version": "1.2.0",
            "_view_name": "StyleView",
            "description_width": ""
          }
        },
        "7e8911fd629c4af082abca93522fc93f": {
          "model_module": "@jupyter-widgets/controls",
          "model_module_version": "1.5.0",
          "model_name": "HTMLModel",
          "state": {
            "_dom_classes": [],
            "_model_module": "@jupyter-widgets/controls",
            "_model_module_version": "1.5.0",
            "_model_name": "HTMLModel",
            "_view_count": null,
            "_view_module": "@jupyter-widgets/controls",
            "_view_module_version": "1.5.0",
            "_view_name": "HTMLView",
            "description": "",
            "description_tooltip": null,
            "layout": "IPY_MODEL_8e72f96e2a4b4c8c9b747b309ab1774e",
            "placeholder": "​",
            "style": "IPY_MODEL_b64059c9850b455caa3c5848e05f155d",
            "value": " 237561/? [01:22&lt;00:00, 2425.16it/s]"
          }
        },
        "7fcae389a9d94b0ebc647bf073aa55ec": {
          "model_module": "@jupyter-widgets/controls",
          "model_module_version": "1.5.0",
          "model_name": "HTMLModel",
          "state": {
            "_dom_classes": [],
            "_model_module": "@jupyter-widgets/controls",
            "_model_module_version": "1.5.0",
            "_model_name": "HTMLModel",
            "_view_count": null,
            "_view_module": "@jupyter-widgets/controls",
            "_view_module_version": "1.5.0",
            "_view_name": "HTMLView",
            "description": "",
            "description_tooltip": null,
            "layout": "IPY_MODEL_0858b08b3aae428da8c0d9d42915ed24",
            "placeholder": "​",
            "style": "IPY_MODEL_d831c37e2a024feb99d71117b9c06b6e",
            "value": " 33707/? [00:19&lt;00:00, 1810.01it/s]"
          }
        },
        "809ae43b73fc4dadb8d9ba1e3fc78b14": {
          "model_module": "@jupyter-widgets/base",
          "model_module_version": "1.2.0",
          "model_name": "LayoutModel",
          "state": {
            "_model_module": "@jupyter-widgets/base",
            "_model_module_version": "1.2.0",
            "_model_name": "LayoutModel",
            "_view_count": null,
            "_view_module": "@jupyter-widgets/base",
            "_view_module_version": "1.2.0",
            "_view_name": "LayoutView",
            "align_content": null,
            "align_items": null,
            "align_self": null,
            "border": null,
            "bottom": null,
            "display": null,
            "flex": null,
            "flex_flow": null,
            "grid_area": null,
            "grid_auto_columns": null,
            "grid_auto_flow": null,
            "grid_auto_rows": null,
            "grid_column": null,
            "grid_gap": null,
            "grid_row": null,
            "grid_template_areas": null,
            "grid_template_columns": null,
            "grid_template_rows": null,
            "height": null,
            "justify_content": null,
            "justify_items": null,
            "left": null,
            "margin": null,
            "max_height": null,
            "max_width": null,
            "min_height": null,
            "min_width": null,
            "object_fit": null,
            "object_position": null,
            "order": null,
            "overflow": null,
            "overflow_x": null,
            "overflow_y": null,
            "padding": null,
            "right": null,
            "top": null,
            "visibility": null,
            "width": null
          }
        },
        "80a6768b2a5741e2855da8df456495b2": {
          "model_module": "@jupyter-widgets/controls",
          "model_module_version": "1.5.0",
          "model_name": "DescriptionStyleModel",
          "state": {
            "_model_module": "@jupyter-widgets/controls",
            "_model_module_version": "1.5.0",
            "_model_name": "DescriptionStyleModel",
            "_view_count": null,
            "_view_module": "@jupyter-widgets/base",
            "_view_module_version": "1.2.0",
            "_view_name": "StyleView",
            "description_width": ""
          }
        },
        "817fda43d69d45de80d885e40c8ae16a": {
          "model_module": "@jupyter-widgets/controls",
          "model_module_version": "1.5.0",
          "model_name": "DescriptionStyleModel",
          "state": {
            "_model_module": "@jupyter-widgets/controls",
            "_model_module_version": "1.5.0",
            "_model_name": "DescriptionStyleModel",
            "_view_count": null,
            "_view_module": "@jupyter-widgets/base",
            "_view_module_version": "1.2.0",
            "_view_name": "StyleView",
            "description_width": ""
          }
        },
        "81ee349e94da424fb253dd683e81aaaf": {
          "model_module": "@jupyter-widgets/controls",
          "model_module_version": "1.5.0",
          "model_name": "DescriptionStyleModel",
          "state": {
            "_model_module": "@jupyter-widgets/controls",
            "_model_module_version": "1.5.0",
            "_model_name": "DescriptionStyleModel",
            "_view_count": null,
            "_view_module": "@jupyter-widgets/base",
            "_view_module_version": "1.2.0",
            "_view_name": "StyleView",
            "description_width": ""
          }
        },
        "82420aab112d416491218d4534c620c9": {
          "model_module": "@jupyter-widgets/base",
          "model_module_version": "1.2.0",
          "model_name": "LayoutModel",
          "state": {
            "_model_module": "@jupyter-widgets/base",
            "_model_module_version": "1.2.0",
            "_model_name": "LayoutModel",
            "_view_count": null,
            "_view_module": "@jupyter-widgets/base",
            "_view_module_version": "1.2.0",
            "_view_name": "LayoutView",
            "align_content": null,
            "align_items": null,
            "align_self": null,
            "border": null,
            "bottom": null,
            "display": null,
            "flex": null,
            "flex_flow": null,
            "grid_area": null,
            "grid_auto_columns": null,
            "grid_auto_flow": null,
            "grid_auto_rows": null,
            "grid_column": null,
            "grid_gap": null,
            "grid_row": null,
            "grid_template_areas": null,
            "grid_template_columns": null,
            "grid_template_rows": null,
            "height": null,
            "justify_content": null,
            "justify_items": null,
            "left": null,
            "margin": null,
            "max_height": null,
            "max_width": null,
            "min_height": null,
            "min_width": null,
            "object_fit": null,
            "object_position": null,
            "order": null,
            "overflow": null,
            "overflow_x": null,
            "overflow_y": null,
            "padding": null,
            "right": null,
            "top": null,
            "visibility": null,
            "width": null
          }
        },
        "825d3ef6b04046ddbeb4c046cfbe6048": {
          "model_module": "@jupyter-widgets/controls",
          "model_module_version": "1.5.0",
          "model_name": "HTMLModel",
          "state": {
            "_dom_classes": [],
            "_model_module": "@jupyter-widgets/controls",
            "_model_module_version": "1.5.0",
            "_model_name": "HTMLModel",
            "_view_count": null,
            "_view_module": "@jupyter-widgets/controls",
            "_view_module_version": "1.5.0",
            "_view_name": "HTMLView",
            "description": "",
            "description_tooltip": null,
            "layout": "IPY_MODEL_9b70c485ba7d478784ff1e7868104508",
            "placeholder": "​",
            "style": "IPY_MODEL_4c2641381221471ab828f548cbc85513",
            "value": "100%"
          }
        },
        "833969bb58ac474e84ddfbe139184db2": {
          "model_module": "@jupyter-widgets/base",
          "model_module_version": "1.2.0",
          "model_name": "LayoutModel",
          "state": {
            "_model_module": "@jupyter-widgets/base",
            "_model_module_version": "1.2.0",
            "_model_name": "LayoutModel",
            "_view_count": null,
            "_view_module": "@jupyter-widgets/base",
            "_view_module_version": "1.2.0",
            "_view_name": "LayoutView",
            "align_content": null,
            "align_items": null,
            "align_self": null,
            "border": null,
            "bottom": null,
            "display": null,
            "flex": null,
            "flex_flow": null,
            "grid_area": null,
            "grid_auto_columns": null,
            "grid_auto_flow": null,
            "grid_auto_rows": null,
            "grid_column": null,
            "grid_gap": null,
            "grid_row": null,
            "grid_template_areas": null,
            "grid_template_columns": null,
            "grid_template_rows": null,
            "height": null,
            "justify_content": null,
            "justify_items": null,
            "left": null,
            "margin": null,
            "max_height": null,
            "max_width": null,
            "min_height": null,
            "min_width": null,
            "object_fit": null,
            "object_position": null,
            "order": null,
            "overflow": null,
            "overflow_x": null,
            "overflow_y": null,
            "padding": null,
            "right": null,
            "top": null,
            "visibility": null,
            "width": null
          }
        },
        "85f39e9987e64c2c95e1edc2308380f5": {
          "model_module": "@jupyter-widgets/base",
          "model_module_version": "1.2.0",
          "model_name": "LayoutModel",
          "state": {
            "_model_module": "@jupyter-widgets/base",
            "_model_module_version": "1.2.0",
            "_model_name": "LayoutModel",
            "_view_count": null,
            "_view_module": "@jupyter-widgets/base",
            "_view_module_version": "1.2.0",
            "_view_name": "LayoutView",
            "align_content": null,
            "align_items": null,
            "align_self": null,
            "border": null,
            "bottom": null,
            "display": null,
            "flex": null,
            "flex_flow": null,
            "grid_area": null,
            "grid_auto_columns": null,
            "grid_auto_flow": null,
            "grid_auto_rows": null,
            "grid_column": null,
            "grid_gap": null,
            "grid_row": null,
            "grid_template_areas": null,
            "grid_template_columns": null,
            "grid_template_rows": null,
            "height": null,
            "justify_content": null,
            "justify_items": null,
            "left": null,
            "margin": null,
            "max_height": null,
            "max_width": null,
            "min_height": null,
            "min_width": null,
            "object_fit": null,
            "object_position": null,
            "order": null,
            "overflow": null,
            "overflow_x": null,
            "overflow_y": null,
            "padding": null,
            "right": null,
            "top": null,
            "visibility": null,
            "width": null
          }
        },
        "866b50a4788c4cc2b0bc11f2873ac88c": {
          "model_module": "@jupyter-widgets/base",
          "model_module_version": "1.2.0",
          "model_name": "LayoutModel",
          "state": {
            "_model_module": "@jupyter-widgets/base",
            "_model_module_version": "1.2.0",
            "_model_name": "LayoutModel",
            "_view_count": null,
            "_view_module": "@jupyter-widgets/base",
            "_view_module_version": "1.2.0",
            "_view_name": "LayoutView",
            "align_content": null,
            "align_items": null,
            "align_self": null,
            "border": null,
            "bottom": null,
            "display": null,
            "flex": null,
            "flex_flow": null,
            "grid_area": null,
            "grid_auto_columns": null,
            "grid_auto_flow": null,
            "grid_auto_rows": null,
            "grid_column": null,
            "grid_gap": null,
            "grid_row": null,
            "grid_template_areas": null,
            "grid_template_columns": null,
            "grid_template_rows": null,
            "height": null,
            "justify_content": null,
            "justify_items": null,
            "left": null,
            "margin": null,
            "max_height": null,
            "max_width": null,
            "min_height": null,
            "min_width": null,
            "object_fit": null,
            "object_position": null,
            "order": null,
            "overflow": null,
            "overflow_x": null,
            "overflow_y": null,
            "padding": null,
            "right": null,
            "top": null,
            "visibility": null,
            "width": null
          }
        },
        "8969856800aa47a6b7018c1f136eed1a": {
          "model_module": "@jupyter-widgets/controls",
          "model_module_version": "1.5.0",
          "model_name": "HBoxModel",
          "state": {
            "_dom_classes": [],
            "_model_module": "@jupyter-widgets/controls",
            "_model_module_version": "1.5.0",
            "_model_name": "HBoxModel",
            "_view_count": null,
            "_view_module": "@jupyter-widgets/controls",
            "_view_module_version": "1.5.0",
            "_view_name": "HBoxView",
            "box_style": "",
            "children": [
              "IPY_MODEL_ba8d6a2854f54f918ae81a40a2fae4ad",
              "IPY_MODEL_051c30c2cda04e73ab9b863e1c469ad8",
              "IPY_MODEL_a07f66c1409d4ce3a6aaaaf1860d5993"
            ],
            "layout": "IPY_MODEL_5839b8d85d8b466686be9cf6000baff3"
          }
        },
        "89e7e2875b1649e78cd42b511dd85bb4": {
          "model_module": "@jupyter-widgets/controls",
          "model_module_version": "1.5.0",
          "model_name": "HBoxModel",
          "state": {
            "_dom_classes": [],
            "_model_module": "@jupyter-widgets/controls",
            "_model_module_version": "1.5.0",
            "_model_name": "HBoxModel",
            "_view_count": null,
            "_view_module": "@jupyter-widgets/controls",
            "_view_module_version": "1.5.0",
            "_view_name": "HBoxView",
            "box_style": "",
            "children": [
              "IPY_MODEL_e59e5d24cc1a4e9190980c264cf6face",
              "IPY_MODEL_d158dda6e2a04f28b6b74bee94b4b5c6",
              "IPY_MODEL_d92db98be66044968326c6ae194726f3"
            ],
            "layout": "IPY_MODEL_449a7dc31c52474495a4bbd605e86ab1"
          }
        },
        "8c0586b8502b40a0bb799bd21def9b40": {
          "model_module": "@jupyter-widgets/base",
          "model_module_version": "1.2.0",
          "model_name": "LayoutModel",
          "state": {
            "_model_module": "@jupyter-widgets/base",
            "_model_module_version": "1.2.0",
            "_model_name": "LayoutModel",
            "_view_count": null,
            "_view_module": "@jupyter-widgets/base",
            "_view_module_version": "1.2.0",
            "_view_name": "LayoutView",
            "align_content": null,
            "align_items": null,
            "align_self": null,
            "border": null,
            "bottom": null,
            "display": null,
            "flex": null,
            "flex_flow": null,
            "grid_area": null,
            "grid_auto_columns": null,
            "grid_auto_flow": null,
            "grid_auto_rows": null,
            "grid_column": null,
            "grid_gap": null,
            "grid_row": null,
            "grid_template_areas": null,
            "grid_template_columns": null,
            "grid_template_rows": null,
            "height": null,
            "justify_content": null,
            "justify_items": null,
            "left": null,
            "margin": null,
            "max_height": null,
            "max_width": null,
            "min_height": null,
            "min_width": null,
            "object_fit": null,
            "object_position": null,
            "order": null,
            "overflow": null,
            "overflow_x": null,
            "overflow_y": null,
            "padding": null,
            "right": null,
            "top": null,
            "visibility": null,
            "width": "20px"
          }
        },
        "8c1170cc2ae54a23aae31bfb9cb977ac": {
          "model_module": "@jupyter-widgets/base",
          "model_module_version": "1.2.0",
          "model_name": "LayoutModel",
          "state": {
            "_model_module": "@jupyter-widgets/base",
            "_model_module_version": "1.2.0",
            "_model_name": "LayoutModel",
            "_view_count": null,
            "_view_module": "@jupyter-widgets/base",
            "_view_module_version": "1.2.0",
            "_view_name": "LayoutView",
            "align_content": null,
            "align_items": null,
            "align_self": null,
            "border": null,
            "bottom": null,
            "display": null,
            "flex": null,
            "flex_flow": null,
            "grid_area": null,
            "grid_auto_columns": null,
            "grid_auto_flow": null,
            "grid_auto_rows": null,
            "grid_column": null,
            "grid_gap": null,
            "grid_row": null,
            "grid_template_areas": null,
            "grid_template_columns": null,
            "grid_template_rows": null,
            "height": null,
            "justify_content": null,
            "justify_items": null,
            "left": null,
            "margin": null,
            "max_height": null,
            "max_width": null,
            "min_height": null,
            "min_width": null,
            "object_fit": null,
            "object_position": null,
            "order": null,
            "overflow": null,
            "overflow_x": null,
            "overflow_y": null,
            "padding": null,
            "right": null,
            "top": null,
            "visibility": null,
            "width": null
          }
        },
        "8e72f96e2a4b4c8c9b747b309ab1774e": {
          "model_module": "@jupyter-widgets/base",
          "model_module_version": "1.2.0",
          "model_name": "LayoutModel",
          "state": {
            "_model_module": "@jupyter-widgets/base",
            "_model_module_version": "1.2.0",
            "_model_name": "LayoutModel",
            "_view_count": null,
            "_view_module": "@jupyter-widgets/base",
            "_view_module_version": "1.2.0",
            "_view_name": "LayoutView",
            "align_content": null,
            "align_items": null,
            "align_self": null,
            "border": null,
            "bottom": null,
            "display": null,
            "flex": null,
            "flex_flow": null,
            "grid_area": null,
            "grid_auto_columns": null,
            "grid_auto_flow": null,
            "grid_auto_rows": null,
            "grid_column": null,
            "grid_gap": null,
            "grid_row": null,
            "grid_template_areas": null,
            "grid_template_columns": null,
            "grid_template_rows": null,
            "height": null,
            "justify_content": null,
            "justify_items": null,
            "left": null,
            "margin": null,
            "max_height": null,
            "max_width": null,
            "min_height": null,
            "min_width": null,
            "object_fit": null,
            "object_position": null,
            "order": null,
            "overflow": null,
            "overflow_x": null,
            "overflow_y": null,
            "padding": null,
            "right": null,
            "top": null,
            "visibility": null,
            "width": null
          }
        },
        "8fc1bf7453844b358f449c6d01853c5d": {
          "model_module": "@jupyter-widgets/controls",
          "model_module_version": "1.5.0",
          "model_name": "DescriptionStyleModel",
          "state": {
            "_model_module": "@jupyter-widgets/controls",
            "_model_module_version": "1.5.0",
            "_model_name": "DescriptionStyleModel",
            "_view_count": null,
            "_view_module": "@jupyter-widgets/base",
            "_view_module_version": "1.2.0",
            "_view_name": "StyleView",
            "description_width": ""
          }
        },
        "9001bab2f2c24ce098ed9f8503ba05a3": {
          "model_module": "@jupyter-widgets/controls",
          "model_module_version": "1.5.0",
          "model_name": "HTMLModel",
          "state": {
            "_dom_classes": [],
            "_model_module": "@jupyter-widgets/controls",
            "_model_module_version": "1.5.0",
            "_model_name": "HTMLModel",
            "_view_count": null,
            "_view_module": "@jupyter-widgets/controls",
            "_view_module_version": "1.5.0",
            "_view_name": "HTMLView",
            "description": "",
            "description_tooltip": null,
            "layout": "IPY_MODEL_9d1804c17efc49e3bff6bb59b17917c9",
            "placeholder": "​",
            "style": "IPY_MODEL_ef58ac04c38848d69cf7699a8c9552f5",
            "value": " 7228236/7228236 [01:31&lt;00:00, 90492.94it/s]"
          }
        },
        "90bed0e604cc4b7eb602c459dcab8e00": {
          "model_module": "@jupyter-widgets/base",
          "model_module_version": "1.2.0",
          "model_name": "LayoutModel",
          "state": {
            "_model_module": "@jupyter-widgets/base",
            "_model_module_version": "1.2.0",
            "_model_name": "LayoutModel",
            "_view_count": null,
            "_view_module": "@jupyter-widgets/base",
            "_view_module_version": "1.2.0",
            "_view_name": "LayoutView",
            "align_content": null,
            "align_items": null,
            "align_self": null,
            "border": null,
            "bottom": null,
            "display": null,
            "flex": null,
            "flex_flow": null,
            "grid_area": null,
            "grid_auto_columns": null,
            "grid_auto_flow": null,
            "grid_auto_rows": null,
            "grid_column": null,
            "grid_gap": null,
            "grid_row": null,
            "grid_template_areas": null,
            "grid_template_columns": null,
            "grid_template_rows": null,
            "height": null,
            "justify_content": null,
            "justify_items": null,
            "left": null,
            "margin": null,
            "max_height": null,
            "max_width": null,
            "min_height": null,
            "min_width": null,
            "object_fit": null,
            "object_position": null,
            "order": null,
            "overflow": null,
            "overflow_x": null,
            "overflow_y": null,
            "padding": null,
            "right": null,
            "top": null,
            "visibility": null,
            "width": null
          }
        },
        "912962a3eff4444a99e3ffcf67ff4a51": {
          "model_module": "@jupyter-widgets/controls",
          "model_module_version": "1.5.0",
          "model_name": "HBoxModel",
          "state": {
            "_dom_classes": [],
            "_model_module": "@jupyter-widgets/controls",
            "_model_module_version": "1.5.0",
            "_model_name": "HBoxModel",
            "_view_count": null,
            "_view_module": "@jupyter-widgets/controls",
            "_view_module_version": "1.5.0",
            "_view_name": "HBoxView",
            "box_style": "",
            "children": [
              "IPY_MODEL_4eca6ffe308c450cb5fcf5c74f41691d",
              "IPY_MODEL_f0c6788f93f840739a8557dc45ac7283",
              "IPY_MODEL_7fcae389a9d94b0ebc647bf073aa55ec"
            ],
            "layout": "IPY_MODEL_90bed0e604cc4b7eb602c459dcab8e00"
          }
        },
        "959807109add4ebb9778089dd546a15e": {
          "model_module": "@jupyter-widgets/controls",
          "model_module_version": "1.5.0",
          "model_name": "DescriptionStyleModel",
          "state": {
            "_model_module": "@jupyter-widgets/controls",
            "_model_module_version": "1.5.0",
            "_model_name": "DescriptionStyleModel",
            "_view_count": null,
            "_view_module": "@jupyter-widgets/base",
            "_view_module_version": "1.2.0",
            "_view_name": "StyleView",
            "description_width": ""
          }
        },
        "98213536486f4d4aa6141d71fe53757b": {
          "model_module": "@jupyter-widgets/base",
          "model_module_version": "1.2.0",
          "model_name": "LayoutModel",
          "state": {
            "_model_module": "@jupyter-widgets/base",
            "_model_module_version": "1.2.0",
            "_model_name": "LayoutModel",
            "_view_count": null,
            "_view_module": "@jupyter-widgets/base",
            "_view_module_version": "1.2.0",
            "_view_name": "LayoutView",
            "align_content": null,
            "align_items": null,
            "align_self": null,
            "border": null,
            "bottom": null,
            "display": null,
            "flex": null,
            "flex_flow": null,
            "grid_area": null,
            "grid_auto_columns": null,
            "grid_auto_flow": null,
            "grid_auto_rows": null,
            "grid_column": null,
            "grid_gap": null,
            "grid_row": null,
            "grid_template_areas": null,
            "grid_template_columns": null,
            "grid_template_rows": null,
            "height": null,
            "justify_content": null,
            "justify_items": null,
            "left": null,
            "margin": null,
            "max_height": null,
            "max_width": null,
            "min_height": null,
            "min_width": null,
            "object_fit": null,
            "object_position": null,
            "order": null,
            "overflow": null,
            "overflow_x": null,
            "overflow_y": null,
            "padding": null,
            "right": null,
            "top": null,
            "visibility": null,
            "width": null
          }
        },
        "9a1ef083fe1b428690170fbce7e36225": {
          "model_module": "@jupyter-widgets/base",
          "model_module_version": "1.2.0",
          "model_name": "LayoutModel",
          "state": {
            "_model_module": "@jupyter-widgets/base",
            "_model_module_version": "1.2.0",
            "_model_name": "LayoutModel",
            "_view_count": null,
            "_view_module": "@jupyter-widgets/base",
            "_view_module_version": "1.2.0",
            "_view_name": "LayoutView",
            "align_content": null,
            "align_items": null,
            "align_self": null,
            "border": null,
            "bottom": null,
            "display": null,
            "flex": null,
            "flex_flow": null,
            "grid_area": null,
            "grid_auto_columns": null,
            "grid_auto_flow": null,
            "grid_auto_rows": null,
            "grid_column": null,
            "grid_gap": null,
            "grid_row": null,
            "grid_template_areas": null,
            "grid_template_columns": null,
            "grid_template_rows": null,
            "height": null,
            "justify_content": null,
            "justify_items": null,
            "left": null,
            "margin": null,
            "max_height": null,
            "max_width": null,
            "min_height": null,
            "min_width": null,
            "object_fit": null,
            "object_position": null,
            "order": null,
            "overflow": null,
            "overflow_x": null,
            "overflow_y": null,
            "padding": null,
            "right": null,
            "top": null,
            "visibility": null,
            "width": null
          }
        },
        "9b44ba1fc54147f7bf9058589c652180": {
          "model_module": "@jupyter-widgets/controls",
          "model_module_version": "1.5.0",
          "model_name": "HTMLModel",
          "state": {
            "_dom_classes": [],
            "_model_module": "@jupyter-widgets/controls",
            "_model_module_version": "1.5.0",
            "_model_name": "HTMLModel",
            "_view_count": null,
            "_view_module": "@jupyter-widgets/controls",
            "_view_module_version": "1.5.0",
            "_view_name": "HTMLView",
            "description": "",
            "description_tooltip": null,
            "layout": "IPY_MODEL_70d31b36c781491db75a5f82197bf1e1",
            "placeholder": "​",
            "style": "IPY_MODEL_5290f9bfd35a49729c718e5627260a8a",
            "value": " 33707/33707 [01:49&lt;00:00, 258.60it/s]"
          }
        },
        "9b70c485ba7d478784ff1e7868104508": {
          "model_module": "@jupyter-widgets/base",
          "model_module_version": "1.2.0",
          "model_name": "LayoutModel",
          "state": {
            "_model_module": "@jupyter-widgets/base",
            "_model_module_version": "1.2.0",
            "_model_name": "LayoutModel",
            "_view_count": null,
            "_view_module": "@jupyter-widgets/base",
            "_view_module_version": "1.2.0",
            "_view_name": "LayoutView",
            "align_content": null,
            "align_items": null,
            "align_self": null,
            "border": null,
            "bottom": null,
            "display": null,
            "flex": null,
            "flex_flow": null,
            "grid_area": null,
            "grid_auto_columns": null,
            "grid_auto_flow": null,
            "grid_auto_rows": null,
            "grid_column": null,
            "grid_gap": null,
            "grid_row": null,
            "grid_template_areas": null,
            "grid_template_columns": null,
            "grid_template_rows": null,
            "height": null,
            "justify_content": null,
            "justify_items": null,
            "left": null,
            "margin": null,
            "max_height": null,
            "max_width": null,
            "min_height": null,
            "min_width": null,
            "object_fit": null,
            "object_position": null,
            "order": null,
            "overflow": null,
            "overflow_x": null,
            "overflow_y": null,
            "padding": null,
            "right": null,
            "top": null,
            "visibility": null,
            "width": null
          }
        },
        "9d1804c17efc49e3bff6bb59b17917c9": {
          "model_module": "@jupyter-widgets/base",
          "model_module_version": "1.2.0",
          "model_name": "LayoutModel",
          "state": {
            "_model_module": "@jupyter-widgets/base",
            "_model_module_version": "1.2.0",
            "_model_name": "LayoutModel",
            "_view_count": null,
            "_view_module": "@jupyter-widgets/base",
            "_view_module_version": "1.2.0",
            "_view_name": "LayoutView",
            "align_content": null,
            "align_items": null,
            "align_self": null,
            "border": null,
            "bottom": null,
            "display": null,
            "flex": null,
            "flex_flow": null,
            "grid_area": null,
            "grid_auto_columns": null,
            "grid_auto_flow": null,
            "grid_auto_rows": null,
            "grid_column": null,
            "grid_gap": null,
            "grid_row": null,
            "grid_template_areas": null,
            "grid_template_columns": null,
            "grid_template_rows": null,
            "height": null,
            "justify_content": null,
            "justify_items": null,
            "left": null,
            "margin": null,
            "max_height": null,
            "max_width": null,
            "min_height": null,
            "min_width": null,
            "object_fit": null,
            "object_position": null,
            "order": null,
            "overflow": null,
            "overflow_x": null,
            "overflow_y": null,
            "padding": null,
            "right": null,
            "top": null,
            "visibility": null,
            "width": null
          }
        },
        "a07f66c1409d4ce3a6aaaaf1860d5993": {
          "model_module": "@jupyter-widgets/controls",
          "model_module_version": "1.5.0",
          "model_name": "HTMLModel",
          "state": {
            "_dom_classes": [],
            "_model_module": "@jupyter-widgets/controls",
            "_model_module_version": "1.5.0",
            "_model_name": "HTMLModel",
            "_view_count": null,
            "_view_module": "@jupyter-widgets/controls",
            "_view_module_version": "1.5.0",
            "_view_name": "HTMLView",
            "description": "",
            "description_tooltip": null,
            "layout": "IPY_MODEL_44484fea03284fe7b4fe189fe9457c38",
            "placeholder": "​",
            "style": "IPY_MODEL_e2f388ccd87946a6b504692ea109c3bd",
            "value": " 19621/19621 [00:04&lt;00:00, 3383.06it/s]"
          }
        },
        "a0dd6d1ffe5c41e5a420371150c6f3f4": {
          "model_module": "@jupyter-widgets/base",
          "model_module_version": "1.2.0",
          "model_name": "LayoutModel",
          "state": {
            "_model_module": "@jupyter-widgets/base",
            "_model_module_version": "1.2.0",
            "_model_name": "LayoutModel",
            "_view_count": null,
            "_view_module": "@jupyter-widgets/base",
            "_view_module_version": "1.2.0",
            "_view_name": "LayoutView",
            "align_content": null,
            "align_items": null,
            "align_self": null,
            "border": null,
            "bottom": null,
            "display": null,
            "flex": null,
            "flex_flow": null,
            "grid_area": null,
            "grid_auto_columns": null,
            "grid_auto_flow": null,
            "grid_auto_rows": null,
            "grid_column": null,
            "grid_gap": null,
            "grid_row": null,
            "grid_template_areas": null,
            "grid_template_columns": null,
            "grid_template_rows": null,
            "height": null,
            "justify_content": null,
            "justify_items": null,
            "left": null,
            "margin": null,
            "max_height": null,
            "max_width": null,
            "min_height": null,
            "min_width": null,
            "object_fit": null,
            "object_position": null,
            "order": null,
            "overflow": null,
            "overflow_x": null,
            "overflow_y": null,
            "padding": null,
            "right": null,
            "top": null,
            "visibility": null,
            "width": null
          }
        },
        "a359f2bdc64a408faf6cb42a9506d3e9": {
          "model_module": "@jupyter-widgets/controls",
          "model_module_version": "1.5.0",
          "model_name": "ProgressStyleModel",
          "state": {
            "_model_module": "@jupyter-widgets/controls",
            "_model_module_version": "1.5.0",
            "_model_name": "ProgressStyleModel",
            "_view_count": null,
            "_view_module": "@jupyter-widgets/base",
            "_view_module_version": "1.2.0",
            "_view_name": "StyleView",
            "bar_color": null,
            "description_width": ""
          }
        },
        "a5d15a84621e4adda38bcb4f4b928d6f": {
          "model_module": "@jupyter-widgets/controls",
          "model_module_version": "1.5.0",
          "model_name": "FloatProgressModel",
          "state": {
            "_dom_classes": [],
            "_model_module": "@jupyter-widgets/controls",
            "_model_module_version": "1.5.0",
            "_model_name": "FloatProgressModel",
            "_view_count": null,
            "_view_module": "@jupyter-widgets/controls",
            "_view_module_version": "1.5.0",
            "_view_name": "ProgressView",
            "bar_style": "success",
            "description": "",
            "description_tooltip": null,
            "layout": "IPY_MODEL_bf20748b87c44783b57f23e46686fb54",
            "max": 1,
            "min": 0,
            "orientation": "horizontal",
            "style": "IPY_MODEL_063fb9771d63496db639b54a36def224",
            "value": 1
          }
        },
        "a7d1c46ab5c7482d9b7ca83fc50f6f85": {
          "model_module": "@jupyter-widgets/base",
          "model_module_version": "1.2.0",
          "model_name": "LayoutModel",
          "state": {
            "_model_module": "@jupyter-widgets/base",
            "_model_module_version": "1.2.0",
            "_model_name": "LayoutModel",
            "_view_count": null,
            "_view_module": "@jupyter-widgets/base",
            "_view_module_version": "1.2.0",
            "_view_name": "LayoutView",
            "align_content": null,
            "align_items": null,
            "align_self": null,
            "border": null,
            "bottom": null,
            "display": null,
            "flex": null,
            "flex_flow": null,
            "grid_area": null,
            "grid_auto_columns": null,
            "grid_auto_flow": null,
            "grid_auto_rows": null,
            "grid_column": null,
            "grid_gap": null,
            "grid_row": null,
            "grid_template_areas": null,
            "grid_template_columns": null,
            "grid_template_rows": null,
            "height": null,
            "justify_content": null,
            "justify_items": null,
            "left": null,
            "margin": null,
            "max_height": null,
            "max_width": null,
            "min_height": null,
            "min_width": null,
            "object_fit": null,
            "object_position": null,
            "order": null,
            "overflow": null,
            "overflow_x": null,
            "overflow_y": null,
            "padding": null,
            "right": null,
            "top": null,
            "visibility": null,
            "width": null
          }
        },
        "a80071272a7c4e65876bdfdab0edcd78": {
          "model_module": "@jupyter-widgets/base",
          "model_module_version": "1.2.0",
          "model_name": "LayoutModel",
          "state": {
            "_model_module": "@jupyter-widgets/base",
            "_model_module_version": "1.2.0",
            "_model_name": "LayoutModel",
            "_view_count": null,
            "_view_module": "@jupyter-widgets/base",
            "_view_module_version": "1.2.0",
            "_view_name": "LayoutView",
            "align_content": null,
            "align_items": null,
            "align_self": null,
            "border": null,
            "bottom": null,
            "display": null,
            "flex": null,
            "flex_flow": null,
            "grid_area": null,
            "grid_auto_columns": null,
            "grid_auto_flow": null,
            "grid_auto_rows": null,
            "grid_column": null,
            "grid_gap": null,
            "grid_row": null,
            "grid_template_areas": null,
            "grid_template_columns": null,
            "grid_template_rows": null,
            "height": null,
            "justify_content": null,
            "justify_items": null,
            "left": null,
            "margin": null,
            "max_height": null,
            "max_width": null,
            "min_height": null,
            "min_width": null,
            "object_fit": null,
            "object_position": null,
            "order": null,
            "overflow": null,
            "overflow_x": null,
            "overflow_y": null,
            "padding": null,
            "right": null,
            "top": null,
            "visibility": null,
            "width": null
          }
        },
        "acda5e845f714a21bb07207d7d95aa95": {
          "model_module": "@jupyter-widgets/controls",
          "model_module_version": "1.5.0",
          "model_name": "ProgressStyleModel",
          "state": {
            "_model_module": "@jupyter-widgets/controls",
            "_model_module_version": "1.5.0",
            "_model_name": "ProgressStyleModel",
            "_view_count": null,
            "_view_module": "@jupyter-widgets/base",
            "_view_module_version": "1.2.0",
            "_view_name": "StyleView",
            "bar_color": null,
            "description_width": ""
          }
        },
        "af958e142b10432a9c399152fb41b227": {
          "model_module": "@jupyter-widgets/base",
          "model_module_version": "1.2.0",
          "model_name": "LayoutModel",
          "state": {
            "_model_module": "@jupyter-widgets/base",
            "_model_module_version": "1.2.0",
            "_model_name": "LayoutModel",
            "_view_count": null,
            "_view_module": "@jupyter-widgets/base",
            "_view_module_version": "1.2.0",
            "_view_name": "LayoutView",
            "align_content": null,
            "align_items": null,
            "align_self": null,
            "border": null,
            "bottom": null,
            "display": null,
            "flex": null,
            "flex_flow": null,
            "grid_area": null,
            "grid_auto_columns": null,
            "grid_auto_flow": null,
            "grid_auto_rows": null,
            "grid_column": null,
            "grid_gap": null,
            "grid_row": null,
            "grid_template_areas": null,
            "grid_template_columns": null,
            "grid_template_rows": null,
            "height": null,
            "justify_content": null,
            "justify_items": null,
            "left": null,
            "margin": null,
            "max_height": null,
            "max_width": null,
            "min_height": null,
            "min_width": null,
            "object_fit": null,
            "object_position": null,
            "order": null,
            "overflow": null,
            "overflow_x": null,
            "overflow_y": null,
            "padding": null,
            "right": null,
            "top": null,
            "visibility": null,
            "width": null
          }
        },
        "b14e59d202b44e478c882a022b68aa52": {
          "model_module": "@jupyter-widgets/controls",
          "model_module_version": "1.5.0",
          "model_name": "HTMLModel",
          "state": {
            "_dom_classes": [],
            "_model_module": "@jupyter-widgets/controls",
            "_model_module_version": "1.5.0",
            "_model_name": "HTMLModel",
            "_view_count": null,
            "_view_module": "@jupyter-widgets/controls",
            "_view_module_version": "1.5.0",
            "_view_name": "HTMLView",
            "description": "",
            "description_tooltip": null,
            "layout": "IPY_MODEL_82420aab112d416491218d4534c620c9",
            "placeholder": "​",
            "style": "IPY_MODEL_ff1665caede946e8b11f3f6a1b904b1f",
            "value": "100%"
          }
        },
        "b2b352940c0a4ee39dc9217c46c41627": {
          "model_module": "@jupyter-widgets/controls",
          "model_module_version": "1.5.0",
          "model_name": "ProgressStyleModel",
          "state": {
            "_model_module": "@jupyter-widgets/controls",
            "_model_module_version": "1.5.0",
            "_model_name": "ProgressStyleModel",
            "_view_count": null,
            "_view_module": "@jupyter-widgets/base",
            "_view_module_version": "1.2.0",
            "_view_name": "StyleView",
            "bar_color": null,
            "description_width": ""
          }
        },
        "b340323403db446283f40d6e0985313a": {
          "model_module": "@jupyter-widgets/base",
          "model_module_version": "1.2.0",
          "model_name": "LayoutModel",
          "state": {
            "_model_module": "@jupyter-widgets/base",
            "_model_module_version": "1.2.0",
            "_model_name": "LayoutModel",
            "_view_count": null,
            "_view_module": "@jupyter-widgets/base",
            "_view_module_version": "1.2.0",
            "_view_name": "LayoutView",
            "align_content": null,
            "align_items": null,
            "align_self": null,
            "border": null,
            "bottom": null,
            "display": null,
            "flex": null,
            "flex_flow": null,
            "grid_area": null,
            "grid_auto_columns": null,
            "grid_auto_flow": null,
            "grid_auto_rows": null,
            "grid_column": null,
            "grid_gap": null,
            "grid_row": null,
            "grid_template_areas": null,
            "grid_template_columns": null,
            "grid_template_rows": null,
            "height": null,
            "justify_content": null,
            "justify_items": null,
            "left": null,
            "margin": null,
            "max_height": null,
            "max_width": null,
            "min_height": null,
            "min_width": null,
            "object_fit": null,
            "object_position": null,
            "order": null,
            "overflow": null,
            "overflow_x": null,
            "overflow_y": null,
            "padding": null,
            "right": null,
            "top": null,
            "visibility": null,
            "width": null
          }
        },
        "b3c77702dba0458c8cebffe3ee195908": {
          "model_module": "@jupyter-widgets/base",
          "model_module_version": "1.2.0",
          "model_name": "LayoutModel",
          "state": {
            "_model_module": "@jupyter-widgets/base",
            "_model_module_version": "1.2.0",
            "_model_name": "LayoutModel",
            "_view_count": null,
            "_view_module": "@jupyter-widgets/base",
            "_view_module_version": "1.2.0",
            "_view_name": "LayoutView",
            "align_content": null,
            "align_items": null,
            "align_self": null,
            "border": null,
            "bottom": null,
            "display": null,
            "flex": null,
            "flex_flow": null,
            "grid_area": null,
            "grid_auto_columns": null,
            "grid_auto_flow": null,
            "grid_auto_rows": null,
            "grid_column": null,
            "grid_gap": null,
            "grid_row": null,
            "grid_template_areas": null,
            "grid_template_columns": null,
            "grid_template_rows": null,
            "height": null,
            "justify_content": null,
            "justify_items": null,
            "left": null,
            "margin": null,
            "max_height": null,
            "max_width": null,
            "min_height": null,
            "min_width": null,
            "object_fit": null,
            "object_position": null,
            "order": null,
            "overflow": null,
            "overflow_x": null,
            "overflow_y": null,
            "padding": null,
            "right": null,
            "top": null,
            "visibility": null,
            "width": "20px"
          }
        },
        "b64059c9850b455caa3c5848e05f155d": {
          "model_module": "@jupyter-widgets/controls",
          "model_module_version": "1.5.0",
          "model_name": "DescriptionStyleModel",
          "state": {
            "_model_module": "@jupyter-widgets/controls",
            "_model_module_version": "1.5.0",
            "_model_name": "DescriptionStyleModel",
            "_view_count": null,
            "_view_module": "@jupyter-widgets/base",
            "_view_module_version": "1.2.0",
            "_view_name": "StyleView",
            "description_width": ""
          }
        },
        "b77bcbb40bb84dfe968e77b8ee8acb71": {
          "model_module": "@jupyter-widgets/controls",
          "model_module_version": "1.5.0",
          "model_name": "ProgressStyleModel",
          "state": {
            "_model_module": "@jupyter-widgets/controls",
            "_model_module_version": "1.5.0",
            "_model_name": "ProgressStyleModel",
            "_view_count": null,
            "_view_module": "@jupyter-widgets/base",
            "_view_module_version": "1.2.0",
            "_view_name": "StyleView",
            "bar_color": null,
            "description_width": ""
          }
        },
        "b92ad127d378440d90499c98e045be72": {
          "model_module": "@jupyter-widgets/controls",
          "model_module_version": "1.5.0",
          "model_name": "HTMLModel",
          "state": {
            "_dom_classes": [],
            "_model_module": "@jupyter-widgets/controls",
            "_model_module_version": "1.5.0",
            "_model_name": "HTMLModel",
            "_view_count": null,
            "_view_module": "@jupyter-widgets/controls",
            "_view_module_version": "1.5.0",
            "_view_name": "HTMLView",
            "description": "",
            "description_tooltip": null,
            "layout": "IPY_MODEL_ed9029adcfdf4242bbd00b99c4193458",
            "placeholder": "​",
            "style": "IPY_MODEL_bbd043dd4f644c2a8039c48d3da13a42",
            "value": ""
          }
        },
        "ba4d850147c94fa9b7b08a0a578eeab1": {
          "model_module": "@jupyter-widgets/controls",
          "model_module_version": "1.5.0",
          "model_name": "ProgressStyleModel",
          "state": {
            "_model_module": "@jupyter-widgets/controls",
            "_model_module_version": "1.5.0",
            "_model_name": "ProgressStyleModel",
            "_view_count": null,
            "_view_module": "@jupyter-widgets/base",
            "_view_module_version": "1.2.0",
            "_view_name": "StyleView",
            "bar_color": null,
            "description_width": ""
          }
        },
        "ba8d6a2854f54f918ae81a40a2fae4ad": {
          "model_module": "@jupyter-widgets/controls",
          "model_module_version": "1.5.0",
          "model_name": "HTMLModel",
          "state": {
            "_dom_classes": [],
            "_model_module": "@jupyter-widgets/controls",
            "_model_module_version": "1.5.0",
            "_model_name": "HTMLModel",
            "_view_count": null,
            "_view_module": "@jupyter-widgets/controls",
            "_view_module_version": "1.5.0",
            "_view_name": "HTMLView",
            "description": "",
            "description_tooltip": null,
            "layout": "IPY_MODEL_a7d1c46ab5c7482d9b7ca83fc50f6f85",
            "placeholder": "​",
            "style": "IPY_MODEL_16041259b2f04460b299af706e769dfa",
            "value": "100%"
          }
        },
        "bbd043dd4f644c2a8039c48d3da13a42": {
          "model_module": "@jupyter-widgets/controls",
          "model_module_version": "1.5.0",
          "model_name": "DescriptionStyleModel",
          "state": {
            "_model_module": "@jupyter-widgets/controls",
            "_model_module_version": "1.5.0",
            "_model_name": "DescriptionStyleModel",
            "_view_count": null,
            "_view_module": "@jupyter-widgets/base",
            "_view_module_version": "1.2.0",
            "_view_name": "StyleView",
            "description_width": ""
          }
        },
        "bf20748b87c44783b57f23e46686fb54": {
          "model_module": "@jupyter-widgets/base",
          "model_module_version": "1.2.0",
          "model_name": "LayoutModel",
          "state": {
            "_model_module": "@jupyter-widgets/base",
            "_model_module_version": "1.2.0",
            "_model_name": "LayoutModel",
            "_view_count": null,
            "_view_module": "@jupyter-widgets/base",
            "_view_module_version": "1.2.0",
            "_view_name": "LayoutView",
            "align_content": null,
            "align_items": null,
            "align_self": null,
            "border": null,
            "bottom": null,
            "display": null,
            "flex": null,
            "flex_flow": null,
            "grid_area": null,
            "grid_auto_columns": null,
            "grid_auto_flow": null,
            "grid_auto_rows": null,
            "grid_column": null,
            "grid_gap": null,
            "grid_row": null,
            "grid_template_areas": null,
            "grid_template_columns": null,
            "grid_template_rows": null,
            "height": null,
            "justify_content": null,
            "justify_items": null,
            "left": null,
            "margin": null,
            "max_height": null,
            "max_width": null,
            "min_height": null,
            "min_width": null,
            "object_fit": null,
            "object_position": null,
            "order": null,
            "overflow": null,
            "overflow_x": null,
            "overflow_y": null,
            "padding": null,
            "right": null,
            "top": null,
            "visibility": null,
            "width": "20px"
          }
        },
        "c0150047587444f682987e21273b01d2": {
          "model_module": "@jupyter-widgets/base",
          "model_module_version": "1.2.0",
          "model_name": "LayoutModel",
          "state": {
            "_model_module": "@jupyter-widgets/base",
            "_model_module_version": "1.2.0",
            "_model_name": "LayoutModel",
            "_view_count": null,
            "_view_module": "@jupyter-widgets/base",
            "_view_module_version": "1.2.0",
            "_view_name": "LayoutView",
            "align_content": null,
            "align_items": null,
            "align_self": null,
            "border": null,
            "bottom": null,
            "display": null,
            "flex": null,
            "flex_flow": null,
            "grid_area": null,
            "grid_auto_columns": null,
            "grid_auto_flow": null,
            "grid_auto_rows": null,
            "grid_column": null,
            "grid_gap": null,
            "grid_row": null,
            "grid_template_areas": null,
            "grid_template_columns": null,
            "grid_template_rows": null,
            "height": null,
            "justify_content": null,
            "justify_items": null,
            "left": null,
            "margin": null,
            "max_height": null,
            "max_width": null,
            "min_height": null,
            "min_width": null,
            "object_fit": null,
            "object_position": null,
            "order": null,
            "overflow": null,
            "overflow_x": null,
            "overflow_y": null,
            "padding": null,
            "right": null,
            "top": null,
            "visibility": null,
            "width": null
          }
        },
        "c294b9d7f589449db4baf71e99a9d3d5": {
          "model_module": "@jupyter-widgets/controls",
          "model_module_version": "1.5.0",
          "model_name": "FloatProgressModel",
          "state": {
            "_dom_classes": [],
            "_model_module": "@jupyter-widgets/controls",
            "_model_module_version": "1.5.0",
            "_model_name": "FloatProgressModel",
            "_view_count": null,
            "_view_module": "@jupyter-widgets/controls",
            "_view_module_version": "1.5.0",
            "_view_name": "ProgressView",
            "bar_style": "success",
            "description": "",
            "description_tooltip": null,
            "layout": "IPY_MODEL_d6060cd39a8b4c46931524504153652a",
            "max": 1,
            "min": 0,
            "orientation": "horizontal",
            "style": "IPY_MODEL_41269dad5d454417bb85d3ab0e8336eb",
            "value": 1
          }
        },
        "c63444c6544a480cb9b6e414d1a1a83e": {
          "model_module": "@jupyter-widgets/controls",
          "model_module_version": "1.5.0",
          "model_name": "HTMLModel",
          "state": {
            "_dom_classes": [],
            "_model_module": "@jupyter-widgets/controls",
            "_model_module_version": "1.5.0",
            "_model_name": "HTMLModel",
            "_view_count": null,
            "_view_module": "@jupyter-widgets/controls",
            "_view_module_version": "1.5.0",
            "_view_name": "HTMLView",
            "description": "",
            "description_tooltip": null,
            "layout": "IPY_MODEL_866b50a4788c4cc2b0bc11f2873ac88c",
            "placeholder": "​",
            "style": "IPY_MODEL_7c28a2ae206e4c228e4e9f58bba46982",
            "value": " 33977/33977 [00:08&lt;00:00, 3966.58it/s]"
          }
        },
        "c9a71837ed794a99a8c6de705c72ba83": {
          "model_module": "@jupyter-widgets/controls",
          "model_module_version": "1.5.0",
          "model_name": "HTMLModel",
          "state": {
            "_dom_classes": [],
            "_model_module": "@jupyter-widgets/controls",
            "_model_module_version": "1.5.0",
            "_model_name": "HTMLModel",
            "_view_count": null,
            "_view_module": "@jupyter-widgets/controls",
            "_view_module_version": "1.5.0",
            "_view_name": "HTMLView",
            "description": "",
            "description_tooltip": null,
            "layout": "IPY_MODEL_26e81d57988c44219d6d618e24ad6185",
            "placeholder": "​",
            "style": "IPY_MODEL_817fda43d69d45de80d885e40c8ae16a",
            "value": "100%"
          }
        },
        "ce724663b79f48fb9187fbfc7a0206ae": {
          "model_module": "@jupyter-widgets/controls",
          "model_module_version": "1.5.0",
          "model_name": "ProgressStyleModel",
          "state": {
            "_model_module": "@jupyter-widgets/controls",
            "_model_module_version": "1.5.0",
            "_model_name": "ProgressStyleModel",
            "_view_count": null,
            "_view_module": "@jupyter-widgets/base",
            "_view_module_version": "1.2.0",
            "_view_name": "StyleView",
            "bar_color": null,
            "description_width": ""
          }
        },
        "ce75a61eb5ea4c69b777a0eebe7ae70a": {
          "model_module": "@jupyter-widgets/base",
          "model_module_version": "1.2.0",
          "model_name": "LayoutModel",
          "state": {
            "_model_module": "@jupyter-widgets/base",
            "_model_module_version": "1.2.0",
            "_model_name": "LayoutModel",
            "_view_count": null,
            "_view_module": "@jupyter-widgets/base",
            "_view_module_version": "1.2.0",
            "_view_name": "LayoutView",
            "align_content": null,
            "align_items": null,
            "align_self": null,
            "border": null,
            "bottom": null,
            "display": null,
            "flex": null,
            "flex_flow": null,
            "grid_area": null,
            "grid_auto_columns": null,
            "grid_auto_flow": null,
            "grid_auto_rows": null,
            "grid_column": null,
            "grid_gap": null,
            "grid_row": null,
            "grid_template_areas": null,
            "grid_template_columns": null,
            "grid_template_rows": null,
            "height": null,
            "justify_content": null,
            "justify_items": null,
            "left": null,
            "margin": null,
            "max_height": null,
            "max_width": null,
            "min_height": null,
            "min_width": null,
            "object_fit": null,
            "object_position": null,
            "order": null,
            "overflow": null,
            "overflow_x": null,
            "overflow_y": null,
            "padding": null,
            "right": null,
            "top": null,
            "visibility": null,
            "width": null
          }
        },
        "d0d4766bae9c4377b0739a6832326e7b": {
          "model_module": "@jupyter-widgets/controls",
          "model_module_version": "1.5.0",
          "model_name": "DescriptionStyleModel",
          "state": {
            "_model_module": "@jupyter-widgets/controls",
            "_model_module_version": "1.5.0",
            "_model_name": "DescriptionStyleModel",
            "_view_count": null,
            "_view_module": "@jupyter-widgets/base",
            "_view_module_version": "1.2.0",
            "_view_name": "StyleView",
            "description_width": ""
          }
        },
        "d158dda6e2a04f28b6b74bee94b4b5c6": {
          "model_module": "@jupyter-widgets/controls",
          "model_module_version": "1.5.0",
          "model_name": "FloatProgressModel",
          "state": {
            "_dom_classes": [],
            "_model_module": "@jupyter-widgets/controls",
            "_model_module_version": "1.5.0",
            "_model_name": "FloatProgressModel",
            "_view_count": null,
            "_view_module": "@jupyter-widgets/controls",
            "_view_module_version": "1.5.0",
            "_view_name": "ProgressView",
            "bar_style": "success",
            "description": "",
            "description_tooltip": null,
            "layout": "IPY_MODEL_98213536486f4d4aa6141d71fe53757b",
            "max": 11982,
            "min": 0,
            "orientation": "horizontal",
            "style": "IPY_MODEL_63a9dd79bb904e35afa09593ca39e458",
            "value": 11982
          }
        },
        "d3fa530a388f47538f925920f6f87232": {
          "model_module": "@jupyter-widgets/controls",
          "model_module_version": "1.5.0",
          "model_name": "HBoxModel",
          "state": {
            "_dom_classes": [],
            "_model_module": "@jupyter-widgets/controls",
            "_model_module_version": "1.5.0",
            "_model_name": "HBoxModel",
            "_view_count": null,
            "_view_module": "@jupyter-widgets/controls",
            "_view_module_version": "1.5.0",
            "_view_name": "HBoxView",
            "box_style": "",
            "children": [
              "IPY_MODEL_c9a71837ed794a99a8c6de705c72ba83",
              "IPY_MODEL_275a425a95fc4f7ba8af44f55790f67f",
              "IPY_MODEL_5e12e1e9df12469f97a7860d297972e1"
            ],
            "layout": "IPY_MODEL_5b9f50d8cac74646a5c2d24de1a2c398"
          }
        },
        "d588fa29cfdd4b5db989665ce394a4ad": {
          "model_module": "@jupyter-widgets/base",
          "model_module_version": "1.2.0",
          "model_name": "LayoutModel",
          "state": {
            "_model_module": "@jupyter-widgets/base",
            "_model_module_version": "1.2.0",
            "_model_name": "LayoutModel",
            "_view_count": null,
            "_view_module": "@jupyter-widgets/base",
            "_view_module_version": "1.2.0",
            "_view_name": "LayoutView",
            "align_content": null,
            "align_items": null,
            "align_self": null,
            "border": null,
            "bottom": null,
            "display": null,
            "flex": null,
            "flex_flow": null,
            "grid_area": null,
            "grid_auto_columns": null,
            "grid_auto_flow": null,
            "grid_auto_rows": null,
            "grid_column": null,
            "grid_gap": null,
            "grid_row": null,
            "grid_template_areas": null,
            "grid_template_columns": null,
            "grid_template_rows": null,
            "height": null,
            "justify_content": null,
            "justify_items": null,
            "left": null,
            "margin": null,
            "max_height": null,
            "max_width": null,
            "min_height": null,
            "min_width": null,
            "object_fit": null,
            "object_position": null,
            "order": null,
            "overflow": null,
            "overflow_x": null,
            "overflow_y": null,
            "padding": null,
            "right": null,
            "top": null,
            "visibility": null,
            "width": null
          }
        },
        "d6060cd39a8b4c46931524504153652a": {
          "model_module": "@jupyter-widgets/base",
          "model_module_version": "1.2.0",
          "model_name": "LayoutModel",
          "state": {
            "_model_module": "@jupyter-widgets/base",
            "_model_module_version": "1.2.0",
            "_model_name": "LayoutModel",
            "_view_count": null,
            "_view_module": "@jupyter-widgets/base",
            "_view_module_version": "1.2.0",
            "_view_name": "LayoutView",
            "align_content": null,
            "align_items": null,
            "align_self": null,
            "border": null,
            "bottom": null,
            "display": null,
            "flex": null,
            "flex_flow": null,
            "grid_area": null,
            "grid_auto_columns": null,
            "grid_auto_flow": null,
            "grid_auto_rows": null,
            "grid_column": null,
            "grid_gap": null,
            "grid_row": null,
            "grid_template_areas": null,
            "grid_template_columns": null,
            "grid_template_rows": null,
            "height": null,
            "justify_content": null,
            "justify_items": null,
            "left": null,
            "margin": null,
            "max_height": null,
            "max_width": null,
            "min_height": null,
            "min_width": null,
            "object_fit": null,
            "object_position": null,
            "order": null,
            "overflow": null,
            "overflow_x": null,
            "overflow_y": null,
            "padding": null,
            "right": null,
            "top": null,
            "visibility": null,
            "width": "20px"
          }
        },
        "d6918fed7c08433fbd3f7db7ad400cab": {
          "model_module": "@jupyter-widgets/controls",
          "model_module_version": "1.5.0",
          "model_name": "HTMLModel",
          "state": {
            "_dom_classes": [],
            "_model_module": "@jupyter-widgets/controls",
            "_model_module_version": "1.5.0",
            "_model_name": "HTMLModel",
            "_view_count": null,
            "_view_module": "@jupyter-widgets/controls",
            "_view_module_version": "1.5.0",
            "_view_name": "HTMLView",
            "description": "",
            "description_tooltip": null,
            "layout": "IPY_MODEL_6a2cdfc12bc44289a625c33664ff4e9d",
            "placeholder": "​",
            "style": "IPY_MODEL_51615cd1c62e497b995a9de46a8f5a1e",
            "value": ""
          }
        },
        "d831c37e2a024feb99d71117b9c06b6e": {
          "model_module": "@jupyter-widgets/controls",
          "model_module_version": "1.5.0",
          "model_name": "DescriptionStyleModel",
          "state": {
            "_model_module": "@jupyter-widgets/controls",
            "_model_module_version": "1.5.0",
            "_model_name": "DescriptionStyleModel",
            "_view_count": null,
            "_view_module": "@jupyter-widgets/base",
            "_view_module_version": "1.2.0",
            "_view_name": "StyleView",
            "description_width": ""
          }
        },
        "d8861a7341ff4def868dc7d6163b9fae": {
          "model_module": "@jupyter-widgets/controls",
          "model_module_version": "1.5.0",
          "model_name": "ProgressStyleModel",
          "state": {
            "_model_module": "@jupyter-widgets/controls",
            "_model_module_version": "1.5.0",
            "_model_name": "ProgressStyleModel",
            "_view_count": null,
            "_view_module": "@jupyter-widgets/base",
            "_view_module_version": "1.2.0",
            "_view_name": "StyleView",
            "bar_color": null,
            "description_width": ""
          }
        },
        "d92db98be66044968326c6ae194726f3": {
          "model_module": "@jupyter-widgets/controls",
          "model_module_version": "1.5.0",
          "model_name": "HTMLModel",
          "state": {
            "_dom_classes": [],
            "_model_module": "@jupyter-widgets/controls",
            "_model_module_version": "1.5.0",
            "_model_name": "HTMLModel",
            "_view_count": null,
            "_view_module": "@jupyter-widgets/controls",
            "_view_module_version": "1.5.0",
            "_view_name": "HTMLView",
            "description": "",
            "description_tooltip": null,
            "layout": "IPY_MODEL_084ab861594643118ce745de8e3dc361",
            "placeholder": "​",
            "style": "IPY_MODEL_1121b34ba598403bb7bf016bf243a6f6",
            "value": " 11982/11982 [00:09&lt;00:00, 1203.54it/s]"
          }
        },
        "dac2a294b4e647bd837d7997db727031": {
          "model_module": "@jupyter-widgets/base",
          "model_module_version": "1.2.0",
          "model_name": "LayoutModel",
          "state": {
            "_model_module": "@jupyter-widgets/base",
            "_model_module_version": "1.2.0",
            "_model_name": "LayoutModel",
            "_view_count": null,
            "_view_module": "@jupyter-widgets/base",
            "_view_module_version": "1.2.0",
            "_view_name": "LayoutView",
            "align_content": null,
            "align_items": null,
            "align_self": null,
            "border": null,
            "bottom": null,
            "display": null,
            "flex": null,
            "flex_flow": null,
            "grid_area": null,
            "grid_auto_columns": null,
            "grid_auto_flow": null,
            "grid_auto_rows": null,
            "grid_column": null,
            "grid_gap": null,
            "grid_row": null,
            "grid_template_areas": null,
            "grid_template_columns": null,
            "grid_template_rows": null,
            "height": null,
            "justify_content": null,
            "justify_items": null,
            "left": null,
            "margin": null,
            "max_height": null,
            "max_width": null,
            "min_height": null,
            "min_width": null,
            "object_fit": null,
            "object_position": null,
            "order": null,
            "overflow": null,
            "overflow_x": null,
            "overflow_y": null,
            "padding": null,
            "right": null,
            "top": null,
            "visibility": null,
            "width": null
          }
        },
        "dac33c72112c4da9a88032642f3daba8": {
          "model_module": "@jupyter-widgets/base",
          "model_module_version": "1.2.0",
          "model_name": "LayoutModel",
          "state": {
            "_model_module": "@jupyter-widgets/base",
            "_model_module_version": "1.2.0",
            "_model_name": "LayoutModel",
            "_view_count": null,
            "_view_module": "@jupyter-widgets/base",
            "_view_module_version": "1.2.0",
            "_view_name": "LayoutView",
            "align_content": null,
            "align_items": null,
            "align_self": null,
            "border": null,
            "bottom": null,
            "display": null,
            "flex": null,
            "flex_flow": null,
            "grid_area": null,
            "grid_auto_columns": null,
            "grid_auto_flow": null,
            "grid_auto_rows": null,
            "grid_column": null,
            "grid_gap": null,
            "grid_row": null,
            "grid_template_areas": null,
            "grid_template_columns": null,
            "grid_template_rows": null,
            "height": null,
            "justify_content": null,
            "justify_items": null,
            "left": null,
            "margin": null,
            "max_height": null,
            "max_width": null,
            "min_height": null,
            "min_width": null,
            "object_fit": null,
            "object_position": null,
            "order": null,
            "overflow": null,
            "overflow_x": null,
            "overflow_y": null,
            "padding": null,
            "right": null,
            "top": null,
            "visibility": null,
            "width": "20px"
          }
        },
        "de9ed9f05a84478bbab6494f8af2071b": {
          "model_module": "@jupyter-widgets/controls",
          "model_module_version": "1.5.0",
          "model_name": "DescriptionStyleModel",
          "state": {
            "_model_module": "@jupyter-widgets/controls",
            "_model_module_version": "1.5.0",
            "_model_name": "DescriptionStyleModel",
            "_view_count": null,
            "_view_module": "@jupyter-widgets/base",
            "_view_module_version": "1.2.0",
            "_view_name": "StyleView",
            "description_width": ""
          }
        },
        "e0b252aede91420f82a2feab029948c7": {
          "model_module": "@jupyter-widgets/controls",
          "model_module_version": "1.5.0",
          "model_name": "DescriptionStyleModel",
          "state": {
            "_model_module": "@jupyter-widgets/controls",
            "_model_module_version": "1.5.0",
            "_model_name": "DescriptionStyleModel",
            "_view_count": null,
            "_view_module": "@jupyter-widgets/base",
            "_view_module_version": "1.2.0",
            "_view_name": "StyleView",
            "description_width": ""
          }
        },
        "e260d57e65a94deebf0466af2915a1f1": {
          "model_module": "@jupyter-widgets/controls",
          "model_module_version": "1.5.0",
          "model_name": "HBoxModel",
          "state": {
            "_dom_classes": [],
            "_model_module": "@jupyter-widgets/controls",
            "_model_module_version": "1.5.0",
            "_model_name": "HBoxModel",
            "_view_count": null,
            "_view_module": "@jupyter-widgets/controls",
            "_view_module_version": "1.5.0",
            "_view_name": "HBoxView",
            "box_style": "",
            "children": [
              "IPY_MODEL_ea1ffc3fffb44dc0924953ef21a03909",
              "IPY_MODEL_11fd9cd94f3e4d3ca07450dc299e34a1",
              "IPY_MODEL_e49f9f4f7bdf4853947cf91c47bbde61"
            ],
            "layout": "IPY_MODEL_a0dd6d1ffe5c41e5a420371150c6f3f4"
          }
        },
        "e2f388ccd87946a6b504692ea109c3bd": {
          "model_module": "@jupyter-widgets/controls",
          "model_module_version": "1.5.0",
          "model_name": "DescriptionStyleModel",
          "state": {
            "_model_module": "@jupyter-widgets/controls",
            "_model_module_version": "1.5.0",
            "_model_name": "DescriptionStyleModel",
            "_view_count": null,
            "_view_module": "@jupyter-widgets/base",
            "_view_module_version": "1.2.0",
            "_view_name": "StyleView",
            "description_width": ""
          }
        },
        "e49f9f4f7bdf4853947cf91c47bbde61": {
          "model_module": "@jupyter-widgets/controls",
          "model_module_version": "1.5.0",
          "model_name": "HTMLModel",
          "state": {
            "_dom_classes": [],
            "_model_module": "@jupyter-widgets/controls",
            "_model_module_version": "1.5.0",
            "_model_name": "HTMLModel",
            "_view_count": null,
            "_view_module": "@jupyter-widgets/controls",
            "_view_module_version": "1.5.0",
            "_view_name": "HTMLView",
            "description": "",
            "description_tooltip": null,
            "layout": "IPY_MODEL_75481d89d4a1492db53b58ce52f5f87f",
            "placeholder": "​",
            "style": "IPY_MODEL_5086eb2399da476fab99499d854fd300",
            "value": " 33707/? [00:11&lt;00:00, 2374.52it/s]"
          }
        },
        "e59e5d24cc1a4e9190980c264cf6face": {
          "model_module": "@jupyter-widgets/controls",
          "model_module_version": "1.5.0",
          "model_name": "HTMLModel",
          "state": {
            "_dom_classes": [],
            "_model_module": "@jupyter-widgets/controls",
            "_model_module_version": "1.5.0",
            "_model_name": "HTMLModel",
            "_view_count": null,
            "_view_module": "@jupyter-widgets/controls",
            "_view_module_version": "1.5.0",
            "_view_name": "HTMLView",
            "description": "",
            "description_tooltip": null,
            "layout": "IPY_MODEL_65831d6e66c84e448b0aaee99646ff7f",
            "placeholder": "​",
            "style": "IPY_MODEL_e0b252aede91420f82a2feab029948c7",
            "value": "100%"
          }
        },
        "e7aee898422c44f586b2fe68b3be037d": {
          "model_module": "@jupyter-widgets/controls",
          "model_module_version": "1.5.0",
          "model_name": "HTMLModel",
          "state": {
            "_dom_classes": [],
            "_model_module": "@jupyter-widgets/controls",
            "_model_module_version": "1.5.0",
            "_model_name": "HTMLModel",
            "_view_count": null,
            "_view_module": "@jupyter-widgets/controls",
            "_view_module_version": "1.5.0",
            "_view_name": "HTMLView",
            "description": "",
            "description_tooltip": null,
            "layout": "IPY_MODEL_fb6740c74d004ded8d40bb2768a39584",
            "placeholder": "​",
            "style": "IPY_MODEL_3f9e2f6932c5438db1cc185776d5ec2d",
            "value": "100%"
          }
        },
        "e8e23567b90c4e6d97a3a66a6634a3a3": {
          "model_module": "@jupyter-widgets/controls",
          "model_module_version": "1.5.0",
          "model_name": "HBoxModel",
          "state": {
            "_dom_classes": [],
            "_model_module": "@jupyter-widgets/controls",
            "_model_module_version": "1.5.0",
            "_model_name": "HBoxModel",
            "_view_count": null,
            "_view_module": "@jupyter-widgets/controls",
            "_view_module_version": "1.5.0",
            "_view_name": "HBoxView",
            "box_style": "",
            "children": [
              "IPY_MODEL_f8abdbc28ca740ccb0a64d2374e68bf3",
              "IPY_MODEL_a5d15a84621e4adda38bcb4f4b928d6f",
              "IPY_MODEL_07998257d26e4fc89edb55351300f8e8"
            ],
            "layout": "IPY_MODEL_809ae43b73fc4dadb8d9ba1e3fc78b14"
          }
        },
        "e962cd17d8814243b5bc021d07fb928a": {
          "model_module": "@jupyter-widgets/base",
          "model_module_version": "1.2.0",
          "model_name": "LayoutModel",
          "state": {
            "_model_module": "@jupyter-widgets/base",
            "_model_module_version": "1.2.0",
            "_model_name": "LayoutModel",
            "_view_count": null,
            "_view_module": "@jupyter-widgets/base",
            "_view_module_version": "1.2.0",
            "_view_name": "LayoutView",
            "align_content": null,
            "align_items": null,
            "align_self": null,
            "border": null,
            "bottom": null,
            "display": null,
            "flex": null,
            "flex_flow": null,
            "grid_area": null,
            "grid_auto_columns": null,
            "grid_auto_flow": null,
            "grid_auto_rows": null,
            "grid_column": null,
            "grid_gap": null,
            "grid_row": null,
            "grid_template_areas": null,
            "grid_template_columns": null,
            "grid_template_rows": null,
            "height": null,
            "justify_content": null,
            "justify_items": null,
            "left": null,
            "margin": null,
            "max_height": null,
            "max_width": null,
            "min_height": null,
            "min_width": null,
            "object_fit": null,
            "object_position": null,
            "order": null,
            "overflow": null,
            "overflow_x": null,
            "overflow_y": null,
            "padding": null,
            "right": null,
            "top": null,
            "visibility": null,
            "width": null
          }
        },
        "e9ecb1bb2a114caabfedb97edfa7b617": {
          "model_module": "@jupyter-widgets/controls",
          "model_module_version": "1.5.0",
          "model_name": "HBoxModel",
          "state": {
            "_dom_classes": [],
            "_model_module": "@jupyter-widgets/controls",
            "_model_module_version": "1.5.0",
            "_model_name": "HBoxModel",
            "_view_count": null,
            "_view_module": "@jupyter-widgets/controls",
            "_view_module_version": "1.5.0",
            "_view_name": "HBoxView",
            "box_style": "",
            "children": [
              "IPY_MODEL_743cadafda1e4d0494e611ff56085da1",
              "IPY_MODEL_c294b9d7f589449db4baf71e99a9d3d5",
              "IPY_MODEL_5b1e7de3a7b14d79bf8552acd6b2f55e"
            ],
            "layout": "IPY_MODEL_b340323403db446283f40d6e0985313a"
          }
        },
        "ea129402bb5542cb9bc58d6409855319": {
          "model_module": "@jupyter-widgets/controls",
          "model_module_version": "1.5.0",
          "model_name": "FloatProgressModel",
          "state": {
            "_dom_classes": [],
            "_model_module": "@jupyter-widgets/controls",
            "_model_module_version": "1.5.0",
            "_model_name": "FloatProgressModel",
            "_view_count": null,
            "_view_module": "@jupyter-widgets/controls",
            "_view_module_version": "1.5.0",
            "_view_name": "ProgressView",
            "bar_style": "success",
            "description": "",
            "description_tooltip": null,
            "layout": "IPY_MODEL_f0f4675f123a40b29e0f7b687e94f52d",
            "max": 7228236,
            "min": 0,
            "orientation": "horizontal",
            "style": "IPY_MODEL_a359f2bdc64a408faf6cb42a9506d3e9",
            "value": 7228236
          }
        },
        "ea1ffc3fffb44dc0924953ef21a03909": {
          "model_module": "@jupyter-widgets/controls",
          "model_module_version": "1.5.0",
          "model_name": "HTMLModel",
          "state": {
            "_dom_classes": [],
            "_model_module": "@jupyter-widgets/controls",
            "_model_module_version": "1.5.0",
            "_model_name": "HTMLModel",
            "_view_count": null,
            "_view_module": "@jupyter-widgets/controls",
            "_view_module_version": "1.5.0",
            "_view_name": "HTMLView",
            "description": "",
            "description_tooltip": null,
            "layout": "IPY_MODEL_0bba1a40ea9e4a5099885b8b387df7f7",
            "placeholder": "​",
            "style": "IPY_MODEL_80a6768b2a5741e2855da8df456495b2",
            "value": ""
          }
        },
        "ebf42ef85cf44e3a9d4b8fc7936a5584": {
          "model_module": "@jupyter-widgets/base",
          "model_module_version": "1.2.0",
          "model_name": "LayoutModel",
          "state": {
            "_model_module": "@jupyter-widgets/base",
            "_model_module_version": "1.2.0",
            "_model_name": "LayoutModel",
            "_view_count": null,
            "_view_module": "@jupyter-widgets/base",
            "_view_module_version": "1.2.0",
            "_view_name": "LayoutView",
            "align_content": null,
            "align_items": null,
            "align_self": null,
            "border": null,
            "bottom": null,
            "display": null,
            "flex": null,
            "flex_flow": null,
            "grid_area": null,
            "grid_auto_columns": null,
            "grid_auto_flow": null,
            "grid_auto_rows": null,
            "grid_column": null,
            "grid_gap": null,
            "grid_row": null,
            "grid_template_areas": null,
            "grid_template_columns": null,
            "grid_template_rows": null,
            "height": null,
            "justify_content": null,
            "justify_items": null,
            "left": null,
            "margin": null,
            "max_height": null,
            "max_width": null,
            "min_height": null,
            "min_width": null,
            "object_fit": null,
            "object_position": null,
            "order": null,
            "overflow": null,
            "overflow_x": null,
            "overflow_y": null,
            "padding": null,
            "right": null,
            "top": null,
            "visibility": null,
            "width": null
          }
        },
        "ebfb4a3a9d89473d988dd056a6ec7b44": {
          "model_module": "@jupyter-widgets/controls",
          "model_module_version": "1.5.0",
          "model_name": "HTMLModel",
          "state": {
            "_dom_classes": [],
            "_model_module": "@jupyter-widgets/controls",
            "_model_module_version": "1.5.0",
            "_model_name": "HTMLModel",
            "_view_count": null,
            "_view_module": "@jupyter-widgets/controls",
            "_view_module_version": "1.5.0",
            "_view_name": "HTMLView",
            "description": "",
            "description_tooltip": null,
            "layout": "IPY_MODEL_85f39e9987e64c2c95e1edc2308380f5",
            "placeholder": "​",
            "style": "IPY_MODEL_13209ba4a8924b99869fc231ad4f8d91",
            "value": " 237561/237561 [12:54&lt;00:00, 341.67it/s]"
          }
        },
        "ed9029adcfdf4242bbd00b99c4193458": {
          "model_module": "@jupyter-widgets/base",
          "model_module_version": "1.2.0",
          "model_name": "LayoutModel",
          "state": {
            "_model_module": "@jupyter-widgets/base",
            "_model_module_version": "1.2.0",
            "_model_name": "LayoutModel",
            "_view_count": null,
            "_view_module": "@jupyter-widgets/base",
            "_view_module_version": "1.2.0",
            "_view_name": "LayoutView",
            "align_content": null,
            "align_items": null,
            "align_self": null,
            "border": null,
            "bottom": null,
            "display": null,
            "flex": null,
            "flex_flow": null,
            "grid_area": null,
            "grid_auto_columns": null,
            "grid_auto_flow": null,
            "grid_auto_rows": null,
            "grid_column": null,
            "grid_gap": null,
            "grid_row": null,
            "grid_template_areas": null,
            "grid_template_columns": null,
            "grid_template_rows": null,
            "height": null,
            "justify_content": null,
            "justify_items": null,
            "left": null,
            "margin": null,
            "max_height": null,
            "max_width": null,
            "min_height": null,
            "min_width": null,
            "object_fit": null,
            "object_position": null,
            "order": null,
            "overflow": null,
            "overflow_x": null,
            "overflow_y": null,
            "padding": null,
            "right": null,
            "top": null,
            "visibility": null,
            "width": null
          }
        },
        "ededa60b254c4b8189760de35e44d665": {
          "model_module": "@jupyter-widgets/controls",
          "model_module_version": "1.5.0",
          "model_name": "ProgressStyleModel",
          "state": {
            "_model_module": "@jupyter-widgets/controls",
            "_model_module_version": "1.5.0",
            "_model_name": "ProgressStyleModel",
            "_view_count": null,
            "_view_module": "@jupyter-widgets/base",
            "_view_module_version": "1.2.0",
            "_view_name": "StyleView",
            "bar_color": null,
            "description_width": ""
          }
        },
        "ef58ac04c38848d69cf7699a8c9552f5": {
          "model_module": "@jupyter-widgets/controls",
          "model_module_version": "1.5.0",
          "model_name": "DescriptionStyleModel",
          "state": {
            "_model_module": "@jupyter-widgets/controls",
            "_model_module_version": "1.5.0",
            "_model_name": "DescriptionStyleModel",
            "_view_count": null,
            "_view_module": "@jupyter-widgets/base",
            "_view_module_version": "1.2.0",
            "_view_name": "StyleView",
            "description_width": ""
          }
        },
        "efe5b7394033432e8ee9e75721246eae": {
          "model_module": "@jupyter-widgets/controls",
          "model_module_version": "1.5.0",
          "model_name": "HBoxModel",
          "state": {
            "_dom_classes": [],
            "_model_module": "@jupyter-widgets/controls",
            "_model_module_version": "1.5.0",
            "_model_name": "HBoxModel",
            "_view_count": null,
            "_view_module": "@jupyter-widgets/controls",
            "_view_module_version": "1.5.0",
            "_view_name": "HBoxView",
            "box_style": "",
            "children": [
              "IPY_MODEL_e7aee898422c44f586b2fe68b3be037d",
              "IPY_MODEL_573b02a0978c4e96ae783b13d127f6f8",
              "IPY_MODEL_ebfb4a3a9d89473d988dd056a6ec7b44"
            ],
            "layout": "IPY_MODEL_ce75a61eb5ea4c69b777a0eebe7ae70a"
          }
        },
        "f0790da0c27c46c3a5e93ba9625ccbd2": {
          "model_module": "@jupyter-widgets/controls",
          "model_module_version": "1.5.0",
          "model_name": "HBoxModel",
          "state": {
            "_dom_classes": [],
            "_model_module": "@jupyter-widgets/controls",
            "_model_module_version": "1.5.0",
            "_model_name": "HBoxModel",
            "_view_count": null,
            "_view_module": "@jupyter-widgets/controls",
            "_view_module_version": "1.5.0",
            "_view_name": "HBoxView",
            "box_style": "",
            "children": [
              "IPY_MODEL_059802d046714a1aa9db19f3f61ff387",
              "IPY_MODEL_ea129402bb5542cb9bc58d6409855319",
              "IPY_MODEL_9001bab2f2c24ce098ed9f8503ba05a3"
            ],
            "layout": "IPY_MODEL_af958e142b10432a9c399152fb41b227"
          }
        },
        "f0c6788f93f840739a8557dc45ac7283": {
          "model_module": "@jupyter-widgets/controls",
          "model_module_version": "1.5.0",
          "model_name": "FloatProgressModel",
          "state": {
            "_dom_classes": [],
            "_model_module": "@jupyter-widgets/controls",
            "_model_module_version": "1.5.0",
            "_model_name": "FloatProgressModel",
            "_view_count": null,
            "_view_module": "@jupyter-widgets/controls",
            "_view_module_version": "1.5.0",
            "_view_name": "ProgressView",
            "bar_style": "success",
            "description": "",
            "description_tooltip": null,
            "layout": "IPY_MODEL_753d152f490b47e189ca088dd6ff252a",
            "max": 1,
            "min": 0,
            "orientation": "horizontal",
            "style": "IPY_MODEL_b2b352940c0a4ee39dc9217c46c41627",
            "value": 1
          }
        },
        "f0f4675f123a40b29e0f7b687e94f52d": {
          "model_module": "@jupyter-widgets/base",
          "model_module_version": "1.2.0",
          "model_name": "LayoutModel",
          "state": {
            "_model_module": "@jupyter-widgets/base",
            "_model_module_version": "1.2.0",
            "_model_name": "LayoutModel",
            "_view_count": null,
            "_view_module": "@jupyter-widgets/base",
            "_view_module_version": "1.2.0",
            "_view_name": "LayoutView",
            "align_content": null,
            "align_items": null,
            "align_self": null,
            "border": null,
            "bottom": null,
            "display": null,
            "flex": null,
            "flex_flow": null,
            "grid_area": null,
            "grid_auto_columns": null,
            "grid_auto_flow": null,
            "grid_auto_rows": null,
            "grid_column": null,
            "grid_gap": null,
            "grid_row": null,
            "grid_template_areas": null,
            "grid_template_columns": null,
            "grid_template_rows": null,
            "height": null,
            "justify_content": null,
            "justify_items": null,
            "left": null,
            "margin": null,
            "max_height": null,
            "max_width": null,
            "min_height": null,
            "min_width": null,
            "object_fit": null,
            "object_position": null,
            "order": null,
            "overflow": null,
            "overflow_x": null,
            "overflow_y": null,
            "padding": null,
            "right": null,
            "top": null,
            "visibility": null,
            "width": null
          }
        },
        "f1cbeb08f366401aa3e362bcfa44dd9c": {
          "model_module": "@jupyter-widgets/controls",
          "model_module_version": "1.5.0",
          "model_name": "DescriptionStyleModel",
          "state": {
            "_model_module": "@jupyter-widgets/controls",
            "_model_module_version": "1.5.0",
            "_model_name": "DescriptionStyleModel",
            "_view_count": null,
            "_view_module": "@jupyter-widgets/base",
            "_view_module_version": "1.2.0",
            "_view_name": "StyleView",
            "description_width": ""
          }
        },
        "f859d48ac19441bcaaf5979fbbe926af": {
          "model_module": "@jupyter-widgets/controls",
          "model_module_version": "1.5.0",
          "model_name": "FloatProgressModel",
          "state": {
            "_dom_classes": [],
            "_model_module": "@jupyter-widgets/controls",
            "_model_module_version": "1.5.0",
            "_model_name": "FloatProgressModel",
            "_view_count": null,
            "_view_module": "@jupyter-widgets/controls",
            "_view_module_version": "1.5.0",
            "_view_name": "ProgressView",
            "bar_style": "success",
            "description": "",
            "description_tooltip": null,
            "layout": "IPY_MODEL_b3c77702dba0458c8cebffe3ee195908",
            "max": 1,
            "min": 0,
            "orientation": "horizontal",
            "style": "IPY_MODEL_0511bbb9fed640dfb01c0f7ab8c93a4e",
            "value": 1
          }
        },
        "f8abdbc28ca740ccb0a64d2374e68bf3": {
          "model_module": "@jupyter-widgets/controls",
          "model_module_version": "1.5.0",
          "model_name": "HTMLModel",
          "state": {
            "_dom_classes": [],
            "_model_module": "@jupyter-widgets/controls",
            "_model_module_version": "1.5.0",
            "_model_name": "HTMLModel",
            "_view_count": null,
            "_view_module": "@jupyter-widgets/controls",
            "_view_module_version": "1.5.0",
            "_view_name": "HTMLView",
            "description": "",
            "description_tooltip": null,
            "layout": "IPY_MODEL_c0150047587444f682987e21273b01d2",
            "placeholder": "​",
            "style": "IPY_MODEL_d0d4766bae9c4377b0739a6832326e7b",
            "value": ""
          }
        },
        "fb6740c74d004ded8d40bb2768a39584": {
          "model_module": "@jupyter-widgets/base",
          "model_module_version": "1.2.0",
          "model_name": "LayoutModel",
          "state": {
            "_model_module": "@jupyter-widgets/base",
            "_model_module_version": "1.2.0",
            "_model_name": "LayoutModel",
            "_view_count": null,
            "_view_module": "@jupyter-widgets/base",
            "_view_module_version": "1.2.0",
            "_view_name": "LayoutView",
            "align_content": null,
            "align_items": null,
            "align_self": null,
            "border": null,
            "bottom": null,
            "display": null,
            "flex": null,
            "flex_flow": null,
            "grid_area": null,
            "grid_auto_columns": null,
            "grid_auto_flow": null,
            "grid_auto_rows": null,
            "grid_column": null,
            "grid_gap": null,
            "grid_row": null,
            "grid_template_areas": null,
            "grid_template_columns": null,
            "grid_template_rows": null,
            "height": null,
            "justify_content": null,
            "justify_items": null,
            "left": null,
            "margin": null,
            "max_height": null,
            "max_width": null,
            "min_height": null,
            "min_width": null,
            "object_fit": null,
            "object_position": null,
            "order": null,
            "overflow": null,
            "overflow_x": null,
            "overflow_y": null,
            "padding": null,
            "right": null,
            "top": null,
            "visibility": null,
            "width": null
          }
        },
        "fba525ff50f24b959be1def5b4da6538": {
          "model_module": "@jupyter-widgets/controls",
          "model_module_version": "1.5.0",
          "model_name": "HTMLModel",
          "state": {
            "_dom_classes": [],
            "_model_module": "@jupyter-widgets/controls",
            "_model_module_version": "1.5.0",
            "_model_name": "HTMLModel",
            "_view_count": null,
            "_view_module": "@jupyter-widgets/controls",
            "_view_module_version": "1.5.0",
            "_view_name": "HTMLView",
            "description": "",
            "description_tooltip": null,
            "layout": "IPY_MODEL_48a71a65423d4c5db89c9c0c34d13cdc",
            "placeholder": "​",
            "style": "IPY_MODEL_81ee349e94da424fb253dd683e81aaaf",
            "value": ""
          }
        },
        "fd98062ccf32495dbd273e742972bbd2": {
          "model_module": "@jupyter-widgets/base",
          "model_module_version": "1.2.0",
          "model_name": "LayoutModel",
          "state": {
            "_model_module": "@jupyter-widgets/base",
            "_model_module_version": "1.2.0",
            "_model_name": "LayoutModel",
            "_view_count": null,
            "_view_module": "@jupyter-widgets/base",
            "_view_module_version": "1.2.0",
            "_view_name": "LayoutView",
            "align_content": null,
            "align_items": null,
            "align_self": null,
            "border": null,
            "bottom": null,
            "display": null,
            "flex": null,
            "flex_flow": null,
            "grid_area": null,
            "grid_auto_columns": null,
            "grid_auto_flow": null,
            "grid_auto_rows": null,
            "grid_column": null,
            "grid_gap": null,
            "grid_row": null,
            "grid_template_areas": null,
            "grid_template_columns": null,
            "grid_template_rows": null,
            "height": null,
            "justify_content": null,
            "justify_items": null,
            "left": null,
            "margin": null,
            "max_height": null,
            "max_width": null,
            "min_height": null,
            "min_width": null,
            "object_fit": null,
            "object_position": null,
            "order": null,
            "overflow": null,
            "overflow_x": null,
            "overflow_y": null,
            "padding": null,
            "right": null,
            "top": null,
            "visibility": null,
            "width": null
          }
        },
        "ff1665caede946e8b11f3f6a1b904b1f": {
          "model_module": "@jupyter-widgets/controls",
          "model_module_version": "1.5.0",
          "model_name": "DescriptionStyleModel",
          "state": {
            "_model_module": "@jupyter-widgets/controls",
            "_model_module_version": "1.5.0",
            "_model_name": "DescriptionStyleModel",
            "_view_count": null,
            "_view_module": "@jupyter-widgets/base",
            "_view_module_version": "1.2.0",
            "_view_name": "StyleView",
            "description_width": ""
          }
        }
      }
    }
  },
  "nbformat": 4,
  "nbformat_minor": 5
}
